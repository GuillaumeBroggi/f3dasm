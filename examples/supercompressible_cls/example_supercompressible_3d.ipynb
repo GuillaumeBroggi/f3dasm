{
 "cells": [
  {
   "cell_type": "markdown",
   "metadata": {},
   "source": [
    "# Supercompressible (3d)\n",
    "\n",
    "L. F. Pereira (lfpereira@fe.up.pt)\\\n",
    "September 7, 2020\n",
    "\n",
    "\n",
    "This notebook creates the **design of experiments** and the metadata required to run the **numerical simulations**.\n",
    "\n",
    "**Note**: the parametric `Abaqus` scripts were created using `F3DAS` implementations. You can also create your own functions and use them within this framework!\n",
    "\n",
    "**TODO**: \n",
    "* add notebooks are not the best tool to run this (use script), but this intends to show how to use the tools."
   ]
  },
  {
   "cell_type": "markdown",
   "metadata": {},
   "source": [
    "Let's import the required libraries."
   ]
  },
  {
   "cell_type": "code",
   "execution_count": 1,
   "metadata": {},
   "outputs": [],
   "source": [
    "# imports\n",
    "\n",
    "# standard library\n",
    "import os\n",
    "import pickle\n",
    "from collections import OrderedDict\n",
    "\n",
    "# third-party\n",
    "import numpy as np\n",
    "from matplotlib import pyplot as plt\n",
    "from f3das.run.utils import create_main_file\n",
    "from f3das.run.utils import create_sim_info\n",
    "from f3das.run.utils import get_sims_info\n",
    "from f3das.run.abaqus import run_sims\n",
    "from f3das.run.stats import analyze_times\n",
    "from f3das.design_of_experiments import create_doe\n",
    "\n",
    "# local library\n",
    "from abaqus_modules.get_results import get_results"
   ]
  },
  {
   "cell_type": "markdown",
   "metadata": {},
   "source": [
    "Now define the directory name and the number of points."
   ]
  },
  {
   "cell_type": "code",
   "execution_count": 2,
   "metadata": {},
   "outputs": [],
   "source": [
    "example_name = 'example_0'\n",
    "\n",
    "n_pts = 10  # number of points"
   ]
  },
  {
   "cell_type": "code",
   "execution_count": 3,
   "metadata": {},
   "outputs": [],
   "source": [
    "import shutil\n",
    "try:\n",
    "    shutil.rmtree(example_name)\n",
    "except:\n",
    "    pass"
   ]
  },
  {
   "cell_type": "markdown",
   "metadata": {},
   "source": [
    "A quick verification of the chosen name will be performed to avoid overriding existing folders."
   ]
  },
  {
   "cell_type": "code",
   "execution_count": 4,
   "metadata": {},
   "outputs": [],
   "source": [
    "if os.path.exists(example_name):\n",
    "    raise Exception('Name already exists')"
   ]
  },
  {
   "cell_type": "markdown",
   "metadata": {},
   "source": [
    "## Introduction\n",
    "\n",
    "**TODO**\n",
    "* What is F3DAS?"
   ]
  },
  {
   "cell_type": "markdown",
   "metadata": {},
   "source": [
    "## Design of experiments"
   ]
  },
  {
   "cell_type": "markdown",
   "metadata": {},
   "source": [
    "Now, we need to define the problem.\n",
    "\n",
    "Let's define the **variables of the problem**, both the variables that are defined by the design of experiments scheme and the fixed variables (i.e. the variables that are common for all simulations).\n",
    "\n",
    "**Note**: the use of an ```OrderedDict``` is not mandatory, but forces variable order in the ```Pandas``` frame."
   ]
  },
  {
   "cell_type": "code",
   "execution_count": 5,
   "metadata": {},
   "outputs": [],
   "source": [
    "doe_variables = OrderedDict({'ratio_d': [0.004, 0.073],\n",
    "                             'ratio_pitch': [.25, 1.5],\n",
    "                             'ratio_top_diameter': [0., 0.8]})\n",
    "fixed_variables = {'n_longerons': 3,\n",
    "                   'bottom_diameter': 100.,\n",
    "                   'young_modulus': 3500.,\n",
    "                   'shear_modulus': 1287.,\n",
    "                   'section': 'circular', }"
   ]
  },
  {
   "cell_type": "markdown",
   "metadata": {},
   "source": [
    "Now, using a proper design of experiments scheme, we can create the design of experiments. Here, we simply use Sobol sequence implementation from ```SALib``` library."
   ]
  },
  {
   "cell_type": "code",
   "execution_count": 6,
   "metadata": {},
   "outputs": [],
   "source": [
    "points = create_doe(n_pts, doe_variables, sample_strat='sobol')"
   ]
  },
  {
   "cell_type": "markdown",
   "metadata": {},
   "source": [
    "The supercompressible problem is *special*, in the way there's an additional variable that is not fixed nor controlled by the design of experiments scheme: **imperfections**."
   ]
  },
  {
   "cell_type": "code",
   "execution_count": 7,
   "metadata": {},
   "outputs": [],
   "source": [
    "seed = 1\n",
    "deg2rad = np.pi / 180\n",
    "m = 4. * deg2rad  # mean\n",
    "s = 1.2 * deg2rad  # std\n",
    "sigma = np.sqrt(np.log(s**2 / m**2 + 1))\n",
    "mu = np.log((m**2) / np.sqrt(s**2 + m**2))\n",
    "imperfection_dist = {'mean': mu, 'sigma': sigma}\n",
    "imperfections = np.random.lognormal(size=n_pts, **imperfection_dist)"
   ]
  },
  {
   "cell_type": "markdown",
   "metadata": {},
   "source": [
    "Finally, we store the information in a dictionary and save it. Note the design of experiments is stored in a ```Pandas.DataFrame```. This is a convenient way for the subsequent application of Machine Learning."
   ]
  },
  {
   "cell_type": "code",
   "execution_count": 8,
   "metadata": {},
   "outputs": [],
   "source": [
    "additional_variables = {'imperfection': imperfections}\n",
    "additional_info = {'imperfection_dist': imperfection_dist,\n",
    "                   'seed': seed}"
   ]
  },
  {
   "cell_type": "markdown",
   "metadata": {},
   "source": [
    "Another important step is the definition of the information related with the numerical simulations."
   ]
  },
  {
   "cell_type": "code",
   "execution_count": 9,
   "metadata": {},
   "outputs": [],
   "source": [
    "sim_info_buckle = create_sim_info(\n",
    "    name='SUPERCOMPRESSIBLE_LIN_BUCKLE',\n",
    "    abstract_model='abaqus_modules.supercompressible.SupercompressibleModel',\n",
    "    sim_type='lin_buckle',\n",
    "    job_info={'name': 'Simul_supercompressible_lin_buckle'},)\n",
    "\n",
    "sim_info_riks = create_sim_info(\n",
    "    name='SUPERCOMPRESSIBLE_RIKS',\n",
    "    abstract_model='abaqus_modules.supercompressible.SupercompressibleModel',\n",
    "    sim_type='riks',\n",
    "    job_info={'name': 'Simul_supercompressible_riks'},)\n",
    "\n",
    "sim_info = [sim_info_buckle, sim_info_riks]"
   ]
  },
  {
   "cell_type": "markdown",
   "metadata": {},
   "source": [
    "The simulation definition is quite straightforward.\n",
    "\n",
    "First, we need to define the `abstract_model`. That is, the class that is initialized given the variables values and contains all the methods required to successfully create, run and post-process the numerical model.\n",
    "\n",
    "Second, we need to define the specific parameters of each simulation. In this example, there's a first simulation that performs a linear buckling analysis and another that performs a riks analysis. The second simulation depends on the results of the first. The use of an `OrderedDict` is of great importance to guarantee the right order of the simulations. `job_info` is the fundamental key and has to be always defined.\n",
    "\n",
    "Finally, we define also a transformation of inputs. This is simply a mapping from the variables used in the design of experiments to the variables required to create the model."
   ]
  },
  {
   "cell_type": "code",
   "execution_count": 10,
   "metadata": {},
   "outputs": [],
   "source": [
    "create_main_file(example_name, doe_variables, points, sim_info,\n",
    "                 fixed_variables=fixed_variables,\n",
    "                 additional_variables=additional_variables,\n",
    "                 additional_info=additional_info,\n",
    "                 transform_inputs='abaqus_modules.transform_inputs.transform_inputs_supercompressible')"
   ]
  },
  {
   "cell_type": "markdown",
   "metadata": {},
   "source": [
    "## Run simulations"
   ]
  },
  {
   "cell_type": "markdown",
   "metadata": {},
   "source": [
    "First, let's open the created file and see what it contains."
   ]
  },
  {
   "cell_type": "code",
   "execution_count": 11,
   "metadata": {},
   "outputs": [
    {
     "name": "stdout",
     "output_type": "stream",
     "text": [
      "dict_keys(['doe_variables', 'points', 'sim_info', 'run_info', 'version', 'fixed_variables', 'additional_variables', 'transform_inputs', 'additional_info'])\n"
     ]
    }
   ],
   "source": [
    "with open(os.path.join(example_name, 'DoE.pkl'), 'rb') as file:\n",
    "    data = pickle.load(file)\n",
    "    \n",
    "print(data.keys())"
   ]
  },
  {
   "cell_type": "markdown",
   "metadata": {},
   "source": [
    "For the running step, the field `run_info` is of great importance, because it gives information about the simulations that are still missing or were already run (both successfully or with errors)."
   ]
  },
  {
   "cell_type": "code",
   "execution_count": 12,
   "metadata": {},
   "outputs": [
    {
     "name": "stdout",
     "output_type": "stream",
     "text": [
      "{'missing_sims': {0, 1, 2, 3, 4, 5, 6, 7, 8, 9}, 'running_sims': set(), 'error_sims': set(), 'successful_sims': set()}\n"
     ]
    }
   ],
   "source": [
    "print(data['run_info'])"
   ]
  },
  {
   "cell_type": "markdown",
   "metadata": {},
   "source": [
    "During the running we can see simulations status using `get_sims_info` (it also works before and after)."
   ]
  },
  {
   "cell_type": "markdown",
   "metadata": {
    "scrolled": true
   },
   "source": [
    "get_sims_info(example_name)"
   ]
  },
  {
   "cell_type": "markdown",
   "metadata": {},
   "source": [
    "We run the simulations through `run_sims`. We can control the simulations we want to run or choose to run the first `n_sims`.\n",
    "\n",
    "We can also use parallel computating to run several simulations simultaneously (only allowed if each simulation uses only one cpu). In that case, a `jupyter notebook` may not be the most appropriate tool because all the code has necessarily to be within the condition `if __name__ == '__main__'`. e.g.:\n",
    "```python\n",
    "from f3das.abaqus.run.utils import run_sims\n",
    "\n",
    "if __name__ == '__main__':\n",
    "    # (...)\n",
    "    \n",
    "    run_sims(example_name)\n",
    "```"
   ]
  },
  {
   "cell_type": "code",
   "execution_count": 13,
   "metadata": {
    "scrolled": false
   },
   "outputs": [],
   "source": [
    "run_sims(example_name, points=[0, 1, 2, 3, 4], abaqus_path='abaqus',\n",
    "         keep_odb=True, dump_py_objs=False, pp_fnc=get_results)"
   ]
  },
  {
   "cell_type": "code",
   "execution_count": 14,
   "metadata": {},
   "outputs": [
    {
     "name": "stdout",
     "output_type": "stream",
     "text": [
      "{'missing_sims': {5, 6, 7, 8, 9}, 'running_sims': set(), 'error_sims': set(), 'successful_sims': {0, 1, 2, 3, 4}}\n"
     ]
    }
   ],
   "source": [
    "with open(os.path.join(example_name, 'DoE.pkl'), 'rb') as file:\n",
    "    data = pickle.load(file)\n",
    "    \n",
    "print(data['run_info'])"
   ]
  },
  {
   "cell_type": "code",
   "execution_count": 15,
   "metadata": {},
   "outputs": [
    {
     "name": "stdout",
     "output_type": "stream",
     "text": [
      "    ratio_d  ratio_pitch  ratio_top_diameter coilable   sigma_crit  \\\n",
      "0  0.004000     0.250000                0.00        1  0.000494204   \n",
      "1  0.038500     0.875000                0.40        0         None   \n",
      "2  0.055750     0.562500                0.20        2       23.052   \n",
      "3  0.021250     1.187500                0.60        0     0.693775   \n",
      "4  0.029875     0.718750                0.50        2      2.88796   \n",
      "5  0.064375     1.343750                0.10     None         None   \n",
      "6  0.047125     0.406250                0.70     None         None   \n",
      "7  0.012625     1.031250                0.30     None         None   \n",
      "8  0.016937     0.640625                0.75     None         None   \n",
      "9  0.051437     1.265625                0.35     None         None   \n",
      "\n",
      "        energy  \n",
      "0  0.000306244  \n",
      "1         None  \n",
      "2      14.0794  \n",
      "3         None  \n",
      "4      1.77251  \n",
      "5         None  \n",
      "6         None  \n",
      "7         None  \n",
      "8         None  \n",
      "9         None  \n"
     ]
    }
   ],
   "source": [
    "print(data['points'])"
   ]
  },
  {
   "cell_type": "code",
   "execution_count": 16,
   "metadata": {},
   "outputs": [],
   "source": [
    "import gzip\n",
    "\n",
    "with gzip.open(os.path.join(example_name, 'raw_data.pkl'), 'rb') as file:\n",
    "    raw_data = pickle.load(file)"
   ]
  },
  {
   "cell_type": "code",
   "execution_count": 17,
   "metadata": {},
   "outputs": [
    {
     "name": "stdout",
     "output_type": "stream",
     "text": [
      "Int64Index([0, 1, 2, 3, 4], dtype='int64')\n"
     ]
    }
   ],
   "source": [
    "print(raw_data.keys())"
   ]
  },
  {
   "cell_type": "markdown",
   "metadata": {},
   "source": [
    "## Post-processing"
   ]
  },
  {
   "cell_type": "markdown",
   "metadata": {},
   "source": [
    "After running the simulations, we collect data and store the quantities of interest in the `pandas.Dataframe` that contains the design of experiments. We have to provide a function that transforms the data collected during the simulations (contained in the key `'post-processing'`)."
   ]
  },
  {
   "cell_type": "markdown",
   "metadata": {},
   "source": [
    "post_process_sims(pp_fnc=get_results,\n",
    "                  example_name=example_name)"
   ]
  },
  {
   "cell_type": "markdown",
   "metadata": {},
   "source": [
    "Finally, it may be useful to merge all the collected information in a unique file. That's achieved using `concatenate_data`. We could also have done in an inverted way: first concatenate data and then post-process using the created dictionary."
   ]
  },
  {
   "cell_type": "markdown",
   "metadata": {},
   "source": [
    "concatenate_data(example_name, delete=False)"
   ]
  },
  {
   "cell_type": "markdown",
   "metadata": {},
   "source": [
    "With `F3DAS` we can also perform a statistic analysis of the running times (that may be useful to identify weak points in the numerical simulation)."
   ]
  },
  {
   "cell_type": "code",
   "execution_count": 18,
   "metadata": {
    "scrolled": false
   },
   "outputs": [
    {
     "name": "stdout",
     "output_type": "stream",
     "text": [
      "Missing simulations (total): 5/10 (50.0%)\n",
      "With errors: 0/5 (0.0%)\n",
      "Successful: 5/5 (100.0%)\n",
      "\n",
      "\n",
      "Time-related information:\n",
      "Total time [s]: 303.57\n",
      "Total time for each simulation (mean [s] and std [s]): 60.71 and 42.43\n",
      "Post-processing time [s]: 28.00 (9.22%)\n",
      "Post-processing time for each simulation (mean [s] and std [s]): 5.60 and 5.37\n",
      "Running time [s]: 275.45 (90.74%)\n",
      "Running time for each simulation (mean [s] and std [s]): 55.09 and 37.06\n",
      "Waiting time [s]: 0.00 (0.00%)\n",
      "Waiting time for each simulation (mean [s] and std [s]): 0.00 and 0.00\n"
     ]
    },
    {
     "data": {
      "image/png": "[encoded data removed]",
      "text/plain": [
       "<Figure size 432x288 with 1 Axes>"
      ]
     },
     "metadata": {
      "needs_background": "light"
     },
     "output_type": "display_data"
    },
    {
     "data": {
      "image/png": "[encoded data removed]",
      "text/plain": [
       "<Figure size 432x288 with 1 Axes>"
      ]
     },
     "metadata": {
      "needs_background": "light"
     },
     "output_type": "display_data"
    },
    {
     "data": {
      "image/png": "[encoded data removed]",
      "text/plain": [
       "<Figure size 432x288 with 1 Axes>"
      ]
     },
     "metadata": {
      "needs_background": "light"
     },
     "output_type": "display_data"
    },
    {
     "data": {
      "image/png": "[encoded data removed]",
      "text/plain": [
       "<Figure size 432x288 with 1 Axes>"
      ]
     },
     "metadata": {
      "needs_background": "light"
     },
     "output_type": "display_data"
    }
   ],
   "source": [
    "# CONSIDER ONLY COILABLE SIMULS\n",
    "\n",
    "analyze_times(example_name, raw_data_filename='raw_data.pkl');"
   ]
  }
 ],
 "metadata": {
  "kernelspec": {
   "display_name": "Python 3",
   "language": "python",
   "name": "python3"
  },
  "language_info": {
   "codemirror_mode": {
    "name": "ipython",
    "version": 3
   },
   "file_extension": ".py",
   "mimetype": "text/x-python",
   "name": "python",
   "nbconvert_exporter": "python",
   "pygments_lexer": "ipython3",
   "version": "3.8.3"
  }
 },
 "nbformat": 4,
 "nbformat_minor": 4
}
