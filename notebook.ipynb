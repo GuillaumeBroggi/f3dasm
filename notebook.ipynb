{
 "cells": [
  {
   "cell_type": "markdown",
   "metadata": {},
   "source": [
    "## Tutorial on sampling in a custom design space\n",
    "_v1.0_"
   ]
  },
  {
   "cell_type": "markdown",
   "metadata": {},
   "source": [
    "First we import the desired libraries:"
   ]
  },
  {
   "cell_type": "code",
   "execution_count": 1,
   "metadata": {},
   "outputs": [],
   "source": [
    "from f3dasm.src.designofexperiments import DoE\n",
    "from f3dasm.src.space import ContinuousSpace, DiscreteSpace, CategoricalSpace\n",
    "from f3dasm.sampling.latinhypercube import LatinHypercube\n",
    "from f3dasm.sampling.randomuniform import RandomUniform\n",
    "from f3dasm.sampling.sobolsequence import SobolSequencing\n",
    "from f3dasm.src.data import Data"
   ]
  },
  {
   "cell_type": "markdown",
   "metadata": {},
   "source": [
    "### Constructing the design space\n",
    "\n",
    "There are three types of parameters that can be created: continous, discrete and categorical:\n",
    "\n",
    "* We can create **continous** parameters with a `lower_bound` and `upper_bound` with the `ContinuousSpace` class"
   ]
  },
  {
   "cell_type": "code",
   "execution_count": 2,
   "metadata": {},
   "outputs": [],
   "source": [
    "x1 = ContinuousSpace('x1', lower_bound=0.0, upper_bound=100.0)\n",
    "x2 = ContinuousSpace('x2', lower_bound=0.0, upper_bound=4.0)"
   ]
  },
  {
   "cell_type": "markdown",
   "metadata": {},
   "source": [
    "* We can create **discrete** parameters with a `lower_bound` and `upper_bound` with the `DiscreteSpace` class"
   ]
  },
  {
   "cell_type": "code",
   "execution_count": 3,
   "metadata": {},
   "outputs": [],
   "source": [
    "x3 = DiscreteSpace('x3', lower_bound=2, upper_bound=4)\n",
    "x4 = DiscreteSpace('x4', lower_bound=74, upper_bound=99)"
   ]
  },
  {
   "cell_type": "markdown",
   "metadata": {},
   "source": [
    "* We can create **categorical** parameters with a list of strings (`categories`) with the `CategoricalSpace` class"
   ]
  },
  {
   "cell_type": "code",
   "execution_count": 4,
   "metadata": {},
   "outputs": [],
   "source": [
    "x5 = CategoricalSpace('x5', categories=['test1','test2','test3','test4'])\n",
    "x6 = CategoricalSpace('x6', categories=['material1','material2','material3'])"
   ]
  },
  {
   "cell_type": "markdown",
   "metadata": {},
   "source": [
    "The design space is then constructed by calling the `DoE` class:"
   ]
  },
  {
   "cell_type": "code",
   "execution_count": 5,
   "metadata": {},
   "outputs": [],
   "source": [
    "design = DoE(space=[x1, x2, x3, x4, x5, x6])"
   ]
  },
  {
   "cell_type": "markdown",
   "metadata": {},
   "source": [
    "### Sampling from the design space\n",
    "\n",
    "Three samplers are included in this module:\n",
    "* Latin Hypercube sampling (`LatinHyperCube`)\n",
    "* Random uniform sampling (`RandomUniform`)\n",
    "* Sobol sequence sampling (`SobolSequencing`)\n",
    "\n",
    "We have to feed them the designspace:"
   ]
  },
  {
   "cell_type": "code",
   "execution_count": 6,
   "metadata": {},
   "outputs": [],
   "source": [
    "lhs = LatinHypercube(doe=design)\n",
    "ran = RandomUniform(doe=design)\n",
    "sob = SobolSequencing(doe=design)"
   ]
  },
  {
   "cell_type": "markdown",
   "metadata": {},
   "source": [
    "We can evoke sampling by calling the `get_samples()` method and providing the number of samples:"
   ]
  },
  {
   "cell_type": "code",
   "execution_count": 7,
   "metadata": {},
   "outputs": [
    {
     "data": {
      "text/html": [
       "<div>\n",
       "<style scoped>\n",
       "    .dataframe tbody tr th:only-of-type {\n",
       "        vertical-align: middle;\n",
       "    }\n",
       "\n",
       "    .dataframe tbody tr th {\n",
       "        vertical-align: top;\n",
       "    }\n",
       "\n",
       "    .dataframe thead th {\n",
       "        text-align: right;\n",
       "    }\n",
       "</style>\n",
       "<table border=\"1\" class=\"dataframe\">\n",
       "  <thead>\n",
       "    <tr style=\"text-align: right;\">\n",
       "      <th></th>\n",
       "      <th>x1</th>\n",
       "      <th>x2</th>\n",
       "      <th>x3</th>\n",
       "      <th>x4</th>\n",
       "      <th>x5</th>\n",
       "      <th>x6</th>\n",
       "    </tr>\n",
       "  </thead>\n",
       "  <tbody>\n",
       "    <tr>\n",
       "      <th>0</th>\n",
       "      <td>36.716941</td>\n",
       "      <td>0.669984</td>\n",
       "      <td>4</td>\n",
       "      <td>91</td>\n",
       "      <td>test1</td>\n",
       "      <td>material3</td>\n",
       "    </tr>\n",
       "    <tr>\n",
       "      <th>1</th>\n",
       "      <td>73.883897</td>\n",
       "      <td>3.458582</td>\n",
       "      <td>3</td>\n",
       "      <td>95</td>\n",
       "      <td>test4</td>\n",
       "      <td>material1</td>\n",
       "    </tr>\n",
       "    <tr>\n",
       "      <th>2</th>\n",
       "      <td>71.171280</td>\n",
       "      <td>3.086326</td>\n",
       "      <td>4</td>\n",
       "      <td>89</td>\n",
       "      <td>test1</td>\n",
       "      <td>material1</td>\n",
       "    </tr>\n",
       "    <tr>\n",
       "      <th>3</th>\n",
       "      <td>83.334427</td>\n",
       "      <td>2.319348</td>\n",
       "      <td>4</td>\n",
       "      <td>92</td>\n",
       "      <td>test2</td>\n",
       "      <td>material2</td>\n",
       "    </tr>\n",
       "    <tr>\n",
       "      <th>4</th>\n",
       "      <td>92.440558</td>\n",
       "      <td>3.907696</td>\n",
       "      <td>2</td>\n",
       "      <td>83</td>\n",
       "      <td>test1</td>\n",
       "      <td>material2</td>\n",
       "    </tr>\n",
       "    <tr>\n",
       "      <th>...</th>\n",
       "      <td>...</td>\n",
       "      <td>...</td>\n",
       "      <td>...</td>\n",
       "      <td>...</td>\n",
       "      <td>...</td>\n",
       "      <td>...</td>\n",
       "    </tr>\n",
       "    <tr>\n",
       "      <th>95</th>\n",
       "      <td>29.247453</td>\n",
       "      <td>2.218485</td>\n",
       "      <td>2</td>\n",
       "      <td>75</td>\n",
       "      <td>test3</td>\n",
       "      <td>material2</td>\n",
       "    </tr>\n",
       "    <tr>\n",
       "      <th>96</th>\n",
       "      <td>62.583351</td>\n",
       "      <td>3.617716</td>\n",
       "      <td>2</td>\n",
       "      <td>76</td>\n",
       "      <td>test1</td>\n",
       "      <td>material1</td>\n",
       "    </tr>\n",
       "    <tr>\n",
       "      <th>97</th>\n",
       "      <td>35.953624</td>\n",
       "      <td>0.010004</td>\n",
       "      <td>4</td>\n",
       "      <td>86</td>\n",
       "      <td>test2</td>\n",
       "      <td>material1</td>\n",
       "    </tr>\n",
       "    <tr>\n",
       "      <th>98</th>\n",
       "      <td>68.375932</td>\n",
       "      <td>2.828856</td>\n",
       "      <td>4</td>\n",
       "      <td>85</td>\n",
       "      <td>test2</td>\n",
       "      <td>material3</td>\n",
       "    </tr>\n",
       "    <tr>\n",
       "      <th>99</th>\n",
       "      <td>13.280175</td>\n",
       "      <td>2.269417</td>\n",
       "      <td>2</td>\n",
       "      <td>88</td>\n",
       "      <td>test3</td>\n",
       "      <td>material3</td>\n",
       "    </tr>\n",
       "  </tbody>\n",
       "</table>\n",
       "<p>100 rows × 6 columns</p>\n",
       "</div>"
      ],
      "text/plain": [
       "           x1        x2  x3  x4     x5         x6\n",
       "0   36.716941  0.669984   4  91  test1  material3\n",
       "1   73.883897  3.458582   3  95  test4  material1\n",
       "2   71.171280  3.086326   4  89  test1  material1\n",
       "3   83.334427  2.319348   4  92  test2  material2\n",
       "4   92.440558  3.907696   2  83  test1  material2\n",
       "..        ...       ...  ..  ..    ...        ...\n",
       "95  29.247453  2.218485   2  75  test3  material2\n",
       "96  62.583351  3.617716   2  76  test1  material1\n",
       "97  35.953624  0.010004   4  86  test2  material1\n",
       "98  68.375932  2.828856   4  85  test2  material3\n",
       "99  13.280175  2.269417   2  88  test3  material3\n",
       "\n",
       "[100 rows x 6 columns]"
      ]
     },
     "execution_count": 7,
     "metadata": {},
     "output_type": "execute_result"
    }
   ],
   "source": [
    "N = 100 # Number of samples\n",
    "\n",
    "samples_lhs = lhs.get_samples(N)\n",
    "samples_ran = ran.get_samples(N)\n",
    "samples_sob = sob.get_samples(N)\n",
    "\n",
    "samples_lhs"
   ]
  },
  {
   "cell_type": "markdown",
   "metadata": {},
   "source": [
    "#### Storing and displaying sampling in the `Data` structure\n",
    "\n",
    "Samples can be stored as data within the `Data` class:"
   ]
  },
  {
   "cell_type": "code",
   "execution_count": 8,
   "metadata": {},
   "outputs": [],
   "source": [
    "data_lhs = Data(samples_lhs)\n",
    "data_ran = Data(samples_ran)\n",
    "data_sob = Data(samples_sob)"
   ]
  },
  {
   "cell_type": "markdown",
   "metadata": {},
   "source": [
    "Currently, only a 2D plotting function is implemented (`plot()`).\n",
    "This function requires the two parameter names: "
   ]
  },
  {
   "cell_type": "code",
   "execution_count": null,
   "metadata": {},
   "outputs": [],
   "source": [
    "data_lhs.plot(par1='x1',par2='x2')"
   ]
  },
  {
   "cell_type": "code",
   "execution_count": null,
   "metadata": {},
   "outputs": [],
   "source": [
    "\n",
    "data_ran.plot(par1='x1',par2='x2')"
   ]
  },
  {
   "cell_type": "code",
   "execution_count": null,
   "metadata": {},
   "outputs": [],
   "source": [
    "\n",
    "data_sob.plot(par1='x1',par2='x2')"
   ]
  },
  {
   "cell_type": "markdown",
   "metadata": {},
   "source": [
    "Categorical or discrete parameters can also be plotted:"
   ]
  },
  {
   "cell_type": "code",
   "execution_count": null,
   "metadata": {},
   "outputs": [],
   "source": [
    "data_lhs.plot(par1='x6',par2='x1')"
   ]
  }
 ],
 "metadata": {
  "interpreter": {
   "hash": "73193fbeb8677ab93f213154c0927f21dd4fccfe51cf5f6d1ad5a916be4d211f"
  },
  "kernelspec": {
   "display_name": "Python 3.10.4 ('testthings')",
   "language": "python",
   "name": "python3"
  },
  "language_info": {
   "codemirror_mode": {
    "name": "ipython",
    "version": 3
   },
   "file_extension": ".py",
   "mimetype": "text/x-python",
   "name": "python",
   "nbconvert_exporter": "python",
   "pygments_lexer": "ipython3",
   "version": "3.10.4"
  },
  "orig_nbformat": 4
 },
 "nbformat": 4,
 "nbformat_minor": 2
}
