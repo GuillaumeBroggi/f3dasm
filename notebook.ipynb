{
 "cells": [
  {
   "cell_type": "markdown",
   "metadata": {},
   "source": [
    "## Tutorial on sampling in a custom design space\n",
    "_v1.0_"
   ]
  },
  {
   "cell_type": "markdown",
   "metadata": {},
   "source": [
    "First we import the desired libraries:"
   ]
  },
  {
   "cell_type": "code",
   "execution_count": 1,
   "metadata": {},
   "outputs": [],
   "source": [
    "from f3dasm.src.designofexperiments import DoE\n",
    "from f3dasm.src.space import ContinuousSpace, DiscreteSpace, CategoricalSpace\n",
    "from f3dasm.sampling.latinhypercube import LatinHypercube\n",
    "from f3dasm.sampling.randomuniform import RandomUniform\n",
    "from f3dasm.sampling.sobolsequence import SobolSequencing\n",
    "from f3dasm.src.data import Data"
   ]
  },
  {
   "cell_type": "markdown",
   "metadata": {},
   "source": [
    "### Constructing the design space\n",
    "\n",
    "There are three types of parameters that can be created: continous, discrete and categorical:\n",
    "\n",
    "* We can create **continous** parameters with a `lower_bound` and `upper_bound` with the `ContinuousSpace` class"
   ]
  },
  {
   "cell_type": "code",
   "execution_count": 2,
   "metadata": {},
   "outputs": [],
   "source": [
    "x1 = ContinuousSpace('x1', lower_bound=0.0, upper_bound=100.0)\n",
    "x2 = ContinuousSpace('x2', lower_bound=0.0, upper_bound=4.0)"
   ]
  },
  {
   "cell_type": "markdown",
   "metadata": {},
   "source": [
    "* We can create **discrete** parameters with a `lower_bound` and `upper_bound` with the `DiscreteSpace` class"
   ]
  },
  {
   "cell_type": "code",
   "execution_count": 3,
   "metadata": {},
   "outputs": [],
   "source": [
    "x3 = DiscreteSpace('x3', lower_bound=2, upper_bound=4)\n",
    "x4 = DiscreteSpace('x4', lower_bound=74, upper_bound=99)"
   ]
  },
  {
   "cell_type": "markdown",
   "metadata": {},
   "source": [
    "* We can create **categorical** parameters with a list of strings (`categories`) with the `CategoricalSpace` class"
   ]
  },
  {
   "cell_type": "code",
   "execution_count": 4,
   "metadata": {},
   "outputs": [],
   "source": [
    "x5 = CategoricalSpace('x5', categories=['test1','test2','test3','test4'])\n",
    "x6 = CategoricalSpace('x6', categories=['material1','material2','material3'])"
   ]
  },
  {
   "cell_type": "markdown",
   "metadata": {},
   "source": [
    "The design space is then constructed by calling the `DoE` class:"
   ]
  },
  {
   "cell_type": "code",
   "execution_count": 5,
   "metadata": {},
   "outputs": [],
   "source": [
    "design = DoE(space=[x1, x2, x3, x4, x5, x6])"
   ]
  },
  {
   "cell_type": "markdown",
   "metadata": {},
   "source": [
    "### Sampling from the design space\n",
    "\n",
    "Three samplers are included in this module:\n",
    "* Latin Hypercube sampling (`LatinHyperCube`)\n",
    "* Random uniform sampling (`RandomUniform`)\n",
    "* Sobol sequence sampling (`SobolSequencing`)\n",
    "\n",
    "We have to feed them the designspace:"
   ]
  },
  {
   "cell_type": "code",
   "execution_count": 6,
   "metadata": {},
   "outputs": [],
   "source": [
    "lhs = LatinHypercube(doe=design)\n",
    "ran = RandomUniform(doe=design)\n",
    "sob = SobolSequencing(doe=design)"
   ]
  },
  {
   "cell_type": "markdown",
   "metadata": {},
   "source": [
    "We can evoke sampling by calling the `get_samples()` method and providing the number of samples:"
   ]
  },
  {
   "cell_type": "code",
   "execution_count": 7,
   "metadata": {},
   "outputs": [
    {
     "data": {
      "text/html": [
       "<div>\n",
       "<style scoped>\n",
       "    .dataframe tbody tr th:only-of-type {\n",
       "        vertical-align: middle;\n",
       "    }\n",
       "\n",
       "    .dataframe tbody tr th {\n",
       "        vertical-align: top;\n",
       "    }\n",
       "\n",
       "    .dataframe thead th {\n",
       "        text-align: right;\n",
       "    }\n",
       "</style>\n",
       "<table border=\"1\" class=\"dataframe\">\n",
       "  <thead>\n",
       "    <tr style=\"text-align: right;\">\n",
       "      <th></th>\n",
       "      <th>x1</th>\n",
       "      <th>x2</th>\n",
       "      <th>x3</th>\n",
       "      <th>x4</th>\n",
       "      <th>x5</th>\n",
       "      <th>x6</th>\n",
       "    </tr>\n",
       "  </thead>\n",
       "  <tbody>\n",
       "    <tr>\n",
       "      <th>0</th>\n",
       "      <td>18.455210</td>\n",
       "      <td>0.806143</td>\n",
       "      <td>4</td>\n",
       "      <td>83</td>\n",
       "      <td>test1</td>\n",
       "      <td>material1</td>\n",
       "    </tr>\n",
       "    <tr>\n",
       "      <th>1</th>\n",
       "      <td>70.876659</td>\n",
       "      <td>0.593672</td>\n",
       "      <td>4</td>\n",
       "      <td>75</td>\n",
       "      <td>test2</td>\n",
       "      <td>material3</td>\n",
       "    </tr>\n",
       "    <tr>\n",
       "      <th>2</th>\n",
       "      <td>40.845952</td>\n",
       "      <td>2.132963</td>\n",
       "      <td>3</td>\n",
       "      <td>94</td>\n",
       "      <td>test1</td>\n",
       "      <td>material2</td>\n",
       "    </tr>\n",
       "    <tr>\n",
       "      <th>3</th>\n",
       "      <td>84.056064</td>\n",
       "      <td>0.133646</td>\n",
       "      <td>4</td>\n",
       "      <td>92</td>\n",
       "      <td>test2</td>\n",
       "      <td>material1</td>\n",
       "    </tr>\n",
       "    <tr>\n",
       "      <th>4</th>\n",
       "      <td>78.766076</td>\n",
       "      <td>3.230640</td>\n",
       "      <td>2</td>\n",
       "      <td>89</td>\n",
       "      <td>test2</td>\n",
       "      <td>material2</td>\n",
       "    </tr>\n",
       "    <tr>\n",
       "      <th>...</th>\n",
       "      <td>...</td>\n",
       "      <td>...</td>\n",
       "      <td>...</td>\n",
       "      <td>...</td>\n",
       "      <td>...</td>\n",
       "      <td>...</td>\n",
       "    </tr>\n",
       "    <tr>\n",
       "      <th>95</th>\n",
       "      <td>3.251147</td>\n",
       "      <td>3.493108</td>\n",
       "      <td>2</td>\n",
       "      <td>76</td>\n",
       "      <td>test2</td>\n",
       "      <td>material2</td>\n",
       "    </tr>\n",
       "    <tr>\n",
       "      <th>96</th>\n",
       "      <td>42.262735</td>\n",
       "      <td>3.566517</td>\n",
       "      <td>2</td>\n",
       "      <td>79</td>\n",
       "      <td>test3</td>\n",
       "      <td>material1</td>\n",
       "    </tr>\n",
       "    <tr>\n",
       "      <th>97</th>\n",
       "      <td>98.610763</td>\n",
       "      <td>3.767324</td>\n",
       "      <td>2</td>\n",
       "      <td>88</td>\n",
       "      <td>test3</td>\n",
       "      <td>material3</td>\n",
       "    </tr>\n",
       "    <tr>\n",
       "      <th>98</th>\n",
       "      <td>23.894380</td>\n",
       "      <td>1.129231</td>\n",
       "      <td>4</td>\n",
       "      <td>95</td>\n",
       "      <td>test4</td>\n",
       "      <td>material3</td>\n",
       "    </tr>\n",
       "    <tr>\n",
       "      <th>99</th>\n",
       "      <td>24.386845</td>\n",
       "      <td>3.466778</td>\n",
       "      <td>3</td>\n",
       "      <td>85</td>\n",
       "      <td>test2</td>\n",
       "      <td>material1</td>\n",
       "    </tr>\n",
       "  </tbody>\n",
       "</table>\n",
       "<p>100 rows × 6 columns</p>\n",
       "</div>"
      ],
      "text/plain": [
       "           x1        x2  x3  x4     x5         x6\n",
       "0   18.455210  0.806143   4  83  test1  material1\n",
       "1   70.876659  0.593672   4  75  test2  material3\n",
       "2   40.845952  2.132963   3  94  test1  material2\n",
       "3   84.056064  0.133646   4  92  test2  material1\n",
       "4   78.766076  3.230640   2  89  test2  material2\n",
       "..        ...       ...  ..  ..    ...        ...\n",
       "95   3.251147  3.493108   2  76  test2  material2\n",
       "96  42.262735  3.566517   2  79  test3  material1\n",
       "97  98.610763  3.767324   2  88  test3  material3\n",
       "98  23.894380  1.129231   4  95  test4  material3\n",
       "99  24.386845  3.466778   3  85  test2  material1\n",
       "\n",
       "[100 rows x 6 columns]"
      ]
     },
     "execution_count": 7,
     "metadata": {},
     "output_type": "execute_result"
    }
   ],
   "source": [
    "N = 100 # Number of samples\n",
    "\n",
    "samples_lhs = lhs.get_samples(N)\n",
    "samples_ran = ran.get_samples(N)\n",
    "samples_sob = sob.get_samples(N)\n",
    "\n",
    "samples_lhs"
   ]
  },
  {
   "cell_type": "markdown",
   "metadata": {},
   "source": [
    "#### Storing and displaying sampling in the `Data` structure\n",
    "\n",
    "Samples can be stored as data within the `Data` class:"
   ]
  },
  {
   "cell_type": "code",
   "execution_count": 8,
   "metadata": {},
   "outputs": [],
   "source": [
    "data_lhs = Data(samples_lhs)\n",
    "data_ran = Data(samples_ran)\n",
    "data_sob = Data(samples_sob)"
   ]
  },
  {
   "cell_type": "markdown",
   "metadata": {},
   "source": [
    "Currently, only a 2D plotting function is implemented (`plot()`).\n",
    "This function requires the two parameter names: "
   ]
  },
  {
   "cell_type": "code",
   "execution_count": 9,
   "metadata": {},
   "outputs": [
    {
     "name": "stderr",
     "output_type": "stream",
     "text": [
      "/home/martin/Documents/GitHub/testthings/f3dasm/src/data.py:32: UserWarning: Matplotlib is currently using module://matplotlib_inline.backend_inline, which is a non-GUI backend, so cannot show the figure.\n",
      "  fig.show()\n"
     ]
    },
    {
     "data": {
      "image/png": "[encoded data removed]",
      "text/plain": [
       "<Figure size 432x288 with 1 Axes>"
      ]
     },
     "metadata": {
      "needs_background": "light"
     },
     "output_type": "display_data"
    }
   ],
   "source": [
    "data_lhs.plot(par1='x1',par2='x2')"
   ]
  },
  {
   "cell_type": "code",
   "execution_count": 10,
   "metadata": {},
   "outputs": [
    {
     "data": {
      "image/png": "[encoded data removed]",
      "text/plain": [
       "<Figure size 432x288 with 1 Axes>"
      ]
     },
     "metadata": {
      "needs_background": "light"
     },
     "output_type": "display_data"
    }
   ],
   "source": [
    "\n",
    "data_ran.plot(par1='x1',par2='x2')"
   ]
  },
  {
   "cell_type": "code",
   "execution_count": 11,
   "metadata": {},
   "outputs": [
    {
     "data": {
      "image/png": "[encoded data removed]",
      "text/plain": [
       "<Figure size 432x288 with 1 Axes>"
      ]
     },
     "metadata": {
      "needs_background": "light"
     },
     "output_type": "display_data"
    }
   ],
   "source": [
    "\n",
    "data_sob.plot(par1='x1',par2='x2')"
   ]
  },
  {
   "cell_type": "markdown",
   "metadata": {},
   "source": [
    "Categorical or discrete parameters can also be plotted:"
   ]
  },
  {
   "cell_type": "code",
   "execution_count": 12,
   "metadata": {},
   "outputs": [
    {
     "name": "stderr",
     "output_type": "stream",
     "text": [
      "/home/martin/Documents/GitHub/testthings/f3dasm/src/data.py:32: UserWarning: Matplotlib is currently using module://matplotlib_inline.backend_inline, which is a non-GUI backend, so cannot show the figure.\n",
      "  fig.show()\n"
     ]
    },
    {
     "data": {
      "image/png": "[encoded data removed]",
      "text/plain": [
       "<Figure size 432x288 with 1 Axes>"
      ]
     },
     "metadata": {
      "needs_background": "light"
     },
     "output_type": "display_data"
    }
   ],
   "source": [
    "data_lhs.plot(par1='x6',par2='x1')"
   ]
  }
 ],
 "metadata": {
  "interpreter": {
   "hash": "73193fbeb8677ab93f213154c0927f21dd4fccfe51cf5f6d1ad5a916be4d211f"
  },
  "kernelspec": {
   "display_name": "Python 3.10.4 ('testthings')",
   "language": "python",
   "name": "python3"
  },
  "language_info": {
   "codemirror_mode": {
    "name": "ipython",
    "version": 3
   },
   "file_extension": ".py",
   "mimetype": "text/x-python",
   "name": "python",
   "nbconvert_exporter": "python",
   "pygments_lexer": "ipython3",
   "version": "3.10.4"
  },
  "orig_nbformat": 4
 },
 "nbformat": 4,
 "nbformat_minor": 2
}
