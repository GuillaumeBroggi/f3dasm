{
 "cells": [
  {
   "cell_type": "code",
   "execution_count": 23,
   "metadata": {},
   "outputs": [],
   "source": [
    "import f3dasm\n",
    "import numpy as np\n",
    "from dataclasses import dataclass\n",
    "from typing import List, Any\n",
    "from hydra.core.config_store import ConfigStore\n",
    "import hydra"
   ]
  },
  {
   "cell_type": "code",
   "execution_count": 24,
   "metadata": {},
   "outputs": [
    {
     "ename": "ImportError",
     "evalue": "cannot import name 'execute' from 'f3dasm.run_optimization' (/home/martin/Documents/GitHub/F3DASM/f3dasm/run_optimization.py)",
     "output_type": "error",
     "traceback": [
      "\u001b[0;31m---------------------------------------------------------------------------\u001b[0m",
      "\u001b[0;31mImportError\u001b[0m                               Traceback (most recent call last)",
      "\u001b[1;32m/home/martin/Documents/GitHub/F3DASM/notebooks/config.ipynb Cell 2'\u001b[0m in \u001b[0;36m<cell line: 1>\u001b[0;34m()\u001b[0m\n\u001b[0;32m----> <a href='vscode-notebook-cell:/home/martin/Documents/GitHub/F3DASM/notebooks/config.ipynb#ch0000014?line=0'>1</a>\u001b[0m \u001b[39mfrom\u001b[39;00m \u001b[39mf3dasm\u001b[39;00m\u001b[39m.\u001b[39;00m\u001b[39mrun_optimization\u001b[39;00m \u001b[39mimport\u001b[39;00m execute\n\u001b[1;32m      <a href='vscode-notebook-cell:/home/martin/Documents/GitHub/F3DASM/notebooks/config.ipynb#ch0000014?line=1'>2</a>\u001b[0m execute()\n",
      "\u001b[0;31mImportError\u001b[0m: cannot import name 'execute' from 'f3dasm.run_optimization' (/home/martin/Documents/GitHub/F3DASM/f3dasm/run_optimization.py)"
     ]
    }
   ],
   "source": [
    "from f3dasm.run_optimization import execute\n",
    "execute()"
   ]
  },
  {
   "cell_type": "code",
   "execution_count": 9,
   "metadata": {},
   "outputs": [],
   "source": [
    "def find_class(module, query: str):\n",
    "    return getattr(module, query)\n"
   ]
  },
  {
   "cell_type": "code",
   "execution_count": 10,
   "metadata": {},
   "outputs": [
    {
     "data": {
      "text/plain": [
       "f3dasm.sampling.samplers.RandomUniformSampling"
      ]
     },
     "execution_count": 10,
     "metadata": {},
     "output_type": "execute_result"
    }
   ],
   "source": [
    "a = getattr(f3dasm,'sampling')\n",
    "\n",
    "getattr(a,'RandomUniformSampling')"
   ]
  },
  {
   "cell_type": "code",
   "execution_count": 11,
   "metadata": {},
   "outputs": [],
   "source": [
    "@dataclass\n",
    "class Block:\n",
    "    type: str\n",
    "    implementation: str\n",
    "    arguments: dict\n",
    "\n",
    "    def create(self):\n",
    "        # Select correct block-type\n",
    "        block_type = find_class(f3dasm, self.type)\n",
    "\n",
    "        # Select correct implementation\n",
    "        implementation_type = find_class(block_type, self.implementation)\n",
    "        \n",
    "        # Create implementation with arguments\n",
    "        return implementation_type(**self.arguments)\n",
    "\n",
    "    def __call__(self, data: f3dasm.Data):\n",
    "        # Create block\n",
    "        mod = self.create()\n",
    "\n",
    "        # Execute the block\n",
    "        results = mod(data)\n",
    "\n",
    "        # Return results\n",
    "        return results"
   ]
  },
  {
   "cell_type": "code",
   "execution_count": 12,
   "metadata": {},
   "outputs": [],
   "source": [
    "@dataclass\n",
    "class DesignConfig:\n",
    "    lower_bound: float\n",
    "    upper_bound: float\n",
    "    dimensionality: int\n",
    "\n",
    "@dataclass\n",
    "class FunctionConfig:\n",
    "    function_name: str\n",
    "    noise: float or Any\n",
    "\n",
    "@dataclass\n",
    "class OptimizerConfig:\n",
    "    optimizer_name: str\n",
    "\n",
    "\n",
    "@dataclass\n",
    "class SamplerConfig:\n",
    "    sampler_name: str\n",
    "\n",
    "@dataclass\n",
    "class ExecutionConfig:\n",
    "    iterations: int\n",
    "    realizations: int\n",
    "\n",
    "@dataclass\n",
    "class Config:\n",
    "    design: DesignConfig\n",
    "    function: FunctionConfig\n",
    "    sampler: SamplerConfig\n",
    "    execution: ExecutionConfig"
   ]
  },
  {
   "cell_type": "code",
   "execution_count": 13,
   "metadata": {},
   "outputs": [
    {
     "data": {
      "text/plain": [
       "<hydra.core.config_store.ConfigStore at 0x7f043af99690>"
      ]
     },
     "execution_count": 13,
     "metadata": {},
     "output_type": "execute_result"
    }
   ],
   "source": [
    "cs = ConfigStore.instance()\n",
    "cs.store(name=\"f3dasm_config\", node=Config)\n",
    "\n",
    "@hydra.main(config_path=\".\", config_name=\"config\")\n",
    "def main(cfg: Config):\n",
    "    print(cfg)\n",
    "\n",
    "cs"
   ]
  },
  {
   "cell_type": "code",
   "execution_count": 15,
   "metadata": {},
   "outputs": [
    {
     "name": "stderr",
     "output_type": "stream",
     "text": [
      "usage: ipykernel_launcher.py [--help] [--hydra-help] [--version]\n",
      "                             [--cfg {job,hydra,all}] [--resolve]\n",
      "                             [--package PACKAGE] [--run] [--multirun]\n",
      "                             [--shell-completion] [--config-path CONFIG_PATH]\n",
      "                             [--config-name CONFIG_NAME]\n",
      "                             [--config-dir CONFIG_DIR]\n",
      "                             [--experimental-rerun EXPERIMENTAL_RERUN]\n",
      "                             [--info [{all,config,defaults,defaults-tree,plugins,searchpath}]]\n",
      "                             [overrides ...]\n",
      "ipykernel_launcher.py: error: argument --shell-completion/-sc: ignored explicit argument '9002'\n"
     ]
    },
    {
     "ename": "AssertionError",
     "evalue": "",
     "output_type": "error",
     "traceback": [
      "\u001b[0;31m---------------------------------------------------------------------------\u001b[0m",
      "\u001b[0;31mArgumentError\u001b[0m                             Traceback (most recent call last)",
      "File \u001b[0;32m~/miniconda3/envs/f3dasm_env/lib/python3.10/argparse.py:1859\u001b[0m, in \u001b[0;36mArgumentParser.parse_known_args\u001b[0;34m(self, args, namespace)\u001b[0m\n\u001b[1;32m   <a href='file:///home/martin/miniconda3/envs/f3dasm_env/lib/python3.10/argparse.py?line=1857'>1858</a>\u001b[0m \u001b[39mtry\u001b[39;00m:\n\u001b[0;32m-> <a href='file:///home/martin/miniconda3/envs/f3dasm_env/lib/python3.10/argparse.py?line=1858'>1859</a>\u001b[0m     namespace, args \u001b[39m=\u001b[39m \u001b[39mself\u001b[39;49m\u001b[39m.\u001b[39;49m_parse_known_args(args, namespace)\n\u001b[1;32m   <a href='file:///home/martin/miniconda3/envs/f3dasm_env/lib/python3.10/argparse.py?line=1859'>1860</a>\u001b[0m \u001b[39mexcept\u001b[39;00m ArgumentError:\n",
      "File \u001b[0;32m~/miniconda3/envs/f3dasm_env/lib/python3.10/argparse.py:2068\u001b[0m, in \u001b[0;36mArgumentParser._parse_known_args\u001b[0;34m(self, arg_strings, namespace)\u001b[0m\n\u001b[1;32m   <a href='file:///home/martin/miniconda3/envs/f3dasm_env/lib/python3.10/argparse.py?line=2066'>2067</a>\u001b[0m     \u001b[39m# consume the next optional and any arguments for it\u001b[39;00m\n\u001b[0;32m-> <a href='file:///home/martin/miniconda3/envs/f3dasm_env/lib/python3.10/argparse.py?line=2067'>2068</a>\u001b[0m     start_index \u001b[39m=\u001b[39m consume_optional(start_index)\n\u001b[1;32m   <a href='file:///home/martin/miniconda3/envs/f3dasm_env/lib/python3.10/argparse.py?line=2069'>2070</a>\u001b[0m \u001b[39m# consume any positionals following the last Optional\u001b[39;00m\n",
      "File \u001b[0;32m~/miniconda3/envs/f3dasm_env/lib/python3.10/argparse.py:1990\u001b[0m, in \u001b[0;36mArgumentParser._parse_known_args.<locals>.consume_optional\u001b[0;34m(start_index)\u001b[0m\n\u001b[1;32m   <a href='file:///home/martin/miniconda3/envs/f3dasm_env/lib/python3.10/argparse.py?line=1988'>1989</a>\u001b[0m         msg \u001b[39m=\u001b[39m _(\u001b[39m'\u001b[39m\u001b[39mignored explicit argument \u001b[39m\u001b[39m%r\u001b[39;00m\u001b[39m'\u001b[39m)\n\u001b[0;32m-> <a href='file:///home/martin/miniconda3/envs/f3dasm_env/lib/python3.10/argparse.py?line=1989'>1990</a>\u001b[0m         \u001b[39mraise\u001b[39;00m ArgumentError(action, msg \u001b[39m%\u001b[39m explicit_arg)\n\u001b[1;32m   <a href='file:///home/martin/miniconda3/envs/f3dasm_env/lib/python3.10/argparse.py?line=1991'>1992</a>\u001b[0m \u001b[39m# if there is no explicit argument, try to match the\u001b[39;00m\n\u001b[1;32m   <a href='file:///home/martin/miniconda3/envs/f3dasm_env/lib/python3.10/argparse.py?line=1992'>1993</a>\u001b[0m \u001b[39m# optional's string arguments with the following strings\u001b[39;00m\n\u001b[1;32m   <a href='file:///home/martin/miniconda3/envs/f3dasm_env/lib/python3.10/argparse.py?line=1993'>1994</a>\u001b[0m \u001b[39m# if successful, exit the loop\u001b[39;00m\n\u001b[1;32m   <a href='file:///home/martin/miniconda3/envs/f3dasm_env/lib/python3.10/argparse.py?line=1994'>1995</a>\u001b[0m \u001b[39melse\u001b[39;00m:\n",
      "\u001b[0;31mArgumentError\u001b[0m: argument --shell-completion/-sc: ignored explicit argument '9002'",
      "\nDuring handling of the above exception, another exception occurred:\n",
      "\u001b[0;31mSystemExit\u001b[0m                                Traceback (most recent call last)",
      "    \u001b[0;31m[... skipping hidden 1 frame]\u001b[0m\n",
      "\u001b[1;32m/home/martin/Documents/GitHub/F3DASM/notebooks/config.ipynb Cell 7'\u001b[0m in \u001b[0;36m<cell line: 1>\u001b[0;34m()\u001b[0m\n\u001b[0;32m----> <a href='vscode-notebook-cell:/home/martin/Documents/GitHub/F3DASM/notebooks/config.ipynb#ch0000013?line=0'>1</a>\u001b[0m main()\n",
      "File \u001b[0;32m~/miniconda3/envs/f3dasm_env/lib/python3.10/site-packages/hydra/main.py:82\u001b[0m, in \u001b[0;36mmain.<locals>.main_decorator.<locals>.decorated_main\u001b[0;34m(cfg_passthrough)\u001b[0m\n\u001b[1;32m     <a href='file:///home/martin/miniconda3/envs/f3dasm_env/lib/python3.10/site-packages/hydra/main.py?line=80'>81</a>\u001b[0m args_parser \u001b[39m=\u001b[39m get_args_parser()\n\u001b[0;32m---> <a href='file:///home/martin/miniconda3/envs/f3dasm_env/lib/python3.10/site-packages/hydra/main.py?line=81'>82</a>\u001b[0m args \u001b[39m=\u001b[39m args_parser\u001b[39m.\u001b[39;49mparse_args()\n\u001b[1;32m     <a href='file:///home/martin/miniconda3/envs/f3dasm_env/lib/python3.10/site-packages/hydra/main.py?line=82'>83</a>\u001b[0m \u001b[39mif\u001b[39;00m args\u001b[39m.\u001b[39mexperimental_rerun \u001b[39mis\u001b[39;00m \u001b[39mnot\u001b[39;00m \u001b[39mNone\u001b[39;00m:\n",
      "File \u001b[0;32m~/miniconda3/envs/f3dasm_env/lib/python3.10/argparse.py:1826\u001b[0m, in \u001b[0;36mArgumentParser.parse_args\u001b[0;34m(self, args, namespace)\u001b[0m\n\u001b[1;32m   <a href='file:///home/martin/miniconda3/envs/f3dasm_env/lib/python3.10/argparse.py?line=1824'>1825</a>\u001b[0m \u001b[39mdef\u001b[39;00m \u001b[39mparse_args\u001b[39m(\u001b[39mself\u001b[39m, args\u001b[39m=\u001b[39m\u001b[39mNone\u001b[39;00m, namespace\u001b[39m=\u001b[39m\u001b[39mNone\u001b[39;00m):\n\u001b[0;32m-> <a href='file:///home/martin/miniconda3/envs/f3dasm_env/lib/python3.10/argparse.py?line=1825'>1826</a>\u001b[0m     args, argv \u001b[39m=\u001b[39m \u001b[39mself\u001b[39;49m\u001b[39m.\u001b[39;49mparse_known_args(args, namespace)\n\u001b[1;32m   <a href='file:///home/martin/miniconda3/envs/f3dasm_env/lib/python3.10/argparse.py?line=1826'>1827</a>\u001b[0m     \u001b[39mif\u001b[39;00m argv:\n",
      "File \u001b[0;32m~/miniconda3/envs/f3dasm_env/lib/python3.10/argparse.py:1862\u001b[0m, in \u001b[0;36mArgumentParser.parse_known_args\u001b[0;34m(self, args, namespace)\u001b[0m\n\u001b[1;32m   <a href='file:///home/martin/miniconda3/envs/f3dasm_env/lib/python3.10/argparse.py?line=1860'>1861</a>\u001b[0m         err \u001b[39m=\u001b[39m _sys\u001b[39m.\u001b[39mexc_info()[\u001b[39m1\u001b[39m]\n\u001b[0;32m-> <a href='file:///home/martin/miniconda3/envs/f3dasm_env/lib/python3.10/argparse.py?line=1861'>1862</a>\u001b[0m         \u001b[39mself\u001b[39;49m\u001b[39m.\u001b[39;49merror(\u001b[39mstr\u001b[39;49m(err))\n\u001b[1;32m   <a href='file:///home/martin/miniconda3/envs/f3dasm_env/lib/python3.10/argparse.py?line=1862'>1863</a>\u001b[0m \u001b[39melse\u001b[39;00m:\n",
      "File \u001b[0;32m~/miniconda3/envs/f3dasm_env/lib/python3.10/argparse.py:2583\u001b[0m, in \u001b[0;36mArgumentParser.error\u001b[0;34m(self, message)\u001b[0m\n\u001b[1;32m   <a href='file:///home/martin/miniconda3/envs/f3dasm_env/lib/python3.10/argparse.py?line=2581'>2582</a>\u001b[0m args \u001b[39m=\u001b[39m {\u001b[39m'\u001b[39m\u001b[39mprog\u001b[39m\u001b[39m'\u001b[39m: \u001b[39mself\u001b[39m\u001b[39m.\u001b[39mprog, \u001b[39m'\u001b[39m\u001b[39mmessage\u001b[39m\u001b[39m'\u001b[39m: message}\n\u001b[0;32m-> <a href='file:///home/martin/miniconda3/envs/f3dasm_env/lib/python3.10/argparse.py?line=2582'>2583</a>\u001b[0m \u001b[39mself\u001b[39;49m\u001b[39m.\u001b[39;49mexit(\u001b[39m2\u001b[39;49m, _(\u001b[39m'\u001b[39;49m\u001b[39m%(prog)s\u001b[39;49;00m\u001b[39m: error: \u001b[39;49m\u001b[39m%(message)s\u001b[39;49;00m\u001b[39m\\n\u001b[39;49;00m\u001b[39m'\u001b[39;49m) \u001b[39m%\u001b[39;49m args)\n",
      "File \u001b[0;32m~/miniconda3/envs/f3dasm_env/lib/python3.10/argparse.py:2570\u001b[0m, in \u001b[0;36mArgumentParser.exit\u001b[0;34m(self, status, message)\u001b[0m\n\u001b[1;32m   <a href='file:///home/martin/miniconda3/envs/f3dasm_env/lib/python3.10/argparse.py?line=2568'>2569</a>\u001b[0m     \u001b[39mself\u001b[39m\u001b[39m.\u001b[39m_print_message(message, _sys\u001b[39m.\u001b[39mstderr)\n\u001b[0;32m-> <a href='file:///home/martin/miniconda3/envs/f3dasm_env/lib/python3.10/argparse.py?line=2569'>2570</a>\u001b[0m _sys\u001b[39m.\u001b[39;49mexit(status)\n",
      "\u001b[0;31mSystemExit\u001b[0m: 2",
      "\nDuring handling of the above exception, another exception occurred:\n",
      "\u001b[0;31mAssertionError\u001b[0m                            Traceback (most recent call last)",
      "    \u001b[0;31m[... skipping hidden 1 frame]\u001b[0m\n",
      "File \u001b[0;32m~/miniconda3/envs/f3dasm_env/lib/python3.10/site-packages/IPython/core/interactiveshell.py:1983\u001b[0m, in \u001b[0;36mInteractiveShell.showtraceback\u001b[0;34m(self, exc_tuple, filename, tb_offset, exception_only, running_compiled_code)\u001b[0m\n\u001b[1;32m   <a href='file:///home/martin/miniconda3/envs/f3dasm_env/lib/python3.10/site-packages/IPython/core/interactiveshell.py?line=1979'>1980</a>\u001b[0m \u001b[39mif\u001b[39;00m exception_only:\n\u001b[1;32m   <a href='file:///home/martin/miniconda3/envs/f3dasm_env/lib/python3.10/site-packages/IPython/core/interactiveshell.py?line=1980'>1981</a>\u001b[0m     stb \u001b[39m=\u001b[39m [\u001b[39m'\u001b[39m\u001b[39mAn exception has occurred, use \u001b[39m\u001b[39m%\u001b[39m\u001b[39mtb to see \u001b[39m\u001b[39m'\u001b[39m\n\u001b[1;32m   <a href='file:///home/martin/miniconda3/envs/f3dasm_env/lib/python3.10/site-packages/IPython/core/interactiveshell.py?line=1981'>1982</a>\u001b[0m            \u001b[39m'\u001b[39m\u001b[39mthe full traceback.\u001b[39m\u001b[39m\\n\u001b[39;00m\u001b[39m'\u001b[39m]\n\u001b[0;32m-> <a href='file:///home/martin/miniconda3/envs/f3dasm_env/lib/python3.10/site-packages/IPython/core/interactiveshell.py?line=1982'>1983</a>\u001b[0m     stb\u001b[39m.\u001b[39mextend(\u001b[39mself\u001b[39;49m\u001b[39m.\u001b[39;49mInteractiveTB\u001b[39m.\u001b[39;49mget_exception_only(etype,\n\u001b[1;32m   <a href='file:///home/martin/miniconda3/envs/f3dasm_env/lib/python3.10/site-packages/IPython/core/interactiveshell.py?line=1983'>1984</a>\u001b[0m                                                      value))\n\u001b[1;32m   <a href='file:///home/martin/miniconda3/envs/f3dasm_env/lib/python3.10/site-packages/IPython/core/interactiveshell.py?line=1984'>1985</a>\u001b[0m \u001b[39melse\u001b[39;00m:\n\u001b[1;32m   <a href='file:///home/martin/miniconda3/envs/f3dasm_env/lib/python3.10/site-packages/IPython/core/interactiveshell.py?line=1985'>1986</a>\u001b[0m     \u001b[39mtry\u001b[39;00m:\n\u001b[1;32m   <a href='file:///home/martin/miniconda3/envs/f3dasm_env/lib/python3.10/site-packages/IPython/core/interactiveshell.py?line=1986'>1987</a>\u001b[0m         \u001b[39m# Exception classes can customise their traceback - we\u001b[39;00m\n\u001b[1;32m   <a href='file:///home/martin/miniconda3/envs/f3dasm_env/lib/python3.10/site-packages/IPython/core/interactiveshell.py?line=1987'>1988</a>\u001b[0m         \u001b[39m# use this in IPython.parallel for exceptions occurring\u001b[39;00m\n\u001b[1;32m   <a href='file:///home/martin/miniconda3/envs/f3dasm_env/lib/python3.10/site-packages/IPython/core/interactiveshell.py?line=1988'>1989</a>\u001b[0m         \u001b[39m# in the engines. This should return a list of strings.\u001b[39;00m\n",
      "File \u001b[0;32m~/miniconda3/envs/f3dasm_env/lib/python3.10/site-packages/IPython/core/ultratb.py:585\u001b[0m, in \u001b[0;36mListTB.get_exception_only\u001b[0;34m(self, etype, value)\u001b[0m\n\u001b[1;32m    <a href='file:///home/martin/miniconda3/envs/f3dasm_env/lib/python3.10/site-packages/IPython/core/ultratb.py?line=576'>577</a>\u001b[0m \u001b[39mdef\u001b[39;00m \u001b[39mget_exception_only\u001b[39m(\u001b[39mself\u001b[39m, etype, value):\n\u001b[1;32m    <a href='file:///home/martin/miniconda3/envs/f3dasm_env/lib/python3.10/site-packages/IPython/core/ultratb.py?line=577'>578</a>\u001b[0m     \u001b[39m\"\"\"Only print the exception type and message, without a traceback.\u001b[39;00m\n\u001b[1;32m    <a href='file:///home/martin/miniconda3/envs/f3dasm_env/lib/python3.10/site-packages/IPython/core/ultratb.py?line=578'>579</a>\u001b[0m \n\u001b[1;32m    <a href='file:///home/martin/miniconda3/envs/f3dasm_env/lib/python3.10/site-packages/IPython/core/ultratb.py?line=579'>580</a>\u001b[0m \u001b[39m    Parameters\u001b[39;00m\n\u001b[0;32m   (...)\u001b[0m\n\u001b[1;32m    <a href='file:///home/martin/miniconda3/envs/f3dasm_env/lib/python3.10/site-packages/IPython/core/ultratb.py?line=582'>583</a>\u001b[0m \u001b[39m    value : exception value\u001b[39;00m\n\u001b[1;32m    <a href='file:///home/martin/miniconda3/envs/f3dasm_env/lib/python3.10/site-packages/IPython/core/ultratb.py?line=583'>584</a>\u001b[0m \u001b[39m    \"\"\"\u001b[39;00m\n\u001b[0;32m--> <a href='file:///home/martin/miniconda3/envs/f3dasm_env/lib/python3.10/site-packages/IPython/core/ultratb.py?line=584'>585</a>\u001b[0m     \u001b[39mreturn\u001b[39;00m ListTB\u001b[39m.\u001b[39;49mstructured_traceback(\u001b[39mself\u001b[39;49m, etype, value)\n",
      "File \u001b[0;32m~/miniconda3/envs/f3dasm_env/lib/python3.10/site-packages/IPython/core/ultratb.py:443\u001b[0m, in \u001b[0;36mListTB.structured_traceback\u001b[0;34m(self, etype, evalue, etb, tb_offset, context)\u001b[0m\n\u001b[1;32m    <a href='file:///home/martin/miniconda3/envs/f3dasm_env/lib/python3.10/site-packages/IPython/core/ultratb.py?line=439'>440</a>\u001b[0m     chained_exc_ids\u001b[39m.\u001b[39madd(\u001b[39mid\u001b[39m(exception[\u001b[39m1\u001b[39m]))\n\u001b[1;32m    <a href='file:///home/martin/miniconda3/envs/f3dasm_env/lib/python3.10/site-packages/IPython/core/ultratb.py?line=440'>441</a>\u001b[0m     chained_exceptions_tb_offset \u001b[39m=\u001b[39m \u001b[39m0\u001b[39m\n\u001b[1;32m    <a href='file:///home/martin/miniconda3/envs/f3dasm_env/lib/python3.10/site-packages/IPython/core/ultratb.py?line=441'>442</a>\u001b[0m     out_list \u001b[39m=\u001b[39m (\n\u001b[0;32m--> <a href='file:///home/martin/miniconda3/envs/f3dasm_env/lib/python3.10/site-packages/IPython/core/ultratb.py?line=442'>443</a>\u001b[0m         \u001b[39mself\u001b[39;49m\u001b[39m.\u001b[39;49mstructured_traceback(\n\u001b[1;32m    <a href='file:///home/martin/miniconda3/envs/f3dasm_env/lib/python3.10/site-packages/IPython/core/ultratb.py?line=443'>444</a>\u001b[0m             etype, evalue, (etb, chained_exc_ids),\n\u001b[1;32m    <a href='file:///home/martin/miniconda3/envs/f3dasm_env/lib/python3.10/site-packages/IPython/core/ultratb.py?line=444'>445</a>\u001b[0m             chained_exceptions_tb_offset, context)\n\u001b[1;32m    <a href='file:///home/martin/miniconda3/envs/f3dasm_env/lib/python3.10/site-packages/IPython/core/ultratb.py?line=445'>446</a>\u001b[0m         \u001b[39m+\u001b[39m chained_exception_message\n\u001b[1;32m    <a href='file:///home/martin/miniconda3/envs/f3dasm_env/lib/python3.10/site-packages/IPython/core/ultratb.py?line=446'>447</a>\u001b[0m         \u001b[39m+\u001b[39m out_list)\n\u001b[1;32m    <a href='file:///home/martin/miniconda3/envs/f3dasm_env/lib/python3.10/site-packages/IPython/core/ultratb.py?line=448'>449</a>\u001b[0m \u001b[39mreturn\u001b[39;00m out_list\n",
      "File \u001b[0;32m~/miniconda3/envs/f3dasm_env/lib/python3.10/site-packages/IPython/core/ultratb.py:1118\u001b[0m, in \u001b[0;36mAutoFormattedTB.structured_traceback\u001b[0;34m(self, etype, value, tb, tb_offset, number_of_lines_of_context)\u001b[0m\n\u001b[1;32m   <a href='file:///home/martin/miniconda3/envs/f3dasm_env/lib/python3.10/site-packages/IPython/core/ultratb.py?line=1115'>1116</a>\u001b[0m \u001b[39melse\u001b[39;00m:\n\u001b[1;32m   <a href='file:///home/martin/miniconda3/envs/f3dasm_env/lib/python3.10/site-packages/IPython/core/ultratb.py?line=1116'>1117</a>\u001b[0m     \u001b[39mself\u001b[39m\u001b[39m.\u001b[39mtb \u001b[39m=\u001b[39m tb\n\u001b[0;32m-> <a href='file:///home/martin/miniconda3/envs/f3dasm_env/lib/python3.10/site-packages/IPython/core/ultratb.py?line=1117'>1118</a>\u001b[0m \u001b[39mreturn\u001b[39;00m FormattedTB\u001b[39m.\u001b[39;49mstructured_traceback(\n\u001b[1;32m   <a href='file:///home/martin/miniconda3/envs/f3dasm_env/lib/python3.10/site-packages/IPython/core/ultratb.py?line=1118'>1119</a>\u001b[0m     \u001b[39mself\u001b[39;49m, etype, value, tb, tb_offset, number_of_lines_of_context)\n",
      "File \u001b[0;32m~/miniconda3/envs/f3dasm_env/lib/python3.10/site-packages/IPython/core/ultratb.py:1012\u001b[0m, in \u001b[0;36mFormattedTB.structured_traceback\u001b[0;34m(self, etype, value, tb, tb_offset, number_of_lines_of_context)\u001b[0m\n\u001b[1;32m   <a href='file:///home/martin/miniconda3/envs/f3dasm_env/lib/python3.10/site-packages/IPython/core/ultratb.py?line=1008'>1009</a>\u001b[0m mode \u001b[39m=\u001b[39m \u001b[39mself\u001b[39m\u001b[39m.\u001b[39mmode\n\u001b[1;32m   <a href='file:///home/martin/miniconda3/envs/f3dasm_env/lib/python3.10/site-packages/IPython/core/ultratb.py?line=1009'>1010</a>\u001b[0m \u001b[39mif\u001b[39;00m mode \u001b[39min\u001b[39;00m \u001b[39mself\u001b[39m\u001b[39m.\u001b[39mverbose_modes:\n\u001b[1;32m   <a href='file:///home/martin/miniconda3/envs/f3dasm_env/lib/python3.10/site-packages/IPython/core/ultratb.py?line=1010'>1011</a>\u001b[0m     \u001b[39m# Verbose modes need a full traceback\u001b[39;00m\n\u001b[0;32m-> <a href='file:///home/martin/miniconda3/envs/f3dasm_env/lib/python3.10/site-packages/IPython/core/ultratb.py?line=1011'>1012</a>\u001b[0m     \u001b[39mreturn\u001b[39;00m VerboseTB\u001b[39m.\u001b[39;49mstructured_traceback(\n\u001b[1;32m   <a href='file:///home/martin/miniconda3/envs/f3dasm_env/lib/python3.10/site-packages/IPython/core/ultratb.py?line=1012'>1013</a>\u001b[0m         \u001b[39mself\u001b[39;49m, etype, value, tb, tb_offset, number_of_lines_of_context\n\u001b[1;32m   <a href='file:///home/martin/miniconda3/envs/f3dasm_env/lib/python3.10/site-packages/IPython/core/ultratb.py?line=1013'>1014</a>\u001b[0m     )\n\u001b[1;32m   <a href='file:///home/martin/miniconda3/envs/f3dasm_env/lib/python3.10/site-packages/IPython/core/ultratb.py?line=1014'>1015</a>\u001b[0m \u001b[39melif\u001b[39;00m mode \u001b[39m==\u001b[39m \u001b[39m'\u001b[39m\u001b[39mMinimal\u001b[39m\u001b[39m'\u001b[39m:\n\u001b[1;32m   <a href='file:///home/martin/miniconda3/envs/f3dasm_env/lib/python3.10/site-packages/IPython/core/ultratb.py?line=1015'>1016</a>\u001b[0m     \u001b[39mreturn\u001b[39;00m ListTB\u001b[39m.\u001b[39mget_exception_only(\u001b[39mself\u001b[39m, etype, value)\n",
      "File \u001b[0;32m~/miniconda3/envs/f3dasm_env/lib/python3.10/site-packages/IPython/core/ultratb.py:865\u001b[0m, in \u001b[0;36mVerboseTB.structured_traceback\u001b[0;34m(self, etype, evalue, etb, tb_offset, number_of_lines_of_context)\u001b[0m\n\u001b[1;32m    <a href='file:///home/martin/miniconda3/envs/f3dasm_env/lib/python3.10/site-packages/IPython/core/ultratb.py?line=855'>856</a>\u001b[0m \u001b[39mdef\u001b[39;00m \u001b[39mstructured_traceback\u001b[39m(\n\u001b[1;32m    <a href='file:///home/martin/miniconda3/envs/f3dasm_env/lib/python3.10/site-packages/IPython/core/ultratb.py?line=856'>857</a>\u001b[0m     \u001b[39mself\u001b[39m,\n\u001b[1;32m    <a href='file:///home/martin/miniconda3/envs/f3dasm_env/lib/python3.10/site-packages/IPython/core/ultratb.py?line=857'>858</a>\u001b[0m     etype: \u001b[39mtype\u001b[39m,\n\u001b[0;32m   (...)\u001b[0m\n\u001b[1;32m    <a href='file:///home/martin/miniconda3/envs/f3dasm_env/lib/python3.10/site-packages/IPython/core/ultratb.py?line=861'>862</a>\u001b[0m     number_of_lines_of_context: \u001b[39mint\u001b[39m \u001b[39m=\u001b[39m \u001b[39m5\u001b[39m,\n\u001b[1;32m    <a href='file:///home/martin/miniconda3/envs/f3dasm_env/lib/python3.10/site-packages/IPython/core/ultratb.py?line=862'>863</a>\u001b[0m ):\n\u001b[1;32m    <a href='file:///home/martin/miniconda3/envs/f3dasm_env/lib/python3.10/site-packages/IPython/core/ultratb.py?line=863'>864</a>\u001b[0m     \u001b[39m\"\"\"Return a nice text document describing the traceback.\"\"\"\u001b[39;00m\n\u001b[0;32m--> <a href='file:///home/martin/miniconda3/envs/f3dasm_env/lib/python3.10/site-packages/IPython/core/ultratb.py?line=864'>865</a>\u001b[0m     formatted_exception \u001b[39m=\u001b[39m \u001b[39mself\u001b[39;49m\u001b[39m.\u001b[39;49mformat_exception_as_a_whole(etype, evalue, etb, number_of_lines_of_context,\n\u001b[1;32m    <a href='file:///home/martin/miniconda3/envs/f3dasm_env/lib/python3.10/site-packages/IPython/core/ultratb.py?line=865'>866</a>\u001b[0m                                                            tb_offset)\n\u001b[1;32m    <a href='file:///home/martin/miniconda3/envs/f3dasm_env/lib/python3.10/site-packages/IPython/core/ultratb.py?line=867'>868</a>\u001b[0m     colors \u001b[39m=\u001b[39m \u001b[39mself\u001b[39m\u001b[39m.\u001b[39mColors  \u001b[39m# just a shorthand + quicker name lookup\u001b[39;00m\n\u001b[1;32m    <a href='file:///home/martin/miniconda3/envs/f3dasm_env/lib/python3.10/site-packages/IPython/core/ultratb.py?line=868'>869</a>\u001b[0m     colorsnormal \u001b[39m=\u001b[39m colors\u001b[39m.\u001b[39mNormal  \u001b[39m# used a lot\u001b[39;00m\n",
      "File \u001b[0;32m~/miniconda3/envs/f3dasm_env/lib/python3.10/site-packages/IPython/core/ultratb.py:799\u001b[0m, in \u001b[0;36mVerboseTB.format_exception_as_a_whole\u001b[0;34m(self, etype, evalue, etb, number_of_lines_of_context, tb_offset)\u001b[0m\n\u001b[1;32m    <a href='file:///home/martin/miniconda3/envs/f3dasm_env/lib/python3.10/site-packages/IPython/core/ultratb.py?line=795'>796</a>\u001b[0m \u001b[39massert\u001b[39;00m \u001b[39misinstance\u001b[39m(tb_offset, \u001b[39mint\u001b[39m)\n\u001b[1;32m    <a href='file:///home/martin/miniconda3/envs/f3dasm_env/lib/python3.10/site-packages/IPython/core/ultratb.py?line=796'>797</a>\u001b[0m head \u001b[39m=\u001b[39m \u001b[39mself\u001b[39m\u001b[39m.\u001b[39mprepare_header(etype, \u001b[39mself\u001b[39m\u001b[39m.\u001b[39mlong_header)\n\u001b[1;32m    <a href='file:///home/martin/miniconda3/envs/f3dasm_env/lib/python3.10/site-packages/IPython/core/ultratb.py?line=797'>798</a>\u001b[0m records \u001b[39m=\u001b[39m (\n\u001b[0;32m--> <a href='file:///home/martin/miniconda3/envs/f3dasm_env/lib/python3.10/site-packages/IPython/core/ultratb.py?line=798'>799</a>\u001b[0m     \u001b[39mself\u001b[39;49m\u001b[39m.\u001b[39;49mget_records(etb, number_of_lines_of_context, tb_offset) \u001b[39mif\u001b[39;00m etb \u001b[39melse\u001b[39;00m []\n\u001b[1;32m    <a href='file:///home/martin/miniconda3/envs/f3dasm_env/lib/python3.10/site-packages/IPython/core/ultratb.py?line=799'>800</a>\u001b[0m )\n\u001b[1;32m    <a href='file:///home/martin/miniconda3/envs/f3dasm_env/lib/python3.10/site-packages/IPython/core/ultratb.py?line=801'>802</a>\u001b[0m frames \u001b[39m=\u001b[39m []\n\u001b[1;32m    <a href='file:///home/martin/miniconda3/envs/f3dasm_env/lib/python3.10/site-packages/IPython/core/ultratb.py?line=802'>803</a>\u001b[0m skipped \u001b[39m=\u001b[39m \u001b[39m0\u001b[39m\n",
      "File \u001b[0;32m~/miniconda3/envs/f3dasm_env/lib/python3.10/site-packages/IPython/core/ultratb.py:854\u001b[0m, in \u001b[0;36mVerboseTB.get_records\u001b[0;34m(self, etb, number_of_lines_of_context, tb_offset)\u001b[0m\n\u001b[1;32m    <a href='file:///home/martin/miniconda3/envs/f3dasm_env/lib/python3.10/site-packages/IPython/core/ultratb.py?line=847'>848</a>\u001b[0m     formatter \u001b[39m=\u001b[39m \u001b[39mNone\u001b[39;00m\n\u001b[1;32m    <a href='file:///home/martin/miniconda3/envs/f3dasm_env/lib/python3.10/site-packages/IPython/core/ultratb.py?line=848'>849</a>\u001b[0m options \u001b[39m=\u001b[39m stack_data\u001b[39m.\u001b[39mOptions(\n\u001b[1;32m    <a href='file:///home/martin/miniconda3/envs/f3dasm_env/lib/python3.10/site-packages/IPython/core/ultratb.py?line=849'>850</a>\u001b[0m     before\u001b[39m=\u001b[39mbefore,\n\u001b[1;32m    <a href='file:///home/martin/miniconda3/envs/f3dasm_env/lib/python3.10/site-packages/IPython/core/ultratb.py?line=850'>851</a>\u001b[0m     after\u001b[39m=\u001b[39mafter,\n\u001b[1;32m    <a href='file:///home/martin/miniconda3/envs/f3dasm_env/lib/python3.10/site-packages/IPython/core/ultratb.py?line=851'>852</a>\u001b[0m     pygments_formatter\u001b[39m=\u001b[39mformatter,\n\u001b[1;32m    <a href='file:///home/martin/miniconda3/envs/f3dasm_env/lib/python3.10/site-packages/IPython/core/ultratb.py?line=852'>853</a>\u001b[0m )\n\u001b[0;32m--> <a href='file:///home/martin/miniconda3/envs/f3dasm_env/lib/python3.10/site-packages/IPython/core/ultratb.py?line=853'>854</a>\u001b[0m \u001b[39mreturn\u001b[39;00m \u001b[39mlist\u001b[39;49m(stack_data\u001b[39m.\u001b[39;49mFrameInfo\u001b[39m.\u001b[39;49mstack_data(etb, options\u001b[39m=\u001b[39;49moptions))[tb_offset:]\n",
      "File \u001b[0;32m~/miniconda3/envs/f3dasm_env/lib/python3.10/site-packages/stack_data/core.py:546\u001b[0m, in \u001b[0;36mFrameInfo.stack_data\u001b[0;34m(cls, frame_or_tb, options, collapse_repeated_frames)\u001b[0m\n\u001b[1;32m    <a href='file:///home/martin/miniconda3/envs/f3dasm_env/lib/python3.10/site-packages/stack_data/core.py?line=529'>530</a>\u001b[0m \u001b[39m@classmethod\u001b[39m\n\u001b[1;32m    <a href='file:///home/martin/miniconda3/envs/f3dasm_env/lib/python3.10/site-packages/stack_data/core.py?line=530'>531</a>\u001b[0m \u001b[39mdef\u001b[39;00m \u001b[39mstack_data\u001b[39m(\n\u001b[1;32m    <a href='file:///home/martin/miniconda3/envs/f3dasm_env/lib/python3.10/site-packages/stack_data/core.py?line=531'>532</a>\u001b[0m         \u001b[39mcls\u001b[39m,\n\u001b[0;32m   (...)\u001b[0m\n\u001b[1;32m    <a href='file:///home/martin/miniconda3/envs/f3dasm_env/lib/python3.10/site-packages/stack_data/core.py?line=535'>536</a>\u001b[0m         collapse_repeated_frames: \u001b[39mbool\u001b[39m \u001b[39m=\u001b[39m \u001b[39mTrue\u001b[39;00m\n\u001b[1;32m    <a href='file:///home/martin/miniconda3/envs/f3dasm_env/lib/python3.10/site-packages/stack_data/core.py?line=536'>537</a>\u001b[0m ) \u001b[39m-\u001b[39m\u001b[39m>\u001b[39m Iterator[Union[\u001b[39m'\u001b[39m\u001b[39mFrameInfo\u001b[39m\u001b[39m'\u001b[39m, RepeatedFrames]]:\n\u001b[1;32m    <a href='file:///home/martin/miniconda3/envs/f3dasm_env/lib/python3.10/site-packages/stack_data/core.py?line=537'>538</a>\u001b[0m     \u001b[39m\"\"\"\u001b[39;00m\n\u001b[1;32m    <a href='file:///home/martin/miniconda3/envs/f3dasm_env/lib/python3.10/site-packages/stack_data/core.py?line=538'>539</a>\u001b[0m \u001b[39m    An iterator of FrameInfo and RepeatedFrames objects representing\u001b[39;00m\n\u001b[1;32m    <a href='file:///home/martin/miniconda3/envs/f3dasm_env/lib/python3.10/site-packages/stack_data/core.py?line=539'>540</a>\u001b[0m \u001b[39m    a full traceback or stack. Similar consecutive frames are collapsed into RepeatedFrames\u001b[39;00m\n\u001b[0;32m   (...)\u001b[0m\n\u001b[1;32m    <a href='file:///home/martin/miniconda3/envs/f3dasm_env/lib/python3.10/site-packages/stack_data/core.py?line=543'>544</a>\u001b[0m \u001b[39m    and optionally an Options object to configure.\u001b[39;00m\n\u001b[1;32m    <a href='file:///home/martin/miniconda3/envs/f3dasm_env/lib/python3.10/site-packages/stack_data/core.py?line=544'>545</a>\u001b[0m \u001b[39m    \"\"\"\u001b[39;00m\n\u001b[0;32m--> <a href='file:///home/martin/miniconda3/envs/f3dasm_env/lib/python3.10/site-packages/stack_data/core.py?line=545'>546</a>\u001b[0m     stack \u001b[39m=\u001b[39m \u001b[39mlist\u001b[39;49m(iter_stack(frame_or_tb))\n\u001b[1;32m    <a href='file:///home/martin/miniconda3/envs/f3dasm_env/lib/python3.10/site-packages/stack_data/core.py?line=547'>548</a>\u001b[0m     \u001b[39m# Reverse the stack from a frame so that it's in the same order\u001b[39;00m\n\u001b[1;32m    <a href='file:///home/martin/miniconda3/envs/f3dasm_env/lib/python3.10/site-packages/stack_data/core.py?line=548'>549</a>\u001b[0m     \u001b[39m# as the order from a traceback, which is the order of a printed\u001b[39;00m\n\u001b[1;32m    <a href='file:///home/martin/miniconda3/envs/f3dasm_env/lib/python3.10/site-packages/stack_data/core.py?line=549'>550</a>\u001b[0m     \u001b[39m# traceback when read top to bottom (most recent call last)\u001b[39;00m\n\u001b[1;32m    <a href='file:///home/martin/miniconda3/envs/f3dasm_env/lib/python3.10/site-packages/stack_data/core.py?line=550'>551</a>\u001b[0m     \u001b[39mif\u001b[39;00m is_frame(frame_or_tb):\n",
      "File \u001b[0;32m~/miniconda3/envs/f3dasm_env/lib/python3.10/site-packages/stack_data/utils.py:98\u001b[0m, in \u001b[0;36miter_stack\u001b[0;34m(frame_or_tb)\u001b[0m\n\u001b[1;32m     <a href='file:///home/martin/miniconda3/envs/f3dasm_env/lib/python3.10/site-packages/stack_data/utils.py?line=95'>96</a>\u001b[0m \u001b[39mwhile\u001b[39;00m frame_or_tb:\n\u001b[1;32m     <a href='file:///home/martin/miniconda3/envs/f3dasm_env/lib/python3.10/site-packages/stack_data/utils.py?line=96'>97</a>\u001b[0m     \u001b[39myield\u001b[39;00m frame_or_tb\n\u001b[0;32m---> <a href='file:///home/martin/miniconda3/envs/f3dasm_env/lib/python3.10/site-packages/stack_data/utils.py?line=97'>98</a>\u001b[0m     \u001b[39mif\u001b[39;00m is_frame(frame_or_tb):\n\u001b[1;32m     <a href='file:///home/martin/miniconda3/envs/f3dasm_env/lib/python3.10/site-packages/stack_data/utils.py?line=98'>99</a>\u001b[0m         frame_or_tb \u001b[39m=\u001b[39m frame_or_tb\u001b[39m.\u001b[39mf_back\n\u001b[1;32m    <a href='file:///home/martin/miniconda3/envs/f3dasm_env/lib/python3.10/site-packages/stack_data/utils.py?line=99'>100</a>\u001b[0m     \u001b[39melse\u001b[39;00m:\n",
      "File \u001b[0;32m~/miniconda3/envs/f3dasm_env/lib/python3.10/site-packages/stack_data/utils.py:91\u001b[0m, in \u001b[0;36mis_frame\u001b[0;34m(frame_or_tb)\u001b[0m\n\u001b[1;32m     <a href='file:///home/martin/miniconda3/envs/f3dasm_env/lib/python3.10/site-packages/stack_data/utils.py?line=89'>90</a>\u001b[0m \u001b[39mdef\u001b[39;00m \u001b[39mis_frame\u001b[39m(frame_or_tb: Union[FrameType, TracebackType]) \u001b[39m-\u001b[39m\u001b[39m>\u001b[39m \u001b[39mbool\u001b[39m:\n\u001b[0;32m---> <a href='file:///home/martin/miniconda3/envs/f3dasm_env/lib/python3.10/site-packages/stack_data/utils.py?line=90'>91</a>\u001b[0m     assert_(\u001b[39misinstance\u001b[39;49m(frame_or_tb, (types\u001b[39m.\u001b[39;49mFrameType, types\u001b[39m.\u001b[39;49mTracebackType)))\n\u001b[1;32m     <a href='file:///home/martin/miniconda3/envs/f3dasm_env/lib/python3.10/site-packages/stack_data/utils.py?line=91'>92</a>\u001b[0m     \u001b[39mreturn\u001b[39;00m \u001b[39misinstance\u001b[39m(frame_or_tb, (types\u001b[39m.\u001b[39mFrameType,))\n",
      "File \u001b[0;32m~/miniconda3/envs/f3dasm_env/lib/python3.10/site-packages/stack_data/utils.py:172\u001b[0m, in \u001b[0;36massert_\u001b[0;34m(condition, error)\u001b[0m\n\u001b[1;32m    <a href='file:///home/martin/miniconda3/envs/f3dasm_env/lib/python3.10/site-packages/stack_data/utils.py?line=169'>170</a>\u001b[0m \u001b[39mif\u001b[39;00m \u001b[39misinstance\u001b[39m(error, \u001b[39mstr\u001b[39m):\n\u001b[1;32m    <a href='file:///home/martin/miniconda3/envs/f3dasm_env/lib/python3.10/site-packages/stack_data/utils.py?line=170'>171</a>\u001b[0m     error \u001b[39m=\u001b[39m \u001b[39mAssertionError\u001b[39;00m(error)\n\u001b[0;32m--> <a href='file:///home/martin/miniconda3/envs/f3dasm_env/lib/python3.10/site-packages/stack_data/utils.py?line=171'>172</a>\u001b[0m \u001b[39mraise\u001b[39;00m error\n",
      "\u001b[0;31mAssertionError\u001b[0m: "
     ]
    }
   ],
   "source": [
    "main()"
   ]
  },
  {
   "cell_type": "code",
   "execution_count": null,
   "metadata": {},
   "outputs": [],
   "source": [
    "function_name = 'Ackley'\n",
    "optimizer_name = 'CMAES'\n",
    "sampler_name = 'RandomUniformSampling'\n",
    "dimensionality = 2\n",
    "iterations = 10\n",
    "realizations = 4\n",
    "bounds = np.tile([-1.0, 1.0], (dimensionality, 1))\n",
    "noise = False\n",
    "hyperparameters = {}"
   ]
  },
  {
   "cell_type": "code",
   "execution_count": null,
   "metadata": {},
   "outputs": [],
   "source": [
    "function_class: f3dasm.Function = find_class(function_name, f3dasm.functions)\n",
    "optimizer_class: f3dasm.Optimizer = find_class(optimizer_name, f3dasm.optimization)\n",
    "sampler_class: f3dasm.SamplingInterface = find_class(sampler_name, f3dasm.sampling)"
   ]
  },
  {
   "cell_type": "code",
   "execution_count": null,
   "metadata": {},
   "outputs": [],
   "source": [
    "design = f3dasm.make_nd_continuous_design(bounds=bounds, dimensionality=dimensionality)\n",
    "data = f3dasm.Data(design=design)"
   ]
  },
  {
   "cell_type": "code",
   "execution_count": null,
   "metadata": {},
   "outputs": [],
   "source": [
    "function = function_class(dimensionality=dimensionality, noise=noise)\n",
    "optimizer = optimizer_class(data=data, hyperparameters=hyperparameters)\n",
    "sampler = sampler_class(design=data.design)"
   ]
  },
  {
   "cell_type": "code",
   "execution_count": null,
   "metadata": {},
   "outputs": [],
   "source": [
    "args = {'optimizer': optimizer,\n",
    "'function': function,\n",
    "'sampler': sampler,\n",
    "'iterations': iterations,\n",
    "'realizations': realizations}"
   ]
  },
  {
   "cell_type": "code",
   "execution_count": null,
   "metadata": {},
   "outputs": [],
   "source": [
    "result = f3dasm.run_multiple_realizations(**args)\n",
    "result[0].data"
   ]
  },
  {
   "cell_type": "code",
   "execution_count": null,
   "metadata": {},
   "outputs": [],
   "source": []
  }
 ],
 "metadata": {
  "interpreter": {
   "hash": "73193fbeb8677ab93f213154c0927f21dd4fccfe51cf5f6d1ad5a916be4d211f"
  },
  "kernelspec": {
   "display_name": "Python 3.10.5 ('testthings')",
   "language": "python",
   "name": "python3"
  },
  "language_info": {
   "codemirror_mode": {
    "name": "ipython",
    "version": 3
   },
   "file_extension": ".py",
   "mimetype": "text/x-python",
   "name": "python",
   "nbconvert_exporter": "python",
   "pygments_lexer": "ipython3",
   "version": "3.10.5"
  },
  "orig_nbformat": 4
 },
 "nbformat": 4,
 "nbformat_minor": 2
}
