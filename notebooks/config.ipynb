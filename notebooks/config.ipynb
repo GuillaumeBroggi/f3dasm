{
 "cells": [
  {
   "cell_type": "code",
   "execution_count": 2,
   "metadata": {},
   "outputs": [],
   "source": [
    "import f3dasm\n",
    "import numpy as np\n",
    "from dataclasses import dataclass\n",
    "from typing import List\n",
    "from hydra.core.config_store import ConfigStore\n",
    "import hydra"
   ]
  },
  {
   "cell_type": "code",
   "execution_count": 3,
   "metadata": {},
   "outputs": [],
   "source": [
    "def find_class(query: str, module):\n",
    "    return getattr(module, query)\n"
   ]
  },
  {
   "cell_type": "code",
   "execution_count": 4,
   "metadata": {},
   "outputs": [],
   "source": [
    "@dataclass\n",
    "class DesignConfig:\n",
    "    bounds: List[float]\n",
    "    dimensionality: int\n",
    "\n",
    "@dataclass\n",
    "class FunctionConfig:\n",
    "    function_name: str\n",
    "    noise: bool\n",
    "\n",
    "@dataclass\n",
    "class OptimizerConfig:\n",
    "    optimizer_name: str\n",
    "\n",
    "\n",
    "@dataclass\n",
    "class SamplerConfig:\n",
    "    sampler_name: str\n",
    "\n",
    "@dataclass\n",
    "class ExecutionConfig:\n",
    "    iterations: int\n",
    "    realizations: int\n",
    "\n",
    "@dataclass\n",
    "class Config:\n",
    "    design: DesignConfig\n",
    "    function: FunctionConfig\n",
    "    sampler: SamplerConfig\n",
    "    execution: ExecutionConfig"
   ]
  },
  {
   "cell_type": "code",
   "execution_count": 8,
   "metadata": {},
   "outputs": [
    {
     "data": {
      "text/plain": [
       "<hydra.core.config_store.ConfigStore at 0x7fd2068fef50>"
      ]
     },
     "execution_count": 8,
     "metadata": {},
     "output_type": "execute_result"
    }
   ],
   "source": [
    "cs = ConfigStore.instance()\n",
    "cs.store(name=\"f3dasm_config\", node=Config)\n",
    "\n",
    "@hydra.main(config_path=\".\", config_name=\"config\")\n",
    "def main(cfg: Config):\n",
    "    print(cfg)\n",
    "\n",
    "cs"
   ]
  },
  {
   "cell_type": "code",
   "execution_count": null,
   "metadata": {},
   "outputs": [],
   "source": [
    "function_name = 'Ackley'\n",
    "optimizer_name = 'CMAES'\n",
    "sampler_name = 'RandomUniformSampling'\n",
    "dimensionality = 2\n",
    "iterations = 10\n",
    "realizations = 4\n",
    "bounds = np.tile([-1.0, 1.0], (dimensionality, 1))\n",
    "noise = False\n",
    "hyperparameters = {}"
   ]
  },
  {
   "cell_type": "code",
   "execution_count": null,
   "metadata": {},
   "outputs": [],
   "source": [
    "function_class: f3dasm.Function = find_class(function_name, f3dasm.functions)\n",
    "optimizer_class: f3dasm.Optimizer = find_class(optimizer_name, f3dasm.optimization)\n",
    "sampler_class: f3dasm.SamplingInterface = find_class(sampler_name, f3dasm.sampling)"
   ]
  },
  {
   "cell_type": "code",
   "execution_count": null,
   "metadata": {},
   "outputs": [],
   "source": [
    "design = f3dasm.make_nd_continuous_design(bounds=bounds, dimensions=dimensionality)\n",
    "data = f3dasm.Data(designspace=design)"
   ]
  },
  {
   "cell_type": "code",
   "execution_count": null,
   "metadata": {},
   "outputs": [],
   "source": [
    "function = function_class(dimensionality=dimensionality, noise=noise)\n",
    "optimizer = optimizer_class(data=data, hyperparameters=hyperparameters)\n",
    "sampler = sampler_class(doe=design)"
   ]
  },
  {
   "cell_type": "code",
   "execution_count": null,
   "metadata": {},
   "outputs": [],
   "source": [
    "args = {'optimizer': optimizer,\n",
    "'function': function,\n",
    "'sampler': sampler,\n",
    "'iterations': iterations,\n",
    "'realizations': realizations}"
   ]
  },
  {
   "cell_type": "code",
   "execution_count": null,
   "metadata": {},
   "outputs": [],
   "source": [
    "result = f3dasm.run_multiple_realizations(**args)\n",
    "result"
   ]
  }
 ],
 "metadata": {
  "interpreter": {
   "hash": "73193fbeb8677ab93f213154c0927f21dd4fccfe51cf5f6d1ad5a916be4d211f"
  },
  "kernelspec": {
   "display_name": "Python 3.10.5 ('testthings')",
   "language": "python",
   "name": "python3"
  },
  "language_info": {
   "codemirror_mode": {
    "name": "ipython",
    "version": 3
   },
   "file_extension": ".py",
   "mimetype": "text/x-python",
   "name": "python",
   "nbconvert_exporter": "python",
   "pygments_lexer": "ipython3",
   "version": "3.10.5"
  },
  "orig_nbformat": 4
 },
 "nbformat": 4,
 "nbformat_minor": 2
}
