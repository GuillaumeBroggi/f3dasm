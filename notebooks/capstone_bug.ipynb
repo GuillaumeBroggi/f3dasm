{
 "cells": [
  {
   "cell_type": "code",
   "execution_count": 1,
   "metadata": {},
   "outputs": [
    {
     "name": "stderr",
     "output_type": "stream",
     "text": [
      "2022-12-19 13:41:22.696250: I tensorflow/core/platform/cpu_feature_guard.cc:193] This TensorFlow binary is optimized with oneAPI Deep Neural Network Library (oneDNN) to use the following CPU instructions in performance-critical operations:  AVX2 AVX512F AVX512_VNNI FMA\n",
      "To enable them in other operations, rebuild TensorFlow with the appropriate compiler flags.\n",
      "2022-12-19 13:41:22.838403: I tensorflow/core/util/port.cc:104] oneDNN custom operations are on. You may see slightly different numerical results due to floating-point round-off errors from different computation orders. To turn them off, set the environment variable `TF_ENABLE_ONEDNN_OPTS=0`.\n",
      "2022-12-19 13:41:23.465302: W tensorflow/compiler/xla/stream_executor/platform/default/dso_loader.cc:64] Could not load dynamic library 'libnvinfer.so.7'; dlerror: libnvinfer.so.7: cannot open shared object file: No such file or directory; LD_LIBRARY_PATH: /usr/local/cuda-11.1/lib64\n",
      "2022-12-19 13:41:23.465373: W tensorflow/compiler/xla/stream_executor/platform/default/dso_loader.cc:64] Could not load dynamic library 'libnvinfer_plugin.so.7'; dlerror: libnvinfer_plugin.so.7: cannot open shared object file: No such file or directory; LD_LIBRARY_PATH: /usr/local/cuda-11.1/lib64\n",
      "2022-12-19 13:41:23.465378: W tensorflow/compiler/tf2tensorrt/utils/py_utils.cc:38] TF-TRT Warning: Cannot dlopen some TensorRT libraries. If you would like to use Nvidia GPU with TensorRT, please make sure the missing libraries mentioned above are installed properly.\n"
     ]
    }
   ],
   "source": [
    "import f3dasm\n",
    "import numpy as np\n",
    "from dataclasses import dataclass\n",
    "from typing import Tuple\n",
    "import copy"
   ]
  },
  {
   "cell_type": "code",
   "execution_count": 2,
   "metadata": {},
   "outputs": [],
   "source": [
    "seed=50"
   ]
  },
  {
   "cell_type": "code",
   "execution_count": 3,
   "metadata": {},
   "outputs": [],
   "source": [
    "@dataclass\n",
    "class State_of_the_art_Parameters(f3dasm.OptimizerParameters):\n",
    "   \"\"\"Example of hyperparameters\"\"\"\n",
    "\n",
    "   learning_rate: float = 1e-5#0.0000005 # learning rate kan aangepast worden, het lijkt er op dat we de learning rate voor elke functie moeten \n",
    "                                    # moeten aanpassen want bij de ene functie maakt een bepaalde \n",
    "                                    # learning rate extreem grote stappen en bij een andere functie \n",
    "                                    # maakt hij extreem kleine stappen. Dit komt waarschijnlijk omdat\n",
    "                                    # de gradient zo enorm veel verschilt.\n",
    "   b_t = 0.9 # dit getal is constant, parameter om self.m te berekenen, kan volgens de paper 0.9, 0.99 of 0.999 zijn\n",
    "   \n",
    "\n",
    "class State_of_the_art(f3dasm.Optimizer):\n",
    "   \"\"\"Example of implement your own optimizer\"\"\"\n",
    "\n",
    "   parameter: State_of_the_art_Parameters = State_of_the_art_Parameters()\n",
    "\n",
    "   def init_parameters(self):\n",
    "      \"\"\"Set the initialization parameters. This could be dynamic or static hyperparameters.\"\"\"\n",
    "      self.m: np.ndarray = np.zeros(self.data.design.get_number_of_input_parameters()) #m initialized op 0, daarna wordt hij bij elke iteratie geupdate\n",
    "      self.velocity: np.ndarray = np.zeros(self.data.design.get_number_of_input_parameters())\n",
    "      self.isfirstiteration = True\n",
    "\n",
    "   def update_step(self, function: f3dasm.Function) -> Tuple[np.ndarray, np.ndarray]:\n",
    "      \"\"\"Custom update step for your own optimizer\n",
    "\n",
    "      Parameters\n",
    "      ----------\n",
    "      function\n",
    "         objective function that is being optimized\n",
    "\n",
    "      Returns\n",
    "      -------\n",
    "         tuple of resulting input and output parameter\n",
    "      \"\"\"\n",
    "    \n",
    "    #Hieronder een if/else statement die checkt of het de eerste iteratie is, dan moet hij namelijk de beste sample gebruiken om verder te optimaliseren. \n",
    "    #Als het niet de eerste iteratie is, moet hij het laatste punt gebruiken om verder te optimaliseren. Het laatste punt is dan dus het geoptimaliseerde punt uit de vorige iteratie. \n",
    "      \n",
    "      if self.isfirstiteration: \n",
    "        x = self.data.get_n_best_input_parameters_numpy(1)[0]\n",
    "        #x = self.data.get_input_data().iloc[2].to_numpy()\n",
    "        #print(x)\n",
    "        self.isfirstiteration = False\n",
    "      else:\n",
    "        x = self.data.get_input_data().iloc[-1].to_numpy()\n",
    "        #print(x)\n",
    "      \n",
    "      #print('input: ', self.data.get_input_data())\n",
    "      #print('output: ', self.data.get_output_data())\n",
    "\n",
    "      g = function.dfdx(x)\n",
    "   \n",
    "      self.m = (1-self.parameter.b_t)*g + (self.parameter.b_t*self.m)\n",
    "      \n",
    "      updatestep = g * np.exp(np.sign(g) * np.sign(self.m)) # de beste updaterule van de paper\n",
    "    \n",
    "      x_update = x - self.parameter.learning_rate * updatestep\n",
    "    \n",
    "      # self.m = (1-self.parameter.b_t)*g + (self.parameter.b_t*self.m)\n",
    "      # updatestep = g * np.exp(np.sign(g) * np.sign(self.m)) # de beste updaterule van de paper\n",
    "\n",
    "      # self.velocity = 0.9 * self.velocity  + self.parameter.learning_rate * function.dfdx2(x)\n",
    "      # x_update = x - self.velocity\n",
    "    \n",
    "      # x_update = x - self.parameter.learning_rate * g\n",
    "  \n",
    "      \n",
    "      # Format and force bounds\n",
    "      x_update = np.atleast_2d(self._force_bounds(x_update))\n",
    "    #   print('x_update: ', x_update)\n",
    "      y_update = function(x_update)\n",
    "    #   print('y_update: ', y_update)\n",
    "      return x_update, y_update\n",
    "\n"
   ]
  },
  {
   "cell_type": "code",
   "execution_count": 4,
   "metadata": {},
   "outputs": [
    {
     "data": {
      "text/html": [
       "<div>\n",
       "<style scoped>\n",
       "    .dataframe tbody tr th:only-of-type {\n",
       "        vertical-align: middle;\n",
       "    }\n",
       "\n",
       "    .dataframe tbody tr th {\n",
       "        vertical-align: top;\n",
       "    }\n",
       "\n",
       "    .dataframe thead tr th {\n",
       "        text-align: left;\n",
       "    }\n",
       "</style>\n",
       "<table border=\"1\" class=\"dataframe\">\n",
       "  <thead>\n",
       "    <tr>\n",
       "      <th></th>\n",
       "      <th colspan=\"2\" halign=\"left\">input</th>\n",
       "      <th>output</th>\n",
       "    </tr>\n",
       "    <tr>\n",
       "      <th></th>\n",
       "      <th>x0</th>\n",
       "      <th>x1</th>\n",
       "      <th>y</th>\n",
       "    </tr>\n",
       "  </thead>\n",
       "  <tbody>\n",
       "    <tr>\n",
       "      <th>0</th>\n",
       "      <td>-1.0</td>\n",
       "      <td>2.5</td>\n",
       "      <td>NaN</td>\n",
       "    </tr>\n",
       "  </tbody>\n",
       "</table>\n",
       "</div>"
      ],
      "text/plain": [
       "  input      output\n",
       "     x0   x1      y\n",
       "0  -1.0  2.5    NaN"
      ]
     },
     "execution_count": 4,
     "metadata": {},
     "output_type": "execute_result"
    }
   ],
   "source": [
    "dimensionality = 2\n",
    "design = f3dasm.make_nd_continuous_design(bounds=np.array([[-2.0,2.0],[-1.,3.]]), dimensionality=dimensionality)\n",
    "\n",
    "data = f3dasm.Data(design)\n",
    "in_array = np.array([[-1.0, 2.5]])\n",
    "out_array = np.array([[np.nan]])\n",
    "data.add_numpy_arrays(input=in_array, output=out_array)\n",
    "data.data"
   ]
  },
  {
   "cell_type": "code",
   "execution_count": 5,
   "metadata": {},
   "outputs": [
    {
     "name": "stderr",
     "output_type": "stream",
     "text": [
      "2022-12-19 13:41:33.260487: E tensorflow/compiler/xla/stream_executor/cuda/cuda_driver.cc:267] failed call to cuInit: CUDA_ERROR_NO_DEVICE: no CUDA-capable device is detected\n",
      "2022-12-19 13:41:33.260543: I tensorflow/compiler/xla/stream_executor/cuda/cuda_diagnostics.cc:156] kernel driver does not appear to be running on this host (martin): /proc/driver/nvidia/version does not exist\n",
      "2022-12-19 13:41:33.261184: I tensorflow/core/platform/cpu_feature_guard.cc:193] This TensorFlow binary is optimized with oneAPI Deep Neural Network Library (oneDNN) to use the following CPU instructions in performance-critical operations:  AVX2 AVX512F AVX512_VNNI FMA\n",
      "To enable them in other operations, rebuild TensorFlow with the appropriate compiler flags.\n"
     ]
    },
    {
     "name": "stdout",
     "output_type": "stream",
     "text": [
      "  input             output\n",
      "     x0   x1             y\n",
      "0  -1.0  2.5  256346.63204\n",
      "Optimizing for 200 iterations with State_of_the_art\n"
     ]
    },
    {
     "data": {
      "text/plain": [
       "(<Figure size 700x700 with 1 Axes>,\n",
       " <AxesSubplot: xlabel='$X_{0}$', ylabel='$X_{1}$'>)"
      ]
     },
     "execution_count": 5,
     "metadata": {},
     "output_type": "execute_result"
    },
    {
     "data": {
      "image/png": "[encoded data removed]",
      "text/plain": [
       "<Figure size 700x700 with 1 Axes>"
      ]
     },
     "metadata": {},
     "output_type": "display_data"
    }
   ],
   "source": [
    "iterations = 200\n",
    "numsamples = 1\n",
    "lhs_sampler = f3dasm.sampling.LatinHypercube(design=design, seed=40)\n",
    "# samples = lhs_sampler.get_samples(numsamples=numsamples) #samples hebben nu nog geen output, die wordt later toegevoegd\n",
    "samples = copy.copy(data)\n",
    "# samples.plot()\n",
    "\n",
    "#print(f3dasm.functions.Rosenbrock(dimensionality=dimensionality, seed=50, scale_bounds=design.get_bounds()).get_global_minimum(dimensionality))\n",
    "function = f3dasm.functions.DixonPrice(dimensionality=dimensionality, seed=seed, scale_bounds=design.get_bounds()) #Rosenbrock functie wordt gebruikt, net zoals in de paper\n",
    "samples.add_output(output=function(samples))\n",
    "print(samples.data)\n",
    "\n",
    "State_of_the_art_Optimizer = State_of_the_art(data=copy.copy(samples))\n",
    "State_of_the_art_Optimizer.iterate(iterations=iterations, function=function)\n",
    "State_of_the_art_Data = State_of_the_art_Optimizer.extract_data()\n",
    "\n",
    "function.plot_data(data=State_of_the_art_Data, domain=samples.design.get_bounds(),numsamples=numsamples)"
   ]
  },
  {
   "cell_type": "code",
   "execution_count": 6,
   "metadata": {},
   "outputs": [],
   "source": [
    "x_sel = samples.get_input_data().iloc[-1]"
   ]
  },
  {
   "cell_type": "code",
   "execution_count": 7,
   "metadata": {},
   "outputs": [
    {
     "data": {
      "text/plain": [
       "-1.0"
      ]
     },
     "execution_count": 7,
     "metadata": {},
     "output_type": "execute_result"
    }
   ],
   "source": [
    "x_sel[0]"
   ]
  },
  {
   "cell_type": "code",
   "execution_count": 8,
   "metadata": {},
   "outputs": [
    {
     "data": {
      "text/plain": [
       "x0   -1.0\n",
       "x1    2.5\n",
       "Name: 0, dtype: float64"
      ]
     },
     "execution_count": 8,
     "metadata": {},
     "output_type": "execute_result"
    }
   ],
   "source": [
    "x_sel"
   ]
  },
  {
   "cell_type": "code",
   "execution_count": null,
   "metadata": {},
   "outputs": [],
   "source": []
  }
 ],
 "metadata": {
  "kernelspec": {
   "display_name": "Python 3.8.15 ('f3dasm_env3')",
   "language": "python",
   "name": "python3"
  },
  "language_info": {
   "codemirror_mode": {
    "name": "ipython",
    "version": 3
   },
   "file_extension": ".py",
   "mimetype": "text/x-python",
   "name": "python",
   "nbconvert_exporter": "python",
   "pygments_lexer": "ipython3",
   "version": "3.8.15"
  },
  "orig_nbformat": 4,
  "vscode": {
   "interpreter": {
    "hash": "03276761335d5ee93b82dc97db1addd68180a543fb0cacb8af76ec058b1972b7"
   }
  }
 },
 "nbformat": 4,
 "nbformat_minor": 2
}
