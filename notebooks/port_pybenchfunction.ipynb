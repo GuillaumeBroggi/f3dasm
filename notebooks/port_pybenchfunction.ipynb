{
 "cells": [
  {
   "cell_type": "code",
   "execution_count": 1,
   "metadata": {},
   "outputs": [],
   "source": [
    "import numpy as np\n",
    "from f3dasm.simulation.pybenchfunction import DeckkersAarts, LevyN13, Brown, Sphere, Thevenot, AlpineN1, ThreeHump, Bartels, BukinN6\n",
    "from f3dasm.simulation.benchmark_functions import Ackley\n",
    "\n",
    "from f3dasm.base.simulation import Function\n",
    "\n",
    "# Misschien van waaarde numpy.apply_along_axis"
   ]
  },
  {
   "cell_type": "code",
   "execution_count": 2,
   "metadata": {},
   "outputs": [
    {
     "data": {
      "text/plain": [
       "<function numpy.apply_along_axis(func1d, axis, arr, *args, **kwargs)>"
      ]
     },
     "execution_count": 2,
     "metadata": {},
     "output_type": "execute_result"
    }
   ],
   "source": [
    "X = np.array([0.1, 0.3]) #input is 1D numpy array\n",
    "np.apply_along_axis"
   ]
  },
  {
   "cell_type": "code",
   "execution_count": 3,
   "metadata": {},
   "outputs": [],
   "source": [
    "x, y = X"
   ]
  },
  {
   "cell_type": "code",
   "execution_count": 4,
   "metadata": {},
   "outputs": [],
   "source": [
    "f = Ackley()"
   ]
  },
  {
   "cell_type": "code",
   "execution_count": 5,
   "metadata": {},
   "outputs": [],
   "source": [
    "xx = np.array([[1.,2.,3.],[4.,5.,6.],[7.,8.,9.]])\n",
    "x = np.array([0.5,0.5])\n"
   ]
  },
  {
   "cell_type": "code",
   "execution_count": 6,
   "metadata": {},
   "outputs": [],
   "source": [
    "t = Bartels(seed=42)"
   ]
  },
  {
   "cell_type": "code",
   "execution_count": 7,
   "metadata": {},
   "outputs": [
    {
     "data": {
      "text/plain": [
       "array([[370001.52505218]])"
      ]
     },
     "execution_count": 7,
     "metadata": {},
     "output_type": "execute_result"
    }
   ],
   "source": [
    "x = np.array([0.2,0.1])\n",
    "\n",
    "t.eval(x)"
   ]
  },
  {
   "cell_type": "code",
   "execution_count": 8,
   "metadata": {},
   "outputs": [
    {
     "data": {
      "text/plain": [
       "array([[18750001.40995264]])"
      ]
     },
     "execution_count": 8,
     "metadata": {},
     "output_type": "execute_result"
    }
   ],
   "source": [
    "t.eval(np.array([3.,3.]))"
   ]
  },
  {
   "cell_type": "code",
   "execution_count": 9,
   "metadata": {},
   "outputs": [],
   "source": [
    "#t.plot(orientation='3D')"
   ]
  },
  {
   "cell_type": "code",
   "execution_count": 10,
   "metadata": {},
   "outputs": [
    {
     "data": {
      "text/plain": [
       "array([[-500,  500],\n",
       "       [-500,  500]])"
      ]
     },
     "execution_count": 10,
     "metadata": {},
     "output_type": "execute_result"
    }
   ],
   "source": [
    "t.input_domain"
   ]
  },
  {
   "cell_type": "code",
   "execution_count": 11,
   "metadata": {},
   "outputs": [
    {
     "data": {
      "text/plain": [
       "array([-500,  500])"
      ]
     },
     "execution_count": 11,
     "metadata": {},
     "output_type": "execute_result"
    }
   ],
   "source": [
    "t.input_domain[1,:]"
   ]
  },
  {
   "cell_type": "code",
   "execution_count": 12,
   "metadata": {},
   "outputs": [],
   "source": [
    "x = np.array([0.,5.])"
   ]
  },
  {
   "cell_type": "code",
   "execution_count": 13,
   "metadata": {},
   "outputs": [
    {
     "data": {
      "text/plain": [
       "array([-500., 4500.])"
      ]
     },
     "execution_count": 13,
     "metadata": {},
     "output_type": "execute_result"
    }
   ],
   "source": [
    "t.scale_input(x)"
   ]
  },
  {
   "cell_type": "code",
   "execution_count": 14,
   "metadata": {},
   "outputs": [
    {
     "data": {
      "text/plain": [
       "array([[-500,  500],\n",
       "       [-500,  500]])"
      ]
     },
     "execution_count": 14,
     "metadata": {},
     "output_type": "execute_result"
    }
   ],
   "source": [
    "t.input_domain"
   ]
  },
  {
   "cell_type": "code",
   "execution_count": 15,
   "metadata": {},
   "outputs": [
    {
     "data": {
      "text/plain": [
       "array([-500, -500])"
      ]
     },
     "execution_count": 15,
     "metadata": {},
     "output_type": "execute_result"
    }
   ],
   "source": [
    "t.input_domain[:, 0]"
   ]
  },
  {
   "cell_type": "code",
   "execution_count": 16,
   "metadata": {},
   "outputs": [
    {
     "name": "stdout",
     "output_type": "stream",
     "text": [
      "global min: (array([0.5, 0.5]), array([[4.4408921e-16]]))\n",
      "global min: (array([0.5, 0.5]), array([[-200.]]))\n",
      "global min: (array([0.51066538, 0.49436323]), array([[-170.077563]]))\n",
      "WARNING ! Is only is available for d=2\n",
      "global min: (array([0.47842857, 0.48921429]), array([[-2.59379572]]))\n",
      "global min: (array([0.33333333, 0.5       ]), array([[0.]]))\n",
      "global min: (array([0., 0.]), array([[0.]]))\n",
      "global min: (array([0.7917, 0.7917]), array([[-7.8856007]]))\n",
      "global min: (array([0.5, 0.5]), array([[1.]]))\n",
      "global min: (array([0.83333333, 0.55555556]), array([[0.]]))\n"
     ]
    },
    {
     "ename": "TypeError",
     "evalue": "Field elements must be 2- or 3-tuples, got '-1.58214'",
     "output_type": "error",
     "traceback": [
      "\u001b[0;31m---------------------------------------------------------------------------\u001b[0m",
      "\u001b[0;31mTypeError\u001b[0m                                 Traceback (most recent call last)",
      "Input \u001b[0;32mIn [16]\u001b[0m, in \u001b[0;36m<cell line: 5>\u001b[0;34m()\u001b[0m\n\u001b[1;32m      5\u001b[0m \u001b[39mfor\u001b[39;00m func \u001b[39min\u001b[39;00m functions:\n\u001b[1;32m      6\u001b[0m     f \u001b[39m=\u001b[39m func(dimensionality\u001b[39m=\u001b[39m\u001b[39m2\u001b[39m)\n\u001b[0;32m----> 7\u001b[0m     \u001b[39mprint\u001b[39m(\u001b[39mf\u001b[39m\u001b[39m\"\u001b[39m\u001b[39mglobal min: \u001b[39m\u001b[39m{\u001b[39;00mf\u001b[39m.\u001b[39mget_global_minimum(\u001b[39m2\u001b[39m)\u001b[39m}\u001b[39;00m\u001b[39m\"\u001b[39m)\n",
      "File \u001b[0;32m~/Documents/GitHub/testthings/f3dasm/simulation/pybenchfunction.py:469\u001b[0m, in \u001b[0;36mBird.get_global_minimum\u001b[0;34m(self, d)\u001b[0m\n\u001b[1;32m    <a href='file:///home/martin/Documents/GitHub/testthings/f3dasm/simulation/pybenchfunction.py?line=467'>468</a>\u001b[0m \u001b[39mdef\u001b[39;00m \u001b[39mget_global_minimum\u001b[39m(\u001b[39mself\u001b[39m, d):\n\u001b[0;32m--> <a href='file:///home/martin/Documents/GitHub/testthings/f3dasm/simulation/pybenchfunction.py?line=468'>469</a>\u001b[0m     X \u001b[39m=\u001b[39m np\u001b[39m.\u001b[39;49marray([\u001b[39m4.70104\u001b[39;49m, \u001b[39m3.15294\u001b[39;49m], [\u001b[39m-\u001b[39;49m\u001b[39m1.58214\u001b[39;49m, \u001b[39m-\u001b[39;49m\u001b[39m3.13024\u001b[39;49m])\n\u001b[1;32m    <a href='file:///home/martin/Documents/GitHub/testthings/f3dasm/simulation/pybenchfunction.py?line=469'>470</a>\u001b[0m     \u001b[39mreturn\u001b[39;00m (X, [\u001b[39mself\u001b[39m(x) \u001b[39mfor\u001b[39;00m x \u001b[39min\u001b[39;00m X])\n",
      "\u001b[0;31mTypeError\u001b[0m: Field elements must be 2- or 3-tuples, got '-1.58214'"
     ]
    }
   ],
   "source": [
    "import inspect\n",
    "from f3dasm.simulation import pybenchfunction\n",
    "available_functions = inspect.getmembers(pybenchfunction, inspect.isclass) #Exclude the baseclass 'Function'\n",
    "functions = [cls for clsname, cls in available_functions]\n",
    "for func in functions:\n",
    "    f = func(dimensionality=2)\n",
    "    print(f\"global min: {f.get_global_minimum(2)}\")\n",
    "\n",
    "    #TODO: FIx if there are more than one global minima"
   ]
  },
  {
   "cell_type": "code",
   "execution_count": null,
   "metadata": {},
   "outputs": [],
   "source": [
    "f = BukinN6()\n",
    "f.get_global_minimum(2)"
   ]
  },
  {
   "cell_type": "code",
   "execution_count": null,
   "metadata": {},
   "outputs": [],
   "source": [
    "f.plot(px=200)"
   ]
  },
  {
   "cell_type": "code",
   "execution_count": null,
   "metadata": {},
   "outputs": [],
   "source": [
    "x = np.array([0.1,0.1])"
   ]
  },
  {
   "cell_type": "code",
   "execution_count": null,
   "metadata": {},
   "outputs": [],
   "source": [
    "f.input_domain"
   ]
  },
  {
   "cell_type": "code",
   "execution_count": null,
   "metadata": {},
   "outputs": [],
   "source": [
    "xx = f.scale_input(x)\n",
    "xx"
   ]
  },
  {
   "cell_type": "code",
   "execution_count": null,
   "metadata": {},
   "outputs": [],
   "source": [
    "f.descale_input(xx)"
   ]
  },
  {
   "cell_type": "code",
   "execution_count": null,
   "metadata": {},
   "outputs": [],
   "source": [
    "# for _ in range(50):\n",
    "#     x = np.random.random(size=(2,))\n",
    "#     print(f\"x: {x}, scale: {f.scale_input(x)}, descale {f.descale_input(f.scale_input(x))}\")\n",
    "    \n",
    "#     #assert all(x == f.descale_input(f.scale_input(x)))\n",
    "\n",
    "f.get_global_minimum(2)"
   ]
  },
  {
   "cell_type": "code",
   "execution_count": null,
   "metadata": {},
   "outputs": [],
   "source": [
    "x = f.get_global_minimum(2)[0]"
   ]
  },
  {
   "cell_type": "code",
   "execution_count": null,
   "metadata": {},
   "outputs": [],
   "source": [
    "x"
   ]
  },
  {
   "cell_type": "code",
   "execution_count": null,
   "metadata": {},
   "outputs": [],
   "source": [
    "f.eval(x)"
   ]
  },
  {
   "cell_type": "code",
   "execution_count": null,
   "metadata": {},
   "outputs": [],
   "source": []
  }
 ],
 "metadata": {
  "interpreter": {
   "hash": "73193fbeb8677ab93f213154c0927f21dd4fccfe51cf5f6d1ad5a916be4d211f"
  },
  "kernelspec": {
   "display_name": "Python 3.10.4 ('testthings')",
   "language": "python",
   "name": "python3"
  },
  "language_info": {
   "codemirror_mode": {
    "name": "ipython",
    "version": 3
   },
   "file_extension": ".py",
   "mimetype": "text/x-python",
   "name": "python",
   "nbconvert_exporter": "python",
   "pygments_lexer": "ipython3",
   "version": "3.10.5"
  },
  "orig_nbformat": 4
 },
 "nbformat": 4,
 "nbformat_minor": 2
}
