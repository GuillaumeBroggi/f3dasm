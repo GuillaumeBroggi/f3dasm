{
 "cells": [
  {
   "cell_type": "code",
   "execution_count": 1,
   "metadata": {},
   "outputs": [],
   "source": [
    "import f3dasm\n",
    "# Misschien van waaarde numpy.apply_along_axis"
   ]
  },
  {
   "cell_type": "code",
   "execution_count": 2,
   "metadata": {},
   "outputs": [
    {
     "data": {
      "text/plain": [
       "[f3dasm.optimization.gradient_based_algorithms.Adam,\n",
       " f3dasm.optimization.gradient_based_algorithms.Momentum,\n",
       " f3dasm.optimization.gradient_based_algorithms.RandomSearch,\n",
       " f3dasm.optimization.gradient_based_algorithms.SGD,\n",
       " f3dasm.optimization.pygmo_implementations.CMAES,\n",
       " f3dasm.optimization.pygmo_implementations.PSO,\n",
       " f3dasm.optimization.pygmo_implementations.SGA,\n",
       " f3dasm.optimization.pygmo_implementations.XNES,\n",
       " f3dasm.optimization.scipy_implementations.CG,\n",
       " f3dasm.optimization.scipy_implementations.DifferentialEvolution,\n",
       " f3dasm.optimization.scipy_implementations.DualAnnealing,\n",
       " f3dasm.optimization.scipy_implementations.LBFGSB,\n",
       " f3dasm.optimization.scipy_implementations.NelderMead]"
      ]
     },
     "execution_count": 2,
     "metadata": {},
     "output_type": "execute_result"
    }
   ],
   "source": [
    "f3dasm.optimization.OPTIMIZERS"
   ]
  },
  {
   "cell_type": "code",
   "execution_count": 3,
   "metadata": {},
   "outputs": [
    {
     "ename": "NameError",
     "evalue": "name 'np' is not defined",
     "output_type": "error",
     "traceback": [
      "\u001b[0;31m---------------------------------------------------------------------------\u001b[0m",
      "\u001b[0;31mNameError\u001b[0m                                 Traceback (most recent call last)",
      "\u001b[1;32m/home/martin/Documents/GitHub/testthings/notebooks/port_pybenchfunction.ipynb Cell 3'\u001b[0m in \u001b[0;36m<cell line: 1>\u001b[0;34m()\u001b[0m\n\u001b[0;32m----> <a href='vscode-notebook-cell:/home/martin/Documents/GitHub/testthings/notebooks/port_pybenchfunction.ipynb#ch0000002?line=0'>1</a>\u001b[0m X \u001b[39m=\u001b[39m np\u001b[39m.\u001b[39marray([\u001b[39m0.1\u001b[39m, \u001b[39m0.3\u001b[39m]) \u001b[39m#input is 1D numpy array\u001b[39;00m\n\u001b[1;32m      <a href='vscode-notebook-cell:/home/martin/Documents/GitHub/testthings/notebooks/port_pybenchfunction.ipynb#ch0000002?line=1'>2</a>\u001b[0m np\u001b[39m.\u001b[39mapply_along_axis\n",
      "\u001b[0;31mNameError\u001b[0m: name 'np' is not defined"
     ]
    }
   ],
   "source": [
    "X = np.array([0.1, 0.3]) #input is 1D numpy array\n",
    "np.apply_along_axis"
   ]
  },
  {
   "cell_type": "code",
   "execution_count": null,
   "metadata": {},
   "outputs": [],
   "source": [
    "x, y = X"
   ]
  },
  {
   "cell_type": "code",
   "execution_count": null,
   "metadata": {},
   "outputs": [],
   "source": [
    "f = Ackley()"
   ]
  },
  {
   "cell_type": "code",
   "execution_count": null,
   "metadata": {},
   "outputs": [],
   "source": [
    "xx = np.array([[1.,2.,3.],[4.,5.,6.],[7.,8.,9.]])\n",
    "x = np.array([0.5,0.5])\n"
   ]
  },
  {
   "cell_type": "code",
   "execution_count": null,
   "metadata": {},
   "outputs": [],
   "source": [
    "t = Bartels(seed=42)"
   ]
  },
  {
   "cell_type": "code",
   "execution_count": null,
   "metadata": {},
   "outputs": [],
   "source": [
    "x = np.array([0.2,0.1])\n",
    "\n",
    "t.eval(x)"
   ]
  },
  {
   "cell_type": "code",
   "execution_count": null,
   "metadata": {},
   "outputs": [],
   "source": [
    "t.eval(np.array([3.,3.]))"
   ]
  },
  {
   "cell_type": "code",
   "execution_count": null,
   "metadata": {},
   "outputs": [],
   "source": [
    "#t.plot(orientation='3D')"
   ]
  },
  {
   "cell_type": "code",
   "execution_count": null,
   "metadata": {},
   "outputs": [],
   "source": [
    "t.input_domain"
   ]
  },
  {
   "cell_type": "code",
   "execution_count": null,
   "metadata": {},
   "outputs": [],
   "source": [
    "t.input_domain[1,:]"
   ]
  },
  {
   "cell_type": "code",
   "execution_count": null,
   "metadata": {},
   "outputs": [],
   "source": [
    "x = np.array([0.,5.])"
   ]
  },
  {
   "cell_type": "code",
   "execution_count": null,
   "metadata": {},
   "outputs": [],
   "source": [
    "t.scale_input(x)"
   ]
  },
  {
   "cell_type": "code",
   "execution_count": null,
   "metadata": {},
   "outputs": [],
   "source": [
    "t.input_domain"
   ]
  },
  {
   "cell_type": "code",
   "execution_count": null,
   "metadata": {},
   "outputs": [],
   "source": [
    "t.input_domain[:, 0]"
   ]
  },
  {
   "cell_type": "code",
   "execution_count": null,
   "metadata": {},
   "outputs": [],
   "source": [
    "# import inspect\n",
    "# from f3dasm.simulation import pybenchfunction\n",
    "\n",
    "# #functions2 = [(clsname,cls) for clsname, cls in available_functions]\n",
    "# for i, func in enumerate(f3dasm.simulation.FUNCTIONS):\n",
    "#     if not func.is_dim_compatible(2):\n",
    "#         continue\n",
    "#     f = func(dimensionality=2)\n",
    "#     #print(f\"X {f.get_global_minimum(2)[0]} min: {f.get_global_minimum(2)[1]}\")\n",
    "#     f.plot(px=50, show=False)\n",
    "#     print(f\"{i}/{len(f3dasm.simulation.FUNCTIONS)}: Plotted function {func.__name__}\")\n",
    "\n",
    "# #     #TODO: FIx if there are more than one global minima"
   ]
  },
  {
   "cell_type": "code",
   "execution_count": null,
   "metadata": {},
   "outputs": [],
   "source": [
    "import f3dasm.simulation\n"
   ]
  },
  {
   "cell_type": "code",
   "execution_count": null,
   "metadata": {},
   "outputs": [],
   "source": [
    "h = Shekel(dimensionality=4)\n",
    "X = np.array([0.1,0.2,0.3,0.4])\n",
    "x1, x2, x3, x4 = X\n",
    "a1 = [[np.sum((X - h.C[i]) ** 2 + h.beta[i]) ** -1] for i in range(h.m)]\n",
    "\n",
    "res = -np.sum([\n",
    "    [np.sum((X - h.C[i]) ** 2 + h.beta[i]) ** -1] for i in range(h.m)]\n",
    ")\n",
    "\n",
    "\n",
    "X\n",
    "res\n",
    "\n"
   ]
  },
  {
   "cell_type": "code",
   "execution_count": null,
   "metadata": {},
   "outputs": [],
   "source": [
    "f = BukinN6()\n",
    "f.get_global_minimum(2)"
   ]
  },
  {
   "cell_type": "code",
   "execution_count": null,
   "metadata": {},
   "outputs": [],
   "source": [
    "f = BukinN6(dimensionality=2)"
   ]
  },
  {
   "cell_type": "code",
   "execution_count": null,
   "metadata": {},
   "outputs": [],
   "source": [
    "f.dimensionality"
   ]
  },
  {
   "cell_type": "code",
   "execution_count": null,
   "metadata": {},
   "outputs": [],
   "source": [
    "f.scale_bounds"
   ]
  },
  {
   "cell_type": "code",
   "execution_count": null,
   "metadata": {},
   "outputs": [],
   "source": [
    "f.plot(px=100, show=True)"
   ]
  },
  {
   "cell_type": "code",
   "execution_count": null,
   "metadata": {},
   "outputs": [],
   "source": [
    "f.scale_bounds"
   ]
  },
  {
   "cell_type": "code",
   "execution_count": null,
   "metadata": {},
   "outputs": [],
   "source": [
    "a = np.array([[-0.3,1.2]])\n"
   ]
  },
  {
   "cell_type": "code",
   "execution_count": null,
   "metadata": {},
   "outputs": [],
   "source": [
    "# b =  np.random.random(size=(100,2)) * 3 - np.ones(shape=(100,2)) \n",
    "# for _x in b:\n",
    "#     _x[_x<f.scale_bounds[0]] = f.scale_bounds[0]\n",
    "#     _x[_x>f.scale_bounds[1]] = f.scale_bounds[1]\n",
    "\n",
    "# b\n"
   ]
  },
  {
   "cell_type": "code",
   "execution_count": null,
   "metadata": {},
   "outputs": [],
   "source": [
    "ff = AlpineN2(dimensionality=2)"
   ]
  },
  {
   "cell_type": "code",
   "execution_count": null,
   "metadata": {},
   "outputs": [],
   "source": [
    "#ff.plot()\n",
    "\n"
   ]
  },
  {
   "cell_type": "code",
   "execution_count": null,
   "metadata": {},
   "outputs": [],
   "source": [
    "ff.scale_bounds"
   ]
  },
  {
   "cell_type": "code",
   "execution_count": null,
   "metadata": {},
   "outputs": [],
   "source": [
    "g = ff.get_global_minimum(2)[0]\n",
    "g\n"
   ]
  },
  {
   "cell_type": "code",
   "execution_count": null,
   "metadata": {},
   "outputs": [],
   "source": [
    "ff.scale_bounds"
   ]
  },
  {
   "cell_type": "code",
   "execution_count": null,
   "metadata": {},
   "outputs": [],
   "source": [
    "ff.scale_bounds[0] - g[0], ff.scale_bounds[1] - g[0]"
   ]
  },
  {
   "cell_type": "code",
   "execution_count": null,
   "metadata": {},
   "outputs": [],
   "source": [
    "o = ff.create_offset()\n",
    "o"
   ]
  },
  {
   "cell_type": "code",
   "execution_count": null,
   "metadata": {},
   "outputs": [],
   "source": [
    "xx = ff.get_global_minimum(2)[0] + o"
   ]
  },
  {
   "cell_type": "code",
   "execution_count": null,
   "metadata": {},
   "outputs": [],
   "source": [
    "ff.check_if_within_bounds(xx)"
   ]
  },
  {
   "cell_type": "code",
   "execution_count": null,
   "metadata": {},
   "outputs": [],
   "source": [
    "for _ in range(100):\n",
    "    o = ff.create_offset()\n",
    "    xx = ff.get_global_minimum(2)[0] + o\n",
    "    print(f\"x={xx}, in bound?: {ff.check_if_within_bounds(xx)}\")"
   ]
  },
  {
   "cell_type": "code",
   "execution_count": null,
   "metadata": {},
   "outputs": [],
   "source": [
    "c = np.array([[0.1,0.3],[0.6,0.3],[0.2,0.2]])\n",
    "c"
   ]
  },
  {
   "cell_type": "code",
   "execution_count": null,
   "metadata": {},
   "outputs": [],
   "source": [
    "o"
   ]
  },
  {
   "cell_type": "code",
   "execution_count": null,
   "metadata": {},
   "outputs": [],
   "source": [
    "c + o"
   ]
  },
  {
   "cell_type": "code",
   "execution_count": null,
   "metadata": {},
   "outputs": [],
   "source": [
    "ff.offset_input(ff.get_global_minimum(2)[0])"
   ]
  },
  {
   "cell_type": "code",
   "execution_count": null,
   "metadata": {},
   "outputs": [],
   "source": [
    "ff.offset"
   ]
  },
  {
   "cell_type": "code",
   "execution_count": null,
   "metadata": {},
   "outputs": [],
   "source": [
    "ff.get_global_minimum(2)"
   ]
  },
  {
   "cell_type": "code",
   "execution_count": null,
   "metadata": {},
   "outputs": [],
   "source": [
    "ff.eval(np.array([0.7917, 0.7917]))"
   ]
  },
  {
   "cell_type": "code",
   "execution_count": null,
   "metadata": {},
   "outputs": [],
   "source": [
    "ff.offset"
   ]
  },
  {
   "cell_type": "code",
   "execution_count": null,
   "metadata": {},
   "outputs": [],
   "source": [
    "np.array([0.7917, 0.7917]) + ff.offset"
   ]
  },
  {
   "cell_type": "code",
   "execution_count": null,
   "metadata": {},
   "outputs": [],
   "source": [
    "ff.offset_input(np.array([0.7917, 0.7917]) )"
   ]
  },
  {
   "cell_type": "code",
   "execution_count": null,
   "metadata": {},
   "outputs": [],
   "source": []
  }
 ],
 "metadata": {
  "interpreter": {
   "hash": "73193fbeb8677ab93f213154c0927f21dd4fccfe51cf5f6d1ad5a916be4d211f"
  },
  "kernelspec": {
   "display_name": "Python 3.10.4 ('testthings')",
   "language": "python",
   "name": "python3"
  },
  "language_info": {
   "codemirror_mode": {
    "name": "ipython",
    "version": 3
   },
   "file_extension": ".py",
   "mimetype": "text/x-python",
   "name": "python",
   "nbconvert_exporter": "python",
   "pygments_lexer": "ipython3",
   "version": "3.10.5"
  },
  "orig_nbformat": 4
 },
 "nbformat": 4,
 "nbformat_minor": 2
}
