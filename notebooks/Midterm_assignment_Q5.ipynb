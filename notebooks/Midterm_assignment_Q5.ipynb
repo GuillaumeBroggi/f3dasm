{
 "cells": [
  {
   "cell_type": "markdown",
   "id": "17784578",
   "metadata": {},
   "source": [
    "## Multidimensional regression with GPR and ANNs."
   ]
  },
  {
   "cell_type": "markdown",
   "id": "1d89e171",
   "metadata": {},
   "source": [
    "5.1 Create a dataset without noise as follows:\n",
    "\n",
    "* Select 2 noiseless test functions from each of the 6 categories of the following website: https://www.sfu.ca/~ssurjano/optimization.html. Consider the domain of analysis as suggested in the website.\n",
    "* Create a dataset similar to what you did in 2.1, but now considering 60 points. Use the same split strategy (in the same proportion of training/testing set).\n",
    "* You don’t need to create a pandas dataframe for each dataset.\n",
    "* Use both methods of Part 2 (GPR and ANN) with the same hyperparameters: GPR with RBF kernel, and ANN m"
   ]
  },
  {
   "cell_type": "code",
   "execution_count": 5,
   "id": "bca77c00",
   "metadata": {},
   "outputs": [],
   "source": [
    "import numpy as np\n",
    "import matplotlib.pyplot as plt\n",
    "import pandas as pd\n",
    "from statistics import mean, stdev\n",
    "\n",
    "from sklearn.model_selection import train_test_split, KFold\n",
    "from sklearn.metrics import r2_score, mean_squared_error\n",
    "from sklearn.preprocessing import StandardScaler\n",
    "from sklearn.pipeline import Pipeline\n",
    "from sklearn.gaussian_process import GaussianProcessRegressor as GPR\n",
    "from sklearn.gaussian_process.kernels  import RBF\n",
    "\n",
    "from keras.wrappers.scikit_learn import KerasRegressor\n",
    "from keras.callbacks import EarlyStopping # a strategy for complexity control\n",
    "from tensorflow import keras # fast library for ANNs\n",
    "from tensorflow.keras.optimizers import Adam # import the optimizer you want to use to calculate the parameters\n",
    "from keras.models import Sequential # to create a feedforward neural network\n",
    "from keras.layers.core import Dense # to create a feedforward neural network with dense layers"
   ]
  },
  {
   "cell_type": "markdown",
   "id": "ccadbb4d",
   "metadata": {},
   "source": [
    "Function that creates the dataset without noise and `N` points with set seed.\n",
    "Sorts the points in ascending order and stores them in a Pandas Dataframe"
   ]
  },
  {
   "cell_type": "code",
   "execution_count": 6,
   "id": "ea0eedae",
   "metadata": {},
   "outputs": [],
   "source": [
    "def create_dataset(func, N=60, seed=24):\n",
    "    np.random.seed(seed)\n",
    "    x = np.random.uniform(func.bounds[0],func.bounds[1],(N)).reshape(-1,1) #1D\n",
    "    y = func.eval(x)\n",
    "    sort = np.argsort(x.ravel())\n",
    "    noiseless_data = pd.DataFrame(data={'x':x[sort].ravel(), 'y':y[sort].ravel()})\n",
    "    return noiseless_data"
   ]
  },
  {
   "cell_type": "markdown",
   "id": "0be46fb1",
   "metadata": {},
   "source": [
    "Function that splits the data into a training and testing set"
   ]
  },
  {
   "cell_type": "code",
   "execution_count": 7,
   "id": "ca8a8bf4",
   "metadata": {},
   "outputs": [],
   "source": [
    "def split(dataset, size=0.2, state=81):\n",
    "    Xtrn, Xtst, ytrn, ytst = train_test_split(dataset['x'].to_numpy().reshape(-1,1),\\\n",
    "            dataset['y'].to_numpy(), test_size=size, random_state=state)\n",
    "    train, test  = (Xtrn, ytrn), (Xtst, ytst)\n",
    "    return train, test"
   ]
  },
  {
   "cell_type": "markdown",
   "id": "b72dbb6b",
   "metadata": {},
   "source": [
    "Fits a GPR model with k-fold cross-validation. Outputs the mean and standard deviation of the $R^2$ and $\\mathrm{MSE}$"
   ]
  },
  {
   "cell_type": "code",
   "execution_count": 8,
   "id": "1d3d207f",
   "metadata": {},
   "outputs": [],
   "source": [
    "def run_model_GPR(model, dataset):\n",
    "    train, test = split(dataset)\n",
    "    kf = KFold(n_splits=6)\n",
    "    Xtrns, ytrns = train\n",
    "    r2s, mses = [], []\n",
    "    for itrn, itst in kf.split(Xtrns):\n",
    "        Xtrn, ytrn = Xtrns[itrn].reshape(-1,1), ytrns[itrn]\n",
    "        Xtst, ytst = Xtrns[itst].reshape(-1,1), ytrns[itst]\n",
    "        model.fit(Xtrn, ytrn)\n",
    "            \n",
    "        ypred = model.predict(Xtst)\n",
    "        r2s.append(r2_score(ytst, ypred))\n",
    "        mses.append(mean_squared_error(ytst, ypred))\n",
    "        \n",
    "    \n",
    "    return [(mean(r2s), stdev(r2s)),(mean(mses), stdev(mses))]"
   ]
  },
  {
   "cell_type": "code",
   "execution_count": 9,
   "id": "9c9435a5",
   "metadata": {},
   "outputs": [],
   "source": [
    "def experiment_GPR(func, kernel=RBF()):\n",
    "    dataset = create_dataset(func)\n",
    "    model = GPR(kernel=kernel, n_restarts_optimizer=10)\n",
    "    err = run_model_GPR(model, dataset)\n",
    "    #print('Function: {}'.format(func.__class__.__name__))\n",
    "    #print('R2:{} / MSE:{}'.format(err[0],err[1]))\n",
    "    #print('\\n')\n",
    "    return err"
   ]
  },
  {
   "cell_type": "code",
   "execution_count": null,
   "id": "4acfb8fb",
   "metadata": {},
   "outputs": [],
   "source": []
  },
  {
   "cell_type": "markdown",
   "id": "ba0e8189",
   "metadata": {},
   "source": [
    "Fits a Artificial Neural network model with k-fold cross-validation. Outputs the mean and standard deviation of the $R^2$ and $\\mathrm{MSE}$"
   ]
  },
  {
   "cell_type": "code",
   "execution_count": 10,
   "id": "23c4a8ee",
   "metadata": {},
   "outputs": [],
   "source": [
    "# Function to create the ANN model\n",
    "def create_ANN(input_dimensions=1,neurons1=200,neurons2=10,\n",
    "               activation='relu',optimizer='adam'):\n",
    "    \n",
    "    # create model\n",
    "    model = Sequential()\n",
    "    model.add(Dense(neurons1, input_dim=input_dimensions, activation=activation)) # first hidden layer\n",
    "    model.add(Dense(neurons2, activation=activation)) # second hidden layer\n",
    "    model.add(Dense(1)) # output layer with just one neuron (we only have one output)\n",
    "    model.compile(loss='mse', optimizer=optimizer) # choose error metric and optimizer.\n",
    "    \n",
    "    return model"
   ]
  },
  {
   "cell_type": "code",
   "execution_count": 11,
   "id": "529d0171",
   "metadata": {},
   "outputs": [],
   "source": [
    "def experiment_ANN(func,neurons1=200, neurons2=10, epochs=1000,\n",
    "                  optimizer=Adam(learning_rate=0.001)):\n",
    "    \n",
    "    dataset = create_dataset(func)\n",
    "    \n",
    "    train, test = split(dataset)\n",
    "    kf = KFold(n_splits=6)\n",
    "    Xtrns, ytrns = train\n",
    "    \n",
    "    batch_size = len(Xtrns) # considering the entire dataset for updating the weights and biases in each epoch\n",
    "    early_stopping = EarlyStopping(monitor='val_loss', min_delta=0.0, patience=30, mode='min')\n",
    "    \n",
    "    r2s, mses = [], []\n",
    "    for itrn, itst in kf.split(Xtrns):\n",
    "        Xtrn, ytrn = Xtrns[itrn].reshape(-1,1), ytrns[itrn]\n",
    "        Xtst, ytst = Xtrns[itst].reshape(-1,1), ytrns[itst]\n",
    "        \n",
    "        scaler = StandardScaler().fit(Xtrn)\n",
    "\n",
    "        Xtrn_scaled=scaler.transform(Xtrn)\n",
    "        Xtst_scaled=scaler.transform(Xtst)\n",
    "        \n",
    "        ANN_model = KerasRegressor(build_fn=create_ANN, neurons1=neurons1, neurons2=neurons2,\n",
    "                                   batch_size=batch_size, epochs=epochs, optimizer=optimizer,\n",
    "                                   validation_data=(scaler.transform(Xtst), ytst))  \n",
    "\n",
    "        \n",
    "        history = ANN_model.fit(Xtrn_scaled, ytrn, callbacks=[early_stopping], verbose=False) \n",
    "\n",
    "\n",
    "        ypred = history.model.predict(Xtst_scaled)\n",
    "            \n",
    "        r2s.append(r2_score(ytst, ypred))\n",
    "        mses.append(mean_squared_error(ytst, ypred))\n",
    "        \n",
    "    print('Function: {}'.format(func.__class__.__name__))\n",
    "    print('R2:{} / MSE:{}'.format((mean(r2s),stdev(r2s)),(mean(mses),stdev(mses))))\n",
    "    print('\\n')\n",
    "    return [(mean(r2s), stdev(r2s)),(mean(mses), stdev(mses))]"
   ]
  },
  {
   "cell_type": "markdown",
   "id": "eb2d30c3",
   "metadata": {},
   "source": [
    "## Loss functions\n",
    "\n",
    "First we define a base class called `Function` that all the different function inheret from.\n",
    "The `eval()` function reshapes the data and checks if any values are `NaN` or `Inf`"
   ]
  },
  {
   "cell_type": "code",
   "execution_count": 12,
   "id": "cbeac023",
   "metadata": {},
   "outputs": [],
   "source": [
    "class Function():\n",
    "    def eval(self, x, noise=False):\n",
    "        x = np.asarray_chkfinite(x)  # ValueError if any NaN or Inf\n",
    "        if x.ndim == 1:\n",
    "            x = np.reshape(x,(-1,len(x))) # reshape into 2d array\n",
    "            \n",
    "        return np.atleast_1d(self.f(x))"
   ]
  },
  {
   "cell_type": "markdown",
   "id": "a1461d95",
   "metadata": {},
   "source": [
    "Each objectivefuntion is a class with its box-constrained boundaries listed as `self.bounds`.\n"
   ]
  },
  {
   "cell_type": "code",
   "execution_count": 13,
   "id": "eb2b12d9",
   "metadata": {},
   "outputs": [],
   "source": [
    "class Levy(Function):\n",
    "    def __init__(self):\n",
    "        self.bounds = [-10,10]\n",
    "        \n",
    "    def f(self, x ):\n",
    "        n_points, n_features = np.shape(x)\n",
    "        y = np.empty((n_points,1))\n",
    "        #\n",
    "        for ii in range(n_points):\n",
    "            z = 1 + (x[ii,:] - 1) / 4\n",
    "            y[ii] = (np.sin( np.pi * z[0] )**2\n",
    "                + sum( (z[:-1] - 1)**2 * (1 + 10 * np.sin( np.pi * z[:-1] + 1 )**2 ))\n",
    "                +       (z[-1] - 1)**2 * (1 + np.sin( 2 * np.pi * z[-1] )**2 ))\n",
    "        return y\n",
    "\n",
    "    \n",
    "    \n",
    "class Ackley(Function):\n",
    "    def __init__(self):\n",
    "        self.bounds = [-32.768, 32.768]    \n",
    "    \n",
    "    def f(self, x, a=20, b=0.2, c=2*np.pi ):\n",
    "        n_points, n_features = np.shape(x)\n",
    "        y = np.empty((n_points,1))\n",
    "        #\n",
    "        for ii in range(n_points):\n",
    "            s1 = sum( x[ii,:]**2 )\n",
    "            s2 = sum( np.cos( c * x[ii,:] ))\n",
    "            y[ii] = -a*np.exp( -b*np.sqrt( s1 / n_features )) - np.exp( s2 / n_features ) + a + np.exp(1)\n",
    "        return y\n",
    "#\n",
    "class Rosenbrock(Function):  # rosen.m\n",
    "    def __init__(self):\n",
    "        self.bounds = [-5, 10]\n",
    "        \n",
    "    def f(self, x):    \n",
    "        n_points, n_features = np.shape(x)\n",
    "        y = np.empty((n_points,1))\n",
    "        #\n",
    "        for ii in range(n_points):\n",
    "            x0 = x[ii,:-1]\n",
    "            x1 = x[ii,1:]\n",
    "            y[ii] = (sum( (1 - x0) **2 )\n",
    "                + 100 * sum( (x1 - x0**2) **2 ))\n",
    "        return y\n",
    "#\n",
    "\n",
    "class Griewank(Function):\n",
    "    def __init__(self):\n",
    "        self.bounds = [-600, 600]\n",
    "\n",
    "    def f(self, x, fr=4000):\n",
    "        n_points, n_features = np.shape(x)\n",
    "        y = np.empty((n_points,1))\n",
    "        #\n",
    "        j = np.arange( 1., n_features+1 )\n",
    "        for ii in range(n_points):\n",
    "            s = sum( x[ii,:]**2 )\n",
    "            p = np.prod( np.cos( x[ii,:] / np.sqrt(j) ))\n",
    "            y[ii] = s/fr - p + 1\n",
    "        return y\n",
    "#\n",
    "class Rastrigin(Function):  # rast.m\n",
    "    def __init__(self):\n",
    "        self.bounds = [-5.12, 5.12]\n",
    "        \n",
    "    def f(self, x):\n",
    "        n_points, n_features = np.shape(x)\n",
    "        y = np.empty((n_points,1))\n",
    "        #\n",
    "        for ii in range(n_points):\n",
    "            y[ii] = 10*n_features + sum( x[ii,:]**2 - 10 *\n",
    "                                    np.cos( 2 * np.pi * x[ii,:] ))\n",
    "        return y"
   ]
  },
  {
   "cell_type": "markdown",
   "id": "cd93e602",
   "metadata": {},
   "source": [
    "The `funclist` is a list of all the lossfunctions that we determined. "
   ]
  },
  {
   "cell_type": "code",
   "execution_count": 14,
   "id": "d647eeae",
   "metadata": {},
   "outputs": [],
   "source": [
    "funclist = [Levy(), Ackley(), Rosenbrock(), Griewank(), Rastrigin()]"
   ]
  },
  {
   "cell_type": "code",
   "execution_count": 30,
   "id": "965b0065",
   "metadata": {},
   "outputs": [
    {
     "name": "stderr",
     "output_type": "stream",
     "text": [
      "/home/martin/miniconda3/envs/3dasm/lib/python3.9/site-packages/sklearn/gaussian_process/_gpr.py:610: ConvergenceWarning: lbfgs failed to converge (status=2):\n",
      "ABNORMAL_TERMINATION_IN_LNSRCH.\n",
      "\n",
      "Increase the number of iterations (max_iter) or scale the data as shown in:\n",
      "    https://scikit-learn.org/stable/modules/preprocessing.html\n",
      "  _check_optimize_result(\"lbfgs\", opt_res)\n"
     ]
    },
    {
     "data": {
      "text/plain": [
       "array([False, False, False, False, False, False, False, False, False,\n",
       "       False, False, False, False, False, False, False, False, False,\n",
       "       False, False, False, False, False, False, False, False, False,\n",
       "       False, False, False, False, False, False, False, False, False,\n",
       "       False, False, False, False, False, False, False, False, False,\n",
       "       False, False, False])"
      ]
     },
     "execution_count": 30,
     "metadata": {},
     "output_type": "execute_result"
    },
    {
     "data": {
      "image/png": "[encoded data removed]",
      "text/plain": [
       "<Figure size 432x288 with 1 Axes>"
      ]
     },
     "metadata": {
      "needs_background": "light"
     },
     "output_type": "display_data"
    }
   ],
   "source": [
    "fig, ax = plt.figure(), plt.axes()\n",
    "func = Levy()\n",
    "dataset = create_dataset(func)\n",
    "ax.plot(dataset['x'].values,dataset['y'].values)\n",
    "model = GPR(kernel=RBF(), n_restarts_optimizer=10)\n",
    "train, test = split(dataset)\n",
    "X_train, y_train = train\n",
    "X_test, y_test = test\n",
    "\n",
    "X_train, y_train = X_train.reshape(-1,1), y_train\n",
    "X_test, y_test = X_train.reshape(-1,1), y_train\n",
    "model.fit(X_train, y_train)\n",
    "            \n",
    "y_pred = model.predict(X_test)\n",
    "\n",
    "ax.plot(dataset['x'].values,model.predict(dataset['x'].values.reshape(-1,1)))"
   ]
  },
  {
   "cell_type": "markdown",
   "id": "ff4ed0d7",
   "metadata": {},
   "source": [
    "We execute the model fitting for all functions"
   ]
  },
  {
   "cell_type": "code",
   "execution_count": 12,
   "id": "26284fe6",
   "metadata": {},
   "outputs": [
    {
     "name": "stderr",
     "output_type": "stream",
     "text": [
      "/home/martin/miniconda3/envs/3dasm/lib/python3.9/site-packages/sklearn/gaussian_process/_gpr.py:610: ConvergenceWarning: lbfgs failed to converge (status=2):\n",
      "ABNORMAL_TERMINATION_IN_LNSRCH.\n",
      "\n",
      "Increase the number of iterations (max_iter) or scale the data as shown in:\n",
      "    https://scikit-learn.org/stable/modules/preprocessing.html\n",
      "  _check_optimize_result(\"lbfgs\", opt_res)\n",
      "/home/martin/miniconda3/envs/3dasm/lib/python3.9/site-packages/sklearn/gaussian_process/_gpr.py:610: ConvergenceWarning: lbfgs failed to converge (status=2):\n",
      "ABNORMAL_TERMINATION_IN_LNSRCH.\n",
      "\n",
      "Increase the number of iterations (max_iter) or scale the data as shown in:\n",
      "    https://scikit-learn.org/stable/modules/preprocessing.html\n",
      "  _check_optimize_result(\"lbfgs\", opt_res)\n",
      "/home/martin/miniconda3/envs/3dasm/lib/python3.9/site-packages/sklearn/gaussian_process/_gpr.py:610: ConvergenceWarning: lbfgs failed to converge (status=2):\n",
      "ABNORMAL_TERMINATION_IN_LNSRCH.\n",
      "\n",
      "Increase the number of iterations (max_iter) or scale the data as shown in:\n",
      "    https://scikit-learn.org/stable/modules/preprocessing.html\n",
      "  _check_optimize_result(\"lbfgs\", opt_res)\n",
      "/home/martin/miniconda3/envs/3dasm/lib/python3.9/site-packages/sklearn/gaussian_process/_gpr.py:610: ConvergenceWarning: lbfgs failed to converge (status=2):\n",
      "ABNORMAL_TERMINATION_IN_LNSRCH.\n",
      "\n",
      "Increase the number of iterations (max_iter) or scale the data as shown in:\n",
      "    https://scikit-learn.org/stable/modules/preprocessing.html\n",
      "  _check_optimize_result(\"lbfgs\", opt_res)\n",
      "/home/martin/miniconda3/envs/3dasm/lib/python3.9/site-packages/sklearn/gaussian_process/_gpr.py:610: ConvergenceWarning: lbfgs failed to converge (status=2):\n",
      "ABNORMAL_TERMINATION_IN_LNSRCH.\n",
      "\n",
      "Increase the number of iterations (max_iter) or scale the data as shown in:\n",
      "    https://scikit-learn.org/stable/modules/preprocessing.html\n",
      "  _check_optimize_result(\"lbfgs\", opt_res)\n",
      "/home/martin/miniconda3/envs/3dasm/lib/python3.9/site-packages/sklearn/gaussian_process/kernels.py:430: ConvergenceWarning: The optimal value found for dimension 0 of parameter length_scale is close to the specified upper bound 100000.0. Increasing the bound and calling fit again may find a better value.\n",
      "  warnings.warn(\n",
      "/home/martin/miniconda3/envs/3dasm/lib/python3.9/site-packages/sklearn/gaussian_process/kernels.py:430: ConvergenceWarning: The optimal value found for dimension 0 of parameter length_scale is close to the specified upper bound 100000.0. Increasing the bound and calling fit again may find a better value.\n",
      "  warnings.warn(\n",
      "/home/martin/miniconda3/envs/3dasm/lib/python3.9/site-packages/sklearn/gaussian_process/kernels.py:430: ConvergenceWarning: The optimal value found for dimension 0 of parameter length_scale is close to the specified upper bound 100000.0. Increasing the bound and calling fit again may find a better value.\n",
      "  warnings.warn(\n",
      "/home/martin/miniconda3/envs/3dasm/lib/python3.9/site-packages/sklearn/gaussian_process/kernels.py:430: ConvergenceWarning: The optimal value found for dimension 0 of parameter length_scale is close to the specified upper bound 100000.0. Increasing the bound and calling fit again may find a better value.\n",
      "  warnings.warn(\n",
      "/home/martin/miniconda3/envs/3dasm/lib/python3.9/site-packages/sklearn/gaussian_process/kernels.py:430: ConvergenceWarning: The optimal value found for dimension 0 of parameter length_scale is close to the specified upper bound 100000.0. Increasing the bound and calling fit again may find a better value.\n",
      "  warnings.warn(\n",
      "/home/martin/miniconda3/envs/3dasm/lib/python3.9/site-packages/sklearn/gaussian_process/kernels.py:430: ConvergenceWarning: The optimal value found for dimension 0 of parameter length_scale is close to the specified upper bound 100000.0. Increasing the bound and calling fit again may find a better value.\n",
      "  warnings.warn(\n",
      "/home/martin/miniconda3/envs/3dasm/lib/python3.9/site-packages/sklearn/gaussian_process/_gpr.py:610: ConvergenceWarning: lbfgs failed to converge (status=2):\n",
      "ABNORMAL_TERMINATION_IN_LNSRCH.\n",
      "\n",
      "Increase the number of iterations (max_iter) or scale the data as shown in:\n",
      "    https://scikit-learn.org/stable/modules/preprocessing.html\n",
      "  _check_optimize_result(\"lbfgs\", opt_res)\n"
     ]
    },
    {
     "data": {
      "text/plain": [
       "{'Levy': [(0.6648673918010237, 0.5104202329436014),\n",
       "  (5.660568156453252, 11.643194249908587)],\n",
       " 'Ackley': [(-39.137231189629624, 81.40317020085628),\n",
       "  (101.73178157523111, 47.75576797767409)],\n",
       " 'Rosenbrock': [(1.0, 0.0), (0.0, 0.0)],\n",
       " 'Griewank': [(-0.18819269588096119, 0.863241199118481),\n",
       "  (789.2915389596559, 687.9881468242174)],\n",
       " 'Rastrigin': [(0.5013829193771313, 0.4971806429946954),\n",
       "  (33.766803765755576, 36.51462832775565)]}"
      ]
     },
     "execution_count": 12,
     "metadata": {},
     "output_type": "execute_result"
    }
   ],
   "source": [
    "results_gpr = {}\n",
    "for func in funclist:\n",
    "    results_gpr[func.__class__.__name__] = experiment_GPR(func)\n",
    "    \n",
    "results_gpr"
   ]
  },
  {
   "cell_type": "code",
   "execution_count": 16,
   "id": "252e5416",
   "metadata": {},
   "outputs": [
    {
     "data": {
      "text/html": [
       "<div>\n",
       "<style scoped>\n",
       "    .dataframe tbody tr th:only-of-type {\n",
       "        vertical-align: middle;\n",
       "    }\n",
       "\n",
       "    .dataframe tbody tr th {\n",
       "        vertical-align: top;\n",
       "    }\n",
       "\n",
       "    .dataframe thead th {\n",
       "        text-align: right;\n",
       "    }\n",
       "</style>\n",
       "<table border=\"1\" class=\"dataframe\">\n",
       "  <thead>\n",
       "    <tr style=\"text-align: right;\">\n",
       "      <th></th>\n",
       "      <th>Levy</th>\n",
       "      <th>Ackley</th>\n",
       "      <th>Rosenbrock</th>\n",
       "      <th>Griewank</th>\n",
       "      <th>Rastrigin</th>\n",
       "    </tr>\n",
       "  </thead>\n",
       "  <tbody>\n",
       "    <tr>\n",
       "      <th>0</th>\n",
       "      <td>(0.6648673918010237, 0.5104202329436014)</td>\n",
       "      <td>(-39.137231189629624, 81.40317020085628)</td>\n",
       "      <td>(1.0, 0.0)</td>\n",
       "      <td>(-0.18819269588096119, 0.863241199118481)</td>\n",
       "      <td>(0.5013829193771313, 0.4971806429946954)</td>\n",
       "    </tr>\n",
       "    <tr>\n",
       "      <th>1</th>\n",
       "      <td>(5.660568156453252, 11.643194249908587)</td>\n",
       "      <td>(101.73178157523111, 47.75576797767409)</td>\n",
       "      <td>(0.0, 0.0)</td>\n",
       "      <td>(789.2915389596559, 687.9881468242174)</td>\n",
       "      <td>(33.766803765755576, 36.51462832775565)</td>\n",
       "    </tr>\n",
       "  </tbody>\n",
       "</table>\n",
       "</div>"
      ],
      "text/plain": [
       "                                       Levy  \\\n",
       "0  (0.6648673918010237, 0.5104202329436014)   \n",
       "1   (5.660568156453252, 11.643194249908587)   \n",
       "\n",
       "                                     Ackley  Rosenbrock  \\\n",
       "0  (-39.137231189629624, 81.40317020085628)  (1.0, 0.0)   \n",
       "1   (101.73178157523111, 47.75576797767409)  (0.0, 0.0)   \n",
       "\n",
       "                                    Griewank  \\\n",
       "0  (-0.18819269588096119, 0.863241199118481)   \n",
       "1     (789.2915389596559, 687.9881468242174)   \n",
       "\n",
       "                                  Rastrigin  \n",
       "0  (0.5013829193771313, 0.4971806429946954)  \n",
       "1   (33.766803765755576, 36.51462832775565)  "
      ]
     },
     "execution_count": 16,
     "metadata": {},
     "output_type": "execute_result"
    }
   ],
   "source": [
    "df = pd.DataFrame(results_gpr)\n",
    "df"
   ]
  },
  {
   "cell_type": "code",
   "execution_count": 13,
   "id": "53a3a24c",
   "metadata": {},
   "outputs": [
    {
     "name": "stderr",
     "output_type": "stream",
     "text": [
      "/tmp/ipykernel_305397/4139357511.py:23: DeprecationWarning: KerasRegressor is deprecated, use Sci-Keras (https://github.com/adriangb/scikeras) instead.\n",
      "  ANN_model = KerasRegressor(build_fn=create_ANN, neurons1=neurons1, neurons2=neurons2,\n",
      "2022-03-25 15:43:16.388345: I tensorflow/core/platform/cpu_feature_guard.cc:151] This TensorFlow binary is optimized with oneAPI Deep Neural Network Library (oneDNN) to use the following CPU instructions in performance-critical operations:  SSE4.1 SSE4.2 AVX AVX2 AVX512F FMA\n",
      "To enable them in other operations, rebuild TensorFlow with the appropriate compiler flags.\n",
      "/tmp/ipykernel_305397/4139357511.py:23: DeprecationWarning: KerasRegressor is deprecated, use Sci-Keras (https://github.com/adriangb/scikeras) instead.\n",
      "  ANN_model = KerasRegressor(build_fn=create_ANN, neurons1=neurons1, neurons2=neurons2,\n",
      "/tmp/ipykernel_305397/4139357511.py:23: DeprecationWarning: KerasRegressor is deprecated, use Sci-Keras (https://github.com/adriangb/scikeras) instead.\n",
      "  ANN_model = KerasRegressor(build_fn=create_ANN, neurons1=neurons1, neurons2=neurons2,\n",
      "/tmp/ipykernel_305397/4139357511.py:23: DeprecationWarning: KerasRegressor is deprecated, use Sci-Keras (https://github.com/adriangb/scikeras) instead.\n",
      "  ANN_model = KerasRegressor(build_fn=create_ANN, neurons1=neurons1, neurons2=neurons2,\n",
      "\n",
      "KeyboardInterrupt\n",
      "\n"
     ]
    }
   ],
   "source": [
    "for func in funclist:\n",
    "    experiment_ANN(func)"
   ]
  },
  {
   "cell_type": "code",
   "execution_count": null,
   "id": "e7cf6946",
   "metadata": {},
   "outputs": [],
   "source": []
  }
 ],
 "metadata": {
  "kernelspec": {
   "display_name": "Python [conda env:3dasm] *",
   "language": "python",
   "name": "conda-env-3dasm-py"
  },
  "language_info": {
   "codemirror_mode": {
    "name": "ipython",
    "version": 3
   },
   "file_extension": ".py",
   "mimetype": "text/x-python",
   "name": "python",
   "nbconvert_exporter": "python",
   "pygments_lexer": "ipython3",
   "version": "3.9.10"
  }
 },
 "nbformat": 4,
 "nbformat_minor": 5
}
