{
 "cells": [
  {
   "cell_type": "code",
   "execution_count": 1,
   "metadata": {},
   "outputs": [
    {
     "name": "stderr",
     "output_type": "stream",
     "text": [
      "2022-10-03 15:52:47.498514: I tensorflow/core/util/util.cc:169] oneDNN custom operations are on. You may see slightly different numerical results due to floating-point round-off errors from different computation orders. To turn them off, set the environment variable `TF_ENABLE_ONEDNN_OPTS=0`.\n"
     ]
    }
   ],
   "source": [
    "import f3dasm\n",
    "import numpy as np\n",
    "import time\n",
    "import pathos"
   ]
  },
  {
   "cell_type": "code",
   "execution_count": 2,
   "metadata": {},
   "outputs": [],
   "source": [
    "dim = 5\n",
    "iterations = 50\n",
    "realizations = 3\n",
    "bounds = np.tile([-1.0,1.0], (dim, 1))\n",
    "#hyperparameters={'learning_rate': 2e-4}\n",
    "hyperparameters={'learning_rate': 1e-2}\n",
    "\n",
    "design = f3dasm.make_nd_continuous_design(bounds=bounds, dimensionality=dim)\n",
    "\n",
    "function = f3dasm.functions.Levy(dimensionality=dim, scale_bounds=bounds)\n",
    "\n",
    "data = f3dasm.Data(design=design)\n",
    "optimizer = f3dasm.optimization.RMSprop(data=data, hyperparameters=hyperparameters)\n",
    "sampler = f3dasm.sampling.LatinHypercubeSampling(design=design)\n",
    "\n",
    "\n",
    "# all_data = f3dasm.run_multiple_realizations(optimizer=optimizer, \n",
    "# function=function,\n",
    "# sampler=sampler,\n",
    "# iterations=iterations,\n",
    "# realizations=realizations\n",
    "# )\n",
    "\n"
   ]
  },
  {
   "cell_type": "code",
   "execution_count": 3,
   "metadata": {},
   "outputs": [
    {
     "data": {
      "text/plain": [
       "RMSprop_Parameters(population=1, force_bounds=True, learning_rate=0.01, rho=0.9, momentum=0.0, epsilon=1e-07, centered=False)"
      ]
     },
     "execution_count": 3,
     "metadata": {},
     "output_type": "execute_result"
    }
   ],
   "source": [
    "optimizer.parameter"
   ]
  },
  {
   "cell_type": "code",
   "execution_count": 4,
   "metadata": {},
   "outputs": [],
   "source": [
    "args = {\n",
    "'optimizer': optimizer, \n",
    "'function': function,\n",
    "'sampler': sampler,\n",
    "'iterations': iterations,\n",
    "'seed': 1\n",
    "\n",
    "\n",
    "}\n",
    "\n",
    "#res = f3dasm.run_optimization(**args)"
   ]
  },
  {
   "cell_type": "code",
   "execution_count": 5,
   "metadata": {},
   "outputs": [],
   "source": [
    "# function.plot_data(data=res,domain=bounds)"
   ]
  },
  {
   "cell_type": "code",
   "execution_count": 6,
   "metadata": {},
   "outputs": [],
   "source": [
    "# args = {\n",
    "# 'realizations': realizations,\n",
    "# 'optimizer': optimizer, \n",
    "# 'function': function,\n",
    "# 'sampler': sampler,\n",
    "# 'iterations': iterations,\n",
    "# 'parallelization': True\n",
    "\n",
    "\n",
    "# }\n",
    "# f3dasm.run_multiple_realizations(**args)"
   ]
  },
  {
   "cell_type": "code",
   "execution_count": 7,
   "metadata": {},
   "outputs": [],
   "source": [
    "# \"\"\"Run multiple realizations of the same algorithm on a benchmark function\"\"\"\n",
    "# start_t = time.perf_counter()\n",
    "\n",
    "# seed = np.random.randint(low=0, high=1e5)\n",
    "# all_data = []\n",
    "\n",
    "# for _ in range(realizations):\n",
    "#     data = f3dasm.run_optimization(\n",
    "#         optimizer=optimizer, function=function, sampler=sampler, iterations=iterations, seed=seed\n",
    "#     )\n",
    "#     all_data.append(data)\n",
    "\n",
    "#     # Increase seed\n",
    "#     seed += 1\n",
    "\n",
    "# end_t = time.perf_counter()\n",
    "\n",
    "# total_duration = end_t - start_t\n",
    "# print(f\"Optimization took {total_duration:.2f}s total\")"
   ]
  },
  {
   "cell_type": "code",
   "execution_count": 8,
   "metadata": {},
   "outputs": [],
   "source": [
    "from pathos.helpers import mp"
   ]
  },
  {
   "cell_type": "code",
   "execution_count": 9,
   "metadata": {},
   "outputs": [
    {
     "name": "stderr",
     "output_type": "stream",
     "text": [
      "2022-10-03 15:52:50.029249: I tensorflow/core/platform/cpu_feature_guard.cc:193] This TensorFlow binary is optimized with oneAPI Deep Neural Network Library (oneDNN) to use the following CPU instructions in performance-critical operations:  SSE4.1 SSE4.2 AVX AVX2 AVX512F AVX512_VNNI FMA\n",
      "To enable them in other operations, rebuild TensorFlow with the appropriate compiler flags.\n",
      "2022-10-03 15:52:50.029249: I tensorflow/core/platform/cpu_feature_guard.cc:193] This TensorFlow binary is optimized with oneAPI Deep Neural Network Library (oneDNN) to use the following CPU instructions in performance-critical operations:  SSE4.1 SSE4.2 AVX AVX2 AVX512F AVX512_VNNI FMA\n",
      "To enable them in other operations, rebuild TensorFlow with the appropriate compiler flags.\n",
      "2022-10-03 15:52:50.033016: I tensorflow/core/platform/cpu_feature_guard.cc:193] This TensorFlow binary is optimized with oneAPI Deep Neural Network Library (oneDNN) to use the following CPU instructions in performance-critical operations:  SSE4.1 SSE4.2 AVX AVX2 AVX512F AVX512_VNNI FMA\n",
      "To enable them in other operations, rebuild TensorFlow with the appropriate compiler flags.\n"
     ]
    },
    {
     "name": "stdout",
     "output_type": "stream",
     "text": [
      "Optimization took 1.13s total\n"
     ]
    }
   ],
   "source": [
    "\"\"\"Run multiple realizations of the same algorithm on a benchmark function\"\"\"\n",
    "start_t = time.perf_counter()\n",
    "\n",
    "args = [(optimizer, function,  sampler, iterations, np.random.randint(low=0, high=1e5)) for _ in range(realizations)]\n",
    "\n",
    "\n",
    "\n",
    "with mp.Pool() as pool:\n",
    "    results = pool.starmap(f3dasm.run_optimization, args)\n",
    "    \n",
    "end_t = time.perf_counter()\n",
    "\n",
    "total_duration = end_t - start_t\n",
    "print(f\"Optimization took {total_duration:.2f}s total\")"
   ]
  },
  {
   "cell_type": "code",
   "execution_count": 10,
   "metadata": {},
   "outputs": [
    {
     "data": {
      "text/plain": [
       "[Data(design=DesignSpace(input_space=[ContinuousParameter(name='x0', lower_bound=-1.0, upper_bound=1.0, type='float'), ContinuousParameter(name='x1', lower_bound=-1.0, upper_bound=1.0, type='float'), ContinuousParameter(name='x2', lower_bound=-1.0, upper_bound=1.0, type='float'), ContinuousParameter(name='x3', lower_bound=-1.0, upper_bound=1.0, type='float'), ContinuousParameter(name='x4', lower_bound=-1.0, upper_bound=1.0, type='float')], output_space=[ContinuousParameter(name='y', lower_bound=-inf, upper_bound=inf, type='float')]), data=       input                                              output\n",
       "           x0        x1        x2        x3        x4           y\n",
       " 0  -0.785222  0.630130 -0.880795  0.482985  0.375636   77.395080\n",
       " 1   0.279721  0.846332  0.601446  0.769809  0.670736  223.667528\n",
       " 2   0.248099  0.877955  0.633069  0.738187  0.702359  166.207174\n",
       " 3   0.216878  0.900263  0.660930  0.717253  0.697195  119.904358\n",
       " 4   0.190026  0.916211  0.684178  0.703525  0.697016   86.740524\n",
       " 5   0.167709  0.927330  0.702884  0.694293  0.697017   65.174450\n",
       " 6   0.149312  0.934791  0.717365  0.687882  0.697017   52.033439\n",
       " 7   0.134145  0.939581  0.728089  0.683315  0.697017   44.307628\n",
       " 8   0.121608  0.942513  0.735648  0.680006  0.697017   39.801329\n",
       " 9   0.111214  0.944222  0.740706  0.677586  0.697017   37.130450\n",
       " 10  0.102576  0.945168  0.743913  0.675812  0.697017   35.499143\n",
       " 11  0.095387  0.945664  0.745840  0.674515  0.697017   34.471584\n",
       " 12  0.089404  0.945908  0.746937  0.673573  0.697017   33.809990\n",
       " 13  0.084432  0.946022  0.747527  0.672899  0.697017   33.379707\n",
       " 14  0.080311  0.946071  0.747827  0.672422  0.697017   33.099868\n",
       " 15  0.076910  0.946090  0.747970  0.672092  0.697017   32.919182\n",
       " 16  0.074121  0.946097  0.748033  0.671869  0.697017   32.803933\n",
       " 17  0.071850  0.946099  0.748059  0.671722  0.697017   32.731587\n",
       " 18  0.070017  0.946100  0.748069  0.671628  0.697017   32.687037\n",
       " 19  0.068553  0.946100  0.748072  0.671569  0.697017   32.660210\n",
       " 20  0.067399  0.946100  0.748073  0.671535  0.697017   32.644463\n",
       " 21  0.066501  0.946100  0.748074  0.671515  0.697017   32.635481\n",
       " 22  0.065814  0.946100  0.748074  0.671504  0.697017   32.630521\n",
       " 23  0.065296  0.946100  0.748074  0.671498  0.697017   32.627879\n",
       " 24  0.064915  0.946100  0.748074  0.671496  0.697017   32.626525\n",
       " 25  0.064639  0.946100  0.748074  0.671494  0.697016   32.625862\n",
       " 26  0.064445  0.946100  0.748074  0.671494  0.697018   32.625552\n",
       " 27  0.064311  0.946100  0.748074  0.671494  0.697015   32.625415\n",
       " 28  0.064222  0.946100  0.748074  0.671493  0.697022   32.625357\n",
       " 29  0.064164  0.946100  0.748074  0.671493  0.697002   32.625335\n",
       " 30  0.064128  0.946100  0.748074  0.671493  0.697061   32.625327\n",
       " 31  0.064106  0.946100  0.748074  0.671493  0.696877   32.625324\n",
       " 32  0.064093  0.946100  0.748074  0.671493  0.697491   32.625324\n",
       " 33  0.064086  0.946100  0.748074  0.671493  0.695302   32.625341\n",
       " 34  0.064083  0.946100  0.748074  0.671493  0.703382   32.625578\n",
       " 35  0.064081  0.946100  0.748074  0.671493  0.680819   32.627066\n",
       " 36  0.064080  0.946100  0.748074  0.671493  0.709399   32.626317\n",
       " 37  0.064080  0.946100  0.748074  0.671493  0.691349   32.625525\n",
       " 38  0.064079  0.946100  0.748074  0.671493  0.699319   32.625356\n",
       " 39  0.064079  0.946100  0.748074  0.671493  0.695970   32.625329\n",
       " 40  0.064079  0.946100  0.748074  0.671493  0.697570   32.625324\n",
       " 41  0.064079  0.946100  0.748074  0.671493  0.696680   32.625323\n",
       " 42  0.064079  0.946100  0.748074  0.671493  0.697252   32.625323\n",
       " 43  0.064079  0.946100  0.748073  0.671493  0.696832   32.625323\n",
       " 44  0.064079  0.946101  0.748074  0.671493  0.697180   32.625323\n",
       " 45  0.064079  0.946099  0.748073  0.671493  0.696856   32.625323\n",
       " 46  0.064079  0.946104  0.748075  0.671493  0.697193   32.625323\n",
       " 47  0.064079  0.946091  0.748071  0.671493  0.696804   32.625324\n",
       " 48  0.064079  0.946124  0.748081  0.671493  0.697299   32.625331\n",
       " 49  0.064079  0.946029  0.748057  0.671493  0.696607   32.625394\n",
       " 50  0.064079  0.946325  0.748119  0.671493  0.697665   32.626018),\n",
       " Data(design=DesignSpace(input_space=[ContinuousParameter(name='x0', lower_bound=-1.0, upper_bound=1.0, type='float'), ContinuousParameter(name='x1', lower_bound=-1.0, upper_bound=1.0, type='float'), ContinuousParameter(name='x2', lower_bound=-1.0, upper_bound=1.0, type='float'), ContinuousParameter(name='x3', lower_bound=-1.0, upper_bound=1.0, type='float'), ContinuousParameter(name='x4', lower_bound=-1.0, upper_bound=1.0, type='float')], output_space=[ContinuousParameter(name='y', lower_bound=-inf, upper_bound=inf, type='float')]), data=       input                                              output\n",
       "           x0        x1        x2        x3        x4           y\n",
       " 0   0.798160 -0.015699  0.974886  0.061805 -0.870319  238.094054\n",
       " 1   0.279721  0.846332  0.601446  0.769809  0.670736  223.667528\n",
       " 2   0.248099  0.877955  0.633069  0.738187  0.702359  166.207174\n",
       " 3   0.216878  0.900263  0.660930  0.717253  0.697195  119.904358\n",
       " 4   0.190026  0.916211  0.684178  0.703525  0.697016   86.740524\n",
       " 5   0.167709  0.927330  0.702884  0.694293  0.697017   65.174450\n",
       " 6   0.149312  0.934791  0.717365  0.687882  0.697017   52.033439\n",
       " 7   0.134145  0.939581  0.728089  0.683315  0.697017   44.307628\n",
       " 8   0.121608  0.942513  0.735648  0.680006  0.697017   39.801329\n",
       " 9   0.111214  0.944222  0.740706  0.677586  0.697017   37.130450\n",
       " 10  0.102576  0.945168  0.743913  0.675812  0.697017   35.499143\n",
       " 11  0.095387  0.945664  0.745840  0.674515  0.697017   34.471584\n",
       " 12  0.089404  0.945908  0.746937  0.673573  0.697017   33.809990\n",
       " 13  0.084432  0.946022  0.747527  0.672899  0.697017   33.379707\n",
       " 14  0.080311  0.946071  0.747827  0.672422  0.697017   33.099868\n",
       " 15  0.076910  0.946090  0.747970  0.672092  0.697017   32.919182\n",
       " 16  0.074121  0.946097  0.748033  0.671869  0.697017   32.803933\n",
       " 17  0.071850  0.946099  0.748059  0.671722  0.697017   32.731587\n",
       " 18  0.070017  0.946100  0.748069  0.671628  0.697017   32.687037\n",
       " 19  0.068553  0.946100  0.748072  0.671569  0.697017   32.660210\n",
       " 20  0.067399  0.946100  0.748073  0.671535  0.697017   32.644463\n",
       " 21  0.066501  0.946100  0.748074  0.671515  0.697017   32.635481\n",
       " 22  0.065814  0.946100  0.748074  0.671504  0.697017   32.630521\n",
       " 23  0.065296  0.946100  0.748074  0.671498  0.697017   32.627879\n",
       " 24  0.064915  0.946100  0.748074  0.671496  0.697017   32.626525\n",
       " 25  0.064639  0.946100  0.748074  0.671494  0.697016   32.625862\n",
       " 26  0.064445  0.946100  0.748074  0.671494  0.697018   32.625552\n",
       " 27  0.064311  0.946100  0.748074  0.671494  0.697015   32.625415\n",
       " 28  0.064222  0.946100  0.748074  0.671493  0.697022   32.625357\n",
       " 29  0.064164  0.946100  0.748074  0.671493  0.697002   32.625335\n",
       " 30  0.064128  0.946100  0.748074  0.671493  0.697061   32.625327\n",
       " 31  0.064106  0.946100  0.748074  0.671493  0.696877   32.625324\n",
       " 32  0.064093  0.946100  0.748074  0.671493  0.697491   32.625324\n",
       " 33  0.064086  0.946100  0.748074  0.671493  0.695302   32.625341\n",
       " 34  0.064083  0.946100  0.748074  0.671493  0.703382   32.625578\n",
       " 35  0.064081  0.946100  0.748074  0.671493  0.680819   32.627066\n",
       " 36  0.064080  0.946100  0.748074  0.671493  0.709399   32.626317\n",
       " 37  0.064080  0.946100  0.748074  0.671493  0.691349   32.625525\n",
       " 38  0.064079  0.946100  0.748074  0.671493  0.699319   32.625356\n",
       " 39  0.064079  0.946100  0.748074  0.671493  0.695970   32.625329\n",
       " 40  0.064079  0.946100  0.748074  0.671493  0.697570   32.625324\n",
       " 41  0.064079  0.946100  0.748074  0.671493  0.696680   32.625323\n",
       " 42  0.064079  0.946100  0.748074  0.671493  0.697252   32.625323\n",
       " 43  0.064079  0.946100  0.748073  0.671493  0.696832   32.625323\n",
       " 44  0.064079  0.946101  0.748074  0.671493  0.697180   32.625323\n",
       " 45  0.064079  0.946099  0.748073  0.671493  0.696856   32.625323\n",
       " 46  0.064079  0.946104  0.748075  0.671493  0.697193   32.625323\n",
       " 47  0.064079  0.946091  0.748071  0.671493  0.696804   32.625324\n",
       " 48  0.064079  0.946124  0.748081  0.671493  0.697299   32.625331\n",
       " 49  0.064079  0.946029  0.748057  0.671493  0.696607   32.625394\n",
       " 50  0.064079  0.946325  0.748119  0.671493  0.697665   32.626018),\n",
       " Data(design=DesignSpace(input_space=[ContinuousParameter(name='x0', lower_bound=-1.0, upper_bound=1.0, type='float'), ContinuousParameter(name='x1', lower_bound=-1.0, upper_bound=1.0, type='float'), ContinuousParameter(name='x2', lower_bound=-1.0, upper_bound=1.0, type='float'), ContinuousParameter(name='x3', lower_bound=-1.0, upper_bound=1.0, type='float'), ContinuousParameter(name='x4', lower_bound=-1.0, upper_bound=1.0, type='float')], output_space=[ContinuousParameter(name='y', lower_bound=-inf, upper_bound=inf, type='float')]), data=       input                                              output\n",
       "           x0        x1        x2        x3        x4           y\n",
       " 0   0.381982 -0.769018 -0.090444 -0.169515 -0.077940   57.316981\n",
       " 1   0.279721  0.846332  0.601446  0.769809  0.670736  223.667528\n",
       " 2   0.248099  0.877955  0.633069  0.738187  0.702359  166.207174\n",
       " 3   0.216878  0.900263  0.660930  0.717253  0.697195  119.904358\n",
       " 4   0.190026  0.916211  0.684178  0.703525  0.697016   86.740524\n",
       " 5   0.167709  0.927330  0.702884  0.694293  0.697017   65.174450\n",
       " 6   0.149312  0.934791  0.717365  0.687882  0.697017   52.033439\n",
       " 7   0.134145  0.939581  0.728089  0.683315  0.697017   44.307628\n",
       " 8   0.121608  0.942513  0.735648  0.680006  0.697017   39.801329\n",
       " 9   0.111214  0.944222  0.740706  0.677586  0.697017   37.130450\n",
       " 10  0.102576  0.945168  0.743913  0.675812  0.697017   35.499143\n",
       " 11  0.095387  0.945664  0.745840  0.674515  0.697017   34.471584\n",
       " 12  0.089404  0.945908  0.746937  0.673573  0.697017   33.809990\n",
       " 13  0.084432  0.946022  0.747527  0.672899  0.697017   33.379707\n",
       " 14  0.080311  0.946071  0.747827  0.672422  0.697017   33.099868\n",
       " 15  0.076910  0.946090  0.747970  0.672092  0.697017   32.919182\n",
       " 16  0.074121  0.946097  0.748033  0.671869  0.697017   32.803933\n",
       " 17  0.071850  0.946099  0.748059  0.671722  0.697017   32.731587\n",
       " 18  0.070017  0.946100  0.748069  0.671628  0.697017   32.687037\n",
       " 19  0.068553  0.946100  0.748072  0.671569  0.697017   32.660210\n",
       " 20  0.067399  0.946100  0.748073  0.671535  0.697017   32.644463\n",
       " 21  0.066501  0.946100  0.748074  0.671515  0.697017   32.635481\n",
       " 22  0.065814  0.946100  0.748074  0.671504  0.697017   32.630521\n",
       " 23  0.065296  0.946100  0.748074  0.671498  0.697017   32.627879\n",
       " 24  0.064915  0.946100  0.748074  0.671496  0.697017   32.626525\n",
       " 25  0.064639  0.946100  0.748074  0.671494  0.697016   32.625862\n",
       " 26  0.064445  0.946100  0.748074  0.671494  0.697018   32.625552\n",
       " 27  0.064311  0.946100  0.748074  0.671494  0.697015   32.625415\n",
       " 28  0.064222  0.946100  0.748074  0.671493  0.697022   32.625357\n",
       " 29  0.064164  0.946100  0.748074  0.671493  0.697002   32.625335\n",
       " 30  0.064128  0.946100  0.748074  0.671493  0.697061   32.625327\n",
       " 31  0.064106  0.946100  0.748074  0.671493  0.696877   32.625324\n",
       " 32  0.064093  0.946100  0.748074  0.671493  0.697491   32.625324\n",
       " 33  0.064086  0.946100  0.748074  0.671493  0.695302   32.625341\n",
       " 34  0.064083  0.946100  0.748074  0.671493  0.703382   32.625578\n",
       " 35  0.064081  0.946100  0.748074  0.671493  0.680819   32.627066\n",
       " 36  0.064080  0.946100  0.748074  0.671493  0.709399   32.626317\n",
       " 37  0.064080  0.946100  0.748074  0.671493  0.691349   32.625525\n",
       " 38  0.064079  0.946100  0.748074  0.671493  0.699319   32.625356\n",
       " 39  0.064079  0.946100  0.748074  0.671493  0.695970   32.625329\n",
       " 40  0.064079  0.946100  0.748074  0.671493  0.697570   32.625324\n",
       " 41  0.064079  0.946100  0.748074  0.671493  0.696680   32.625323\n",
       " 42  0.064079  0.946100  0.748074  0.671493  0.697252   32.625323\n",
       " 43  0.064079  0.946100  0.748073  0.671493  0.696832   32.625323\n",
       " 44  0.064079  0.946101  0.748074  0.671493  0.697180   32.625323\n",
       " 45  0.064079  0.946099  0.748073  0.671493  0.696856   32.625323\n",
       " 46  0.064079  0.946104  0.748075  0.671493  0.697193   32.625323\n",
       " 47  0.064079  0.946091  0.748071  0.671493  0.696804   32.625324\n",
       " 48  0.064079  0.946124  0.748081  0.671493  0.697299   32.625331\n",
       " 49  0.064079  0.946029  0.748057  0.671493  0.696607   32.625394\n",
       " 50  0.064079  0.946325  0.748119  0.671493  0.697665   32.626018)]"
      ]
     },
     "execution_count": 10,
     "metadata": {},
     "output_type": "execute_result"
    }
   ],
   "source": [
    "results"
   ]
  },
  {
   "cell_type": "code",
   "execution_count": 11,
   "metadata": {},
   "outputs": [
    {
     "ename": "NameError",
     "evalue": "name 'Pool' is not defined",
     "output_type": "error",
     "traceback": [
      "\u001b[0;31m---------------------------------------------------------------------------\u001b[0m",
      "\u001b[0;31mNameError\u001b[0m                                 Traceback (most recent call last)",
      "Input \u001b[0;32mIn [11]\u001b[0m, in \u001b[0;36m<cell line: 7>\u001b[0;34m()\u001b[0m\n\u001b[1;32m      2\u001b[0m start_t \u001b[39m=\u001b[39m time\u001b[39m.\u001b[39mperf_counter()\n\u001b[1;32m      4\u001b[0m args \u001b[39m=\u001b[39m [(optimizer, function,  sampler, iterations, np\u001b[39m.\u001b[39mrandom\u001b[39m.\u001b[39mrandint(low\u001b[39m=\u001b[39m\u001b[39m0\u001b[39m, high\u001b[39m=\u001b[39m\u001b[39m1e5\u001b[39m)) \u001b[39mfor\u001b[39;00m _ \u001b[39min\u001b[39;00m \u001b[39mrange\u001b[39m(realizations)]\n\u001b[0;32m----> 7\u001b[0m \u001b[39mwith\u001b[39;00m Pool() \u001b[39mas\u001b[39;00m pool:\n\u001b[1;32m      8\u001b[0m     results \u001b[39m=\u001b[39m pool\u001b[39m.\u001b[39mstarmap_async(f3dasm\u001b[39m.\u001b[39mrun_optimization, args)\n\u001b[1;32m     10\u001b[0m end_t \u001b[39m=\u001b[39m time\u001b[39m.\u001b[39mperf_counter()\n",
      "\u001b[0;31mNameError\u001b[0m: name 'Pool' is not defined"
     ]
    }
   ],
   "source": [
    "\"\"\"Run multiple realizations of the same algorithm on a benchmark function\"\"\"\n",
    "start_t = time.perf_counter()\n",
    "\n",
    "args = [(optimizer, function,  sampler, iterations, np.random.randint(low=0, high=1e5)) for _ in range(realizations)]\n",
    "\n",
    "\n",
    "with Pool() as pool:\n",
    "    results = pool.starmap_async(f3dasm.run_optimization, args)\n",
    "    \n",
    "end_t = time.perf_counter()\n",
    "\n",
    "total_duration = end_t - start_t\n",
    "print(f\"Optimization took {total_duration:.2f}s total\")"
   ]
  },
  {
   "cell_type": "code",
   "execution_count": null,
   "metadata": {},
   "outputs": [],
   "source": [
    "results"
   ]
  },
  {
   "cell_type": "code",
   "execution_count": null,
   "metadata": {},
   "outputs": [],
   "source": [
    "func.dfdx(np.array([0.5, 0.8]))"
   ]
  },
  {
   "cell_type": "code",
   "execution_count": null,
   "metadata": {},
   "outputs": [],
   "source": [
    "if dim == 2:\n",
    "    fig, ax = func.plot_data(all_data[0], px=100, domain=bounds)\n",
    "    ax.scatter(func.get_global_minimum(dim)[0][0],func.get_global_minimum(dim)[0][1], s=40, c='r')\n",
    "    #ax.scatter(-3.19468541,0.89682456, s=40, c='g')\n",
    "    func.plot(px=100, domain=bounds)"
   ]
  },
  {
   "cell_type": "code",
   "execution_count": null,
   "metadata": {},
   "outputs": [],
   "source": [
    "y = np.array([[0.2,0.1],[0.3,0.4]])\n",
    "y + np.abs(func.get_global_minimum(2)[1])"
   ]
  },
  {
   "cell_type": "code",
   "execution_count": null,
   "metadata": {},
   "outputs": [],
   "source": [
    "all_data[0].data['input']"
   ]
  },
  {
   "cell_type": "code",
   "execution_count": null,
   "metadata": {},
   "outputs": [],
   "source": [
    "func.scale_bounds, func.input_domain"
   ]
  },
  {
   "cell_type": "code",
   "execution_count": null,
   "metadata": {},
   "outputs": [],
   "source": [
    "import pandas as pd\n",
    "mean_y = pd.concat([d.get_output_data() for d in all_data], axis=1).mean(axis=1)\n",
    "std_y = pd.concat([d.get_output_data() for d in all_data], axis=1).std(axis=1)\n",
    "mean_y"
   ]
  },
  {
   "cell_type": "code",
   "execution_count": null,
   "metadata": {},
   "outputs": [],
   "source": [
    "import matplotlib.pyplot as plt\n",
    "import numpy as np\n",
    "\n",
    "fig, ax = plt.figure(), plt.axes()\n",
    "ax.plot(mean_y)\n",
    "ax.fill_between(np.arange(len(mean_y)), mean_y-1.96*std_y, mean_y+1.96*std_y, color='b', alpha=.1)\n",
    "#ax.set_yscale('log')\n",
    "fig.show()"
   ]
  },
  {
   "cell_type": "code",
   "execution_count": null,
   "metadata": {},
   "outputs": [],
   "source": [
    "func.get_global_minimum(2)"
   ]
  },
  {
   "cell_type": "code",
   "execution_count": null,
   "metadata": {},
   "outputs": [],
   "source": [
    "func.descale_input(np.array([0.0,0.0]))\n",
    "x = np.array([[0.0,0.0]])"
   ]
  },
  {
   "cell_type": "code",
   "execution_count": null,
   "metadata": {},
   "outputs": [],
   "source": [
    "func.input_domain"
   ]
  },
  {
   "cell_type": "code",
   "execution_count": null,
   "metadata": {},
   "outputs": [],
   "source": [
    "(func.input_domain[:, 1] - func.input_domain[:, 0]) * x + func.input_domain[:, 0]"
   ]
  },
  {
   "cell_type": "code",
   "execution_count": null,
   "metadata": {},
   "outputs": [],
   "source": [
    "(x - func.input_domain[:, 0]) / (func.input_domain[:, 1] - func.input_domain[:, 0])"
   ]
  },
  {
   "cell_type": "code",
   "execution_count": null,
   "metadata": {},
   "outputs": [],
   "source": [
    "x"
   ]
  },
  {
   "cell_type": "code",
   "execution_count": null,
   "metadata": {},
   "outputs": [],
   "source": [
    "func.input_domain[:, 0]"
   ]
  },
  {
   "cell_type": "code",
   "execution_count": null,
   "metadata": {},
   "outputs": [],
   "source": [
    "x - func.input_domain[:, 0]"
   ]
  },
  {
   "cell_type": "code",
   "execution_count": null,
   "metadata": {},
   "outputs": [],
   "source": [
    "(func.input_domain[:, 1] - func.input_domain[:, 0])"
   ]
  },
  {
   "cell_type": "code",
   "execution_count": null,
   "metadata": {},
   "outputs": [],
   "source": [
    "o = np.array([[0.9,0.3]])\n",
    "o"
   ]
  },
  {
   "cell_type": "code",
   "execution_count": null,
   "metadata": {},
   "outputs": [],
   "source": [
    "func.scale_input(func.descale_input(o))"
   ]
  },
  {
   "cell_type": "code",
   "execution_count": null,
   "metadata": {},
   "outputs": [],
   "source": [
    "func.descale_input(func.scale_input(o))\n",
    "o"
   ]
  },
  {
   "cell_type": "code",
   "execution_count": null,
   "metadata": {},
   "outputs": [],
   "source": [
    "scale_bounds = [-3., 1.]"
   ]
  },
  {
   "cell_type": "code",
   "execution_count": null,
   "metadata": {},
   "outputs": [],
   "source": [
    "o = np.random.uniform(low=scale_bounds[0], high=scale_bounds[1], size=(1, func.dimensionality))\n",
    "x = o\n",
    "x"
   ]
  },
  {
   "cell_type": "code",
   "execution_count": null,
   "metadata": {},
   "outputs": [],
   "source": [
    "(func.input_domain[:, 1] - func.input_domain[:, 0])"
   ]
  },
  {
   "cell_type": "code",
   "execution_count": null,
   "metadata": {},
   "outputs": [],
   "source": [
    "(x - func.scale_bounds[:, 0]) / (func.scale_bounds[:, 1] - func.scale_bounds[0])"
   ]
  },
  {
   "cell_type": "code",
   "execution_count": null,
   "metadata": {},
   "outputs": [],
   "source": [
    "func.offset"
   ]
  },
  {
   "cell_type": "code",
   "execution_count": null,
   "metadata": {},
   "outputs": [],
   "source": [
    "func.get_global_minimum(2)[0]"
   ]
  },
  {
   "cell_type": "code",
   "execution_count": null,
   "metadata": {},
   "outputs": [],
   "source": [
    "(func.scale_bounds[:, 1] - func.scale_bounds[0])"
   ]
  }
 ],
 "metadata": {
  "interpreter": {
   "hash": "73193fbeb8677ab93f213154c0927f21dd4fccfe51cf5f6d1ad5a916be4d211f"
  },
  "kernelspec": {
   "display_name": "Python 3.10.4 ('testthings')",
   "language": "python",
   "name": "python3"
  },
  "language_info": {
   "codemirror_mode": {
    "name": "ipython",
    "version": 3
   },
   "file_extension": ".py",
   "mimetype": "text/x-python",
   "name": "python",
   "nbconvert_exporter": "python",
   "pygments_lexer": "ipython3",
   "version": "3.10.5"
  },
  "orig_nbformat": 4
 },
 "nbformat": 4,
 "nbformat_minor": 2
}
