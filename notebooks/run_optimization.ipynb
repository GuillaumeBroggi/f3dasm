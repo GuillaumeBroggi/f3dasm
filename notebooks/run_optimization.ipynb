{
 "cells": [
  {
   "cell_type": "code",
   "execution_count": 1,
   "metadata": {},
   "outputs": [],
   "source": [
    "import f3dasm\n",
    "import numpy as np\n",
    "import time\n",
    "from multiprocessing import Pool"
   ]
  },
  {
   "cell_type": "code",
   "execution_count": 8,
   "metadata": {},
   "outputs": [],
   "source": [
    "dim = 2\n",
    "iterations = 50\n",
    "realizations = 10\n",
    "bounds = np.array([[-1.0, 1.0], [-1.0, 1.0]])\n",
    "hyperparameters={}\n",
    "\n",
    "design = f3dasm.make_nd_continuous_design(bounds=bounds, dimensions=dim)\n",
    "\n",
    "function = f3dasm.functions.Ackley(dimensionality=dim, noise=False, scale_bounds=bounds)\n",
    "\n",
    "data = f3dasm.Data(designspace=design)\n",
    "optimizer = f3dasm.optimization.CMAES(data=data, hyperparameters=hyperparameters)\n",
    "sampler = f3dasm.sampling.LatinHypercubeSampling(doe=design)\n",
    "\n",
    "\n",
    "# all_data = f3dasm.run_multiple_realizations(optimizer=optimizer, \n",
    "# function=function,\n",
    "# sampler=sampler,\n",
    "# iterations=iterations,\n",
    "# realizations=realizations\n",
    "# )\n",
    "\n"
   ]
  },
  {
   "cell_type": "code",
   "execution_count": 10,
   "metadata": {},
   "outputs": [
    {
     "data": {
      "text/plain": [
       "[Data(designspace=DesignSpace(input_space=[ContinuousParameter(name='x0', lower_bound=-1.0, upper_bound=1.0, type='float'), ContinuousParameter(name='x1', lower_bound=-1.0, upper_bound=1.0, type='float')], output_space=[ContinuousParameter(name='y', lower_bound=-inf, upper_bound=inf, type='float')]), data=             input                   output\n",
       "                 x0            x1          y\n",
       " 0     6.930749e-01 -3.084881e-02  19.806444\n",
       " 1    -5.333847e-01  5.673071e-01  20.035312\n",
       " 2     2.314243e-01  1.733977e-01  16.904582\n",
       " 3     1.694220e-01 -1.816147e-01  15.441053\n",
       " 4     8.184458e-01 -2.735004e-01  21.106759\n",
       " ...            ...           ...        ...\n",
       " 1525  9.711650e-08 -7.721011e-08   0.000011\n",
       " 1526 -6.244350e-07 -3.877651e-07   0.000067\n",
       " 1527 -4.969007e-07  2.539621e-07   0.000051\n",
       " 1528  2.938984e-07 -1.449603e-07   0.000030\n",
       " 1529  8.308338e-07 -1.182080e-06   0.000131\n",
       " \n",
       " [1530 rows x 3 columns]),\n",
       " Data(designspace=DesignSpace(input_space=[ContinuousParameter(name='x0', lower_bound=-1.0, upper_bound=1.0, type='float'), ContinuousParameter(name='x1', lower_bound=-1.0, upper_bound=1.0, type='float')], output_space=[ContinuousParameter(name='y', lower_bound=-inf, upper_bound=inf, type='float')]), data=             input                   output\n",
       "                 x0            x1          y\n",
       " 0    -6.042691e-01  7.774233e-01  21.380610\n",
       " 1     9.294175e-01 -2.883414e-01  21.427530\n",
       " 2    -3.809919e-04 -9.822416e-01  21.438763\n",
       " 3     3.162932e-01  6.135640e-01  20.809558\n",
       " 4    -3.294523e-01  2.743329e-01  19.169443\n",
       " ...            ...           ...        ...\n",
       " 1525  3.852522e-08 -7.408223e-08   0.000008\n",
       " 1526  2.267794e-07  8.416090e-07   0.000079\n",
       " 1527 -4.876754e-07  5.097796e-07   0.000064\n",
       " 1528  1.641376e-07 -2.796534e-07   0.000029\n",
       " 1529  1.496154e-06 -5.937092e-07   0.000146\n",
       " \n",
       " [1530 rows x 3 columns]),\n",
       " Data(designspace=DesignSpace(input_space=[ContinuousParameter(name='x0', lower_bound=-1.0, upper_bound=1.0, type='float'), ContinuousParameter(name='x1', lower_bound=-1.0, upper_bound=1.0, type='float')], output_space=[ContinuousParameter(name='y', lower_bound=-inf, upper_bound=inf, type='float')]), data=             input                   output\n",
       "                 x0            x1          y\n",
       " 0    -7.754877e-01  3.213102e-01  21.164375\n",
       " 1     6.804430e-01 -4.037405e-01  20.490221\n",
       " 2     5.408049e-01  5.330458e-01  20.729995\n",
       " 3     3.204213e-01 -3.592133e-01  19.853675\n",
       " 4    -4.372260e-01 -5.370084e-01  19.833693\n",
       " ...            ...           ...        ...\n",
       " 1525 -2.910446e-08 -1.432082e-07   0.000013\n",
       " 1526 -6.505253e-08  3.071248e-08   0.000007\n",
       " 1527 -1.972875e-07 -6.293136e-07   0.000060\n",
       " 1528 -8.229854e-08 -5.408204e-07   0.000050\n",
       " 1529 -4.645138e-07 -8.019456e-07   0.000084\n",
       " \n",
       " [1530 rows x 3 columns]),\n",
       " Data(designspace=DesignSpace(input_space=[ContinuousParameter(name='x0', lower_bound=-1.0, upper_bound=1.0, type='float'), ContinuousParameter(name='x1', lower_bound=-1.0, upper_bound=1.0, type='float')], output_space=[ContinuousParameter(name='y', lower_bound=-inf, upper_bound=inf, type='float')]), data=             input                   output\n",
       "                 x0            x1          y\n",
       " 0    -3.562562e-01  6.379082e-01  21.550292\n",
       " 1     9.127249e-01  9.183238e-01  21.878531\n",
       " 2     1.627607e-03 -9.736837e-01  20.363672\n",
       " 3     4.804221e-01 -7.334875e-02  19.971792\n",
       " 4     2.502444e-01  4.275332e-01  19.257268\n",
       " ...            ...           ...        ...\n",
       " 1525  8.790611e-08 -9.524694e-08   0.000012\n",
       " 1526  4.315501e-07  8.301693e-07   0.000085\n",
       " 1527 -3.671656e-07  6.052631e-07   0.000064\n",
       " 1528  1.858945e-07 -3.316927e-07   0.000034\n",
       " 1529  1.525021e-06 -8.877726e-07   0.000160\n",
       " \n",
       " [1530 rows x 3 columns]),\n",
       " Data(designspace=DesignSpace(input_space=[ContinuousParameter(name='x0', lower_bound=-1.0, upper_bound=1.0, type='float'), ContinuousParameter(name='x1', lower_bound=-1.0, upper_bound=1.0, type='float')], output_space=[ContinuousParameter(name='y', lower_bound=-inf, upper_bound=inf, type='float')]), data=             input                   output\n",
       "                 x0            x1          y\n",
       " 0    -5.257345e-01 -7.604026e-01  21.439050\n",
       " 1    -8.603744e-01 -9.104432e-03  21.772112\n",
       " 2    -9.901260e-01  3.103441e-01  21.248504\n",
       " 3     5.587250e-01 -6.957844e-02  19.606614\n",
       " 4     6.399318e-01 -8.248898e-01  22.131399\n",
       " ...            ...           ...        ...\n",
       " 1525  2.939164e-08  7.064400e-08   0.000007\n",
       " 1526 -6.465298e-07 -3.625575e-07   0.000067\n",
       " 1527 -6.248006e-07  3.057266e-07   0.000063\n",
       " 1528  2.391196e-07  3.507455e-08   0.000022\n",
       " 1529  9.533264e-07 -9.213229e-07   0.000120\n",
       " \n",
       " [1530 rows x 3 columns]),\n",
       " Data(designspace=DesignSpace(input_space=[ContinuousParameter(name='x0', lower_bound=-1.0, upper_bound=1.0, type='float'), ContinuousParameter(name='x1', lower_bound=-1.0, upper_bound=1.0, type='float')], output_space=[ContinuousParameter(name='y', lower_bound=-inf, upper_bound=inf, type='float')]), data=             input                   output\n",
       "                 x0            x1          y\n",
       " 0     5.579098e-01  9.913751e-01  21.355442\n",
       " 1    -7.025239e-01 -8.611020e-01  22.207002\n",
       " 2     4.460992e-01  4.288127e-01  20.655574\n",
       " 3     8.116530e-01  2.592355e-01  20.873784\n",
       " 4     3.128845e-01 -4.193466e-01  19.780822\n",
       " ...            ...           ...        ...\n",
       " 1525 -5.220785e-08 -5.707733e-08   0.000007\n",
       " 1526  2.140091e-07  7.883037e-07   0.000074\n",
       " 1527 -4.918571e-07  5.679328e-07   0.000068\n",
       " 1528  4.633170e-08 -2.691992e-07   0.000025\n",
       " 1529  1.271992e-06 -7.449513e-07   0.000133\n",
       " \n",
       " [1530 rows x 3 columns]),\n",
       " Data(designspace=DesignSpace(input_space=[ContinuousParameter(name='x0', lower_bound=-1.0, upper_bound=1.0, type='float'), ContinuousParameter(name='x1', lower_bound=-1.0, upper_bound=1.0, type='float')], output_space=[ContinuousParameter(name='y', lower_bound=-inf, upper_bound=inf, type='float')]), data=             input                   output\n",
       "                 x0            x1          y\n",
       " 0    -8.159197e-01 -2.382024e-01  21.263565\n",
       " 1    -6.655403e-02 -7.322278e-01  21.105782\n",
       " 2    -8.801444e-01  8.670268e-01  21.373189\n",
       " 3     2.701140e-01 -1.632720e-01  17.130228\n",
       " 4    -5.908255e-01  1.940542e-01  19.801314\n",
       " ...            ...           ...        ...\n",
       " 1525  2.834894e-08  6.505658e-08   0.000006\n",
       " 1526 -5.638748e-07 -3.782507e-07   0.000061\n",
       " 1527 -5.885111e-07  2.373945e-07   0.000057\n",
       " 1528  2.234524e-07  4.638142e-08   0.000021\n",
       " 1529  9.436066e-07 -7.848776e-07   0.000111\n",
       " \n",
       " [1530 rows x 3 columns]),\n",
       " Data(designspace=DesignSpace(input_space=[ContinuousParameter(name='x0', lower_bound=-1.0, upper_bound=1.0, type='float'), ContinuousParameter(name='x1', lower_bound=-1.0, upper_bound=1.0, type='float')], output_space=[ContinuousParameter(name='y', lower_bound=-inf, upper_bound=inf, type='float')]), data=             input                   output\n",
       "                 x0            x1          y\n",
       " 0     3.708568e-01  2.130267e-01  18.114809\n",
       " 1     9.555820e-01 -6.946646e-01  21.935874\n",
       " 2    -1.070536e-01  4.276044e-01  19.475457\n",
       " 3    -8.149190e-01  9.543103e-01  21.692849\n",
       " 4     7.633648e-01 -3.375651e-01  21.511229\n",
       " ...            ...           ...        ...\n",
       " 1525  6.282897e-08  8.712149e-08   0.000010\n",
       " 1526 -6.217828e-07 -5.828042e-07   0.000077\n",
       " 1527 -7.593267e-07  2.026600e-07   0.000071\n",
       " 1528  3.167010e-07  9.654045e-08   0.000030\n",
       " 1529  1.384900e-06 -8.465168e-07   0.000147\n",
       " \n",
       " [1530 rows x 3 columns]),\n",
       " Data(designspace=DesignSpace(input_space=[ContinuousParameter(name='x0', lower_bound=-1.0, upper_bound=1.0, type='float'), ContinuousParameter(name='x1', lower_bound=-1.0, upper_bound=1.0, type='float')], output_space=[ContinuousParameter(name='y', lower_bound=-inf, upper_bound=inf, type='float')]), data=             input                   output\n",
       "                 x0            x1          y\n",
       " 0     8.655706e-01 -9.874810e-01  22.097605\n",
       " 1    -8.714357e-01  7.525649e-01  20.356761\n",
       " 2     6.382923e-01 -6.251279e-01  21.312141\n",
       " 3    -6.525006e-01 -5.369545e-01  20.513002\n",
       " 4    -3.986411e-01 -2.641853e-01  19.789465\n",
       " ...            ...           ...        ...\n",
       " 1525 -1.043303e-07 -4.928558e-08   0.000010\n",
       " 1526  3.928828e-07  7.764797e-07   0.000079\n",
       " 1527 -4.049638e-07  7.402797e-07   0.000076\n",
       " 1528 -5.550019e-08 -3.030000e-07   0.000028\n",
       " 1529  1.108811e-06 -1.154675e-06   0.000145\n",
       " \n",
       " [1530 rows x 3 columns]),\n",
       " Data(designspace=DesignSpace(input_space=[ContinuousParameter(name='x0', lower_bound=-1.0, upper_bound=1.0, type='float'), ContinuousParameter(name='x1', lower_bound=-1.0, upper_bound=1.0, type='float')], output_space=[ContinuousParameter(name='y', lower_bound=-inf, upper_bound=inf, type='float')]), data=             input                   output\n",
       "                 x0            x1          y\n",
       " 0     1.305843e-01  5.324420e-01  19.026653\n",
       " 1    -1.212172e-01  3.326532e-01  17.632329\n",
       " 2     1.909175e-01  6.578545e-01  19.452331\n",
       " 3     2.904660e-01  4.146505e-01  19.874976\n",
       " 4    -3.765519e-01 -3.901820e-02  17.495961\n",
       " ...            ...           ...        ...\n",
       " 1525  1.217919e-07 -8.375374e-08   0.000013\n",
       " 1526 -6.974736e-07 -4.881575e-07   0.000077\n",
       " 1527 -5.948177e-07  2.636734e-07   0.000059\n",
       " 1528  3.561718e-07 -1.502025e-07   0.000035\n",
       " 1529  1.056909e-06 -1.319583e-06   0.000153\n",
       " \n",
       " [1530 rows x 3 columns])]"
      ]
     },
     "execution_count": 10,
     "metadata": {},
     "output_type": "execute_result"
    }
   ],
   "source": [
    "args = {\n",
    "'realizations': realizations,\n",
    "'optimizer': optimizer, \n",
    "'function': function,\n",
    "'sampler': sampler,\n",
    "'iterations': iterations,\n",
    "\n",
    "\n",
    "}\n",
    "f3dasm.run_multiple_realizations(**args)"
   ]
  },
  {
   "cell_type": "code",
   "execution_count": 11,
   "metadata": {},
   "outputs": [
    {
     "name": "stdout",
     "output_type": "stream",
     "text": [
      "Optimization took 5.45s total\n"
     ]
    }
   ],
   "source": [
    "\"\"\"Run multiple realizations of the same algorithm on a benchmark function\"\"\"\n",
    "start_t = time.perf_counter()\n",
    "\n",
    "seed = np.random.randint(low=0, high=1e5)\n",
    "all_data = []\n",
    "\n",
    "for _ in range(realizations):\n",
    "    data = f3dasm.run_optimization(\n",
    "        optimizer=optimizer, function=function, sampler=sampler, iterations=iterations, seed=seed\n",
    "    )\n",
    "    all_data.append(data)\n",
    "\n",
    "    # Increase seed\n",
    "    seed += 1\n",
    "\n",
    "end_t = time.perf_counter()\n",
    "\n",
    "total_duration = end_t - start_t\n",
    "print(f\"Optimization took {total_duration:.2f}s total\")"
   ]
  },
  {
   "cell_type": "code",
   "execution_count": 4,
   "metadata": {},
   "outputs": [
    {
     "name": "stdout",
     "output_type": "stream",
     "text": [
      "Optimization took 1.73s total\n"
     ]
    }
   ],
   "source": [
    "\"\"\"Run multiple realizations of the same algorithm on a benchmark function\"\"\"\n",
    "start_t = time.perf_counter()\n",
    "\n",
    "args = [(optimizer, function,  sampler, iterations, np.random.randint(low=0, high=1e5)) for _ in range(realizations)]\n",
    "\n",
    "\n",
    "with Pool() as pool:\n",
    "    results = pool.starmap(f3dasm.run_optimization, args)\n",
    "    \n",
    "end_t = time.perf_counter()\n",
    "\n",
    "total_duration = end_t - start_t\n",
    "print(f\"Optimization took {total_duration:.2f}s total\")"
   ]
  },
  {
   "cell_type": "code",
   "execution_count": 5,
   "metadata": {},
   "outputs": [
    {
     "data": {
      "text/plain": [
       "[Data(designspace=DesignSpace(input_space=[ContinuousParameter(name='x0', lower_bound=-1.0, upper_bound=1.0, type='float'), ContinuousParameter(name='x1', lower_bound=-1.0, upper_bound=1.0, type='float')], output_space=[ContinuousParameter(name='y', lower_bound=-inf, upper_bound=inf, type='float')]), data=             input                   output\n",
       "                 x0            x1          y\n",
       " 0    -3.775276e-01  2.284255e-01  18.714142\n",
       " 1     3.683647e-01 -1.296051e-01  17.783462\n",
       " 2     9.864181e-01 -1.820703e-01  21.708502\n",
       " 3     8.509007e-01 -8.995671e-01  21.448672\n",
       " 4     6.648060e-01  4.891698e-01  21.542960\n",
       " ...            ...           ...        ...\n",
       " 1525  1.696379e-07  3.930450e-08   0.000016\n",
       " 1526 -7.608602e-07 -2.171104e-07   0.000072\n",
       " 1527 -4.476736e-07  5.402385e-07   0.000064\n",
       " 1528  3.847700e-07 -7.573220e-08   0.000035\n",
       " 1529  7.557891e-07 -1.423690e-06   0.000146\n",
       " \n",
       " [1530 rows x 3 columns]),\n",
       " Data(designspace=DesignSpace(input_space=[ContinuousParameter(name='x0', lower_bound=-1.0, upper_bound=1.0, type='float'), ContinuousParameter(name='x1', lower_bound=-1.0, upper_bound=1.0, type='float')], output_space=[ContinuousParameter(name='y', lower_bound=-inf, upper_bound=inf, type='float')]), data=             input                   output\n",
       "                 x0            x1          y\n",
       " 0    -6.762605e-02 -9.576928e-01  21.504157\n",
       " 1    -9.731428e-01  9.062161e-01  20.405159\n",
       " 2     1.849015e-01  4.443755e-01  18.759532\n",
       " 3    -5.996929e-02  2.049496e-01  14.138794\n",
       " 4    -7.871218e-01 -5.698791e-01  21.208903\n",
       " ...            ...           ...        ...\n",
       " 1525  4.833534e-08  9.260673e-08   0.000009\n",
       " 1526 -7.996087e-07 -4.873377e-07   0.000085\n",
       " 1527 -7.961886e-07  3.686501e-07   0.000079\n",
       " 1528  3.176321e-07  5.503423e-08   0.000029\n",
       " 1529  1.265124e-06 -1.141761e-06   0.000154\n",
       " \n",
       " [1530 rows x 3 columns]),\n",
       " Data(designspace=DesignSpace(input_space=[ContinuousParameter(name='x0', lower_bound=-1.0, upper_bound=1.0, type='float'), ContinuousParameter(name='x1', lower_bound=-1.0, upper_bound=1.0, type='float')], output_space=[ContinuousParameter(name='y', lower_bound=-inf, upper_bound=inf, type='float')]), data=             input                   output\n",
       "                 x0            x1          y\n",
       " 0     8.045600e-01  7.230862e-01  21.206753\n",
       " 1     8.812508e-01 -9.211101e-01  21.943818\n",
       " 2    -4.855575e-01  9.285906e-01  21.992497\n",
       " 3     7.384917e-01  6.774388e-02  21.108166\n",
       " 4    -6.990650e-01  7.562445e-01  21.699974\n",
       " ...            ...           ...        ...\n",
       " 1525 -7.974348e-08 -3.497487e-08   0.000008\n",
       " 1526  5.846558e-07  3.733239e-07   0.000063\n",
       " 1527  9.606586e-10  6.472068e-07   0.000059\n",
       " 1528 -1.398159e-07 -2.362211e-07   0.000025\n",
       " 1529  3.734205e-07 -1.287903e-06   0.000121\n",
       " \n",
       " [1530 rows x 3 columns]),\n",
       " Data(designspace=DesignSpace(input_space=[ContinuousParameter(name='x0', lower_bound=-1.0, upper_bound=1.0, type='float'), ContinuousParameter(name='x1', lower_bound=-1.0, upper_bound=1.0, type='float')], output_space=[ContinuousParameter(name='y', lower_bound=-inf, upper_bound=inf, type='float')]), data=             input                   output\n",
       "                 x0            x1          y\n",
       " 0     8.424348e-01  1.140883e-01  21.081257\n",
       " 1     4.827555e-02  8.146966e-01  21.248404\n",
       " 2     3.884209e-01 -3.297938e-01  20.327964\n",
       " 3    -1.555843e-01  5.352483e-01  18.791015\n",
       " 4    -6.916579e-01 -3.818745e-01  20.622574\n",
       " ...            ...           ...        ...\n",
       " 1525  7.992674e-08  7.821075e-08   0.000010\n",
       " 1526 -7.782327e-07 -9.349250e-08   0.000071\n",
       " 1527 -4.620362e-07  5.734532e-07   0.000067\n",
       " 1528  2.712273e-07 -4.033369e-08   0.000025\n",
       " 1529  5.542802e-07 -1.288316e-06   0.000127\n",
       " \n",
       " [1530 rows x 3 columns]),\n",
       " Data(designspace=DesignSpace(input_space=[ContinuousParameter(name='x0', lower_bound=-1.0, upper_bound=1.0, type='float'), ContinuousParameter(name='x1', lower_bound=-1.0, upper_bound=1.0, type='float')], output_space=[ContinuousParameter(name='y', lower_bound=-inf, upper_bound=inf, type='float')]), data=             input                   output\n",
       "                 x0            x1          y\n",
       " 0    -2.589988e-01  3.464409e-01  18.530043\n",
       " 1    -9.237586e-01  1.166335e-01  21.828000\n",
       " 2     1.123394e-01 -3.429073e-01  17.729073\n",
       " 3    -7.036333e-01 -8.170280e-02  21.490166\n",
       " 4     8.767410e-01  9.228473e-01  21.675879\n",
       " ...            ...           ...        ...\n",
       " 1525 -9.172287e-08 -5.017319e-08   0.000009\n",
       " 1526  4.606379e-07  6.603531e-07   0.000073\n",
       " 1527 -2.751238e-07  7.329279e-07   0.000071\n",
       " 1528 -7.659287e-08 -2.954252e-07   0.000028\n",
       " 1529  8.914438e-07 -1.252402e-06   0.000139\n",
       " \n",
       " [1530 rows x 3 columns]),\n",
       " Data(designspace=DesignSpace(input_space=[ContinuousParameter(name='x0', lower_bound=-1.0, upper_bound=1.0, type='float'), ContinuousParameter(name='x1', lower_bound=-1.0, upper_bound=1.0, type='float')], output_space=[ContinuousParameter(name='y', lower_bound=-inf, upper_bound=inf, type='float')]), data=             input                   output\n",
       "                 x0            x1          y\n",
       " 0     9.525937e-01  8.392564e-01  21.825483\n",
       " 1     3.541171e-01  5.002679e-01  20.181064\n",
       " 2    -3.488996e-01  4.358920e-01  19.046450\n",
       " 3    -4.969843e-01  2.575998e-01  19.589581\n",
       " 4     5.724997e-01 -8.744853e-01  21.212728\n",
       " ...            ...           ...        ...\n",
       " 1525 -9.333428e-08 -4.432023e-08   0.000009\n",
       " 1526  3.327057e-07  7.054319e-07   0.000071\n",
       " 1527 -3.805913e-07  6.529219e-07   0.000068\n",
       " 1528 -4.378972e-08 -2.695772e-07   0.000025\n",
       " 1529  1.017950e-06 -1.000405e-06   0.000129\n",
       " \n",
       " [1530 rows x 3 columns]),\n",
       " Data(designspace=DesignSpace(input_space=[ContinuousParameter(name='x0', lower_bound=-1.0, upper_bound=1.0, type='float'), ContinuousParameter(name='x1', lower_bound=-1.0, upper_bound=1.0, type='float')], output_space=[ContinuousParameter(name='y', lower_bound=-inf, upper_bound=inf, type='float')]), data=             input                   output\n",
       "                 x0            x1          y\n",
       " 0    -4.056862e-02  3.850648e-01  18.558406\n",
       " 1    -9.749255e-02 -3.329499e-01  17.471608\n",
       " 2     4.929163e-01 -2.212194e-01  19.314137\n",
       " 3     1.157781e-01  8.436615e-01  20.860775\n",
       " 4     7.458365e-01 -1.962040e-01  20.829870\n",
       " ...            ...           ...        ...\n",
       " 1525 -8.672145e-08 -2.296470e-08   0.000008\n",
       " 1526  5.548068e-07  4.494371e-07   0.000065\n",
       " 1527 -6.098918e-08  6.806375e-07   0.000062\n",
       " 1528 -1.311674e-07 -2.335486e-07   0.000024\n",
       " 1529  4.771977e-07 -1.265176e-06   0.000122\n",
       " \n",
       " [1530 rows x 3 columns]),\n",
       " Data(designspace=DesignSpace(input_space=[ContinuousParameter(name='x0', lower_bound=-1.0, upper_bound=1.0, type='float'), ContinuousParameter(name='x1', lower_bound=-1.0, upper_bound=1.0, type='float')], output_space=[ContinuousParameter(name='y', lower_bound=-inf, upper_bound=inf, type='float')]), data=             input                   output\n",
       "                 x0            x1          y\n",
       " 0    -9.781229e-01  9.952515e-01  21.538021\n",
       " 1     9.279745e-01 -6.081707e-01  22.066494\n",
       " 2     2.439650e-01  2.502580e-01  16.642991\n",
       " 3     6.581579e-01 -7.745243e-01  20.745276\n",
       " 4     8.314554e-01  8.192869e-01  21.868171\n",
       " ...            ...           ...        ...\n",
       " 1525 -1.059252e-07 -2.969618e-09   0.000010\n",
       " 1526  7.156283e-07  3.737904e-07   0.000073\n",
       " 1527  9.522585e-08  7.806968e-07   0.000071\n",
       " 1528 -2.065370e-07 -2.287225e-07   0.000028\n",
       " 1529  2.090540e-07 -1.532366e-06   0.000140\n",
       " \n",
       " [1530 rows x 3 columns]),\n",
       " Data(designspace=DesignSpace(input_space=[ContinuousParameter(name='x0', lower_bound=-1.0, upper_bound=1.0, type='float'), ContinuousParameter(name='x1', lower_bound=-1.0, upper_bound=1.0, type='float')], output_space=[ContinuousParameter(name='y', lower_bound=-inf, upper_bound=inf, type='float')]), data=             input                   output\n",
       "                 x0            x1          y\n",
       " 0     5.064862e-01 -8.922280e-01  21.815708\n",
       " 1     1.249150e-01  9.365311e-01  19.747761\n",
       " 2    -8.528842e-01  2.747168e-02  21.037508\n",
       " 3    -7.074137e-01  7.661357e-01  22.100580\n",
       " 4    -9.761820e-02 -5.139195e-01  19.951965\n",
       " ...            ...           ...        ...\n",
       " 1525 -8.204312e-08 -8.265666e-09   0.000007\n",
       " 1526 -4.924058e-08  1.636737e-07   0.000015\n",
       " 1527 -4.217945e-07 -3.888154e-07   0.000052\n",
       " 1528 -2.820382e-07 -3.509488e-07   0.000041\n",
       " 1529 -7.340486e-07 -4.467116e-07   0.000078\n",
       " \n",
       " [1530 rows x 3 columns]),\n",
       " Data(designspace=DesignSpace(input_space=[ContinuousParameter(name='x0', lower_bound=-1.0, upper_bound=1.0, type='float'), ContinuousParameter(name='x1', lower_bound=-1.0, upper_bound=1.0, type='float')], output_space=[ContinuousParameter(name='y', lower_bound=-inf, upper_bound=inf, type='float')]), data=             input                   output\n",
       "                 x0            x1          y\n",
       " 0     2.828483e-01  2.168807e-01  16.173823\n",
       " 1     9.490396e-01  4.729239e-01  21.559995\n",
       " 2    -8.368827e-01 -7.331939e-01  21.912153\n",
       " 3     6.729944e-01 -2.503894e-01  20.931338\n",
       " 4    -2.391091e-01 -3.319622e-01  19.055201\n",
       " ...            ...           ...        ...\n",
       " 1525 -9.030633e-08 -6.097128e-09   0.000008\n",
       " 1526  4.558847e-07  5.306950e-07   0.000063\n",
       " 1527 -1.672788e-07  6.573190e-07   0.000061\n",
       " 1528 -1.024605e-07 -2.100319e-07   0.000021\n",
       " 1529  6.291873e-07 -1.088170e-06   0.000114\n",
       " \n",
       " [1530 rows x 3 columns])]"
      ]
     },
     "execution_count": 5,
     "metadata": {},
     "output_type": "execute_result"
    }
   ],
   "source": [
    "results"
   ]
  },
  {
   "cell_type": "code",
   "execution_count": 6,
   "metadata": {},
   "outputs": [
    {
     "name": "stdout",
     "output_type": "stream",
     "text": [
      "Optimization took 0.07s total\n"
     ]
    }
   ],
   "source": [
    "\"\"\"Run multiple realizations of the same algorithm on a benchmark function\"\"\"\n",
    "start_t = time.perf_counter()\n",
    "\n",
    "args = [(optimizer, function,  sampler, iterations, np.random.randint(low=0, high=1e5)) for _ in range(realizations)]\n",
    "\n",
    "\n",
    "with Pool() as pool:\n",
    "    results = pool.starmap_async(f3dasm.run_optimization, args)\n",
    "    \n",
    "end_t = time.perf_counter()\n",
    "\n",
    "total_duration = end_t - start_t\n",
    "print(f\"Optimization took {total_duration:.2f}s total\")"
   ]
  },
  {
   "cell_type": "code",
   "execution_count": 7,
   "metadata": {},
   "outputs": [
    {
     "data": {
      "text/plain": [
       "<multiprocessing.pool.MapResult at 0x7fb2ceccb0d0>"
      ]
     },
     "execution_count": 7,
     "metadata": {},
     "output_type": "execute_result"
    }
   ],
   "source": [
    "results"
   ]
  },
  {
   "cell_type": "code",
   "execution_count": null,
   "metadata": {},
   "outputs": [],
   "source": [
    "func.dfdx(np.array([0.5, 0.8]))"
   ]
  },
  {
   "cell_type": "code",
   "execution_count": null,
   "metadata": {},
   "outputs": [],
   "source": [
    "if dim == 2:\n",
    "    fig, ax = func.plot_data(all_data[0], px=100, domain=bounds)\n",
    "    ax.scatter(func.get_global_minimum(dim)[0][0],func.get_global_minimum(dim)[0][1], s=40, c='r')\n",
    "    #ax.scatter(-3.19468541,0.89682456, s=40, c='g')\n",
    "    func.plot(px=100, domain=bounds)"
   ]
  },
  {
   "cell_type": "code",
   "execution_count": null,
   "metadata": {},
   "outputs": [],
   "source": [
    "y = np.array([[0.2,0.1],[0.3,0.4]])\n",
    "y + np.abs(func.get_global_minimum(2)[1])"
   ]
  },
  {
   "cell_type": "code",
   "execution_count": null,
   "metadata": {},
   "outputs": [],
   "source": [
    "all_data[0].data['input']"
   ]
  },
  {
   "cell_type": "code",
   "execution_count": null,
   "metadata": {},
   "outputs": [],
   "source": [
    "func.scale_bounds, func.input_domain"
   ]
  },
  {
   "cell_type": "code",
   "execution_count": null,
   "metadata": {},
   "outputs": [],
   "source": [
    "import pandas as pd\n",
    "mean_y = pd.concat([d.get_output_data() for d in all_data], axis=1).mean(axis=1)\n",
    "std_y = pd.concat([d.get_output_data() for d in all_data], axis=1).std(axis=1)\n",
    "mean_y"
   ]
  },
  {
   "cell_type": "code",
   "execution_count": null,
   "metadata": {},
   "outputs": [],
   "source": [
    "import matplotlib.pyplot as plt\n",
    "import numpy as np\n",
    "\n",
    "fig, ax = plt.figure(), plt.axes()\n",
    "ax.plot(mean_y)\n",
    "ax.fill_between(np.arange(len(mean_y)), mean_y-1.96*std_y, mean_y+1.96*std_y, color='b', alpha=.1)\n",
    "#ax.set_yscale('log')\n",
    "fig.show()"
   ]
  },
  {
   "cell_type": "code",
   "execution_count": null,
   "metadata": {},
   "outputs": [],
   "source": [
    "func.get_global_minimum(2)"
   ]
  },
  {
   "cell_type": "code",
   "execution_count": null,
   "metadata": {},
   "outputs": [],
   "source": [
    "func.descale_input(np.array([0.0,0.0]))\n",
    "x = np.array([[0.0,0.0]])"
   ]
  },
  {
   "cell_type": "code",
   "execution_count": null,
   "metadata": {},
   "outputs": [],
   "source": [
    "func.input_domain"
   ]
  },
  {
   "cell_type": "code",
   "execution_count": null,
   "metadata": {},
   "outputs": [],
   "source": [
    "(func.input_domain[:, 1] - func.input_domain[:, 0]) * x + func.input_domain[:, 0]"
   ]
  },
  {
   "cell_type": "code",
   "execution_count": null,
   "metadata": {},
   "outputs": [],
   "source": [
    "(x - func.input_domain[:, 0]) / (func.input_domain[:, 1] - func.input_domain[:, 0])"
   ]
  },
  {
   "cell_type": "code",
   "execution_count": null,
   "metadata": {},
   "outputs": [],
   "source": [
    "x"
   ]
  },
  {
   "cell_type": "code",
   "execution_count": null,
   "metadata": {},
   "outputs": [],
   "source": [
    "func.input_domain[:, 0]"
   ]
  },
  {
   "cell_type": "code",
   "execution_count": null,
   "metadata": {},
   "outputs": [],
   "source": [
    "x - func.input_domain[:, 0]"
   ]
  },
  {
   "cell_type": "code",
   "execution_count": null,
   "metadata": {},
   "outputs": [],
   "source": [
    "(func.input_domain[:, 1] - func.input_domain[:, 0])"
   ]
  },
  {
   "cell_type": "code",
   "execution_count": null,
   "metadata": {},
   "outputs": [],
   "source": [
    "o = np.array([[0.9,0.3]])\n",
    "o"
   ]
  },
  {
   "cell_type": "code",
   "execution_count": null,
   "metadata": {},
   "outputs": [],
   "source": [
    "func.scale_input(func.descale_input(o))"
   ]
  },
  {
   "cell_type": "code",
   "execution_count": null,
   "metadata": {},
   "outputs": [],
   "source": [
    "func.descale_input(func.scale_input(o))\n",
    "o"
   ]
  },
  {
   "cell_type": "code",
   "execution_count": null,
   "metadata": {},
   "outputs": [],
   "source": [
    "scale_bounds = [-3., 1.]"
   ]
  },
  {
   "cell_type": "code",
   "execution_count": null,
   "metadata": {},
   "outputs": [],
   "source": [
    "o = np.random.uniform(low=scale_bounds[0], high=scale_bounds[1], size=(1, func.dimensionality))\n",
    "x = o\n",
    "x"
   ]
  },
  {
   "cell_type": "code",
   "execution_count": null,
   "metadata": {},
   "outputs": [],
   "source": [
    "(func.input_domain[:, 1] - func.input_domain[:, 0])"
   ]
  },
  {
   "cell_type": "code",
   "execution_count": null,
   "metadata": {},
   "outputs": [],
   "source": [
    "(x - func.scale_bounds[:, 0]) / (func.scale_bounds[:, 1] - func.scale_bounds[0])"
   ]
  },
  {
   "cell_type": "code",
   "execution_count": null,
   "metadata": {},
   "outputs": [],
   "source": [
    "func.offset"
   ]
  },
  {
   "cell_type": "code",
   "execution_count": null,
   "metadata": {},
   "outputs": [],
   "source": [
    "func.get_global_minimum(2)[0]"
   ]
  },
  {
   "cell_type": "code",
   "execution_count": null,
   "metadata": {},
   "outputs": [],
   "source": [
    "(func.scale_bounds[:, 1] - func.scale_bounds[0])"
   ]
  }
 ],
 "metadata": {
  "interpreter": {
   "hash": "73193fbeb8677ab93f213154c0927f21dd4fccfe51cf5f6d1ad5a916be4d211f"
  },
  "kernelspec": {
   "display_name": "Python 3.10.4 ('testthings')",
   "language": "python",
   "name": "python3"
  },
  "language_info": {
   "codemirror_mode": {
    "name": "ipython",
    "version": 3
   },
   "file_extension": ".py",
   "mimetype": "text/x-python",
   "name": "python",
   "nbconvert_exporter": "python",
   "pygments_lexer": "ipython3",
   "version": "3.10.5"
  },
  "orig_nbformat": 4
 },
 "nbformat": 4,
 "nbformat_minor": 2
}
