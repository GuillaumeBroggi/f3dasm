{
 "cells": [
  {
   "cell_type": "code",
   "execution_count": 1,
   "metadata": {},
   "outputs": [
    {
     "name": "stderr",
     "output_type": "stream",
     "text": [
      "2022-11-17 14:54:06.322158: I tensorflow/core/platform/cpu_feature_guard.cc:193] This TensorFlow binary is optimized with oneAPI Deep Neural Network Library (oneDNN) to use the following CPU instructions in performance-critical operations:  SSE4.1 SSE4.2 AVX AVX2 AVX512F AVX512_VNNI FMA\n",
      "To enable them in other operations, rebuild TensorFlow with the appropriate compiler flags.\n",
      "2022-11-17 14:54:06.411783: I tensorflow/core/util/util.cc:169] oneDNN custom operations are on. You may see slightly different numerical results due to floating-point round-off errors from different computation orders. To turn them off, set the environment variable `TF_ENABLE_ONEDNN_OPTS=0`.\n"
     ]
    }
   ],
   "source": [
    "import f3dasm\n",
    "import numpy as np\n",
    "import time"
   ]
  },
  {
   "cell_type": "code",
   "execution_count": 2,
   "metadata": {},
   "outputs": [],
   "source": [
    "dim = 3\n",
    "iterations = 50\n",
    "realizations = 3\n",
    "bounds = np.tile([-1.0,1.0], (dim, 1))\n",
    "hyperparameters={}\n",
    "#hyperparameters={'learning_rate': 1e-2}\n",
    "\n",
    "design = f3dasm.make_nd_continuous_design(bounds=bounds, dimensionality=dim)\n",
    "\n",
    "function = f3dasm.functions.Levy(dimensionality=dim, scale_bounds=bounds, seed=42, noise=0.3)\n",
    "\n",
    "data = f3dasm.Data(design=design)\n",
    "optimizer = f3dasm.optimization.CG(data=data, hyperparameters=hyperparameters)\n",
    "sampler = f3dasm.sampling.LatinHypercube(design=design)\n",
    "\n",
    "\n",
    "# all_data = f3dasm.run_multiple_realizations(optimizer=optimizer, \n",
    "# function=function,\n",
    "# sampler=sampler,\n",
    "# iterations=iterations,\n",
    "# realizations=realizations\n",
    "# )\n"
   ]
  },
  {
   "cell_type": "code",
   "execution_count": 3,
   "metadata": {},
   "outputs": [
    {
     "data": {
      "text/plain": [
       "CG_Parameters(population=1, force_bounds=True)"
      ]
     },
     "execution_count": 3,
     "metadata": {},
     "output_type": "execute_result"
    }
   ],
   "source": [
    "optimizer.parameter"
   ]
  },
  {
   "cell_type": "code",
   "execution_count": 4,
   "metadata": {},
   "outputs": [],
   "source": [
    "args = {\n",
    "'optimizer': optimizer, \n",
    "'function': function,\n",
    "'sampler': sampler,\n",
    "'iterations': iterations,\n",
    "'seed': 1\n",
    "\n",
    "\n",
    "}\n",
    "\n",
    "res = f3dasm.run_optimization(**args)"
   ]
  },
  {
   "cell_type": "code",
   "execution_count": 5,
   "metadata": {},
   "outputs": [],
   "source": [
    "function.plot_data(data=res,domain=bounds)\n",
    "xv, yv, Y = function._create_mesh(px=300,domain=bounds)"
   ]
  },
  {
   "cell_type": "code",
   "execution_count": null,
   "metadata": {},
   "outputs": [],
   "source": [
    "function.plot(px=100, domain=bounds)"
   ]
  },
  {
   "cell_type": "code",
   "execution_count": null,
   "metadata": {},
   "outputs": [],
   "source": [
    "# f3dasm.write_pickle('Levyfunction_2D', Y)\n",
    "\n",
    "Y_check = f3dasm.read_pickle('Levyfunction_2D')\n",
    "\n",
    "assert (Y_check == Y).all()"
   ]
  },
  {
   "cell_type": "code",
   "execution_count": null,
   "metadata": {},
   "outputs": [],
   "source": [
    "# args = {\n",
    "# 'realizations': realizations,\n",
    "# 'optimizer': optimizer, \n",
    "# 'function': function,\n",
    "# 'sampler': sampler,\n",
    "# 'iterations': iterations,\n",
    "# 'parallelization': True\n",
    "\n",
    "\n",
    "# }\n",
    "# f3dasm.run_multiple_realizations(**args)"
   ]
  },
  {
   "cell_type": "code",
   "execution_count": null,
   "metadata": {},
   "outputs": [],
   "source": [
    "# \"\"\"Run multiple realizations of the same algorithm on a benchmark function\"\"\"\n",
    "# start_t = time.perf_counter()\n",
    "\n",
    "# seed = np.random.randint(low=0, high=1e5)\n",
    "# all_data = []\n",
    "\n",
    "# for _ in range(realizations):\n",
    "#     data = f3dasm.run_optimization(\n",
    "#         optimizer=optimizer, function=function, sampler=sampler, iterations=iterations, seed=seed\n",
    "#     )\n",
    "#     all_data.append(data)\n",
    "\n",
    "#     # Increase seed\n",
    "#     seed += 1\n",
    "\n",
    "# end_t = time.perf_counter()\n",
    "\n",
    "# total_duration = end_t - start_t\n",
    "# print(f\"Optimization took {total_duration:.2f}s total\")"
   ]
  },
  {
   "cell_type": "code",
   "execution_count": null,
   "metadata": {},
   "outputs": [],
   "source": [
    "from pathos.helpers import mp"
   ]
  },
  {
   "cell_type": "code",
   "execution_count": null,
   "metadata": {},
   "outputs": [],
   "source": [
    "\"\"\"Run multiple realizations of the same algorithm on a benchmark function\"\"\"\n",
    "start_t = time.perf_counter()\n",
    "\n",
    "args = [(optimizer, function,  sampler, iterations, np.random.randint(low=0, high=1e5)) for _ in range(realizations)]\n",
    "\n",
    "\n",
    "\n",
    "with mp.Pool() as pool:\n",
    "    results = pool.starmap(f3dasm.run_optimization, args)\n",
    "    \n",
    "end_t = time.perf_counter()\n",
    "\n",
    "total_duration = end_t - start_t\n",
    "print(f\"Optimization took {total_duration:.2f}s total\")"
   ]
  },
  {
   "cell_type": "code",
   "execution_count": null,
   "metadata": {},
   "outputs": [],
   "source": [
    "function.plot_data(data=results[1], domain=bounds)"
   ]
  },
  {
   "cell_type": "code",
   "execution_count": null,
   "metadata": {},
   "outputs": [],
   "source": [
    "\"\"\"Run multiple realizations of the same algorithm on a benchmark function\"\"\"\n",
    "start_t = time.perf_counter()\n",
    "\n",
    "args = [(optimizer, function,  sampler, iterations, np.random.randint(low=0, high=1e5)) for _ in range(realizations)]\n",
    "\n",
    "\n",
    "with Pool() as pool:\n",
    "    results = pool.starmap_async(f3dasm.run_optimization, args)\n",
    "    \n",
    "end_t = time.perf_counter()\n",
    "\n",
    "total_duration = end_t - start_t\n",
    "print(f\"Optimization took {total_duration:.2f}s total\")"
   ]
  },
  {
   "cell_type": "code",
   "execution_count": null,
   "metadata": {},
   "outputs": [],
   "source": [
    "results"
   ]
  },
  {
   "cell_type": "code",
   "execution_count": null,
   "metadata": {},
   "outputs": [],
   "source": [
    "func.dfdx(np.array([0.5, 0.8]))"
   ]
  },
  {
   "cell_type": "code",
   "execution_count": null,
   "metadata": {},
   "outputs": [],
   "source": [
    "if dim == 2:\n",
    "    fig, ax = func.plot_data(all_data[0], px=100, domain=bounds)\n",
    "    ax.scatter(func.get_global_minimum(dim)[0][0],func.get_global_minimum(dim)[0][1], s=40, c='r')\n",
    "    #ax.scatter(-3.19468541,0.89682456, s=40, c='g')\n",
    "    func.plot(px=100, domain=bounds)"
   ]
  },
  {
   "cell_type": "code",
   "execution_count": null,
   "metadata": {},
   "outputs": [],
   "source": [
    "y = np.array([[0.2,0.1],[0.3,0.4]])\n",
    "y + np.abs(func.get_global_minimum(2)[1])"
   ]
  },
  {
   "cell_type": "code",
   "execution_count": null,
   "metadata": {},
   "outputs": [],
   "source": [
    "all_data[0].data['input']"
   ]
  },
  {
   "cell_type": "code",
   "execution_count": null,
   "metadata": {},
   "outputs": [],
   "source": [
    "func.scale_bounds, func.input_domain"
   ]
  },
  {
   "cell_type": "code",
   "execution_count": null,
   "metadata": {},
   "outputs": [],
   "source": [
    "import pandas as pd\n",
    "mean_y = pd.concat([d.get_output_data() for d in all_data], axis=1).mean(axis=1)\n",
    "std_y = pd.concat([d.get_output_data() for d in all_data], axis=1).std(axis=1)\n",
    "mean_y"
   ]
  },
  {
   "cell_type": "code",
   "execution_count": null,
   "metadata": {},
   "outputs": [],
   "source": [
    "import matplotlib.pyplot as plt\n",
    "import numpy as np\n",
    "\n",
    "fig, ax = plt.figure(), plt.axes()\n",
    "ax.plot(mean_y)\n",
    "ax.fill_between(np.arange(len(mean_y)), mean_y-1.96*std_y, mean_y+1.96*std_y, color='b', alpha=.1)\n",
    "#ax.set_yscale('log')\n",
    "fig.show()"
   ]
  },
  {
   "cell_type": "code",
   "execution_count": null,
   "metadata": {},
   "outputs": [],
   "source": [
    "func.get_global_minimum(2)"
   ]
  },
  {
   "cell_type": "code",
   "execution_count": null,
   "metadata": {},
   "outputs": [],
   "source": [
    "func.descale_input(np.array([0.0,0.0]))\n",
    "x = np.array([[0.0,0.0]])"
   ]
  },
  {
   "cell_type": "code",
   "execution_count": null,
   "metadata": {},
   "outputs": [],
   "source": [
    "func.input_domain"
   ]
  },
  {
   "cell_type": "code",
   "execution_count": null,
   "metadata": {},
   "outputs": [],
   "source": [
    "(func.input_domain[:, 1] - func.input_domain[:, 0]) * x + func.input_domain[:, 0]"
   ]
  },
  {
   "cell_type": "code",
   "execution_count": null,
   "metadata": {},
   "outputs": [],
   "source": [
    "(x - func.input_domain[:, 0]) / (func.input_domain[:, 1] - func.input_domain[:, 0])"
   ]
  },
  {
   "cell_type": "code",
   "execution_count": null,
   "metadata": {},
   "outputs": [],
   "source": [
    "x"
   ]
  },
  {
   "cell_type": "code",
   "execution_count": null,
   "metadata": {},
   "outputs": [],
   "source": [
    "func.input_domain[:, 0]"
   ]
  },
  {
   "cell_type": "code",
   "execution_count": null,
   "metadata": {},
   "outputs": [],
   "source": [
    "x - func.input_domain[:, 0]"
   ]
  },
  {
   "cell_type": "code",
   "execution_count": null,
   "metadata": {},
   "outputs": [],
   "source": [
    "(func.input_domain[:, 1] - func.input_domain[:, 0])"
   ]
  },
  {
   "cell_type": "code",
   "execution_count": null,
   "metadata": {},
   "outputs": [],
   "source": [
    "o = np.array([[0.9,0.3]])\n",
    "o"
   ]
  },
  {
   "cell_type": "code",
   "execution_count": null,
   "metadata": {},
   "outputs": [],
   "source": [
    "func.scale_input(func.descale_input(o))"
   ]
  },
  {
   "cell_type": "code",
   "execution_count": null,
   "metadata": {},
   "outputs": [],
   "source": [
    "func.descale_input(func.scale_input(o))\n",
    "o"
   ]
  },
  {
   "cell_type": "code",
   "execution_count": null,
   "metadata": {},
   "outputs": [],
   "source": [
    "scale_bounds = [-3., 1.]"
   ]
  },
  {
   "cell_type": "code",
   "execution_count": null,
   "metadata": {},
   "outputs": [],
   "source": [
    "o = np.random.uniform(low=scale_bounds[0], high=scale_bounds[1], size=(1, func.dimensionality))\n",
    "x = o\n",
    "x"
   ]
  },
  {
   "cell_type": "code",
   "execution_count": null,
   "metadata": {},
   "outputs": [],
   "source": [
    "(func.input_domain[:, 1] - func.input_domain[:, 0])"
   ]
  },
  {
   "cell_type": "code",
   "execution_count": null,
   "metadata": {},
   "outputs": [],
   "source": [
    "(x - func.scale_bounds[:, 0]) / (func.scale_bounds[:, 1] - func.scale_bounds[0])"
   ]
  },
  {
   "cell_type": "code",
   "execution_count": null,
   "metadata": {},
   "outputs": [],
   "source": [
    "func.offset"
   ]
  },
  {
   "cell_type": "code",
   "execution_count": null,
   "metadata": {},
   "outputs": [],
   "source": [
    "func.get_global_minimum(2)[0]"
   ]
  },
  {
   "cell_type": "code",
   "execution_count": null,
   "metadata": {},
   "outputs": [],
   "source": [
    "(func.scale_bounds[:, 1] - func.scale_bounds[0])"
   ]
  }
 ],
 "metadata": {
  "kernelspec": {
   "display_name": "Python 3.10.5 ('f3dasm_env')",
   "language": "python",
   "name": "python3"
  },
  "language_info": {
   "codemirror_mode": {
    "name": "ipython",
    "version": 3
   },
   "file_extension": ".py",
   "mimetype": "text/x-python",
   "name": "python",
   "nbconvert_exporter": "python",
   "pygments_lexer": "ipython3",
   "version": "3.10.6"
  },
  "orig_nbformat": 4,
  "vscode": {
   "interpreter": {
    "hash": "cd4aa09bf73c11ef3239c620489b85906b4cadb309e0ddddf54fa55967002edb"
   }
  }
 },
 "nbformat": 4,
 "nbformat_minor": 2
}
