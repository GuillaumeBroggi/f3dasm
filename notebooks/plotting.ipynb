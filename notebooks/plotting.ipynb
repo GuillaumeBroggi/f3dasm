{
 "cells": [
  {
   "cell_type": "code",
   "execution_count": 12,
   "metadata": {},
   "outputs": [],
   "source": [
    "import numpy as np\n",
    "import matplotlib.pyplot as plt\n",
    "\n",
    "import f3dasm\n",
    "from f3dasm.functions.logisticregression import LogisticRegression"
   ]
  },
  {
   "cell_type": "code",
   "execution_count": 13,
   "metadata": {},
   "outputs": [],
   "source": [
    "px = 10\n",
    "dimensionality = 2"
   ]
  },
  {
   "cell_type": "code",
   "execution_count": 14,
   "metadata": {},
   "outputs": [],
   "source": [
    "_means = np.random.random(size=(2, dimensionality))\n",
    "_cov = np.random.random((dimensionality, dimensionality, 2))\n",
    "_labels = np.array([0, 1])\n",
    "\n",
    "_xi, _yi = [], []\n",
    "xx1 = np.random.multivariate_normal(_means[0], np.dot(_cov[:, :, 0], _cov[:, :, 0].T), size=50)\n",
    "xx2 = np.random.multivariate_normal(_means[1], np.dot(_cov[:, :, 1], _cov[:, :, 1].T), size=50)\n",
    "\n",
    "_xi = np.r_[xx1, xx2]\n",
    "_yi = np.array([0] * 50 + [1] * 50)\n",
    "\n",
    "orig_bounds = [-5.0, 5.0]\n",
    "\n",
    "def _s_func(z):\n",
    "    return 1 / (1 + np.exp(-z))"
   ]
  },
  {
   "cell_type": "code",
   "execution_count": 15,
   "metadata": {},
   "outputs": [],
   "source": [
    "def f(x: np.ndarray):\n",
    "    l_term = 0.0005\n",
    "    ww = x[:-1]\n",
    "    bb = x[-1]\n",
    "    c = (\n",
    "        -1\n",
    "        / 100\n",
    "        * sum(\n",
    "            _yi * np.log10(_s_func(np.inner(ww, _xi) + bb))\n",
    "            + (1 - _yi) * np.log10(1 - _s_func(np.inner(ww, _xi) + bb))\n",
    "            + l_term / 2 * (np.sqrt(ww.dot(ww))) ** 2\n",
    "        )\n",
    "    )\n",
    "\n",
    "    if np.isinf(c) or np.isnan(c):\n",
    "        c = 10e5"
   ]
  },
  {
   "cell_type": "code",
   "execution_count": 32,
   "metadata": {},
   "outputs": [],
   "source": [
    "x = np.array([[0.1,0.2]])\n",
    "ww = x[:-1]\n",
    "bb = x[-1]"
   ]
  },
  {
   "cell_type": "code",
   "execution_count": 33,
   "metadata": {},
   "outputs": [
    {
     "ename": "ValueError",
     "evalue": "operands could not be broadcast together with shapes (0,100) (2,) ",
     "output_type": "error",
     "traceback": [
      "\u001b[0;31m---------------------------------------------------------------------------\u001b[0m",
      "\u001b[0;31mValueError\u001b[0m                                Traceback (most recent call last)",
      "\u001b[1;32m/home/martin/Documents/GitHub/testthings/notebooks/plotting.ipynb Cell 6'\u001b[0m in \u001b[0;36m<cell line: 1>\u001b[0;34m()\u001b[0m\n\u001b[0;32m----> <a href='vscode-notebook-cell:/home/martin/Documents/GitHub/testthings/notebooks/plotting.ipynb#ch0000011?line=0'>1</a>\u001b[0m _yi \u001b[39m*\u001b[39m np\u001b[39m.\u001b[39mlog10(_s_func(np\u001b[39m.\u001b[39;49minner(ww, _xi) \u001b[39m+\u001b[39;49m bb))\n",
      "\u001b[0;31mValueError\u001b[0m: operands could not be broadcast together with shapes (0,100) (2,) "
     ]
    }
   ],
   "source": [
    "_yi * np.log10(_s_func(np.inner(ww, _xi) + bb))"
   ]
  },
  {
   "cell_type": "code",
   "execution_count": 16,
   "metadata": {},
   "outputs": [],
   "source": [
    "l = LogisticRegression(dimensionality=2,noise=True,seed=42)"
   ]
  },
  {
   "cell_type": "code",
   "execution_count": 17,
   "metadata": {},
   "outputs": [
    {
     "ename": "ValueError",
     "evalue": "operands could not be broadcast together with shapes (0,100) (2,) ",
     "output_type": "error",
     "traceback": [
      "\u001b[0;31m---------------------------------------------------------------------------\u001b[0m",
      "\u001b[0;31mValueError\u001b[0m                                Traceback (most recent call last)",
      "\u001b[1;32m/home/martin/Documents/GitHub/testthings/notebooks/plotting.ipynb Cell 6'\u001b[0m in \u001b[0;36m<cell line: 1>\u001b[0;34m()\u001b[0m\n\u001b[0;32m----> <a href='vscode-notebook-cell:/home/martin/Documents/GitHub/testthings/notebooks/plotting.ipynb#ch0000004?line=0'>1</a>\u001b[0m l\u001b[39m.\u001b[39;49mplot(orientation\u001b[39m=\u001b[39;49m\u001b[39m'\u001b[39;49m\u001b[39m2D\u001b[39;49m\u001b[39m'\u001b[39;49m,px\u001b[39m=\u001b[39;49mpx)\n",
      "File \u001b[0;32m~/Documents/GitHub/testthings/f3dasm/base/function.py:167\u001b[0m, in \u001b[0;36mFunction.plot\u001b[0;34m(self, orientation, px, domain, show)\u001b[0m\n\u001b[1;32m    <a href='file:///home/martin/Documents/GitHub/testthings/f3dasm/base/function.py?line=164'>165</a>\u001b[0m     \u001b[39mfor\u001b[39;00m j \u001b[39min\u001b[39;00m \u001b[39mrange\u001b[39m(\u001b[39mlen\u001b[39m(X1)):\n\u001b[1;32m    <a href='file:///home/martin/Documents/GitHub/testthings/f3dasm/base/function.py?line=165'>166</a>\u001b[0m         xy \u001b[39m=\u001b[39m np\u001b[39m.\u001b[39marray([X1[i, j], X2[i, j]] \u001b[39m+\u001b[39m [\u001b[39m0.0\u001b[39m] \u001b[39m*\u001b[39m (\u001b[39mself\u001b[39m\u001b[39m.\u001b[39mdimensionality \u001b[39m-\u001b[39m \u001b[39m2\u001b[39m))\n\u001b[0;32m--> <a href='file:///home/martin/Documents/GitHub/testthings/f3dasm/base/function.py?line=166'>167</a>\u001b[0m         Y[i, j] \u001b[39m=\u001b[39m \u001b[39mself\u001b[39;49m(xy)\n\u001b[1;32m    <a href='file:///home/martin/Documents/GitHub/testthings/f3dasm/base/function.py?line=168'>169</a>\u001b[0m \u001b[39m# Add absolute value of global minimum + epsilon to ensure positivity\u001b[39;00m\n\u001b[1;32m    <a href='file:///home/martin/Documents/GitHub/testthings/f3dasm/base/function.py?line=169'>170</a>\u001b[0m \u001b[39m# if (\u001b[39;00m\n\u001b[1;32m    <a href='file:///home/martin/Documents/GitHub/testthings/f3dasm/base/function.py?line=170'>171</a>\u001b[0m \u001b[39m#     self.get_global_minimum(self.dimensionality)[1][0] < 0\u001b[39;00m\n\u001b[1;32m    <a href='file:///home/martin/Documents/GitHub/testthings/f3dasm/base/function.py?line=171'>172</a>\u001b[0m \u001b[39m#     and self.get_global_minimum(self.dimensionality) is not None\u001b[39;00m\n\u001b[1;32m    <a href='file:///home/martin/Documents/GitHub/testthings/f3dasm/base/function.py?line=172'>173</a>\u001b[0m \u001b[39m# ):\u001b[39;00m\n\u001b[1;32m    <a href='file:///home/martin/Documents/GitHub/testthings/f3dasm/base/function.py?line=173'>174</a>\u001b[0m \u001b[39m#     Y += np.abs(self.get_global_minimum(self.dimensionality)[1][0]) + 10e-6\u001b[39;00m\n\u001b[1;32m    <a href='file:///home/martin/Documents/GitHub/testthings/f3dasm/base/function.py?line=175'>176</a>\u001b[0m dx \u001b[39m=\u001b[39m (domain[\u001b[39m0\u001b[39m, \u001b[39m1\u001b[39m] \u001b[39m-\u001b[39m domain[\u001b[39m0\u001b[39m, \u001b[39m0\u001b[39m]) \u001b[39m/\u001b[39m px\n",
      "File \u001b[0;32m~/Documents/GitHub/testthings/f3dasm/base/function.py:76\u001b[0m, in \u001b[0;36mFunction.__call__\u001b[0;34m(self, input_x)\u001b[0m\n\u001b[1;32m     <a href='file:///home/martin/Documents/GitHub/testthings/f3dasm/base/function.py?line=71'>72</a>\u001b[0m \u001b[39m# x = x + self.offset\u001b[39;00m\n\u001b[1;32m     <a href='file:///home/martin/Documents/GitHub/testthings/f3dasm/base/function.py?line=73'>74</a>\u001b[0m x \u001b[39m=\u001b[39m \u001b[39mself\u001b[39m\u001b[39m.\u001b[39m_scale_input(x)\n\u001b[0;32m---> <a href='file:///home/martin/Documents/GitHub/testthings/f3dasm/base/function.py?line=75'>76</a>\u001b[0m y \u001b[39m=\u001b[39m np\u001b[39m.\u001b[39matleast_1d(\u001b[39mself\u001b[39;49m\u001b[39m.\u001b[39;49mf(x))\n\u001b[1;32m     <a href='file:///home/martin/Documents/GitHub/testthings/f3dasm/base/function.py?line=77'>78</a>\u001b[0m \u001b[39m# add noise\u001b[39;00m\n\u001b[1;32m     <a href='file:///home/martin/Documents/GitHub/testthings/f3dasm/base/function.py?line=78'>79</a>\u001b[0m \u001b[39mif\u001b[39;00m \u001b[39mself\u001b[39m\u001b[39m.\u001b[39mnoise:\n",
      "File \u001b[0;32m~/Documents/GitHub/testthings/f3dasm/functions/logisticregression.py:31\u001b[0m, in \u001b[0;36mLogisticRegression.f\u001b[0;34m(self, x)\u001b[0m\n\u001b[1;32m     <a href='file:///home/martin/Documents/GitHub/testthings/f3dasm/functions/logisticregression.py?line=24'>25</a>\u001b[0m ww \u001b[39m=\u001b[39m x[:\u001b[39m-\u001b[39m\u001b[39m1\u001b[39m]\n\u001b[1;32m     <a href='file:///home/martin/Documents/GitHub/testthings/f3dasm/functions/logisticregression.py?line=25'>26</a>\u001b[0m bb \u001b[39m=\u001b[39m x[\u001b[39m-\u001b[39m\u001b[39m1\u001b[39m]\n\u001b[1;32m     <a href='file:///home/martin/Documents/GitHub/testthings/f3dasm/functions/logisticregression.py?line=26'>27</a>\u001b[0m c \u001b[39m=\u001b[39m (\n\u001b[1;32m     <a href='file:///home/martin/Documents/GitHub/testthings/f3dasm/functions/logisticregression.py?line=27'>28</a>\u001b[0m     \u001b[39m-\u001b[39m\u001b[39m1\u001b[39m\n\u001b[1;32m     <a href='file:///home/martin/Documents/GitHub/testthings/f3dasm/functions/logisticregression.py?line=28'>29</a>\u001b[0m     \u001b[39m/\u001b[39m \u001b[39m100\u001b[39m\n\u001b[1;32m     <a href='file:///home/martin/Documents/GitHub/testthings/f3dasm/functions/logisticregression.py?line=29'>30</a>\u001b[0m     \u001b[39m*\u001b[39m \u001b[39msum\u001b[39m(\n\u001b[0;32m---> <a href='file:///home/martin/Documents/GitHub/testthings/f3dasm/functions/logisticregression.py?line=30'>31</a>\u001b[0m         \u001b[39mself\u001b[39m\u001b[39m.\u001b[39m_yi \u001b[39m*\u001b[39m np\u001b[39m.\u001b[39mlog10(\u001b[39mself\u001b[39m\u001b[39m.\u001b[39m_s_func(np\u001b[39m.\u001b[39;49minner(ww, \u001b[39mself\u001b[39;49m\u001b[39m.\u001b[39;49m_xi) \u001b[39m+\u001b[39;49m bb))\n\u001b[1;32m     <a href='file:///home/martin/Documents/GitHub/testthings/f3dasm/functions/logisticregression.py?line=31'>32</a>\u001b[0m         \u001b[39m+\u001b[39m (\u001b[39m1\u001b[39m \u001b[39m-\u001b[39m \u001b[39mself\u001b[39m\u001b[39m.\u001b[39m_yi) \u001b[39m*\u001b[39m np\u001b[39m.\u001b[39mlog10(\u001b[39m1\u001b[39m \u001b[39m-\u001b[39m \u001b[39mself\u001b[39m\u001b[39m.\u001b[39m_s_func(np\u001b[39m.\u001b[39minner(ww, \u001b[39mself\u001b[39m\u001b[39m.\u001b[39m_xi) \u001b[39m+\u001b[39m bb))\n\u001b[1;32m     <a href='file:///home/martin/Documents/GitHub/testthings/f3dasm/functions/logisticregression.py?line=32'>33</a>\u001b[0m         \u001b[39m+\u001b[39m l_term \u001b[39m/\u001b[39m \u001b[39m2\u001b[39m \u001b[39m*\u001b[39m (np\u001b[39m.\u001b[39msqrt(ww\u001b[39m.\u001b[39mdot(ww))) \u001b[39m*\u001b[39m\u001b[39m*\u001b[39m \u001b[39m2\u001b[39m\n\u001b[1;32m     <a href='file:///home/martin/Documents/GitHub/testthings/f3dasm/functions/logisticregression.py?line=33'>34</a>\u001b[0m     )\n\u001b[1;32m     <a href='file:///home/martin/Documents/GitHub/testthings/f3dasm/functions/logisticregression.py?line=34'>35</a>\u001b[0m )\n\u001b[1;32m     <a href='file:///home/martin/Documents/GitHub/testthings/f3dasm/functions/logisticregression.py?line=36'>37</a>\u001b[0m \u001b[39mif\u001b[39;00m np\u001b[39m.\u001b[39misinf(c) \u001b[39mor\u001b[39;00m np\u001b[39m.\u001b[39misnan(c):\n\u001b[1;32m     <a href='file:///home/martin/Documents/GitHub/testthings/f3dasm/functions/logisticregression.py?line=37'>38</a>\u001b[0m     c \u001b[39m=\u001b[39m \u001b[39m10e5\u001b[39m\n",
      "\u001b[0;31mValueError\u001b[0m: operands could not be broadcast together with shapes (0,100) (2,) "
     ]
    }
   ],
   "source": [
    "l.plot(orientation='2D',px=px)"
   ]
  },
  {
   "cell_type": "code",
   "execution_count": null,
   "metadata": {},
   "outputs": [],
   "source": [
    "l.plot(orientation='3D', px=px)"
   ]
  }
 ],
 "metadata": {
  "interpreter": {
   "hash": "73193fbeb8677ab93f213154c0927f21dd4fccfe51cf5f6d1ad5a916be4d211f"
  },
  "kernelspec": {
   "display_name": "Python 3.10.4 ('testthings')",
   "language": "python",
   "name": "python3"
  },
  "language_info": {
   "codemirror_mode": {
    "name": "ipython",
    "version": 3
   },
   "file_extension": ".py",
   "mimetype": "text/x-python",
   "name": "python",
   "nbconvert_exporter": "python",
   "pygments_lexer": "ipython3",
   "version": "3.10.5"
  },
  "orig_nbformat": 4
 },
 "nbformat": 4,
 "nbformat_minor": 2
}
