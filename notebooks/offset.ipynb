{
 "cells": [
  {
   "cell_type": "code",
   "execution_count": 1,
   "metadata": {},
   "outputs": [],
   "source": [
    "import f3dasm\n",
    "import numpy as np"
   ]
  },
  {
   "cell_type": "code",
   "execution_count": 2,
   "metadata": {},
   "outputs": [],
   "source": [
    "FUNCTIONS = f3dasm.functions.FUNCTIONS_2D"
   ]
  },
  {
   "cell_type": "code",
   "execution_count": 3,
   "metadata": {},
   "outputs": [],
   "source": [
    "seed = 41 #np.random.randint(low=0,high=1e5)\n",
    "dim = 2\n",
    "domain = np.tile([-12., 12.], (dim,1))"
   ]
  },
  {
   "cell_type": "code",
   "execution_count": 4,
   "metadata": {},
   "outputs": [],
   "source": [
    "func = f3dasm.functions.Shubert(seed=seed, scale_bounds=domain)"
   ]
  },
  {
   "cell_type": "code",
   "execution_count": 5,
   "metadata": {},
   "outputs": [
    {
     "data": {
      "text/plain": [
       "array([[ -5.97783303, -10.8937003 ]])"
      ]
     },
     "execution_count": 5,
     "metadata": {},
     "output_type": "execute_result"
    }
   ],
   "source": [
    "func._create_offset()\n",
    "func.offset"
   ]
  },
  {
   "cell_type": "code",
   "execution_count": 6,
   "metadata": {},
   "outputs": [
    {
     "data": {
      "text/plain": [
       "(None, None)"
      ]
     },
     "execution_count": 6,
     "metadata": {},
     "output_type": "execute_result"
    }
   ],
   "source": [
    "x,y = func.get_global_minimum(dim)\n",
    "x, y"
   ]
  },
  {
   "cell_type": "code",
   "execution_count": 7,
   "metadata": {},
   "outputs": [
    {
     "data": {
      "text/plain": [
       "array([[  4.24358979, -10.95673234]])"
      ]
     },
     "execution_count": 7,
     "metadata": {},
     "output_type": "execute_result"
    }
   ],
   "source": [
    "func._create_offset()\n",
    "o = func.offset\n",
    "o"
   ]
  },
  {
   "cell_type": "code",
   "execution_count": 8,
   "metadata": {},
   "outputs": [
    {
     "data": {
      "text/plain": [
       "array([[-12.,  12.],\n",
       "       [-12.,  12.]])"
      ]
     },
     "execution_count": 8,
     "metadata": {},
     "output_type": "execute_result"
    }
   ],
   "source": [
    "func.scale_bounds"
   ]
  },
  {
   "cell_type": "code",
   "execution_count": 9,
   "metadata": {},
   "outputs": [
    {
     "name": "stdout",
     "output_type": "stream",
     "text": [
      "(None, None)\n"
     ]
    }
   ],
   "source": [
    "print(func.get_global_minimum(dim))"
   ]
  },
  {
   "cell_type": "code",
   "execution_count": 13,
   "metadata": {},
   "outputs": [
    {
     "ename": "AssertionError",
     "evalue": "",
     "output_type": "error",
     "traceback": [
      "\u001b[0;31m---------------------------------------------------------------------------\u001b[0m",
      "\u001b[0;31mAssertionError\u001b[0m                            Traceback (most recent call last)",
      "Input \u001b[0;32mIn [13]\u001b[0m, in \u001b[0;36m<cell line: 5>\u001b[0;34m()\u001b[0m\n\u001b[1;32m      3\u001b[0m func\u001b[39m.\u001b[39m_create_offset()\n\u001b[1;32m      4\u001b[0m xmin \u001b[39m=\u001b[39m func\u001b[39m.\u001b[39m_check_global_minimum()\n\u001b[0;32m----> 5\u001b[0m \u001b[39massert\u001b[39;00m func\u001b[39m.\u001b[39mcheck_if_within_bounds(xmin)\n",
      "\u001b[0;31mAssertionError\u001b[0m: "
     ]
    }
   ],
   "source": [
    "func = f3dasm.functions.Shubert(seed=seed)\n",
    "\n",
    "func._create_offset()\n",
    "xmin = func._check_global_minimum()\n",
    "assert func.check_if_within_bounds(xmin)"
   ]
  },
  {
   "cell_type": "code",
   "execution_count": 16,
   "metadata": {},
   "outputs": [
    {
     "data": {
      "text/plain": [
       "False"
      ]
     },
     "execution_count": 16,
     "metadata": {},
     "output_type": "execute_result"
    }
   ],
   "source": [
    "func.check_if_within_bounds(xmin)"
   ]
  },
  {
   "cell_type": "code",
   "execution_count": 11,
   "metadata": {},
   "outputs": [
    {
     "ename": "TypeError",
     "evalue": "'<' not supported between instances of 'float' and 'NoneType'",
     "output_type": "error",
     "traceback": [
      "\u001b[0;31m---------------------------------------------------------------------------\u001b[0m",
      "\u001b[0;31mTypeError\u001b[0m                                 Traceback (most recent call last)",
      "Input \u001b[0;32mIn [11]\u001b[0m, in \u001b[0;36m<cell line: 1>\u001b[0;34m()\u001b[0m\n\u001b[0;32m----> 1\u001b[0m func\u001b[39m.\u001b[39;49mcheck_if_within_bounds(func\u001b[39m.\u001b[39;49mget_global_minimum(dim)[\u001b[39m0\u001b[39;49m])\n",
      "File \u001b[0;32m~/Documents/GitHub/F3DASM/f3dasm/base/function.py:54\u001b[0m, in \u001b[0;36mFunction.check_if_within_bounds\u001b[0;34m(self, x)\u001b[0m\n\u001b[1;32m     <a href='file:///home/martin/Documents/GitHub/F3DASM/f3dasm/base/function.py?line=44'>45</a>\u001b[0m \u001b[39mdef\u001b[39;00m \u001b[39mcheck_if_within_bounds\u001b[39m(\u001b[39mself\u001b[39m, x: np\u001b[39m.\u001b[39mndarray) \u001b[39m-\u001b[39m\u001b[39m>\u001b[39m \u001b[39mbool\u001b[39m:\n\u001b[1;32m     <a href='file:///home/martin/Documents/GitHub/F3DASM/f3dasm/base/function.py?line=45'>46</a>\u001b[0m     \u001b[39m\"\"\"Check if the input vector is between the given scaling bounds\u001b[39;00m\n\u001b[1;32m     <a href='file:///home/martin/Documents/GitHub/F3DASM/f3dasm/base/function.py?line=46'>47</a>\u001b[0m \n\u001b[1;32m     <a href='file:///home/martin/Documents/GitHub/F3DASM/f3dasm/base/function.py?line=47'>48</a>\u001b[0m \u001b[39m    Args:\u001b[39;00m\n\u001b[0;32m   (...)\u001b[0m\n\u001b[1;32m     <a href='file:///home/martin/Documents/GitHub/F3DASM/f3dasm/base/function.py?line=51'>52</a>\u001b[0m \u001b[39m        bool: whether the vector is within the boundaries\u001b[39;00m\n\u001b[1;32m     <a href='file:///home/martin/Documents/GitHub/F3DASM/f3dasm/base/function.py?line=52'>53</a>\u001b[0m \u001b[39m    \"\"\"\u001b[39;00m\n\u001b[0;32m---> <a href='file:///home/martin/Documents/GitHub/F3DASM/f3dasm/base/function.py?line=53'>54</a>\u001b[0m     \u001b[39mreturn\u001b[39;00m ((\u001b[39mself\u001b[39;49m\u001b[39m.\u001b[39;49mscale_bounds[:, \u001b[39m0\u001b[39;49m] \u001b[39m<\u001b[39;49m x) \u001b[39m&\u001b[39m (x \u001b[39m<\u001b[39m \u001b[39mself\u001b[39m\u001b[39m.\u001b[39mscale_bounds[:, \u001b[39m1\u001b[39m]))\u001b[39m.\u001b[39mall()\n",
      "\u001b[0;31mTypeError\u001b[0m: '<' not supported between instances of 'float' and 'NoneType'"
     ]
    }
   ],
   "source": [
    "func.check_if_within_bounds(func.get_global_minimum(dim)[0])"
   ]
  },
  {
   "cell_type": "code",
   "execution_count": null,
   "metadata": {},
   "outputs": [],
   "source": [
    "fig, ax = func.plot(px=100, domain=domain)\n",
    "ax.scatter(*func.get_global_minimum(dim)[0].ravel(), color='r')"
   ]
  },
  {
   "cell_type": "code",
   "execution_count": null,
   "metadata": {},
   "outputs": [],
   "source": [
    "import matplotlib.pyplot as plt\n",
    "off_list, on_list = [],[]\n",
    "\n",
    "fig,ax = plt.figure(), plt.axes()\n",
    "fig2,ax2 = plt.figure(), plt.axes()\n",
    "\n",
    "for _ in range(1000):\n",
    "    func._create_offset()\n",
    "    o = func.offset\n",
    "    if func.check_if_within_bounds(func.get_global_minimum(d=2)[0]):\n",
    "        c = 'green'\n",
    "        on_list.append(o)\n",
    "\n",
    "    else:\n",
    "        c = 'red'\n",
    "        off_list.append(o)\n",
    "\n",
    "    ax.scatter(*func.offset.ravel(),color=c, s=1)\n",
    "    ax2.scatter(*func.get_global_minimum(d=2)[0].ravel(),color=c, s=1)\n",
    "    #print(f\"{func.check_if_within_bounds(func.get_global_minimum(d=2)[0])}: {func.get_global_minimum(d=2)[0]}\") "
   ]
  },
  {
   "cell_type": "code",
   "execution_count": null,
   "metadata": {},
   "outputs": [],
   "source": [
    "on_list = np.array(on_list)[:,0]\n",
    "off_list = np.array(off_list)[:,0]"
   ]
  },
  {
   "cell_type": "code",
   "execution_count": null,
   "metadata": {},
   "outputs": [],
   "source": [
    "print(min(on_list[:,0]), max(on_list[:,0]))\n",
    "print(min(on_list[:,1]), max(on_list[:,1]))"
   ]
  },
  {
   "cell_type": "code",
   "execution_count": null,
   "metadata": {},
   "outputs": [],
   "source": [
    "print(min(off_list[:,0]), max(off_list[:,0]))\n",
    "print(min(off_list[:,1]), max(off_list[:,1]))"
   ]
  },
  {
   "cell_type": "code",
   "execution_count": null,
   "metadata": {},
   "outputs": [],
   "source": [
    "func.offset = np.zeros(func.dimensionality)\n",
    "\n",
    "global_minimum_method = getattr(func, \"get_global_minimum\", None)\n",
    "if callable(global_minimum_method):\n",
    "    g = func.get_global_minimum(d=func.dimensionality)[0]\n",
    "\n",
    "    if g is None:\n",
    "        g = np.zeros(func.dimensionality)\n",
    "\n",
    "    if g.ndim == 2:\n",
    "        g = g[0]\n",
    "\n",
    "else:\n",
    "    g = np.zeros(func.dimensionality)\n",
    "\n",
    "[\n",
    "    (-abs(g[d] - func.scale_bounds[d, 0]), abs(g[d] - func.scale_bounds[d, 1])\n",
    "    )  # Here a bug\n",
    "    for d in range(func.dimensionality)\n",
    "]"
   ]
  },
  {
   "cell_type": "code",
   "execution_count": null,
   "metadata": {},
   "outputs": [],
   "source": [
    "g"
   ]
  },
  {
   "cell_type": "code",
   "execution_count": null,
   "metadata": {},
   "outputs": [],
   "source": [
    "func.scale_bounds"
   ]
  },
  {
   "cell_type": "code",
   "execution_count": null,
   "metadata": {},
   "outputs": [],
   "source": [
    "0-(1-0.55)"
   ]
  },
  {
   "cell_type": "code",
   "execution_count": 36,
   "metadata": {},
   "outputs": [
    {
     "data": {
      "text/plain": [
       "24"
      ]
     },
     "execution_count": 36,
     "metadata": {},
     "output_type": "execute_result"
    }
   ],
   "source": [
    "div = 13\n",
    "n = 320\n",
    "\n",
    "n // div"
   ]
  },
  {
   "cell_type": "code",
   "execution_count": 37,
   "metadata": {},
   "outputs": [
    {
     "data": {
      "text/plain": [
       "312"
      ]
     },
     "execution_count": 37,
     "metadata": {},
     "output_type": "execute_result"
    }
   ],
   "source": [
    "24*13"
   ]
  },
  {
   "cell_type": "code",
   "execution_count": 38,
   "metadata": {},
   "outputs": [
    {
     "data": {
      "text/plain": [
       "8"
      ]
     },
     "execution_count": 38,
     "metadata": {},
     "output_type": "execute_result"
    }
   ],
   "source": [
    "n % div"
   ]
  },
  {
   "cell_type": "code",
   "execution_count": 34,
   "metadata": {},
   "outputs": [
    {
     "data": {
      "text/plain": [
       "320"
      ]
     },
     "execution_count": 34,
     "metadata": {},
     "output_type": "execute_result"
    }
   ],
   "source": [
    "int(n/div) + (n % div>0)"
   ]
  },
  {
   "cell_type": "code",
   "execution_count": 35,
   "metadata": {},
   "outputs": [
    {
     "data": {
      "text/plain": [
       "320"
      ]
     },
     "execution_count": 35,
     "metadata": {},
     "output_type": "execute_result"
    }
   ],
   "source": [
    "n // div + (n % div>0)"
   ]
  },
  {
   "cell_type": "code",
   "execution_count": 30,
   "metadata": {},
   "outputs": [
    {
     "data": {
      "text/plain": [
       "4"
      ]
     },
     "execution_count": 30,
     "metadata": {},
     "output_type": "execute_result"
    }
   ],
   "source": []
  },
  {
   "cell_type": "code",
   "execution_count": 26,
   "metadata": {},
   "outputs": [
    {
     "data": {
      "text/plain": [
       "0"
      ]
     },
     "execution_count": 26,
     "metadata": {},
     "output_type": "execute_result"
    }
   ],
   "source": [
    "n % True"
   ]
  },
  {
   "cell_type": "code",
   "execution_count": 27,
   "metadata": {},
   "outputs": [
    {
     "ename": "ZeroDivisionError",
     "evalue": "integer division or modulo by zero",
     "output_type": "error",
     "traceback": [
      "\u001b[0;31m---------------------------------------------------------------------------\u001b[0m",
      "\u001b[0;31mZeroDivisionError\u001b[0m                         Traceback (most recent call last)",
      "Input \u001b[0;32mIn [27]\u001b[0m, in \u001b[0;36m<cell line: 1>\u001b[0;34m()\u001b[0m\n\u001b[0;32m----> 1\u001b[0m n \u001b[39m%\u001b[39;49m \u001b[39mFalse\u001b[39;49;00m\n",
      "\u001b[0;31mZeroDivisionError\u001b[0m: integer division or modulo by zero"
     ]
    }
   ],
   "source": [
    "n % False"
   ]
  },
  {
   "cell_type": "code",
   "execution_count": null,
   "metadata": {},
   "outputs": [],
   "source": []
  }
 ],
 "metadata": {
  "interpreter": {
   "hash": "cd4aa09bf73c11ef3239c620489b85906b4cadb309e0ddddf54fa55967002edb"
  },
  "kernelspec": {
   "display_name": "Python 3.10.5 ('f3dasm_env')",
   "language": "python",
   "name": "python3"
  },
  "language_info": {
   "codemirror_mode": {
    "name": "ipython",
    "version": 3
   },
   "file_extension": ".py",
   "mimetype": "text/x-python",
   "name": "python",
   "nbconvert_exporter": "python",
   "pygments_lexer": "ipython3",
   "version": "3.10.5"
  },
  "orig_nbformat": 4
 },
 "nbformat": 4,
 "nbformat_minor": 2
}
