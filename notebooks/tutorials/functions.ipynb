{
 "cells": [
  {
   "cell_type": "code",
   "execution_count": 1,
   "metadata": {},
   "outputs": [],
   "source": [
    "import f3dasm\n",
    "import numpy as np"
   ]
  },
  {
   "cell_type": "code",
   "execution_count": 2,
   "metadata": {},
   "outputs": [],
   "source": [
    "seed = 42"
   ]
  },
  {
   "cell_type": "markdown",
   "metadata": {},
   "source": [
    "### Creating the design space"
   ]
  },
  {
   "cell_type": "markdown",
   "metadata": {},
   "source": [
    "Define the parameters `x1`, `x2` and `x3` and the output `y`"
   ]
  },
  {
   "cell_type": "code",
   "execution_count": 3,
   "metadata": {},
   "outputs": [],
   "source": [
    "# Input parameters\n",
    "x1 = f3dasm.ContinuousParameter(name=\"x1\", lower_bound=0., upper_bound=1.)\n",
    "x2 = f3dasm.ContinuousParameter(name=\"x2\", lower_bound=0., upper_bound=1.)\n",
    "x3 = f3dasm.ContinuousParameter(name=\"x3\", lower_bound=0., upper_bound=1.)\n",
    "\n",
    "# Output parameters\n",
    "y = f3dasm.ContinuousParameter(name=\"y\")"
   ]
  },
  {
   "cell_type": "markdown",
   "metadata": {},
   "source": [
    "We construct 2 lists of these parameters and construct the designspace: "
   ]
  },
  {
   "cell_type": "code",
   "execution_count": 4,
   "metadata": {},
   "outputs": [],
   "source": [
    "# Creaete lists of parameters\n",
    "input_space = [x1, x2, x3]\n",
    "output_space = [y]\n",
    "\n",
    "# Construct the design space\n",
    "design = f3dasm.DesignSpace(input_space=input_space, output_space=output_space)"
   ]
  },
  {
   "cell_type": "markdown",
   "metadata": {},
   "source": [
    "To sample from the design space, we need a sampler. We choose the default `RandomUniform` sampler:"
   ]
  },
  {
   "cell_type": "code",
   "execution_count": 5,
   "metadata": {},
   "outputs": [],
   "source": [
    "# Construct sampler\n",
    "random_uniform = f3dasm.sampling.RandomUniformSampling(doe=design, seed=seed)"
   ]
  },
  {
   "cell_type": "markdown",
   "metadata": {},
   "source": [
    "By invoking the `get_samples()` method, we obtain samples according to the sampling strategy:"
   ]
  },
  {
   "cell_type": "code",
   "execution_count": 6,
   "metadata": {},
   "outputs": [],
   "source": [
    "N = 20 # Number of samples\n",
    "\n",
    "data = random_uniform.get_samples(numsamples=N)"
   ]
  },
  {
   "cell_type": "code",
   "execution_count": 7,
   "metadata": {},
   "outputs": [
    {
     "data": {
      "text/plain": [
       "Data(designspace=DesignSpace(input_space=[ContinuousParameter(name='x1', lower_bound=0.0, upper_bound=1.0, type='float'), ContinuousParameter(name='x2', lower_bound=0.0, upper_bound=1.0, type='float'), ContinuousParameter(name='x3', lower_bound=0.0, upper_bound=1.0, type='float')], output_space=[ContinuousParameter(name='y', lower_bound=-inf, upper_bound=inf, type='float')]), data=       input                     output\n",
       "          x1        x2        x3      y\n",
       "0   0.374540  0.950714  0.731994    NaN\n",
       "1   0.598658  0.156019  0.155995    NaN\n",
       "2   0.058084  0.866176  0.601115    NaN\n",
       "3   0.708073  0.020584  0.969910    NaN\n",
       "4   0.832443  0.212339  0.181825    NaN\n",
       "5   0.183405  0.304242  0.524756    NaN\n",
       "6   0.431945  0.291229  0.611853    NaN\n",
       "7   0.139494  0.292145  0.366362    NaN\n",
       "8   0.456070  0.785176  0.199674    NaN\n",
       "9   0.514234  0.592415  0.046450    NaN\n",
       "10  0.607545  0.170524  0.065052    NaN\n",
       "11  0.948886  0.965632  0.808397    NaN\n",
       "12  0.304614  0.097672  0.684233    NaN\n",
       "13  0.440152  0.122038  0.495177    NaN\n",
       "14  0.034389  0.909320  0.258780    NaN\n",
       "15  0.662522  0.311711  0.520068    NaN\n",
       "16  0.546710  0.184854  0.969585    NaN\n",
       "17  0.775133  0.939499  0.894827    NaN\n",
       "18  0.597900  0.921874  0.088493    NaN\n",
       "19  0.195983  0.045227  0.325330    NaN)"
      ]
     },
     "execution_count": 7,
     "metadata": {},
     "output_type": "execute_result"
    }
   ],
   "source": [
    "data"
   ]
  },
  {
   "cell_type": "markdown",
   "metadata": {},
   "source": [
    "### Initializing the `Data` object"
   ]
  },
  {
   "cell_type": "markdown",
   "metadata": {},
   "source": [
    "We can plot two dimensions of the samples with the `plot()` method:"
   ]
  },
  {
   "cell_type": "code",
   "execution_count": 8,
   "metadata": {},
   "outputs": [
    {
     "data": {
      "image/png": "[encoded data removed]",
      "text/plain": [
       "<Figure size 432x288 with 1 Axes>"
      ]
     },
     "metadata": {
      "needs_background": "light"
     },
     "output_type": "display_data"
    }
   ],
   "source": [
    "data.plot(input_par1='x1', input_par2='x2')"
   ]
  },
  {
   "cell_type": "markdown",
   "metadata": {},
   "source": [
    "The data can be displayed with the `show()` method"
   ]
  },
  {
   "cell_type": "code",
   "execution_count": 9,
   "metadata": {},
   "outputs": [
    {
     "name": "stdout",
     "output_type": "stream",
     "text": [
      "       input                     output\n",
      "          x1        x2        x3      y\n",
      "0   0.374540  0.950714  0.731994    NaN\n",
      "1   0.598658  0.156019  0.155995    NaN\n",
      "2   0.058084  0.866176  0.601115    NaN\n",
      "3   0.708073  0.020584  0.969910    NaN\n",
      "4   0.832443  0.212339  0.181825    NaN\n",
      "5   0.183405  0.304242  0.524756    NaN\n",
      "6   0.431945  0.291229  0.611853    NaN\n",
      "7   0.139494  0.292145  0.366362    NaN\n",
      "8   0.456070  0.785176  0.199674    NaN\n",
      "9   0.514234  0.592415  0.046450    NaN\n",
      "10  0.607545  0.170524  0.065052    NaN\n",
      "11  0.948886  0.965632  0.808397    NaN\n",
      "12  0.304614  0.097672  0.684233    NaN\n",
      "13  0.440152  0.122038  0.495177    NaN\n",
      "14  0.034389  0.909320  0.258780    NaN\n",
      "15  0.662522  0.311711  0.520068    NaN\n",
      "16  0.546710  0.184854  0.969585    NaN\n",
      "17  0.775133  0.939499  0.894827    NaN\n",
      "18  0.597900  0.921874  0.088493    NaN\n",
      "19  0.195983  0.045227  0.325330    NaN\n"
     ]
    }
   ],
   "source": [
    "data.show()"
   ]
  },
  {
   "cell_type": "markdown",
   "metadata": {},
   "source": [
    "### Evaluating a benchmark function"
   ]
  },
  {
   "cell_type": "markdown",
   "metadata": {},
   "source": [
    "Several benchmark function have been implemented to work with **continuous and single-objective** optimization problems.\n",
    "\n",
    "The `Levy()` function is a well-known, multimodal function\n"
   ]
  },
  {
   "cell_type": "code",
   "execution_count": 10,
   "metadata": {},
   "outputs": [],
   "source": [
    "func = f3dasm.functions.Levy(seed=seed, scale_bounds=[-10., 10.])"
   ]
  },
  {
   "cell_type": "markdown",
   "metadata": {},
   "source": [
    "We can plot a three-dimensional represtation of two input parameters $X_1$ and $X_2$ with the `plot()` function"
   ]
  },
  {
   "cell_type": "code",
   "execution_count": 11,
   "metadata": {},
   "outputs": [
    {
     "ename": "IndexError",
     "evalue": "index 1 is out of bounds for axis 0 with size 1",
     "output_type": "error",
     "traceback": [
      "\u001b[0;31m---------------------------------------------------------------------------\u001b[0m",
      "\u001b[0;31mIndexError\u001b[0m                                Traceback (most recent call last)",
      "Input \u001b[0;32mIn [11]\u001b[0m, in \u001b[0;36m<cell line: 1>\u001b[0;34m()\u001b[0m\n\u001b[0;32m----> 1\u001b[0m func\u001b[39m.\u001b[39;49mplot(px\u001b[39m=\u001b[39;49m\u001b[39m100\u001b[39;49m, domain\u001b[39m=\u001b[39;49mnp\u001b[39m.\u001b[39;49mtile([\u001b[39m0.\u001b[39;49m,\u001b[39m1.\u001b[39;49m], (\u001b[39m1\u001b[39;49m,func\u001b[39m.\u001b[39;49mdimensionality)))\n",
      "File \u001b[0;32m~/Documents/GitHub/testthings/f3dasm/base/function.py:190\u001b[0m, in \u001b[0;36mFunction.plot\u001b[0;34m(self, orientation, px, domain, show)\u001b[0m\n\u001b[1;32m    <a href='file:///home/martin/Documents/GitHub/testthings/f3dasm/base/function.py?line=186'>187</a>\u001b[0m     plt\u001b[39m.\u001b[39mion()\n\u001b[1;32m    <a href='file:///home/martin/Documents/GitHub/testthings/f3dasm/base/function.py?line=188'>189</a>\u001b[0m x1 \u001b[39m=\u001b[39m np\u001b[39m.\u001b[39mlinspace(domain[\u001b[39m0\u001b[39m, \u001b[39m0\u001b[39m], domain[\u001b[39m0\u001b[39m, \u001b[39m1\u001b[39m], num\u001b[39m=\u001b[39mpx)\n\u001b[0;32m--> <a href='file:///home/martin/Documents/GitHub/testthings/f3dasm/base/function.py?line=189'>190</a>\u001b[0m x2 \u001b[39m=\u001b[39m np\u001b[39m.\u001b[39mlinspace(domain[\u001b[39m1\u001b[39;49m, \u001b[39m0\u001b[39;49m], domain[\u001b[39m1\u001b[39m, \u001b[39m1\u001b[39m], num\u001b[39m=\u001b[39mpx)\n\u001b[1;32m    <a href='file:///home/martin/Documents/GitHub/testthings/f3dasm/base/function.py?line=190'>191</a>\u001b[0m X1, X2 \u001b[39m=\u001b[39m np\u001b[39m.\u001b[39mmeshgrid(x1, x2)\n\u001b[1;32m    <a href='file:///home/martin/Documents/GitHub/testthings/f3dasm/base/function.py?line=192'>193</a>\u001b[0m Y \u001b[39m=\u001b[39m np\u001b[39m.\u001b[39mzeros([\u001b[39mlen\u001b[39m(X1), \u001b[39mlen\u001b[39m(X2)])\n",
      "\u001b[0;31mIndexError\u001b[0m: index 1 is out of bounds for axis 0 with size 1"
     ]
    }
   ],
   "source": [
    "func.plot(px=100, domain=np.tile([0.,1.], (1,func.dimensionality)))"
   ]
  },
  {
   "cell_type": "markdown",
   "metadata": {},
   "source": [
    "Evaluating the function is easy, just pass either the `Data()` object to it and all the samples will be evaluated or a `np.ndarray`\n",
    "The output will be a `np.ndarray`"
   ]
  },
  {
   "cell_type": "code",
   "execution_count": null,
   "metadata": {},
   "outputs": [],
   "source": [
    "x = data.get_input_data().to_numpy()"
   ]
  },
  {
   "cell_type": "markdown",
   "metadata": {},
   "source": [
    "### Add the function evaluations back to the data structure"
   ]
  },
  {
   "cell_type": "markdown",
   "metadata": {},
   "source": [
    "By calling the `add_output` option, we can add individual columns or overwrite data to our DataFrame:"
   ]
  },
  {
   "cell_type": "code",
   "execution_count": null,
   "metadata": {},
   "outputs": [],
   "source": [
    "data.add_output(output=y, label='y')"
   ]
  },
  {
   "cell_type": "code",
   "execution_count": null,
   "metadata": {},
   "outputs": [],
   "source": [
    "data.show()"
   ]
  }
 ],
 "metadata": {
  "interpreter": {
   "hash": "73193fbeb8677ab93f213154c0927f21dd4fccfe51cf5f6d1ad5a916be4d211f"
  },
  "kernelspec": {
   "display_name": "Python 3.10.4 ('testthings')",
   "language": "python",
   "name": "python3"
  },
  "language_info": {
   "codemirror_mode": {
    "name": "ipython",
    "version": 3
   },
   "file_extension": ".py",
   "mimetype": "text/x-python",
   "name": "python",
   "nbconvert_exporter": "python",
   "pygments_lexer": "ipython3",
   "version": "3.10.5"
  },
  "orig_nbformat": 4
 },
 "nbformat": 4,
 "nbformat_minor": 2
}
