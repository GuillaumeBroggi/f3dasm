{
 "cells": [
  {
   "cell_type": "code",
   "execution_count": 1,
   "metadata": {},
   "outputs": [],
   "source": [
    "from f3dasm.simulation.benchmark_functions import Levy, Ackley, Rastrigin, Schwefel, create_test_data, Rosenbrock\n",
    "\n",
    "\n",
    "from f3dasm import base\n",
    "\n",
    "# from f3dasm.base.space import ContinuousParameter, CategoricalParameter\n",
    "# from f3dasm.base.designofexperiments import DesignSpace\n",
    "# from f3dasm.sampling.randomuniform import RandomUniformSampling\n",
    "from f3dasm.base.data import Data\n",
    "\n",
    "from IPython.display import display"
   ]
  },
  {
   "cell_type": "code",
   "execution_count": 2,
   "metadata": {},
   "outputs": [],
   "source": [
    "seed = 42"
   ]
  },
  {
   "cell_type": "markdown",
   "metadata": {},
   "source": [
    "### Creating the design space"
   ]
  },
  {
   "cell_type": "markdown",
   "metadata": {},
   "source": [
    "Define the parameters `x1`, `x2` and `x3` and the output `y`"
   ]
  },
  {
   "cell_type": "code",
   "execution_count": 3,
   "metadata": {},
   "outputs": [
    {
     "ename": "NameError",
     "evalue": "name 'ContinuousParameter' is not defined",
     "output_type": "error",
     "traceback": [
      "\u001b[0;31m---------------------------------------------------------------------------\u001b[0m",
      "\u001b[0;31mNameError\u001b[0m                                 Traceback (most recent call last)",
      "Input \u001b[0;32mIn [3]\u001b[0m, in \u001b[0;36m<cell line: 2>\u001b[0;34m()\u001b[0m\n\u001b[1;32m      1\u001b[0m \u001b[39m# Input parameters\u001b[39;00m\n\u001b[0;32m----> 2\u001b[0m x1 \u001b[39m=\u001b[39m ContinuousParameter(name\u001b[39m=\u001b[39m\u001b[39m\"\u001b[39m\u001b[39mx1\u001b[39m\u001b[39m\"\u001b[39m, lower_bound\u001b[39m=\u001b[39m\u001b[39m-\u001b[39m\u001b[39m10.\u001b[39m, upper_bound\u001b[39m=\u001b[39m\u001b[39m10.\u001b[39m)\n\u001b[1;32m      3\u001b[0m x2 \u001b[39m=\u001b[39m ContinuousParameter(name\u001b[39m=\u001b[39m\u001b[39m\"\u001b[39m\u001b[39mx2\u001b[39m\u001b[39m\"\u001b[39m, lower_bound\u001b[39m=\u001b[39m\u001b[39m-\u001b[39m\u001b[39m10.\u001b[39m, upper_bound\u001b[39m=\u001b[39m\u001b[39m10.\u001b[39m)\n\u001b[1;32m      4\u001b[0m x3 \u001b[39m=\u001b[39m ContinuousParameter(name\u001b[39m=\u001b[39m\u001b[39m\"\u001b[39m\u001b[39mx3\u001b[39m\u001b[39m\"\u001b[39m, lower_bound\u001b[39m=\u001b[39m\u001b[39m-\u001b[39m\u001b[39m10.\u001b[39m, upper_bound\u001b[39m=\u001b[39m\u001b[39m10.\u001b[39m)\n",
      "\u001b[0;31mNameError\u001b[0m: name 'ContinuousParameter' is not defined"
     ]
    }
   ],
   "source": [
    "# Input parameters\n",
    "x1 = ContinuousParameter(name=\"x1\", lower_bound=-10., upper_bound=10.)\n",
    "x2 = ContinuousParameter(name=\"x2\", lower_bound=-10., upper_bound=10.)\n",
    "x3 = ContinuousParameter(name=\"x3\", lower_bound=-10., upper_bound=10.)\n",
    "\n",
    "# Output parameters\n",
    "y = ContinuousParameter(name=\"y\")"
   ]
  },
  {
   "cell_type": "markdown",
   "metadata": {},
   "source": [
    "We construct 2 lists of these parameters and construct the designspace: "
   ]
  },
  {
   "cell_type": "code",
   "execution_count": null,
   "metadata": {},
   "outputs": [],
   "source": [
    "# Creaete lists of parameters\n",
    "input_space = [x1, x2, x3]\n",
    "output_space = [y]\n",
    "\n",
    "# Construct the design space\n",
    "design = DesignSpace(input_space=input_space, output_space=output_space)"
   ]
  },
  {
   "cell_type": "markdown",
   "metadata": {},
   "source": [
    "To sample from the design space, we need a sampler. We choose the default `RandomUniform` sampler:"
   ]
  },
  {
   "cell_type": "code",
   "execution_count": null,
   "metadata": {},
   "outputs": [],
   "source": [
    "# Construct sampler\n",
    "random_uniform = RandomUniformSampling(doe=design, seed=seed)"
   ]
  },
  {
   "cell_type": "markdown",
   "metadata": {},
   "source": [
    "By invoking the `get_samples()` method, we obtain samples according to the sampling strategy:"
   ]
  },
  {
   "cell_type": "code",
   "execution_count": null,
   "metadata": {},
   "outputs": [],
   "source": [
    "N = 20 # Number of samples\n",
    "\n",
    "data = random_uniform.get_samples(numsamples=N)"
   ]
  },
  {
   "cell_type": "markdown",
   "metadata": {},
   "source": [
    "### Initializing the `Data` object"
   ]
  },
  {
   "cell_type": "markdown",
   "metadata": {},
   "source": [
    "We can plot two dimensions of the samples with the `plot()` method:"
   ]
  },
  {
   "cell_type": "code",
   "execution_count": null,
   "metadata": {},
   "outputs": [],
   "source": [
    "data.plot(input_par1='x1', input_par2='x2')"
   ]
  },
  {
   "cell_type": "markdown",
   "metadata": {},
   "source": [
    "The data can be displayed with the `show()` method"
   ]
  },
  {
   "cell_type": "code",
   "execution_count": null,
   "metadata": {},
   "outputs": [],
   "source": [
    "data.show()"
   ]
  },
  {
   "cell_type": "markdown",
   "metadata": {},
   "source": [
    "### Evaluating a benchmark function"
   ]
  },
  {
   "cell_type": "markdown",
   "metadata": {},
   "source": [
    "Several benchmark function have been implemented to work with **continuous and single-objective** optimization problems.\n",
    "\n",
    "The `Levy()` function is a well-known, multimodal function\n"
   ]
  },
  {
   "cell_type": "code",
   "execution_count": null,
   "metadata": {},
   "outputs": [],
   "source": [
    "func = Levy(seed=seed)"
   ]
  },
  {
   "cell_type": "markdown",
   "metadata": {},
   "source": [
    "We can plot a three-dimensional represtation of two input parameters $X_1$ and $X_2$ with the `plot()` function"
   ]
  },
  {
   "cell_type": "code",
   "execution_count": null,
   "metadata": {},
   "outputs": [],
   "source": [
    "func.plot(px=100, domain=[-10.,10.])"
   ]
  },
  {
   "cell_type": "markdown",
   "metadata": {},
   "source": [
    "Evaluating the function is easy, just pass either the `Data()` object to it and all the samples will be evaluated or a `np.ndarray`\n",
    "The output will be a `np.ndarray`"
   ]
  },
  {
   "cell_type": "code",
   "execution_count": null,
   "metadata": {},
   "outputs": [],
   "source": [
    "y = func.eval(data)\n",
    "y"
   ]
  },
  {
   "cell_type": "markdown",
   "metadata": {},
   "source": [
    "### Add the function evaluations back to the data structure"
   ]
  },
  {
   "cell_type": "markdown",
   "metadata": {},
   "source": [
    "By calling the `add_output` option, we can add individual columns or overwrite data to our DataFrame:"
   ]
  },
  {
   "cell_type": "code",
   "execution_count": null,
   "metadata": {},
   "outputs": [],
   "source": [
    "data.add_output(output=y, label='y')"
   ]
  },
  {
   "cell_type": "code",
   "execution_count": null,
   "metadata": {},
   "outputs": [],
   "source": [
    "data.show()"
   ]
  },
  {
   "cell_type": "code",
   "execution_count": null,
   "metadata": {},
   "outputs": [],
   "source": [
    "a = data.get_input_data().to_numpy()\n",
    "\n",
    "import numpy as np\n",
    "ai = np.array([[0.1,0.2,0.3],[0.4,0.5,0.6]])\n",
    "bi = np.array([[0.99, 0.99, 0.99]])\n",
    "\n",
    "np.r_[ai, bi]"
   ]
  },
  {
   "cell_type": "code",
   "execution_count": null,
   "metadata": {},
   "outputs": [],
   "source": [
    "dfdx = func.dfdx(a)\n",
    "dfdx\n"
   ]
  },
  {
   "cell_type": "code",
   "execution_count": null,
   "metadata": {},
   "outputs": [],
   "source": [
    "fx = func.eval(a)\n",
    "fx.shape\n",
    "\n",
    "a.shape"
   ]
  },
  {
   "cell_type": "code",
   "execution_count": null,
   "metadata": {},
   "outputs": [],
   "source": [
    "dfdx.shape"
   ]
  },
  {
   "cell_type": "code",
   "execution_count": null,
   "metadata": {},
   "outputs": [],
   "source": [
    "import numpy as np\n",
    "import numdifftools as nd\n",
    "\n",
    "grad = nd.Gradient(func.eval)"
   ]
  },
  {
   "cell_type": "code",
   "execution_count": null,
   "metadata": {},
   "outputs": [],
   "source": [
    "a[0,:]"
   ]
  },
  {
   "cell_type": "code",
   "execution_count": null,
   "metadata": {},
   "outputs": [],
   "source": [
    "grad(a[0,:])"
   ]
  },
  {
   "cell_type": "code",
   "execution_count": null,
   "metadata": {},
   "outputs": [],
   "source": [
    "g = np.empty(shape=(1,3))\n",
    "g"
   ]
  },
  {
   "cell_type": "code",
   "execution_count": null,
   "metadata": {},
   "outputs": [],
   "source": [
    "tt = np.r_[g, np.atleast_2d(grad(a[0,:]))]"
   ]
  },
  {
   "cell_type": "code",
   "execution_count": null,
   "metadata": {},
   "outputs": [],
   "source": [
    "tt"
   ]
  },
  {
   "cell_type": "code",
   "execution_count": null,
   "metadata": {},
   "outputs": [],
   "source": []
  }
 ],
 "metadata": {
  "interpreter": {
   "hash": "73193fbeb8677ab93f213154c0927f21dd4fccfe51cf5f6d1ad5a916be4d211f"
  },
  "kernelspec": {
   "display_name": "Python 3.10.4 ('testthings')",
   "language": "python",
   "name": "python3"
  },
  "language_info": {
   "codemirror_mode": {
    "name": "ipython",
    "version": 3
   },
   "file_extension": ".py",
   "mimetype": "text/x-python",
   "name": "python",
   "nbconvert_exporter": "python",
   "pygments_lexer": "ipython3",
   "version": "3.10.4"
  },
  "orig_nbformat": 4
 },
 "nbformat": 4,
 "nbformat_minor": 2
}
