{
 "cells": [
  {
   "cell_type": "markdown",
   "metadata": {
    "slideshow": {
     "slide_type": "slide"
    }
   },
   "source": [
    "# Practical session demo\n",
    "\n",
    "We are going to take a look at the different functionalities:\n",
    "* Create a design of experiments\n",
    "* Sample from this space\n",
    "* Evaluate the samples using a well-known benchmark function\n",
    "* Iteratively find the minimum of the loss-landscape using a global optimizer\n",
    "* Look at one of the example experiments: 20D Ackley optimization with CMAES"
   ]
  },
  {
   "cell_type": "markdown",
   "metadata": {
    "slideshow": {
     "slide_type": "fragment"
    }
   },
   "source": [
    "import the `f3dasm` package, and `numpy`:"
   ]
  },
  {
   "cell_type": "code",
   "execution_count": null,
   "metadata": {
    "slideshow": {
     "slide_type": "fragment"
    }
   },
   "outputs": [],
   "source": [
    "import f3dasm\n",
    "import numpy as np"
   ]
  },
  {
   "cell_type": "markdown",
   "metadata": {
    "slideshow": {
     "slide_type": "fragment"
    }
   },
   "source": [
    "make sure that we specify a `seed`:"
   ]
  },
  {
   "cell_type": "code",
   "execution_count": null,
   "metadata": {
    "slideshow": {
     "slide_type": "fragment"
    }
   },
   "outputs": [],
   "source": [
    "seed = 42"
   ]
  },
  {
   "cell_type": "markdown",
   "metadata": {
    "slideshow": {
     "slide_type": "slide"
    }
   },
   "source": [
    "### Design: Creating the design space"
   ]
  },
  {
   "cell_type": "markdown",
   "metadata": {},
   "source": [
    "**Parameters**\n",
    "\n",
    "There are three different parameters you can construct:\n",
    "* We can create continuous parameters with a `lower_bound` and `upper_bound` (optional) with the `f3dasm.ContinuousParameter` class\n",
    "* We can create discrete parameters with a `lower_bound` and `upper_bound` with the `f3dasm.DiscreteParameter` class\n",
    "* We can create categorical parameters with a list of strings (categories) with the `f3dasm.CategoricalParameter` class\n",
    "\n",
    "all parameters also require a `name`.\n",
    "\n",
    "**Design space**\n",
    "\n",
    "Parameters define the `f3dasm.DesignSpace` and can be constructed by calling the `f3dasm.DesignSpace` class and providing:\n",
    "* a list of input parameters (`input_space`) \n",
    "* a list of output parameters (`output_space`)\n"
   ]
  },
  {
   "cell_type": "markdown",
   "metadata": {},
   "source": [
    "***\n",
    "**Exercise #1**\n",
    "\n",
    "Create a `DesignSpace` with the following features:\n",
    "* 2 continuous input parameters named `x0` and `x1`, both with the same range of `-1.0` to `1.0`\n",
    "* 1 continuous output parameter named `y`\n",
    "* Call this designspace `design`\n",
    "***"
   ]
  },
  {
   "cell_type": "code",
   "execution_count": null,
   "metadata": {},
   "outputs": [],
   "source": [
    "## YOUR CODE HERE ##"
   ]
  },
  {
   "cell_type": "code",
   "execution_count": null,
   "metadata": {},
   "outputs": [],
   "source": [
    "## SOLUTION ##\n",
    "\n",
    "# Input parameters\n",
    "x1 = f3dasm.ContinuousParameter(name=\"x0\", lower_bound=-1., upper_bound=1.)\n",
    "x2 = f3dasm.ContinuousParameter(name=\"x1\", lower_bound=-1., upper_bound=1.)\n",
    "\n",
    "# Output parameters\n",
    "y = f3dasm.ContinuousParameter(name=\"y\")\n",
    "\n",
    "# Create lists of parameters\n",
    "input_space = [x1, x2]\n",
    "output_space = [y]\n",
    "\n",
    "# Construct the design space\n",
    "design = f3dasm.DesignSpace(input_space=input_space, output_space=output_space)"
   ]
  },
  {
   "cell_type": "code",
   "execution_count": null,
   "metadata": {},
   "outputs": [],
   "source": [
    "## CHECK ##\n",
    "\n",
    "assert design == f3dasm.make_nd_continuous_design(bounds=np.tile([-1., 1.], (2,1)), dimensionality=2)"
   ]
  },
  {
   "cell_type": "markdown",
   "metadata": {
    "slideshow": {
     "slide_type": "fragment"
    }
   },
   "source": [
    "What's next? We can sample from this design space with the **sampling** block!"
   ]
  },
  {
   "cell_type": "markdown",
   "metadata": {
    "slideshow": {
     "slide_type": "slide"
    }
   },
   "source": [
    "### Sampling: Latin Hypercube Sampler"
   ]
  },
  {
   "cell_type": "markdown",
   "metadata": {},
   "source": [
    "Samplers can be found within the submodule `f3dasm.sampling`. Currently 3 samplers are readily available:\n",
    "* Random Uniform Sampling (`f3dasm.sampling.RandomUniformSampling`)\n",
    "* Latin Hypercube Sampling(`f3dasm.sampling.LatinHypercubeSampling`)\n",
    "* Sobol Sequence Sampling (`f3dasm.sampling.SobolSequenceSampling`)\n",
    "\n",
    "**Creating a sampler object**\n",
    "A new sampler can be created by initializing the sampler with:\n",
    "* A design space\n",
    "* A random seed (optional)\n",
    "\n",
    "After that, you can sample by invoking the `get_samples(numsamples)`, where `numsamples` is the number of samples you want to get"
   ]
  },
  {
   "cell_type": "markdown",
   "metadata": {},
   "source": [
    "***\n",
    "<b>Exercise #2</b>\n",
    "\n",
    "Now you are going to create a sampler and sample some points from the designspace:\n",
    "* Create a <u>Random Uniform sampling</u> with the designspace and seed described above\n",
    "* Sample 30 points from the designspace\n",
    "* Store the resulting `Data`-object in the variable `samples_random`\n",
    "* Do the same with <u>Latin Hypercube sampling</u> and store the samples as `samples_lhs`\n",
    "***"
   ]
  },
  {
   "cell_type": "code",
   "execution_count": null,
   "metadata": {},
   "outputs": [],
   "source": [
    "## YOUR CODE HERE ##\n",
    "\n",
    "\n",
    "\n",
    "# If you are stuck you may uncomment the following lines to import the data object directly:\n",
    "# samples_lhs = f3dasm.read_pickle('exercise_samples_lhs')\n",
    "# samples_random = f3dasm.read_pickle('exercise_samples_random')"
   ]
  },
  {
   "cell_type": "code",
   "execution_count": null,
   "metadata": {},
   "outputs": [],
   "source": [
    "## SOLUTION ##\n",
    "\n",
    "# Construct sampler\n",
    "random_sampler = f3dasm.sampling.RandomUniformSampling(design=design,seed=seed)\n",
    "lhs_sampler = f3dasm.sampling.LatinHypercubeSampling(design=design, seed=seed)\n",
    "\n",
    "N = 30 # Number of samples\n",
    "\n",
    "# Get samples\n",
    "samples_random = random_sampler.get_samples(numsamples=N)\n",
    "samples_lhs = lhs_sampler.get_samples(numsamples=N)"
   ]
  },
  {
   "cell_type": "code",
   "execution_count": null,
   "metadata": {},
   "outputs": [],
   "source": [
    "samples_random.data"
   ]
  },
  {
   "cell_type": "code",
   "execution_count": null,
   "metadata": {},
   "outputs": [],
   "source": [
    "## CHECK ##\n",
    "\n",
    "assert samples_lhs.data.equals(f3dasm.read_pickle('exercise_samples_lhs').data)\n",
    "assert samples_random.data.equals(f3dasm.read_pickle('exercise_samples_random').data)"
   ]
  },
  {
   "cell_type": "markdown",
   "metadata": {
    "slideshow": {
     "slide_type": "slide"
    }
   },
   "source": [
    "We can plot the datapoints with the `data.plot()` function:"
   ]
  },
  {
   "cell_type": "code",
   "execution_count": null,
   "metadata": {
    "slideshow": {
     "slide_type": "fragment"
    }
   },
   "outputs": [],
   "source": [
    "fig, ax = samples_lhs.plot(input_par1='x0', input_par2='x1')"
   ]
  },
  {
   "cell_type": "code",
   "execution_count": null,
   "metadata": {},
   "outputs": [],
   "source": [
    "samples_random.data"
   ]
  },
  {
   "cell_type": "markdown",
   "metadata": {
    "slideshow": {
     "slide_type": "fragment"
    }
   },
   "source": [
    "As you could see earlier, the output values are all `NaN`. Let's evaluate the samples with a benchmark function from the **simulation** block!"
   ]
  },
  {
   "cell_type": "markdown",
   "metadata": {
    "slideshow": {
     "slide_type": "slide"
    }
   },
   "source": [
    "### Simulation: Evaluating a benchmark function"
   ]
  },
  {
   "cell_type": "markdown",
   "metadata": {},
   "source": []
  },
  {
   "cell_type": "markdown",
   "metadata": {
    "slideshow": {
     "slide_type": "fragment"
    }
   },
   "source": [
    "Several benchmark functions have been implemented in the submodule `f3dasm.functions` to work with **continuous and single-objective** optimization problems.\n",
    "\n",
    "These functions require an input-vector $\\mathbf{x}$ and output a scalar $f(\\mathbf{x})$\n",
    "\n",
    "The `Levy()` function is a well-known, multimodal function:\n",
    "\n",
    "$f(\\textbf{x}) = \\sin^2 (\\pi w_1) + \\sum_{i = 1}^{D - 1} (w_i - 1)^2 \\left( 1 + 10 \\sin^2 (\\pi w_i + 1) \\right) + (w_d - 1)^2 (1 + \\sin^2 (2 \\pi w_d)) \\\\ w_i = 1 + \\frac{x_i - 1}{4}`\n",
    "$\n"
   ]
  },
  {
   "cell_type": "markdown",
   "metadata": {
    "slideshow": {
     "slide_type": "fragment"
    }
   },
   "source": [
    "First we create such a function `f` by creating an object from the `f3dasm.functions.Levy` class\n",
    "\n",
    "> *The original input domain is (-10, 10), but we scale these boundaries to the boundaries our input space*"
   ]
  },
  {
   "cell_type": "code",
   "execution_count": null,
   "metadata": {},
   "outputs": [],
   "source": [
    "dim = 2\n",
    "domain = np.tile([-1., 1.], (dim,1))"
   ]
  },
  {
   "cell_type": "code",
   "execution_count": null,
   "metadata": {
    "slideshow": {
     "slide_type": "fragment"
    }
   },
   "outputs": [],
   "source": [
    "f = f3dasm.functions.Levy(dimensionality=dim, seed=seed, scale_bounds=domain)"
   ]
  },
  {
   "cell_type": "markdown",
   "metadata": {
    "slideshow": {
     "slide_type": "slide"
    }
   },
   "source": [
    "The global minima are known for these functions and can be accesed by the `get_global_minimum()` function:"
   ]
  },
  {
   "cell_type": "code",
   "execution_count": null,
   "metadata": {
    "slideshow": {
     "slide_type": "fragment"
    }
   },
   "outputs": [],
   "source": [
    "x_min, y_min = f.get_global_minimum(dim)\n",
    "print(f\"The global minimum is {y_min} at position {x_min}\")"
   ]
  },
  {
   "cell_type": "markdown",
   "metadata": {
    "slideshow": {
     "slide_type": "fragment"
    }
   },
   "source": [
    "We can plot a three-dimensional loss-landscape of the two input parameters $x_0$ and $x_1$ with the `plot()` function:\n",
    "* `px` denotes the resolution on each axis\n",
    "* `domain` denotes the domain of the two axis to be plotted"
   ]
  },
  {
   "cell_type": "code",
   "execution_count": null,
   "metadata": {
    "slideshow": {
     "slide_type": "slide"
    }
   },
   "outputs": [],
   "source": [
    "fig, ax = f.plot(px=100, domain=domain)"
   ]
  },
  {
   "cell_type": "markdown",
   "metadata": {
    "slideshow": {
     "slide_type": "slide"
    }
   },
   "source": [
    "Evaluating the function is easy, just pass either:\n",
    "* the `Data()` object to it: `get_input_data()`\n",
    "* or a 2D numpy array: `get_input_data().to_numpy()`\n",
    "\n",
    ".. and all the samples will be evaluated.\n",
    "The output will be a `np.ndarray`"
   ]
  },
  {
   "cell_type": "code",
   "execution_count": null,
   "metadata": {
    "slideshow": {
     "slide_type": "fragment"
    }
   },
   "outputs": [],
   "source": [
    "x = samples_lhs.get_input_data()"
   ]
  },
  {
   "cell_type": "markdown",
   "metadata": {
    "slideshow": {
     "slide_type": "fragment"
    }
   },
   "source": [
    "By calling the `add_output` option, we can add individual columns or overwrite data to our DataFrame:"
   ]
  },
  {
   "cell_type": "code",
   "execution_count": null,
   "metadata": {
    "slideshow": {
     "slide_type": "slide"
    }
   },
   "outputs": [],
   "source": [
    "samples_lhs.add_output(output=f(x))"
   ]
  },
  {
   "cell_type": "code",
   "execution_count": null,
   "metadata": {
    "slideshow": {
     "slide_type": "fragment"
    }
   },
   "outputs": [],
   "source": [
    "samples_lhs.show()"
   ]
  },
  {
   "cell_type": "markdown",
   "metadata": {},
   "source": [
    "Let's store these samples under a new name `data`:"
   ]
  },
  {
   "cell_type": "markdown",
   "metadata": {
    "slideshow": {
     "slide_type": "slide"
    }
   },
   "source": [
    "We can create a contour plot with the samples coordinates with the `plot_data()` function: "
   ]
  },
  {
   "cell_type": "code",
   "execution_count": null,
   "metadata": {
    "scrolled": true,
    "slideshow": {
     "slide_type": "fragment"
    }
   },
   "outputs": [],
   "source": [
    "fig, ax = f.plot_data(samples_lhs,px=300,domain=domain)"
   ]
  },
  {
   "cell_type": "markdown",
   "metadata": {
    "slideshow": {
     "slide_type": "slide"
    }
   },
   "source": [
    "> The red star will indicate the best sample\n",
    "\n"
   ]
  },
  {
   "cell_type": "markdown",
   "metadata": {},
   "source": [
    "***\n",
    "**Exercise #3**\n",
    "\n",
    "* By consulting the documentation, find the location of the best sample obtainted by Latin Hypercube sampling (the red star)\n",
    "* Store this value as `x_best`\n",
    "***"
   ]
  },
  {
   "cell_type": "code",
   "execution_count": null,
   "metadata": {},
   "outputs": [],
   "source": [
    "## YOUR CODE HERE ##\n"
   ]
  },
  {
   "cell_type": "code",
   "execution_count": null,
   "metadata": {},
   "outputs": [],
   "source": [
    "## SOLUTION ##\n",
    "x_best = samples_lhs.get_n_best_input_parameters_numpy(nosamples=1)"
   ]
  },
  {
   "cell_type": "code",
   "execution_count": null,
   "metadata": {},
   "outputs": [],
   "source": [
    "## CHECK ##\n",
    "\n",
    "assert (x_best == f3dasm.read_pickle('exercise_best_sample')).all()"
   ]
  },
  {
   "cell_type": "markdown",
   "metadata": {},
   "source": [
    "Now we will take a look how we can find the minimum of this loss-function with an optimizer!"
   ]
  },
  {
   "cell_type": "markdown",
   "metadata": {
    "slideshow": {
     "slide_type": "fragment"
    }
   },
   "source": [
    "### Optimization: CMAES optimizer\n",
    "\n",
    "Optimizers can be found in the submodule `f3dasm.optimization` and are ported from several libraries such as `GPyOpt`, `scipy-optimize`, `tensorflow` and `pygmo`\n",
    "\n",
    "We will use the CMAES optimizer to find the minimum. We can find an implementation in the `f3dasm.optimization` module:"
   ]
  },
  {
   "cell_type": "code",
   "execution_count": null,
   "metadata": {
    "slideshow": {
     "slide_type": "fragment"
    }
   },
   "outputs": [],
   "source": [
    "optimizer = f3dasm.optimization.CMAES(data=samples_lhs)"
   ]
  },
  {
   "cell_type": "markdown",
   "metadata": {
    "slideshow": {
     "slide_type": "fragment"
    }
   },
   "source": [
    "By calling the `iterate()` method and specifying the function and the number of iterations, we will start the optimization process:"
   ]
  },
  {
   "cell_type": "code",
   "execution_count": null,
   "metadata": {
    "slideshow": {
     "slide_type": "fragment"
    }
   },
   "outputs": [],
   "source": [
    "optimizer.iterate(iterations=100, function=f)"
   ]
  },
  {
   "cell_type": "markdown",
   "metadata": {
    "slideshow": {
     "slide_type": "fragment"
    }
   },
   "source": [
    "After that, we can extract the data:"
   ]
  },
  {
   "cell_type": "code",
   "execution_count": null,
   "metadata": {
    "slideshow": {
     "slide_type": "fragment"
    }
   },
   "outputs": [],
   "source": [
    "cmaes_data = optimizer.extract_data()"
   ]
  },
  {
   "cell_type": "markdown",
   "metadata": {
    "slideshow": {
     "slide_type": "fragment"
    }
   },
   "source": [
    "... and create a contour plot again:"
   ]
  },
  {
   "cell_type": "code",
   "execution_count": null,
   "metadata": {
    "slideshow": {
     "slide_type": "slide"
    }
   },
   "outputs": [],
   "source": [
    "fig, ax = f.plot_data(data=cmaes_data,px=300, domain=domain)"
   ]
  },
  {
   "cell_type": "markdown",
   "metadata": {},
   "source": [
    "**Hyperparameters**\n",
    "\n",
    "You can overwrite the default hyperparameters of each optimizer by supplying a dictionary to the optimizer initializer.\n",
    "The parameters of the optimizer can be viewed by calling the `parameter` attribute:"
   ]
  },
  {
   "cell_type": "code",
   "execution_count": null,
   "metadata": {},
   "outputs": [],
   "source": [
    "optimizer.parameter"
   ]
  },
  {
   "cell_type": "markdown",
   "metadata": {},
   "source": [
    "***\n",
    "**Exercise #4**\n",
    "* Optimize the same `Levy()`-function for 100 iterations but now with the `Adam` optimizer\n",
    "* Change the `learning_rate` parameter to `2e-3`\n",
    "* Plot the loss-landscape and data with the `plot_data` function\n",
    "* Extract the data and call it `adam_data`\n",
    "***\n"
   ]
  },
  {
   "cell_type": "code",
   "execution_count": null,
   "metadata": {},
   "outputs": [],
   "source": [
    "## YOUR CODE HERE ##\n"
   ]
  },
  {
   "cell_type": "code",
   "execution_count": null,
   "metadata": {},
   "outputs": [],
   "source": [
    "## SOLUTIONS ##\n",
    "optimizer_adam = f3dasm.optimization.Adam(data=samples_lhs, hyperparameters={'learning_rate': 2e-3}, seed=seed)\n",
    "optimizer_adam.iterate(100, function=f)\n",
    "adam_data = optimizer_adam.extract_data()\n",
    "\n",
    "#f3dasm.write_pickle('exercise_adam_data', adam_data)\n",
    "\n",
    "fig2, ax2 = f.plot_data(data=adam_data,px=300, domain=domain)\n",
    "\n",
    "optimizer_adam.parameter"
   ]
  },
  {
   "cell_type": "code",
   "execution_count": null,
   "metadata": {},
   "outputs": [],
   "source": [
    "## CHECK ##\n",
    "import pandas as pd\n",
    "assert pd.testing.assert_frame_equal(adam_data.data, f3dasm.read_pickle('exercise_adam_data').data)\n",
    "# assert adam_data.data.equals(f3dasm.read_pickle('exercise_adam_data').data)"
   ]
  },
  {
   "cell_type": "code",
   "execution_count": null,
   "metadata": {},
   "outputs": [],
   "source": [
    "d = f3dasm.read_pickle('exercise_adam_data')\n",
    "adam_data.data"
   ]
  },
  {
   "cell_type": "code",
   "execution_count": null,
   "metadata": {},
   "outputs": [],
   "source": [
    "d.data"
   ]
  },
  {
   "cell_type": "markdown",
   "metadata": {
    "slideshow": {
     "slide_type": "slide"
    }
   },
   "source": [
    "### Experiment: Multiple realizations of SGA on 20D Ackley function\n",
    "\n",
    "Now we take a look at an example of an experiment where use the following blocks to optimize a 20D Ackley function with the CMAES optimizer over 10 different realizations:"
   ]
  },
  {
   "cell_type": "markdown",
   "metadata": {
    "slideshow": {
     "slide_type": "fragment"
    }
   },
   "source": [
    "![title](blocks.png)"
   ]
  },
  {
   "cell_type": "code",
   "execution_count": null,
   "metadata": {
    "slideshow": {
     "slide_type": "fragment"
    }
   },
   "outputs": [],
   "source": [
    "import matplotlib.pyplot as plt\n",
    "import pandas as pd"
   ]
  },
  {
   "cell_type": "code",
   "execution_count": null,
   "metadata": {
    "slideshow": {
     "slide_type": "fragment"
    }
   },
   "outputs": [],
   "source": [
    "# Define the blocks:\n",
    "dimensionality = 20\n",
    "iterations = 600\n",
    "realizations = 10\n",
    "\n",
    "hyperparameters= {} # If none are selected, the default ones are used\n",
    "\n",
    "domain = np.tile([-1., 1.], (dimensionality,1))\n",
    "design = f3dasm.make_nd_continuous_design(bounds=domain, dimensionality=dimensionality)\n",
    "data = f3dasm.Data(design)"
   ]
  },
  {
   "cell_type": "code",
   "execution_count": null,
   "metadata": {
    "slideshow": {
     "slide_type": "slide"
    }
   },
   "outputs": [],
   "source": [
    "# We can put them in a dictionary if we want\n",
    "\n",
    "implementation = {\n",
    "'realizations': realizations,\n",
    "'optimizer': f3dasm.optimization.CMAES(data=data, hyperparameters=hyperparameters), \n",
    "'function': f3dasm.functions.Ackley(dimensionality=dimensionality, noise=False, scale_bounds=domain),\n",
    "'sampler': f3dasm.sampling.LatinHypercubeSampling(design, seed=seed),\n",
    "'iterations': iterations,\n",
    "}"
   ]
  },
  {
   "cell_type": "markdown",
   "metadata": {
    "slideshow": {
     "slide_type": "fragment"
    }
   },
   "source": [
    "The `run_multiple_realizations()` function will be the pipeline of this experiment:"
   ]
  },
  {
   "cell_type": "code",
   "execution_count": null,
   "metadata": {
    "slideshow": {
     "slide_type": "fragment"
    }
   },
   "outputs": [],
   "source": [
    "results = f3dasm.run_multiple_realizations(**implementation)"
   ]
  },
  {
   "cell_type": "code",
   "execution_count": null,
   "metadata": {
    "slideshow": {
     "slide_type": "fragment"
    }
   },
   "outputs": [],
   "source": [
    "results.data[3]"
   ]
  },
  {
   "cell_type": "code",
   "execution_count": null,
   "metadata": {},
   "outputs": [],
   "source": [
    "from cycler import cycler\n",
    "cc = (cycler(color=list('bgrcmyk')) *\n",
    "      cycler(linestyle=['-', '--', 'dotted']))"
   ]
  },
  {
   "cell_type": "code",
   "execution_count": null,
   "metadata": {},
   "outputs": [],
   "source": [
    "def calc_mean_std(results):\n",
    "    mean_y = pd.concat([d.get_output_data().cummin() for d in results], axis=1).mean(axis=1)\n",
    "    std_y = pd.concat([d.get_output_data().cummin() for d in results], axis=1).std(axis=1)\n",
    "    return mean_y, std_y"
   ]
  },
  {
   "cell_type": "code",
   "execution_count": null,
   "metadata": {},
   "outputs": [],
   "source": [
    "def create_axis(results: f3dasm.OptimizationResult, ax):\n",
    "    mean_y, std_y = calc_mean_std(results.data)\n",
    "\n",
    "    ax.plot(mean_y, label=f\"optimizer={results.optimizer}\")\n",
    "\n",
    "    #ax.fill_between(np.arange(len(mean_y)), mean_y-1.96*std_y, mean_y+1.96*std_y, alpha=.1)\n",
    "\n",
    "    return ax"
   ]
  },
  {
   "cell_type": "code",
   "execution_count": null,
   "metadata": {},
   "outputs": [],
   "source": [
    "def plot_results(results: f3dasm.OptimizationResult):\n",
    "    fig, ax = plt.figure(figsize=(15,8)), plt.axes()\n",
    "\n",
    "    ax.set_xlabel('iterations')\n",
    "    ax.set_ylabel('f(x)')\n",
    "    ax.set_yscale('log')\n",
    "    ax.set_prop_cycle(cc)\n",
    "\n",
    "    for index, res in enumerate([results]):\n",
    "        ax = create_axis(res, ax)\n",
    "\n",
    "    leg = ax.legend(loc='upper right', ncol=3, fancybox=True, shadow=True) #bbox_to_anchor=(0.5, 1.05)\n",
    "    return fig, ax"
   ]
  },
  {
   "cell_type": "code",
   "execution_count": null,
   "metadata": {},
   "outputs": [],
   "source": [
    "plot_results(results)"
   ]
  },
  {
   "cell_type": "markdown",
   "metadata": {
    "slideshow": {
     "slide_type": "slide"
    }
   },
   "source": [
    "We can change a hyper-parameter such as the `population` and rerun the experiment with ease:"
   ]
  },
  {
   "cell_type": "code",
   "execution_count": null,
   "metadata": {
    "slideshow": {
     "slide_type": "fragment"
    }
   },
   "outputs": [],
   "source": [
    "sga_2 = f3dasm.optimization.CMAES(data=data, hyperparameters={'population': 15})\n",
    "\n",
    "implementation.update()\n",
    "results_2 = f3dasm.run_multiple_realizations(**implementation)\n",
    "\n",
    "plot_results(results_2)"
   ]
  },
  {
   "cell_type": "code",
   "execution_count": null,
   "metadata": {
    "slideshow": {
     "slide_type": "slide"
    }
   },
   "outputs": [],
   "source": [
    "implementation2 = {\n",
    "'realizations': realizations,\n",
    "'optimizer': f3dasm.optimization.PSO(data=data), \n",
    "'function': f3dasm.functions.Levy(dimensionality=dimensionality, noise=False, scale_bounds=domain),\n",
    "'sampler': f3dasm.sampling.SobolSequenceSampling(design, seed=seed),\n",
    "'iterations': iterations,\n",
    "}\n",
    "\n",
    "results_3 = f3dasm.run_multiple_realizations(**implementation2)"
   ]
  },
  {
   "cell_type": "code",
   "execution_count": null,
   "metadata": {},
   "outputs": [],
   "source": [
    "plot_results(results_3)"
   ]
  }
 ],
 "metadata": {
  "celltoolbar": "Slideshow",
  "interpreter": {
   "hash": "73193fbeb8677ab93f213154c0927f21dd4fccfe51cf5f6d1ad5a916be4d211f"
  },
  "kernelspec": {
   "display_name": "Python 3 (ipykernel)",
   "language": "python",
   "name": "python3"
  },
  "language_info": {
   "codemirror_mode": {
    "name": "ipython",
    "version": 3
   },
   "file_extension": ".py",
   "mimetype": "text/x-python",
   "name": "python",
   "nbconvert_exporter": "python",
   "pygments_lexer": "ipython3",
   "version": "3.10.5"
  }
 },
 "nbformat": 4,
 "nbformat_minor": 2
}
