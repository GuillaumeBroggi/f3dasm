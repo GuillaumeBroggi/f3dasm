{
 "cells": [
  {
   "cell_type": "markdown",
   "metadata": {},
   "source": [
    "## Tutorial on sampling in a custom design space\n",
    "_v1.0_"
   ]
  },
  {
   "cell_type": "markdown",
   "metadata": {},
   "source": [
    "First we import the desired libraries:"
   ]
  },
  {
   "cell_type": "code",
   "execution_count": 1,
   "metadata": {},
   "outputs": [
    {
     "ename": "ImportError",
     "evalue": "cannot import name 'Data' from partially initialized module 'f3dasm.base.data' (most likely due to a circular import) (/home/martin/Documents/GitHub/F3DASM/f3dasm/base/data.py)",
     "output_type": "error",
     "traceback": [
      "\u001b[0;31m---------------------------------------------------------------------------\u001b[0m",
      "\u001b[0;31mImportError\u001b[0m                               Traceback (most recent call last)",
      "\u001b[1;32m/home/martin/Documents/GitHub/F3DASM/notebooks/tutorials/sampling.ipynb Cell 3'\u001b[0m in \u001b[0;36m<cell line: 1>\u001b[0;34m()\u001b[0m\n\u001b[0;32m----> <a href='vscode-notebook-cell:/home/martin/Documents/GitHub/F3DASM/notebooks/tutorials/sampling.ipynb#ch0000002?line=0'>1</a>\u001b[0m \u001b[39mimport\u001b[39;00m \u001b[39mf3dasm\u001b[39;00m\n",
      "File \u001b[0;32m~/Documents/GitHub/F3DASM/f3dasm/__init__.py:10\u001b[0m, in \u001b[0;36m<module>\u001b[0;34m\u001b[0m\n\u001b[1;32m      <a href='file:///home/martin/Documents/GitHub/F3DASM/f3dasm/__init__.py?line=7'>8</a>\u001b[0m \u001b[39m# Import base class in main namespace\u001b[39;00m\n\u001b[1;32m      <a href='file:///home/martin/Documents/GitHub/F3DASM/f3dasm/__init__.py?line=8'>9</a>\u001b[0m \u001b[39mfrom\u001b[39;00m \u001b[39m.\u001b[39;00m\u001b[39mbase\u001b[39;00m\u001b[39m.\u001b[39;00m\u001b[39mspace\u001b[39;00m \u001b[39mimport\u001b[39;00m \u001b[39m*\u001b[39m\n\u001b[0;32m---> <a href='file:///home/martin/Documents/GitHub/F3DASM/f3dasm/__init__.py?line=9'>10</a>\u001b[0m \u001b[39mfrom\u001b[39;00m \u001b[39m.\u001b[39;00m\u001b[39mbase\u001b[39;00m\u001b[39m.\u001b[39;00m\u001b[39mdata\u001b[39;00m \u001b[39mimport\u001b[39;00m \u001b[39m*\u001b[39m\n\u001b[1;32m     <a href='file:///home/martin/Documents/GitHub/F3DASM/f3dasm/__init__.py?line=10'>11</a>\u001b[0m \u001b[39mfrom\u001b[39;00m \u001b[39m.\u001b[39;00m\u001b[39mbase\u001b[39;00m\u001b[39m.\u001b[39;00m\u001b[39mdesign\u001b[39;00m \u001b[39mimport\u001b[39;00m \u001b[39m*\u001b[39m\n\u001b[1;32m     <a href='file:///home/martin/Documents/GitHub/F3DASM/f3dasm/__init__.py?line=11'>12</a>\u001b[0m \u001b[39mfrom\u001b[39;00m \u001b[39m.\u001b[39;00m\u001b[39mbase\u001b[39;00m\u001b[39m.\u001b[39;00m\u001b[39moptimization\u001b[39;00m \u001b[39mimport\u001b[39;00m \u001b[39m*\u001b[39m\n",
      "File \u001b[0;32m~/Documents/GitHub/F3DASM/f3dasm/base/data.py:6\u001b[0m, in \u001b[0;36m<module>\u001b[0;34m\u001b[0m\n\u001b[1;32m      <a href='file:///home/martin/Documents/GitHub/F3DASM/f3dasm/base/data.py?line=2'>3</a>\u001b[0m \u001b[39mimport\u001b[39;00m \u001b[39mmatplotlib\u001b[39;00m\u001b[39m.\u001b[39;00m\u001b[39mpyplot\u001b[39;00m \u001b[39mas\u001b[39;00m \u001b[39mplt\u001b[39;00m\n\u001b[1;32m      <a href='file:///home/martin/Documents/GitHub/F3DASM/f3dasm/base/data.py?line=3'>4</a>\u001b[0m \u001b[39mfrom\u001b[39;00m \u001b[39mdataclasses\u001b[39;00m \u001b[39mimport\u001b[39;00m dataclass, field\n\u001b[0;32m----> <a href='file:///home/martin/Documents/GitHub/F3DASM/f3dasm/base/data.py?line=5'>6</a>\u001b[0m \u001b[39mfrom\u001b[39;00m \u001b[39m.\u001b[39;00m\u001b[39m.\u001b[39;00m\u001b[39mbase\u001b[39;00m\u001b[39m.\u001b[39;00m\u001b[39mdesign\u001b[39;00m \u001b[39mimport\u001b[39;00m DesignSpace\n\u001b[1;32m      <a href='file:///home/martin/Documents/GitHub/F3DASM/f3dasm/base/data.py?line=8'>9</a>\u001b[0m \u001b[39m@dataclass\u001b[39m\n\u001b[1;32m     <a href='file:///home/martin/Documents/GitHub/F3DASM/f3dasm/base/data.py?line=9'>10</a>\u001b[0m \u001b[39mclass\u001b[39;00m \u001b[39mData\u001b[39;00m:\n\u001b[1;32m     <a href='file:///home/martin/Documents/GitHub/F3DASM/f3dasm/base/data.py?line=10'>11</a>\u001b[0m     \u001b[39m\"\"\"Class that contains data\u001b[39;00m\n\u001b[1;32m     <a href='file:///home/martin/Documents/GitHub/F3DASM/f3dasm/base/data.py?line=11'>12</a>\u001b[0m \n\u001b[1;32m     <a href='file:///home/martin/Documents/GitHub/F3DASM/f3dasm/base/data.py?line=12'>13</a>\u001b[0m \u001b[39m    Args:\u001b[39;00m\n\u001b[1;32m     <a href='file:///home/martin/Documents/GitHub/F3DASM/f3dasm/base/data.py?line=13'>14</a>\u001b[0m \u001b[39m        data (DataFrame): data stored in a DataFrame\u001b[39;00m\n\u001b[1;32m     <a href='file:///home/martin/Documents/GitHub/F3DASM/f3dasm/base/data.py?line=14'>15</a>\u001b[0m \u001b[39m    \"\"\"\u001b[39;00m\n",
      "File \u001b[0;32m~/Documents/GitHub/F3DASM/f3dasm/base/design.py:6\u001b[0m, in \u001b[0;36m<module>\u001b[0;34m\u001b[0m\n\u001b[1;32m      <a href='file:///home/martin/Documents/GitHub/F3DASM/f3dasm/base/design.py?line=1'>2</a>\u001b[0m \u001b[39mfrom\u001b[39;00m \u001b[39mtyping\u001b[39;00m \u001b[39mimport\u001b[39;00m List, TypeVar\n\u001b[1;32m      <a href='file:///home/martin/Documents/GitHub/F3DASM/f3dasm/base/design.py?line=3'>4</a>\u001b[0m \u001b[39mimport\u001b[39;00m \u001b[39mpandas\u001b[39;00m \u001b[39mas\u001b[39;00m \u001b[39mpd\u001b[39;00m\n\u001b[0;32m----> <a href='file:///home/martin/Documents/GitHub/F3DASM/f3dasm/base/design.py?line=5'>6</a>\u001b[0m \u001b[39mfrom\u001b[39;00m \u001b[39m.\u001b[39;00m\u001b[39m.\u001b[39;00m\u001b[39mbase\u001b[39;00m\u001b[39m.\u001b[39;00m\u001b[39mdata\u001b[39;00m \u001b[39mimport\u001b[39;00m Data\n\u001b[1;32m      <a href='file:///home/martin/Documents/GitHub/F3DASM/f3dasm/base/design.py?line=8'>9</a>\u001b[0m \u001b[39mfrom\u001b[39;00m \u001b[39m.\u001b[39;00m\u001b[39m.\u001b[39;00m\u001b[39mbase\u001b[39;00m\u001b[39m.\u001b[39;00m\u001b[39mspace\u001b[39;00m \u001b[39mimport\u001b[39;00m (\n\u001b[1;32m     <a href='file:///home/martin/Documents/GitHub/F3DASM/f3dasm/base/design.py?line=9'>10</a>\u001b[0m     CategoricalParameter,\n\u001b[1;32m     <a href='file:///home/martin/Documents/GitHub/F3DASM/f3dasm/base/design.py?line=10'>11</a>\u001b[0m     ContinuousParameter,\n\u001b[1;32m     <a href='file:///home/martin/Documents/GitHub/F3DASM/f3dasm/base/design.py?line=11'>12</a>\u001b[0m     DiscreteParameter,\n\u001b[1;32m     <a href='file:///home/martin/Documents/GitHub/F3DASM/f3dasm/base/design.py?line=12'>13</a>\u001b[0m     ParameterInterface,\n\u001b[1;32m     <a href='file:///home/martin/Documents/GitHub/F3DASM/f3dasm/base/design.py?line=13'>14</a>\u001b[0m )\n\u001b[1;32m     <a href='file:///home/martin/Documents/GitHub/F3DASM/f3dasm/base/design.py?line=16'>17</a>\u001b[0m \u001b[39m@dataclass\u001b[39m\n\u001b[1;32m     <a href='file:///home/martin/Documents/GitHub/F3DASM/f3dasm/base/design.py?line=17'>18</a>\u001b[0m \u001b[39mclass\u001b[39;00m \u001b[39mDesignSpace\u001b[39;00m:\n",
      "\u001b[0;31mImportError\u001b[0m: cannot import name 'Data' from partially initialized module 'f3dasm.base.data' (most likely due to a circular import) (/home/martin/Documents/GitHub/F3DASM/f3dasm/base/data.py)"
     ]
    }
   ],
   "source": [
    "import f3dasm"
   ]
  },
  {
   "cell_type": "markdown",
   "metadata": {},
   "source": [
    "### Constructing the design space\n",
    "\n",
    "There are three types of parameters that can be created: continous, discrete and categorical:\n",
    "\n",
    "* We can create **continous** parameters with a `lower_bound` and `upper_bound` with the `ContinuousParameter` class"
   ]
  },
  {
   "cell_type": "code",
   "execution_count": null,
   "metadata": {},
   "outputs": [],
   "source": [
    "x1 = f3dasm.ContinuousParameter(name='x1', lower_bound=0.0, upper_bound=100.0)\n",
    "x2 = f3dasm.ContinuousParameter(name='x2', lower_bound=0.0, upper_bound=4.0)"
   ]
  },
  {
   "cell_type": "markdown",
   "metadata": {},
   "source": [
    "* We can create **discrete** parameters with a `lower_bound` and `upper_bound` with the `DiscreteSpace` class"
   ]
  },
  {
   "cell_type": "code",
   "execution_count": null,
   "metadata": {},
   "outputs": [],
   "source": [
    "x3 = f3dasm.DiscreteParameter('x3', lower_bound=2, upper_bound=4)\n",
    "x4 = f3dasm.DiscreteParameter('x4', lower_bound=74, upper_bound=99)"
   ]
  },
  {
   "cell_type": "markdown",
   "metadata": {},
   "source": [
    "* We can create **categorical** parameters with a list of strings (`categories`) with the `CategoricalSpace` class"
   ]
  },
  {
   "cell_type": "code",
   "execution_count": null,
   "metadata": {},
   "outputs": [],
   "source": [
    "x5 = f3dasm.CategoricalParameter('x5', categories=['test1','test2','test3','test4'])\n",
    "x6 = f3dasm.CategoricalParameter('x6', categories=['material1','material2','material3'])"
   ]
  },
  {
   "cell_type": "markdown",
   "metadata": {},
   "source": [
    "`output_space` can be created in the same way:"
   ]
  },
  {
   "cell_type": "code",
   "execution_count": null,
   "metadata": {},
   "outputs": [],
   "source": [
    "y = f3dasm.ContinuousParameter('y')"
   ]
  },
  {
   "cell_type": "markdown",
   "metadata": {},
   "source": [
    "The design space is then constructed by calling the `DoE` class:"
   ]
  },
  {
   "cell_type": "code",
   "execution_count": null,
   "metadata": {},
   "outputs": [],
   "source": [
    "design = f3dasm.DesignSpace(input_space=[x1, x2, x3, x4, x5, x6], output_space=[y])"
   ]
  },
  {
   "cell_type": "code",
   "execution_count": null,
   "metadata": {},
   "outputs": [],
   "source": [
    "design.create_empty_data_object()"
   ]
  },
  {
   "cell_type": "markdown",
   "metadata": {},
   "source": [
    "### Sampling from the design space\n",
    "\n",
    "Three samplers are included in this module:\n",
    "* Latin Hypercube sampling (`LatinHyperCube`)\n",
    "* Random uniform sampling (`RandomUniform`)\n",
    "* Sobol sequence sampling (`SobolSequencing`)\n",
    "\n",
    "We have to feed them the designspace:"
   ]
  },
  {
   "cell_type": "code",
   "execution_count": null,
   "metadata": {},
   "outputs": [],
   "source": [
    "lhs = f3dasm.sampling.LatinHypercubeSampling(doe=design)\n",
    "ran = f3dasm.sampling.RandomUniformSampling(doe=design)\n",
    "sob = f3dasm.sampling.SobolSequenceSampling(doe=design)"
   ]
  },
  {
   "cell_type": "markdown",
   "metadata": {},
   "source": [
    "We can evoke sampling by calling the `get_samples()` method and providing the number of samples:"
   ]
  },
  {
   "cell_type": "code",
   "execution_count": null,
   "metadata": {},
   "outputs": [],
   "source": [
    "N = 100 # Number of samples\n",
    "\n",
    "data_lhs = lhs.get_samples(N)\n",
    "data_ran = ran.get_samples(N)\n",
    "data_sob = sob.get_samples(N)"
   ]
  },
  {
   "cell_type": "markdown",
   "metadata": {},
   "source": [
    "Currently, only a 2D plotting function is implemented (`plot()`).\n",
    "This function requires the two parameter names: "
   ]
  },
  {
   "cell_type": "code",
   "execution_count": null,
   "metadata": {},
   "outputs": [],
   "source": [
    "data_lhs.plot(input_par1='x1',input_par2='x2')"
   ]
  },
  {
   "cell_type": "code",
   "execution_count": null,
   "metadata": {},
   "outputs": [],
   "source": [
    "data_ran.plot(input_par1='x1',input_par2='x2')"
   ]
  },
  {
   "cell_type": "code",
   "execution_count": null,
   "metadata": {},
   "outputs": [],
   "source": [
    "data_sob.plot(input_par1='x1',input_par2='x2')"
   ]
  },
  {
   "cell_type": "markdown",
   "metadata": {},
   "source": [
    "Categorical or discrete parameters can also be plotted:"
   ]
  },
  {
   "cell_type": "code",
   "execution_count": null,
   "metadata": {},
   "outputs": [],
   "source": [
    "data_lhs.plot(input_par1='x5',input_par2='x2')"
   ]
  }
 ],
 "metadata": {
  "interpreter": {
   "hash": "73193fbeb8677ab93f213154c0927f21dd4fccfe51cf5f6d1ad5a916be4d211f"
  },
  "kernelspec": {
   "display_name": "Python 3.10.4 ('testthings')",
   "language": "python",
   "name": "python3"
  },
  "language_info": {
   "codemirror_mode": {
    "name": "ipython",
    "version": 3
   },
   "file_extension": ".py",
   "mimetype": "text/x-python",
   "name": "python",
   "nbconvert_exporter": "python",
   "pygments_lexer": "ipython3",
   "version": "3.10.5"
  },
  "orig_nbformat": 4
 },
 "nbformat": 4,
 "nbformat_minor": 2
}
