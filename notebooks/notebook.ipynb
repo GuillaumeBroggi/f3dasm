{
 "cells": [
  {
   "cell_type": "markdown",
   "metadata": {},
   "source": [
    "## Tutorial on sampling in a custom design space\n",
    "_v1.0_"
   ]
  },
  {
   "cell_type": "markdown",
   "metadata": {},
   "source": [
    "First we import the desired libraries:"
   ]
  },
  {
   "cell_type": "code",
   "execution_count": 1,
   "metadata": {},
   "outputs": [],
   "source": [
    "from f3dasm.src.designofexperiments import DoE\n",
    "from f3dasm.src.space import ContinuousSpace, DiscreteSpace, CategoricalSpace\n",
    "from f3dasm.sampling.latinhypercube import LatinHypercube\n",
    "from f3dasm.sampling.randomuniform import RandomUniform\n",
    "from f3dasm.sampling.sobolsequence import SobolSequencing\n",
    "from f3dasm.src.data import Data"
   ]
  },
  {
   "cell_type": "markdown",
   "metadata": {},
   "source": [
    "### Constructing the design space\n",
    "\n",
    "There are three types of parameters that can be created: continous, discrete and categorical:\n",
    "\n",
    "* We can create **continous** parameters with a `lower_bound` and `upper_bound` with the `ContinuousSpace` class"
   ]
  },
  {
   "cell_type": "code",
   "execution_count": 2,
   "metadata": {},
   "outputs": [],
   "source": [
    "x1 = ContinuousSpace('x1', lower_bound=0.0, upper_bound=100.0)\n",
    "x2 = ContinuousSpace('x2', lower_bound=0.0, upper_bound=4.0)"
   ]
  },
  {
   "cell_type": "markdown",
   "metadata": {},
   "source": [
    "* We can create **discrete** parameters with a `lower_bound` and `upper_bound` with the `DiscreteSpace` class"
   ]
  },
  {
   "cell_type": "code",
   "execution_count": 3,
   "metadata": {},
   "outputs": [],
   "source": [
    "x3 = DiscreteSpace('x3', lower_bound=2, upper_bound=4)\n",
    "x4 = DiscreteSpace('x4', lower_bound=74, upper_bound=99)"
   ]
  },
  {
   "cell_type": "markdown",
   "metadata": {},
   "source": [
    "* We can create **categorical** parameters with a list of strings (`categories`) with the `CategoricalSpace` class"
   ]
  },
  {
   "cell_type": "code",
   "execution_count": 4,
   "metadata": {},
   "outputs": [],
   "source": [
    "x5 = CategoricalSpace('x5', categories=['test1','test2','test3','test4'])\n",
    "x6 = CategoricalSpace('x6', categories=['material1','material2','material3'])"
   ]
  },
  {
   "cell_type": "markdown",
   "metadata": {},
   "source": [
    "The design space is then constructed by calling the `DoE` class:"
   ]
  },
  {
   "cell_type": "code",
   "execution_count": 5,
   "metadata": {},
   "outputs": [],
   "source": [
    "design = DoE(input_space=[x1, x2, x3, x4, x5, x6])"
   ]
  },
  {
   "cell_type": "markdown",
   "metadata": {},
   "source": [
    "### Sampling from the design space\n",
    "\n",
    "Three samplers are included in this module:\n",
    "* Latin Hypercube sampling (`LatinHyperCube`)\n",
    "* Random uniform sampling (`RandomUniform`)\n",
    "* Sobol sequence sampling (`SobolSequencing`)\n",
    "\n",
    "We have to feed them the designspace:"
   ]
  },
  {
   "cell_type": "code",
   "execution_count": 6,
   "metadata": {},
   "outputs": [],
   "source": [
    "lhs = LatinHypercube(doe=design)\n",
    "ran = RandomUniform(doe=design)\n",
    "sob = SobolSequencing(doe=design)"
   ]
  },
  {
   "cell_type": "markdown",
   "metadata": {},
   "source": [
    "We can evoke sampling by calling the `get_samples()` method and providing the number of samples:"
   ]
  },
  {
   "cell_type": "code",
   "execution_count": 7,
   "metadata": {},
   "outputs": [
    {
     "data": {
      "text/html": [
       "<div>\n",
       "<style scoped>\n",
       "    .dataframe tbody tr th:only-of-type {\n",
       "        vertical-align: middle;\n",
       "    }\n",
       "\n",
       "    .dataframe tbody tr th {\n",
       "        vertical-align: top;\n",
       "    }\n",
       "\n",
       "    .dataframe thead tr th {\n",
       "        text-align: left;\n",
       "    }\n",
       "</style>\n",
       "<table border=\"1\" class=\"dataframe\">\n",
       "  <thead>\n",
       "    <tr>\n",
       "      <th></th>\n",
       "      <th colspan=\"6\" halign=\"left\">input</th>\n",
       "    </tr>\n",
       "    <tr>\n",
       "      <th></th>\n",
       "      <th>x1</th>\n",
       "      <th>x2</th>\n",
       "      <th>x3</th>\n",
       "      <th>x4</th>\n",
       "      <th>x5</th>\n",
       "      <th>x6</th>\n",
       "    </tr>\n",
       "  </thead>\n",
       "  <tbody>\n",
       "    <tr>\n",
       "      <th>0</th>\n",
       "      <td>53.084638</td>\n",
       "      <td>3.543088</td>\n",
       "      <td>4</td>\n",
       "      <td>91</td>\n",
       "      <td>test4</td>\n",
       "      <td>material3</td>\n",
       "    </tr>\n",
       "    <tr>\n",
       "      <th>1</th>\n",
       "      <td>71.404049</td>\n",
       "      <td>3.847510</td>\n",
       "      <td>3</td>\n",
       "      <td>81</td>\n",
       "      <td>test4</td>\n",
       "      <td>material3</td>\n",
       "    </tr>\n",
       "    <tr>\n",
       "      <th>2</th>\n",
       "      <td>67.129385</td>\n",
       "      <td>0.758526</td>\n",
       "      <td>4</td>\n",
       "      <td>94</td>\n",
       "      <td>test1</td>\n",
       "      <td>material3</td>\n",
       "    </tr>\n",
       "    <tr>\n",
       "      <th>3</th>\n",
       "      <td>48.380450</td>\n",
       "      <td>3.776365</td>\n",
       "      <td>4</td>\n",
       "      <td>92</td>\n",
       "      <td>test3</td>\n",
       "      <td>material3</td>\n",
       "    </tr>\n",
       "    <tr>\n",
       "      <th>4</th>\n",
       "      <td>42.822362</td>\n",
       "      <td>1.992024</td>\n",
       "      <td>4</td>\n",
       "      <td>99</td>\n",
       "      <td>test4</td>\n",
       "      <td>material2</td>\n",
       "    </tr>\n",
       "    <tr>\n",
       "      <th>...</th>\n",
       "      <td>...</td>\n",
       "      <td>...</td>\n",
       "      <td>...</td>\n",
       "      <td>...</td>\n",
       "      <td>...</td>\n",
       "      <td>...</td>\n",
       "    </tr>\n",
       "    <tr>\n",
       "      <th>95</th>\n",
       "      <td>73.679082</td>\n",
       "      <td>3.425792</td>\n",
       "      <td>4</td>\n",
       "      <td>79</td>\n",
       "      <td>test2</td>\n",
       "      <td>material1</td>\n",
       "    </tr>\n",
       "    <tr>\n",
       "      <th>96</th>\n",
       "      <td>77.323518</td>\n",
       "      <td>3.031450</td>\n",
       "      <td>4</td>\n",
       "      <td>93</td>\n",
       "      <td>test1</td>\n",
       "      <td>material1</td>\n",
       "    </tr>\n",
       "    <tr>\n",
       "      <th>97</th>\n",
       "      <td>25.508539</td>\n",
       "      <td>1.236838</td>\n",
       "      <td>2</td>\n",
       "      <td>85</td>\n",
       "      <td>test3</td>\n",
       "      <td>material1</td>\n",
       "    </tr>\n",
       "    <tr>\n",
       "      <th>98</th>\n",
       "      <td>86.246927</td>\n",
       "      <td>2.437651</td>\n",
       "      <td>3</td>\n",
       "      <td>98</td>\n",
       "      <td>test1</td>\n",
       "      <td>material2</td>\n",
       "    </tr>\n",
       "    <tr>\n",
       "      <th>99</th>\n",
       "      <td>21.365357</td>\n",
       "      <td>1.333967</td>\n",
       "      <td>2</td>\n",
       "      <td>94</td>\n",
       "      <td>test3</td>\n",
       "      <td>material2</td>\n",
       "    </tr>\n",
       "  </tbody>\n",
       "</table>\n",
       "<p>100 rows × 6 columns</p>\n",
       "</div>"
      ],
      "text/plain": [
       "        input                                   \n",
       "           x1        x2 x3  x4     x5         x6\n",
       "0   53.084638  3.543088  4  91  test4  material3\n",
       "1   71.404049  3.847510  3  81  test4  material3\n",
       "2   67.129385  0.758526  4  94  test1  material3\n",
       "3   48.380450  3.776365  4  92  test3  material3\n",
       "4   42.822362  1.992024  4  99  test4  material2\n",
       "..        ...       ... ..  ..    ...        ...\n",
       "95  73.679082  3.425792  4  79  test2  material1\n",
       "96  77.323518  3.031450  4  93  test1  material1\n",
       "97  25.508539  1.236838  2  85  test3  material1\n",
       "98  86.246927  2.437651  3  98  test1  material2\n",
       "99  21.365357  1.333967  2  94  test3  material2\n",
       "\n",
       "[100 rows x 6 columns]"
      ]
     },
     "execution_count": 7,
     "metadata": {},
     "output_type": "execute_result"
    }
   ],
   "source": [
    "N = 100 # Number of samples\n",
    "\n",
    "samples_lhs = lhs.get_samples(N)\n",
    "samples_ran = ran.get_samples(N)\n",
    "samples_sob = sob.get_samples(N)\n",
    "\n",
    "samples_lhs"
   ]
  },
  {
   "cell_type": "markdown",
   "metadata": {},
   "source": [
    "#### Storing and displaying sampling in the `Data` structure\n",
    "\n",
    "Samples can be stored as data within the `Data` class:"
   ]
  },
  {
   "cell_type": "code",
   "execution_count": 8,
   "metadata": {},
   "outputs": [],
   "source": [
    "data_lhs = Data(samples_lhs)\n",
    "data_ran = Data(samples_ran)\n",
    "data_sob = Data(samples_sob)"
   ]
  },
  {
   "cell_type": "markdown",
   "metadata": {},
   "source": [
    "Currently, only a 2D plotting function is implemented (`plot()`).\n",
    "This function requires the two parameter names: "
   ]
  },
  {
   "cell_type": "code",
   "execution_count": 9,
   "metadata": {},
   "outputs": [
    {
     "name": "stderr",
     "output_type": "stream",
     "text": [
      "/home/martin/Documents/GitHub/testthings/f3dasm/src/data.py:62: UserWarning: Matplotlib is currently using module://matplotlib_inline.backend_inline, which is a non-GUI backend, so cannot show the figure.\n",
      "  fig.show()\n"
     ]
    },
    {
     "data": {
      "image/png": "[encoded data removed]",
      "text/plain": [
       "<Figure size 432x288 with 1 Axes>"
      ]
     },
     "metadata": {
      "needs_background": "light"
     },
     "output_type": "display_data"
    }
   ],
   "source": [
    "data_lhs.plot(input_par1='x1',input_par2='x2')"
   ]
  },
  {
   "cell_type": "code",
   "execution_count": 10,
   "metadata": {},
   "outputs": [
    {
     "data": {
      "image/png": "[encoded data removed]",
      "text/plain": [
       "<Figure size 432x288 with 1 Axes>"
      ]
     },
     "metadata": {
      "needs_background": "light"
     },
     "output_type": "display_data"
    }
   ],
   "source": [
    "data_ran.plot(input_par1='x1',input_par2='x2')"
   ]
  },
  {
   "cell_type": "code",
   "execution_count": 11,
   "metadata": {},
   "outputs": [
    {
     "data": {
      "image/png": "[encoded data removed]",
      "text/plain": [
       "<Figure size 432x288 with 1 Axes>"
      ]
     },
     "metadata": {
      "needs_background": "light"
     },
     "output_type": "display_data"
    }
   ],
   "source": [
    "data_sob.plot(input_par1='x1',input_par2='x2')"
   ]
  },
  {
   "cell_type": "markdown",
   "metadata": {},
   "source": [
    "Categorical or discrete parameters can also be plotted:"
   ]
  },
  {
   "cell_type": "code",
   "execution_count": 12,
   "metadata": {},
   "outputs": [
    {
     "name": "stderr",
     "output_type": "stream",
     "text": [
      "/home/martin/Documents/GitHub/testthings/f3dasm/src/data.py:62: UserWarning: Matplotlib is currently using module://matplotlib_inline.backend_inline, which is a non-GUI backend, so cannot show the figure.\n",
      "  fig.show()\n"
     ]
    },
    {
     "data": {
      "image/png": "[encoded data removed]",
      "text/plain": [
       "<Figure size 432x288 with 1 Axes>"
      ]
     },
     "metadata": {
      "needs_background": "light"
     },
     "output_type": "display_data"
    }
   ],
   "source": [
    "data_lhs.plot(input_par1='x5',input_par2='x2')"
   ]
  },
  {
   "cell_type": "code",
   "execution_count": 48,
   "metadata": {},
   "outputs": [
    {
     "data": {
      "text/plain": [
       "input  x1    float64\n",
       "       x2    float64\n",
       "dtype: object"
      ]
     },
     "execution_count": 48,
     "metadata": {},
     "output_type": "execute_result"
    }
   ],
   "source": [
    "x = data_lhs.data[[('input','x1'),('input','x2')]]\n",
    "x.dtypes"
   ]
  },
  {
   "cell_type": "code",
   "execution_count": 32,
   "metadata": {},
   "outputs": [],
   "source": [
    "import numpy as np\n",
    "def f(x):\n",
    "    return np.sin(x)*x\n"
   ]
  },
  {
   "cell_type": "code",
   "execution_count": 47,
   "metadata": {},
   "outputs": [
    {
     "data": {
      "text/plain": [
       "[<matplotlib.lines.Line2D at 0x7fd1b7185930>]"
      ]
     },
     "execution_count": 47,
     "metadata": {},
     "output_type": "execute_result"
    },
    {
     "data": {
      "image/png": "[encoded data removed]",
      "text/plain": [
       "<Figure size 432x288 with 1 Axes>"
      ]
     },
     "metadata": {
      "needs_background": "light"
     },
     "output_type": "display_data"
    }
   ],
   "source": [
    "y = f(x.to_numpy().T.ravel())\n",
    "y\n",
    "import matplotlib.pyplot as plt\n",
    "plt.plot(f(range(100)))"
   ]
  },
  {
   "cell_type": "code",
   "execution_count": null,
   "metadata": {},
   "outputs": [],
   "source": [
    "x"
   ]
  },
  {
   "cell_type": "code",
   "execution_count": null,
   "metadata": {},
   "outputs": [],
   "source": []
  }
 ],
 "metadata": {
  "interpreter": {
   "hash": "73193fbeb8677ab93f213154c0927f21dd4fccfe51cf5f6d1ad5a916be4d211f"
  },
  "kernelspec": {
   "display_name": "Python 3.10.4 ('testthings')",
   "language": "python",
   "name": "python3"
  },
  "language_info": {
   "codemirror_mode": {
    "name": "ipython",
    "version": 3
   },
   "file_extension": ".py",
   "mimetype": "text/x-python",
   "name": "python",
   "nbconvert_exporter": "python",
   "pygments_lexer": "ipython3",
   "version": "3.10.4"
  },
  "orig_nbformat": 4
 },
 "nbformat": 4,
 "nbformat_minor": 2
}
