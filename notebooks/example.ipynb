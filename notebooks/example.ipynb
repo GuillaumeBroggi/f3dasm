{
 "cells": [
  {
   "cell_type": "code",
   "execution_count": null,
   "metadata": {},
   "outputs": [],
   "source": [
    "class Adam:\n",
    "    def __init__(self, seed: int, hyperparameters: dict = None):\n",
    "        self.hyperparameters = hyperparameters\n",
    "        self.set_seed(seed)\n",
    "        self.set_optimizer()\n",
    "\n",
    "    def set_optimizer(self):\n",
    "        pass # construct the Adam optimizer here\n",
    "\n",
    "    def set_seed(seed):\n",
    "        np.set_seed(seed)"
   ]
  },
  {
   "cell_type": "code",
   "execution_count": 5,
   "metadata": {},
   "outputs": [],
   "source": [
    "adam_optimizer = Adam(hyperparameters={'learning_rate': 1e-3})\n",
    "adam_optimizer2 = Adam(hyperparameters={'learning_rate': 1e-2})\n",
    "\n",
    "def opt_loop(opt=None):\n",
    "    if opt is None:\n",
    "        pass # use the Adam optimizer\n",
    "    opt.append('1')\n",
    "    return opt\n",
    "\n",
    "\n",
    "opt_loop(opt=adam_optimizer)\n"
   ]
  },
  {
   "cell_type": "code",
   "execution_count": 27,
   "metadata": {},
   "outputs": [],
   "source": [
    "import numpy as np\n",
    "\n",
    "class Shape:\n",
    "    def area(self, r):\n",
    "        return 'foo!'\n",
    "\n",
    "class Circle(Shape):\n",
    "    def area(self, r):\n",
    "        return np.pi*r**2\n",
    "\n",
    "class Square(Shape):\n",
    "    def area(self, r):\n",
    "        return r**2\n",
    "\n",
    "class BlueCircle(Circle):\n",
    "    pass\n",
    "\n",
    "\n",
    "def f(shape: Shape):\n",
    "    return shape"
   ]
  },
  {
   "cell_type": "code",
   "execution_count": 28,
   "metadata": {},
   "outputs": [
    {
     "data": {
      "text/plain": [
       "28.274333882308138"
      ]
     },
     "execution_count": 28,
     "metadata": {},
     "output_type": "execute_result"
    }
   ],
   "source": [
    "a = BlueCircle()\n",
    "\n",
    "\n",
    "a.area(r=3)"
   ]
  },
  {
   "cell_type": "code",
   "execution_count": 12,
   "metadata": {},
   "outputs": [
    {
     "data": {
      "text/plain": [
       "False"
      ]
     },
     "execution_count": 12,
     "metadata": {},
     "output_type": "execute_result"
    }
   ],
   "source": [
    "isinstance(a, Circle)"
   ]
  },
  {
   "cell_type": "code",
   "execution_count": null,
   "metadata": {},
   "outputs": [],
   "source": []
  }
 ],
 "metadata": {
  "interpreter": {
   "hash": "73193fbeb8677ab93f213154c0927f21dd4fccfe51cf5f6d1ad5a916be4d211f"
  },
  "kernelspec": {
   "display_name": "Python 3.10.5 ('testthings')",
   "language": "python",
   "name": "python3"
  },
  "language_info": {
   "codemirror_mode": {
    "name": "ipython",
    "version": 3
   },
   "file_extension": ".py",
   "mimetype": "text/x-python",
   "name": "python",
   "nbconvert_exporter": "python",
   "pygments_lexer": "ipython3",
   "version": "3.10.5"
  },
  "orig_nbformat": 4
 },
 "nbformat": 4,
 "nbformat_minor": 2
}
