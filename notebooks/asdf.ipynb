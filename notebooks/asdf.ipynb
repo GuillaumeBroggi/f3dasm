{
 "cells": [
  {
   "cell_type": "code",
   "execution_count": 1,
   "metadata": {},
   "outputs": [
    {
     "name": "stderr",
     "output_type": "stream",
     "text": [
      "2023-04-14 15:16:47,598 - Imported f3dasm (version: 0.9.3)\n"
     ]
    }
   ],
   "source": [
    "import f3dasm"
   ]
  },
  {
   "cell_type": "code",
   "execution_count": 2,
   "metadata": {},
   "outputs": [
    {
     "data": {
      "text/plain": [
       "['Ackley',\n",
       " 'AckleyN2',\n",
       " 'AckleyN3',\n",
       " 'AckleyN4',\n",
       " 'Adjiman',\n",
       " 'Bartels',\n",
       " 'Beale',\n",
       " 'Bird',\n",
       " 'BohachevskyN1',\n",
       " 'BohachevskyN2',\n",
       " 'BohachevskyN3',\n",
       " 'Booth',\n",
       " 'Branin',\n",
       " 'Brent',\n",
       " 'Brown',\n",
       " 'BukinN6',\n",
       " 'CrossInTray',\n",
       " 'DeJongN5',\n",
       " 'DeckkersAarts',\n",
       " 'DixonPrice',\n",
       " 'DropWave',\n",
       " 'Easom',\n",
       " 'EggCrate',\n",
       " 'EggHolder',\n",
       " 'GoldsteinPrice',\n",
       " 'Griewank',\n",
       " 'HappyCat',\n",
       " 'Himmelblau',\n",
       " 'HolderTable',\n",
       " 'Keane',\n",
       " 'Langermann',\n",
       " 'Leon',\n",
       " 'Levy',\n",
       " 'LevyN13',\n",
       " 'Matyas',\n",
       " 'McCormick',\n",
       " 'Michalewicz',\n",
       " 'Periodic',\n",
       " 'PermDBeta',\n",
       " 'PermZeroDBeta',\n",
       " 'Powell',\n",
       " 'Qing',\n",
       " 'Quartic',\n",
       " 'Rastrigin',\n",
       " 'Ridge',\n",
       " 'Rosenbrock',\n",
       " 'RotatedHyperEllipsoid',\n",
       " 'Salomon',\n",
       " 'SchaffelN1',\n",
       " 'SchaffelN2',\n",
       " 'SchaffelN3',\n",
       " 'SchaffelN4',\n",
       " 'Schwefel',\n",
       " 'Schwefel2_20',\n",
       " 'Schwefel2_21',\n",
       " 'Schwefel2_23',\n",
       " 'Shubert',\n",
       " 'ShubertN3',\n",
       " 'ShubertN4',\n",
       " 'Sphere',\n",
       " 'StyblinskiTang',\n",
       " 'SumSquares',\n",
       " 'Thevenot',\n",
       " 'ThreeHump',\n",
       " 'Trid',\n",
       " 'XinSheYang',\n",
       " 'XinSheYangN2',\n",
       " 'XinSheYangN3',\n",
       " 'XinSheYangN4',\n",
       " 'Zakharov']"
      ]
     },
     "execution_count": 2,
     "metadata": {},
     "output_type": "execute_result"
    }
   ],
   "source": [
    "[f.__name__ for f in f3dasm.functions.FUNCTIONS]"
   ]
  },
  {
   "cell_type": "code",
   "execution_count": null,
   "metadata": {},
   "outputs": [],
   "source": []
  }
 ],
 "metadata": {
  "kernelspec": {
   "display_name": "Python 3.8.15 ('f3dasm_env3')",
   "language": "python",
   "name": "python3"
  },
  "language_info": {
   "codemirror_mode": {
    "name": "ipython",
    "version": 3
   },
   "file_extension": ".py",
   "mimetype": "text/x-python",
   "name": "python",
   "nbconvert_exporter": "python",
   "pygments_lexer": "ipython3",
   "version": "3.8.15"
  },
  "orig_nbformat": 4,
  "vscode": {
   "interpreter": {
    "hash": "03276761335d5ee93b82dc97db1addd68180a543fb0cacb8af76ec058b1972b7"
   }
  }
 },
 "nbformat": 4,
 "nbformat_minor": 2
}
