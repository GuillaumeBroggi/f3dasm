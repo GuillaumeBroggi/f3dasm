{
 "cells": [
  {
   "cell_type": "code",
   "execution_count": 1,
   "metadata": {},
   "outputs": [],
   "source": [
    "import f3dasm"
   ]
  },
  {
   "cell_type": "code",
   "execution_count": 2,
   "metadata": {},
   "outputs": [
    {
     "data": {
      "text/plain": [
       "['__abstractmethods__',\n",
       " '__annotations__',\n",
       " '__call__',\n",
       " '__class__',\n",
       " '__dataclass_fields__',\n",
       " '__dataclass_params__',\n",
       " '__delattr__',\n",
       " '__dict__',\n",
       " '__dir__',\n",
       " '__doc__',\n",
       " '__eq__',\n",
       " '__format__',\n",
       " '__ge__',\n",
       " '__getattribute__',\n",
       " '__gt__',\n",
       " '__hash__',\n",
       " '__init__',\n",
       " '__init_subclass__',\n",
       " '__le__',\n",
       " '__lt__',\n",
       " '__match_args__',\n",
       " '__module__',\n",
       " '__ne__',\n",
       " '__new__',\n",
       " '__post_init__',\n",
       " '__reduce__',\n",
       " '__reduce_ex__',\n",
       " '__repr__',\n",
       " '__setattr__',\n",
       " '__sizeof__',\n",
       " '__slots__',\n",
       " '__str__',\n",
       " '__subclasshook__',\n",
       " '__weakref__',\n",
       " '_abc_impl',\n",
       " 'add_noise',\n",
       " 'check_if_within_bounds',\n",
       " 'continuous',\n",
       " 'convex',\n",
       " 'create_offset',\n",
       " 'descale_input',\n",
       " 'dfdx',\n",
       " 'differentiable',\n",
       " 'dimensionality',\n",
       " 'evaluate',\n",
       " 'f',\n",
       " 'get_global_minimum',\n",
       " 'get_param',\n",
       " 'input_domain',\n",
       " 'is_dim_compatible',\n",
       " 'latex_formula',\n",
       " 'latex_formula_dimension',\n",
       " 'latex_formula_global_minimum',\n",
       " 'latex_formula_input_domain',\n",
       " 'mutimodal',\n",
       " 'name',\n",
       " 'noise',\n",
       " 'offset_input',\n",
       " 'parametric',\n",
       " 'plot',\n",
       " 'plot_data',\n",
       " 'randomized_term',\n",
       " 'reshape_input',\n",
       " 'retrieve_original_input',\n",
       " 'scale_bounds',\n",
       " 'scale_input',\n",
       " 'seed',\n",
       " 'separable',\n",
       " 'set_parameters',\n",
       " 'set_seed']"
      ]
     },
     "execution_count": 2,
     "metadata": {},
     "output_type": "execute_result"
    }
   ],
   "source": [
    "dir(f3dasm.functions.FUNCTIONS[0])"
   ]
  },
  {
   "cell_type": "code",
   "execution_count": null,
   "metadata": {},
   "outputs": [],
   "source": []
  },
  {
   "cell_type": "code",
   "execution_count": 3,
   "metadata": {},
   "outputs": [
    {
     "data": {
      "text/plain": [
       "'f3dasm.functions.pybenchfunction'"
      ]
     },
     "execution_count": 3,
     "metadata": {},
     "output_type": "execute_result"
    }
   ],
   "source": [
    "f3dasm.functions.FUNCTIONS[0].__module__"
   ]
  },
  {
   "cell_type": "code",
   "execution_count": 4,
   "metadata": {},
   "outputs": [],
   "source": [
    "for func in f3dasm.functions.FUNCTIONS:\n",
    "    msg = ''\n",
    "    msg += func.name\n",
    "    msg += ' ' * 25\n",
    "    msg += ':class:`' + func.__module__ + '.' + func.__name__ + '`'"
   ]
  },
  {
   "cell_type": "code",
   "execution_count": 5,
   "metadata": {},
   "outputs": [],
   "source": [
    "with open(\"xyz.txt\", \"w\") as file: # xyz.txt is filename, w means write format\n",
    "    file.write('=' * 25-1 + ' ' + '=' * 70 +'\\n')\n",
    "    file.write('Name' + ' ' * (25-len('Name')) + ' ' + 'Docs of the Python class' + ' ' * (70-len('Docs of the Python class')) +'\\n')\n",
    "    file.write('=' * 25-1 + ' ' + '=' * 70 +'\\n')\n",
    "    for func in f3dasm.functions.FUNCTIONS:\n",
    "        msg = ''\n",
    "        msg += func.name\n",
    "        msg += ' ' * (25-len(func.name))\n",
    "        msg += ':class:`' + func.__module__ + '.' + func.__name__ + '`'\n",
    "        msg += '\\n'\n",
    "        file.write(msg) # write text xyz in the file\n",
    "    file.write('=' * 25-1 + ' ' + '=' * 70 +'\\n')"
   ]
  },
  {
   "cell_type": "code",
   "execution_count": null,
   "metadata": {},
   "outputs": [],
   "source": []
  }
 ],
 "metadata": {
  "interpreter": {
   "hash": "73193fbeb8677ab93f213154c0927f21dd4fccfe51cf5f6d1ad5a916be4d211f"
  },
  "kernelspec": {
   "display_name": "Python 3.10.5 ('testthings')",
   "language": "python",
   "name": "python3"
  },
  "language_info": {
   "codemirror_mode": {
    "name": "ipython",
    "version": 3
   },
   "file_extension": ".py",
   "mimetype": "text/x-python",
   "name": "python",
   "nbconvert_exporter": "python",
   "pygments_lexer": "ipython3",
   "version": "3.10.5"
  },
  "orig_nbformat": 4
 },
 "nbformat": 4,
 "nbformat_minor": 2
}
