{
 "cells": [
  {
   "cell_type": "code",
   "execution_count": 1,
   "metadata": {},
   "outputs": [],
   "source": [
    "import f3dasm\n",
    "from f3dasm.functions import get_functions"
   ]
  },
  {
   "cell_type": "code",
   "execution_count": null,
   "metadata": {},
   "outputs": [],
   "source": []
  },
  {
   "cell_type": "code",
   "execution_count": 2,
   "metadata": {},
   "outputs": [
    {
     "data": {
      "text/plain": [
       "'f3dasm.functions.pybenchfunction'"
      ]
     },
     "execution_count": 2,
     "metadata": {},
     "output_type": "execute_result"
    }
   ],
   "source": [
    "f3dasm.functions.FUNCTIONS[0].__module__"
   ]
  },
  {
   "cell_type": "code",
   "execution_count": 3,
   "metadata": {},
   "outputs": [],
   "source": [
    "for func in f3dasm.functions.FUNCTIONS:\n",
    "    msg = ''\n",
    "    msg += func.name\n",
    "    msg += ' ' * 25\n",
    "    msg += ':class:`' + func.__module__ + '.' + func.__name__ + '`'"
   ]
  },
  {
   "cell_type": "code",
   "execution_count": 4,
   "metadata": {},
   "outputs": [],
   "source": [
    "def write_docs(filename: str, functions):\n",
    "    with open(filename+\".txt\", \"w\") as file:\n",
    "        file.write('=' * (25-1) + ' ' + '=' * 70 +'\\n')\n",
    "        file.write('Name' + ' ' * (25-len('Name')) + ' ' + 'Docs of the Python class' + ' ' * (70-len('Docs of the Python class')) +'\\n')\n",
    "        file.write('=' * (25-1) + ' ' + '=' * 70 +'\\n')\n",
    "        for func in functions:\n",
    "            msg = ''\n",
    "            msg += func.name\n",
    "            msg += ' ' * (25-len(func.name))\n",
    "            msg += ':class:`' + func.__module__ + '.' + func.__name__ + '`'\n",
    "            msg += '\\n'\n",
    "            file.write(msg) # write text xyz in the file\n",
    "        file.write('=' * (25-1) + ' ' + '=' * 70 +'\\n')"
   ]
  },
  {
   "cell_type": "code",
   "execution_count": 5,
   "metadata": {},
   "outputs": [],
   "source": [
    "write_docs('convex', get_functions(convex=True))\n",
    "write_docs('continuous', get_functions(continuous=True))\n",
    "write_docs('seperable', get_functions(separable=True))\n",
    "write_docs('differentiable', get_functions(differentiable=True))\n",
    "write_docs('multimodal', get_functions(multimodal=True))\n",
    "write_docs('randomized_term', get_functions(randomized_term=True))"
   ]
  },
  {
   "cell_type": "code",
   "execution_count": 6,
   "metadata": {},
   "outputs": [
    {
     "data": {
      "text/plain": [
       "[f3dasm.optimization.gradient_based_algorithms.Adam,\n",
       " f3dasm.optimization.gradient_based_algorithms.Momentum,\n",
       " f3dasm.optimization.gradient_based_algorithms.RandomSearch,\n",
       " f3dasm.optimization.gradient_based_algorithms.SGD,\n",
       " f3dasm.optimization.pygmo_implementations.CMAES,\n",
       " f3dasm.optimization.pygmo_implementations.PSO,\n",
       " f3dasm.optimization.pygmo_implementations.SGA,\n",
       " f3dasm.optimization.pygmo_implementations.XNES,\n",
       " f3dasm.optimization.scipy_implementations.CG,\n",
       " f3dasm.optimization.scipy_implementations.DifferentialEvolution,\n",
       " f3dasm.optimization.scipy_implementations.DualAnnealing,\n",
       " f3dasm.optimization.scipy_implementations.LBFGSB,\n",
       " f3dasm.optimization.scipy_implementations.NelderMead]"
      ]
     },
     "execution_count": 6,
     "metadata": {},
     "output_type": "execute_result"
    }
   ],
   "source": [
    "f3dasm.optimization.OPTIMIZERS"
   ]
  },
  {
   "cell_type": "code",
   "execution_count": 9,
   "metadata": {},
   "outputs": [],
   "source": [
    "def write_docs(filename: str, functions):\n",
    "    with open(filename+\".txt\", \"w\") as file:\n",
    "        file.write('=' * (25-1) + ' ' + '=' * 70 +'\\n')\n",
    "        file.write('Name' + ' ' * (25-len('Name')) + ' ' + 'Docs of the Python class' + ' ' * (70-len('Docs of the Python class')) +'\\n')\n",
    "        file.write('=' * (25-1) + ' ' + '=' * 70 +'\\n')\n",
    "        for func in f3dasm.optimization.OPTIMIZERS:\n",
    "            msg = ''\n",
    "            msg += func.__name__\n",
    "            msg += ' ' * (25-len(func.__name__))\n",
    "            msg += ':class:`' + func.__module__ + '.' + func.__name__ + '`'\n",
    "            msg += '\\n'\n",
    "            file.write(msg) # write text xyz in the file\n",
    "        file.write('=' * (25-1) + ' ' + '=' * 70 +'\\n')"
   ]
  },
  {
   "cell_type": "code",
   "execution_count": 10,
   "metadata": {},
   "outputs": [],
   "source": [
    "write_docs('opts', f3dasm.optimization.OPTIMIZERS)"
   ]
  },
  {
   "cell_type": "code",
   "execution_count": null,
   "metadata": {},
   "outputs": [],
   "source": []
  }
 ],
 "metadata": {
  "interpreter": {
   "hash": "73193fbeb8677ab93f213154c0927f21dd4fccfe51cf5f6d1ad5a916be4d211f"
  },
  "kernelspec": {
   "display_name": "Python 3.10.5 ('testthings')",
   "language": "python",
   "name": "python3"
  },
  "language_info": {
   "codemirror_mode": {
    "name": "ipython",
    "version": 3
   },
   "file_extension": ".py",
   "mimetype": "text/x-python",
   "name": "python",
   "nbconvert_exporter": "python",
   "pygments_lexer": "ipython3",
   "version": "3.10.5"
  },
  "orig_nbformat": 4
 },
 "nbformat": 4,
 "nbformat_minor": 2
}
