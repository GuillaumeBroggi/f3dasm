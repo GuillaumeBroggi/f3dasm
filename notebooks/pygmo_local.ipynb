{
 "cells": [
  {
   "cell_type": "code",
   "execution_count": 1,
   "metadata": {},
   "outputs": [
    {
     "name": "stdout",
     "output_type": "stream",
     "text": [
      "test\n"
     ]
    }
   ],
   "source": [
    "from f3dasm.simulation.benchmark_functions import Levy, Schwefel\n",
    "from f3dasm.optimization.pygmo_implementations import CMAES, PSO, XNES, SGA, LBFGS\n",
    "from f3dasm.optimization.gradient_based_algorithms import SGD, Momentum, Adam\n",
    "from f3dasm.optimization.scipy_implementations import CG, SciPyOptimizer, NelderMead, LBFGSB\n",
    "\n",
    "from f3dasm.simulation.pybenchfunction import Sphere, Leon, Ackley\n",
    "\n",
    "from f3dasm.base.optimization import Optimizer\n",
    "from f3dasm.base.simulation import Function\n",
    "\n",
    "from f3dasm.base.designofexperiments import DesignSpace, make_nd_continuous_design\n",
    "from f3dasm.base.space import ContinuousParameter\n",
    "from f3dasm.sampling.samplers import LatinHypercubeSampling\n",
    "from scipy.optimize import minimize\n",
    "\n",
    "import numpy as np"
   ]
  },
  {
   "cell_type": "code",
   "execution_count": 2,
   "metadata": {},
   "outputs": [],
   "source": [
    "dimensions= 6\n",
    "hyperparameters = {}\n",
    "seed = 42\n",
    "iterations = 20"
   ]
  },
  {
   "cell_type": "code",
   "execution_count": 3,
   "metadata": {},
   "outputs": [
    {
     "data": {
      "text/html": [
       "<div>\n",
       "<style scoped>\n",
       "    .dataframe tbody tr th:only-of-type {\n",
       "        vertical-align: middle;\n",
       "    }\n",
       "\n",
       "    .dataframe tbody tr th {\n",
       "        vertical-align: top;\n",
       "    }\n",
       "\n",
       "    .dataframe thead tr th {\n",
       "        text-align: left;\n",
       "    }\n",
       "</style>\n",
       "<table border=\"1\" class=\"dataframe\">\n",
       "  <thead>\n",
       "    <tr>\n",
       "      <th></th>\n",
       "      <th colspan=\"6\" halign=\"left\">input</th>\n",
       "      <th>output</th>\n",
       "    </tr>\n",
       "    <tr>\n",
       "      <th></th>\n",
       "      <th>x0</th>\n",
       "      <th>x1</th>\n",
       "      <th>x2</th>\n",
       "      <th>x3</th>\n",
       "      <th>x4</th>\n",
       "      <th>x5</th>\n",
       "      <th>y</th>\n",
       "    </tr>\n",
       "  </thead>\n",
       "  <tbody>\n",
       "    <tr>\n",
       "      <th>0</th>\n",
       "      <td>-0.576767</td>\n",
       "      <td>-0.115064</td>\n",
       "      <td>-0.127270</td>\n",
       "      <td>-0.760537</td>\n",
       "      <td>-0.591766</td>\n",
       "      <td>0.618580</td>\n",
       "      <td>NaN</td>\n",
       "    </tr>\n",
       "    <tr>\n",
       "      <th>1</th>\n",
       "      <td>0.372778</td>\n",
       "      <td>0.914070</td>\n",
       "      <td>0.444741</td>\n",
       "      <td>0.255798</td>\n",
       "      <td>0.836966</td>\n",
       "      <td>0.009903</td>\n",
       "      <td>NaN</td>\n",
       "    </tr>\n",
       "    <tr>\n",
       "      <th>2</th>\n",
       "      <td>-0.850184</td>\n",
       "      <td>-0.619714</td>\n",
       "      <td>-0.707202</td>\n",
       "      <td>-0.126638</td>\n",
       "      <td>-0.078303</td>\n",
       "      <td>-0.212036</td>\n",
       "      <td>NaN</td>\n",
       "    </tr>\n",
       "    <tr>\n",
       "      <th>3</th>\n",
       "      <td>0.782428</td>\n",
       "      <td>0.316492</td>\n",
       "      <td>0.679870</td>\n",
       "      <td>-0.316771</td>\n",
       "      <td>-0.937593</td>\n",
       "      <td>0.346545</td>\n",
       "      <td>NaN</td>\n",
       "    </tr>\n",
       "    <tr>\n",
       "      <th>4</th>\n",
       "      <td>0.132977</td>\n",
       "      <td>-0.253530</td>\n",
       "      <td>-0.359554</td>\n",
       "      <td>0.805694</td>\n",
       "      <td>0.316858</td>\n",
       "      <td>-0.937602</td>\n",
       "      <td>NaN</td>\n",
       "    </tr>\n",
       "  </tbody>\n",
       "</table>\n",
       "</div>"
      ],
      "text/plain": [
       "      input                                                   output\n",
       "         x0        x1        x2        x3        x4        x5      y\n",
       "0 -0.576767 -0.115064 -0.127270 -0.760537 -0.591766  0.618580    NaN\n",
       "1  0.372778  0.914070  0.444741  0.255798  0.836966  0.009903    NaN\n",
       "2 -0.850184 -0.619714 -0.707202 -0.126638 -0.078303 -0.212036    NaN\n",
       "3  0.782428  0.316492  0.679870 -0.316771 -0.937593  0.346545    NaN\n",
       "4  0.132977 -0.253530 -0.359554  0.805694  0.316858 -0.937602    NaN"
      ]
     },
     "execution_count": 3,
     "metadata": {},
     "output_type": "execute_result"
    }
   ],
   "source": [
    "design = make_nd_continuous_design(bounds=[-1.,1.], dimensions=dimensions)\n",
    "\n",
    "# Sampler\n",
    "lhs_sampler = LatinHypercubeSampling(doe=design, seed=seed)\n",
    "data = lhs_sampler.get_samples(numsamples=5)\n",
    "data.data\n"
   ]
  },
  {
   "cell_type": "code",
   "execution_count": 4,
   "metadata": {},
   "outputs": [
    {
     "data": {
      "text/plain": [
       "array([-0.57676656, -0.11506436, -0.12727001, -0.76053661, -0.5917662 ,\n",
       "        0.61858017])"
      ]
     },
     "execution_count": 4,
     "metadata": {},
     "output_type": "execute_result"
    }
   ],
   "source": [
    "data.get_n_best_input_parameters_numpy(1).ravel()"
   ]
  },
  {
   "cell_type": "code",
   "execution_count": 12,
   "metadata": {},
   "outputs": [
    {
     "data": {
      "text/plain": [
       "array([[-5.12,  5.12],\n",
       "       [-5.12,  5.12]])"
      ]
     },
     "execution_count": 12,
     "metadata": {},
     "output_type": "execute_result"
    }
   ],
   "source": [
    "sphere.input_domain"
   ]
  },
  {
   "cell_type": "code",
   "execution_count": 5,
   "metadata": {},
   "outputs": [
    {
     "ename": "ValueError",
     "evalue": "operands could not be broadcast together with shapes (2,) (5,6) ",
     "output_type": "error",
     "traceback": [
      "\u001b[0;31m---------------------------------------------------------------------------\u001b[0m",
      "\u001b[0;31mValueError\u001b[0m                                Traceback (most recent call last)",
      "Input \u001b[0;32mIn [5]\u001b[0m, in \u001b[0;36m<cell line: 6>\u001b[0;34m()\u001b[0m\n\u001b[1;32m      3\u001b[0m ackley \u001b[39m=\u001b[39m Ackley()\n\u001b[1;32m      5\u001b[0m \u001b[39m# Evaluate the initial samples\u001b[39;00m\n\u001b[0;32m----> 6\u001b[0m data\u001b[39m.\u001b[39madd_output(output\u001b[39m=\u001b[39msphere\u001b[39m.\u001b[39;49meval(data),label\u001b[39m=\u001b[39m\u001b[39m\"\u001b[39m\u001b[39my\u001b[39m\u001b[39m\"\u001b[39m)\n\u001b[1;32m      7\u001b[0m data\u001b[39m.\u001b[39mdata\n",
      "File \u001b[0;32m~/Documents/GitHub/testthings/f3dasm/base/simulation.py:106\u001b[0m, in \u001b[0;36mFunction.eval\u001b[0;34m(self, input_x)\u001b[0m\n\u001b[1;32m    <a href='file:///home/martin/Documents/GitHub/testthings/f3dasm/base/simulation.py?line=101'>102</a>\u001b[0m     x \u001b[39m=\u001b[39m input_x\n\u001b[1;32m    <a href='file:///home/martin/Documents/GitHub/testthings/f3dasm/base/simulation.py?line=103'>104</a>\u001b[0m x \u001b[39m=\u001b[39m \u001b[39mself\u001b[39m\u001b[39m.\u001b[39mreshape_input(x)\n\u001b[0;32m--> <a href='file:///home/martin/Documents/GitHub/testthings/f3dasm/base/simulation.py?line=105'>106</a>\u001b[0m x \u001b[39m=\u001b[39m \u001b[39mself\u001b[39;49m\u001b[39m.\u001b[39;49mscale_input(x)\n\u001b[1;32m    <a href='file:///home/martin/Documents/GitHub/testthings/f3dasm/base/simulation.py?line=107'>108</a>\u001b[0m \u001b[39m# x = self.offset_input(x)\u001b[39;00m\n\u001b[1;32m    <a href='file:///home/martin/Documents/GitHub/testthings/f3dasm/base/simulation.py?line=109'>110</a>\u001b[0m y \u001b[39m=\u001b[39m np\u001b[39m.\u001b[39matleast_1d(\u001b[39mself\u001b[39m\u001b[39m.\u001b[39mf(x))\n",
      "File \u001b[0;32m~/Documents/GitHub/testthings/f3dasm/simulation/pybenchfunction.py:16\u001b[0m, in \u001b[0;36mPyBenchFunction.scale_input\u001b[0;34m(self, x)\u001b[0m\n\u001b[1;32m     <a href='file:///home/martin/Documents/GitHub/testthings/f3dasm/simulation/pybenchfunction.py?line=14'>15</a>\u001b[0m \u001b[39mdef\u001b[39;00m \u001b[39mscale_input\u001b[39m(\u001b[39mself\u001b[39m, x: np\u001b[39m.\u001b[39mndarray) \u001b[39m-\u001b[39m\u001b[39m>\u001b[39m np\u001b[39m.\u001b[39mndarray:\n\u001b[0;32m---> <a href='file:///home/martin/Documents/GitHub/testthings/f3dasm/simulation/pybenchfunction.py?line=15'>16</a>\u001b[0m     \u001b[39mreturn\u001b[39;00m (\n\u001b[1;32m     <a href='file:///home/martin/Documents/GitHub/testthings/f3dasm/simulation/pybenchfunction.py?line=16'>17</a>\u001b[0m         \u001b[39mself\u001b[39;49m\u001b[39m.\u001b[39;49minput_domain[:, \u001b[39m1\u001b[39;49m] \u001b[39m-\u001b[39;49m \u001b[39mself\u001b[39;49m\u001b[39m.\u001b[39;49minput_domain[:, \u001b[39m0\u001b[39;49m]\n\u001b[1;32m     <a href='file:///home/martin/Documents/GitHub/testthings/f3dasm/simulation/pybenchfunction.py?line=17'>18</a>\u001b[0m     ) \u001b[39m*\u001b[39;49m x \u001b[39m+\u001b[39m \u001b[39mself\u001b[39m\u001b[39m.\u001b[39minput_domain[:, \u001b[39m0\u001b[39m]\n",
      "\u001b[0;31mValueError\u001b[0m: operands could not be broadcast together with shapes (2,) (5,6) "
     ]
    }
   ],
   "source": [
    "sphere = Sphere(noise=False, dimensionality=dimensions)\n",
    "leon = Leon(dimensionality=dimensions)\n",
    "ackley = Ackley(dimensionality=dimensions)\n",
    "\n",
    "# Evaluate the initial samples\n",
    "data.add_output(output=sphere.eval(data),label=\"y\")\n",
    "data.data"
   ]
  },
  {
   "cell_type": "code",
   "execution_count": null,
   "metadata": {},
   "outputs": [],
   "source": [
    "l = data.get_input_data().to_numpy()\n",
    "\n",
    "l[-1]\n",
    "\n",
    "np.tile(l[-1], (4,1))\n",
    "\n",
    "#np.r_[l, np.atleast_2d(l[-1])]"
   ]
  },
  {
   "cell_type": "code",
   "execution_count": null,
   "metadata": {},
   "outputs": [],
   "source": [
    "hyp = {\"adaptive\": True}\n",
    "opt = LBFGSB(data=data, hyperparameters=hyp)\n",
    "opt.iterate(iterations=100, function=leon)\n",
    "d = opt.extract_data()\n",
    "d.data\n",
    "# opt1 = SGD(data=data)\n",
    "# opt1.iterate(iterations=i, function=leon)\n",
    "\n",
    "d.data\n"
   ]
  },
  {
   "cell_type": "code",
   "execution_count": null,
   "metadata": {},
   "outputs": [],
   "source": [
    "# leon.plot_data(d,px=100,domain=[-1.,1.])"
   ]
  },
  {
   "cell_type": "code",
   "execution_count": null,
   "metadata": {},
   "outputs": [],
   "source": []
  }
 ],
 "metadata": {
  "interpreter": {
   "hash": "73193fbeb8677ab93f213154c0927f21dd4fccfe51cf5f6d1ad5a916be4d211f"
  },
  "kernelspec": {
   "display_name": "Python 3.10.5 ('testthings')",
   "language": "python",
   "name": "python3"
  },
  "language_info": {
   "codemirror_mode": {
    "name": "ipython",
    "version": 3
   },
   "file_extension": ".py",
   "mimetype": "text/x-python",
   "name": "python",
   "nbconvert_exporter": "python",
   "pygments_lexer": "ipython3",
   "version": "3.10.5"
  },
  "orig_nbformat": 4
 },
 "nbformat": 4,
 "nbformat_minor": 2
}
