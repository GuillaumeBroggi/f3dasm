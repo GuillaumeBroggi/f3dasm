{
 "cells": [
  {
   "cell_type": "code",
   "execution_count": 1,
   "metadata": {},
   "outputs": [],
   "source": [
    "import pygmo as pg\n",
    "import numpy as np\n",
    "\n",
    "from f3dasm.simulation.benchmark_functions import Levy\n",
    "from f3dasm.src.optimization import PygmoProblem\n",
    "from f3dasm.src.designofexperiments import DoE\n",
    "from f3dasm.src.space import ContinuousSpace"
   ]
  },
  {
   "cell_type": "code",
   "execution_count": 2,
   "metadata": {},
   "outputs": [],
   "source": [
    "# Input parameters\n",
    "x1 = ContinuousSpace(name=\"x1\", lower_bound=-10., upper_bound=10.)\n",
    "x2 = ContinuousSpace(name=\"x2\", lower_bound=-10., upper_bound=10.)\n",
    "x3 = ContinuousSpace(name=\"x3\", lower_bound=-10., upper_bound=10.)\n",
    "\n",
    "# Output parameters\n",
    "y = ContinuousSpace(name=\"y\")\n",
    "\n",
    "input_space = [x1, x2, x3]\n",
    "output_space = [y]\n",
    "\n",
    "# Construct the design space\n",
    "design = DoE(input_space=input_space, output_space=output_space)"
   ]
  },
  {
   "cell_type": "code",
   "execution_count": 3,
   "metadata": {},
   "outputs": [],
   "source": [
    "algorithm = pg.algorithm(pg.cmaes(gen=1, memory=True, seed=42, force_bounds=True))\n",
    "levy = Levy()\n",
    "\n",
    "prob = pg.problem(PygmoProblem(design=design, func=levy))"
   ]
  },
  {
   "cell_type": "code",
   "execution_count": 4,
   "metadata": {},
   "outputs": [
    {
     "ename": "ValueError",
     "evalue": "\nfunction: uniform_real_from_range_checks\nwhere: /home/conda/feedstock_root/build_artifacts/pagmo_1656419683381/work/include/pagmo/utils/generic.hpp, 69\nwhat: Cannot generate a random real if the bounds are not finite\n",
     "output_type": "error",
     "traceback": [
      "\u001b[0;31m---------------------------------------------------------------------------\u001b[0m",
      "\u001b[0;31mValueError\u001b[0m                                Traceback (most recent call last)",
      "\u001b[1;32m/home/martin/Documents/GitHub/testthings/notebooks/pygmo.ipynb Cell 4'\u001b[0m in \u001b[0;36m<cell line: 2>\u001b[0;34m()\u001b[0m\n\u001b[1;32m      <a href='vscode-notebook-cell:/home/martin/Documents/GitHub/testthings/notebooks/pygmo.ipynb#ch0000002?line=0'>1</a>\u001b[0m prob\n\u001b[0;32m----> <a href='vscode-notebook-cell:/home/martin/Documents/GitHub/testthings/notebooks/pygmo.ipynb#ch0000002?line=1'>2</a>\u001b[0m pop \u001b[39m=\u001b[39m pg\u001b[39m.\u001b[39;49mpopulation(prob, size \u001b[39m=\u001b[39;49m \u001b[39m5\u001b[39;49m)\n\u001b[1;32m      <a href='vscode-notebook-cell:/home/martin/Documents/GitHub/testthings/notebooks/pygmo.ipynb#ch0000002?line=2'>3</a>\u001b[0m pop\n",
      "File \u001b[0;32m~/miniconda3/envs/testthings/lib/python3.10/site-packages/pygmo/__init__.py:296\u001b[0m, in \u001b[0;36m_population_init\u001b[0;34m(self, prob, size, b, seed)\u001b[0m\n\u001b[1;32m    <a href='file:///home/martin/miniconda3/envs/testthings/lib/python3.10/site-packages/pygmo/__init__.py?line=291'>292</a>\u001b[0m     seed \u001b[39m=\u001b[39m _random_device_next()\n\u001b[1;32m    <a href='file:///home/martin/miniconda3/envs/testthings/lib/python3.10/site-packages/pygmo/__init__.py?line=293'>294</a>\u001b[0m \u001b[39mif\u001b[39;00m b \u001b[39mis\u001b[39;00m \u001b[39mNone\u001b[39;00m:\n\u001b[1;32m    <a href='file:///home/martin/miniconda3/envs/testthings/lib/python3.10/site-packages/pygmo/__init__.py?line=294'>295</a>\u001b[0m     \u001b[39m# No bfe specified, init in sequential mode.\u001b[39;00m\n\u001b[0;32m--> <a href='file:///home/martin/miniconda3/envs/testthings/lib/python3.10/site-packages/pygmo/__init__.py?line=295'>296</a>\u001b[0m     __original_population_init(\u001b[39mself\u001b[39;49m, prob, size, seed)\n\u001b[1;32m    <a href='file:///home/martin/miniconda3/envs/testthings/lib/python3.10/site-packages/pygmo/__init__.py?line=296'>297</a>\u001b[0m \u001b[39melse\u001b[39;00m:\n\u001b[1;32m    <a href='file:///home/martin/miniconda3/envs/testthings/lib/python3.10/site-packages/pygmo/__init__.py?line=297'>298</a>\u001b[0m     \u001b[39m# A bfe was specified. Same as above with the problem.\u001b[39;00m\n\u001b[1;32m    <a href='file:///home/martin/miniconda3/envs/testthings/lib/python3.10/site-packages/pygmo/__init__.py?line=298'>299</a>\u001b[0m     __original_population_init(\u001b[39mself\u001b[39m, prob, b \u001b[39mif\u001b[39;00m \u001b[39mtype\u001b[39m(\n\u001b[1;32m    <a href='file:///home/martin/miniconda3/envs/testthings/lib/python3.10/site-packages/pygmo/__init__.py?line=299'>300</a>\u001b[0m         b) \u001b[39m==\u001b[39m bfe \u001b[39melse\u001b[39;00m bfe(b), size, seed)\n",
      "\u001b[0;31mValueError\u001b[0m: \nfunction: uniform_real_from_range_checks\nwhere: /home/conda/feedstock_root/build_artifacts/pagmo_1656419683381/work/include/pagmo/utils/generic.hpp, 69\nwhat: Cannot generate a random real if the bounds are not finite\n"
     ]
    }
   ],
   "source": [
    "prob\n",
    "pop = pg.population(prob, size = 5)\n",
    "pop"
   ]
  },
  {
   "cell_type": "code",
   "execution_count": null,
   "metadata": {},
   "outputs": [],
   "source": [
    "for i in range(10000):\n",
    "    pop = algorithm.evolve(pop)\n",
    "\n",
    "pop"
   ]
  },
  {
   "cell_type": "code",
   "execution_count": null,
   "metadata": {},
   "outputs": [],
   "source": [
    "uda = algorithm.extract(pg.cmaes)"
   ]
  },
  {
   "cell_type": "code",
   "execution_count": null,
   "metadata": {},
   "outputs": [],
   "source": [
    "prob.get_name()"
   ]
  },
  {
   "cell_type": "code",
   "execution_count": null,
   "metadata": {},
   "outputs": [],
   "source": []
  }
 ],
 "metadata": {
  "interpreter": {
   "hash": "73193fbeb8677ab93f213154c0927f21dd4fccfe51cf5f6d1ad5a916be4d211f"
  },
  "kernelspec": {
   "display_name": "Python 3.10.4 ('testthings')",
   "language": "python",
   "name": "python3"
  },
  "language_info": {
   "codemirror_mode": {
    "name": "ipython",
    "version": 3
   },
   "file_extension": ".py",
   "mimetype": "text/x-python",
   "name": "python",
   "nbconvert_exporter": "python",
   "pygments_lexer": "ipython3",
   "version": "3.10.4"
  },
  "orig_nbformat": 4
 },
 "nbformat": 4,
 "nbformat_minor": 2
}
