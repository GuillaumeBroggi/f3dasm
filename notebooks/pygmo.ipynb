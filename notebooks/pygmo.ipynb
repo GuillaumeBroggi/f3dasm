{
 "cells": [
  {
   "cell_type": "code",
   "execution_count": 1,
   "metadata": {},
   "outputs": [],
   "source": [
    "import pygmo as pg\n",
    "import numpy as np\n",
    "\n",
    "from f3dasm.simulation.benchmark_functions import Levy, Ackley, Schwefel\n",
    "from f3dasm.src.optimization import PygmoProblem\n",
    "from f3dasm.optimization.pygmo_implementations import UDA_SGD\n",
    "from f3dasm.src.designofexperiments import DoE\n",
    "from f3dasm.src.space import ContinuousSpace\n",
    "from f3dasm.src.data import Data"
   ]
  },
  {
   "cell_type": "code",
   "execution_count": 2,
   "metadata": {},
   "outputs": [],
   "source": [
    "def make_nd_continuous_design(bounds: list, dimensions: int):\n",
    "    input_space, output_space = [], []\n",
    "    for dim in range(dimensions):\n",
    "        input_space.append(ContinuousSpace(name=f\"x{dim}\", lower_bound=bounds[0], upper_bound=bounds[1]))\n",
    "\n",
    "    output_space.append(ContinuousSpace(name=\"y\"))\n",
    "\n",
    "    return DoE(input_space=input_space, output_space=output_space)"
   ]
  },
  {
   "cell_type": "code",
   "execution_count": 3,
   "metadata": {},
   "outputs": [],
   "source": [
    "dimensions=5\n",
    "design = make_nd_continuous_design(bounds=[-10.,10.], dimensions=dimensions)"
   ]
  },
  {
   "cell_type": "code",
   "execution_count": 4,
   "metadata": {},
   "outputs": [],
   "source": [
    "# # Input parameters\n",
    "# x1 = ContinuousSpace(name=\"x1\", lower_bound=-10., upper_bound=10.)\n",
    "# x2 = ContinuousSpace(name=\"x2\", lower_bound=-10., upper_bound=10.)\n",
    "# x3 = ContinuousSpace(name=\"x3\", lower_bound=-10., upper_bound=10.)\n",
    "# x4 = ContinuousSpace(name=\"x4\", lower_bound=-10., upper_bound=10.)\n",
    "# x5 = ContinuousSpace(name=\"x5\", lower_bound=-10., upper_bound=10.)\n",
    "# x6 = ContinuousSpace(name=\"x6\", lower_bound=-10., upper_bound=10.)\n",
    "\n",
    "# # Output parameters\n",
    "# y = ContinuousSpace(name=\"y\")\n",
    "\n",
    "# input_space = [x1, x2, x3, x4 ,x5, x6]\n",
    "# output_space = [y]\n",
    "\n",
    "# # Construct the design space\n",
    "# design = DoE(input_space=input_space, output_space=output_space)"
   ]
  },
  {
   "cell_type": "code",
   "execution_count": 5,
   "metadata": {},
   "outputs": [],
   "source": [
    "# algorithm = pg.algorithm(pg.cmaes(gen=1, memory=True, seed=42, force_bounds=True))\n",
    "algorithm = pg.algorithm(pg.cmaes(memory=True))\n",
    "levy = Levy(noise=True)\n",
    "\n",
    "prob = pg.problem(PygmoProblem(design=design, func=levy))"
   ]
  },
  {
   "cell_type": "code",
   "execution_count": 6,
   "metadata": {},
   "outputs": [
    {
     "data": {
      "text/plain": [
       "Problem name: <class 'f3dasm.src.optimization.PygmoProblem'>\n",
       "\tC++ class name: pybind11::object\n",
       "\n",
       "\tGlobal dimension:\t\t\t5\n",
       "\tInteger dimension:\t\t\t0\n",
       "\tFitness dimension:\t\t\t1\n",
       "\tNumber of objectives:\t\t\t1\n",
       "\tEquality constraints dimension:\t\t0\n",
       "\tInequality constraints dimension:\t0\n",
       "\tLower bounds: [-10, -10, -10, -10, -10]\n",
       "\tUpper bounds: [10, 10, 10, 10, 10]\n",
       "\tHas batch fitness evaluation: true\n",
       "\n",
       "\tHas gradient: true\n",
       "\tUser implemented gradient sparsity: false\n",
       "\tExpected gradients: 5\n",
       "\tHas hessians: false\n",
       "\tUser implemented hessians sparsity: false\n",
       "\n",
       "\tFitness evaluations: 30\n",
       "\tGradient evaluations: 0\n",
       "\n",
       "\tThread safety: none\n",
       "\n",
       "Population size: 30\n",
       "\n",
       "List of individuals: \n",
       "#0:\n",
       "\tID:\t\t\t3150821444177864396\n",
       "\tDecision vector:\t[-0.247075, -8.66199, -6.5322, -0.240843, 7.09789]\n",
       "\tFitness vector:\t\t[47.8095]\n",
       "#1:\n",
       "\tID:\t\t\t5030192417719401195\n",
       "\tDecision vector:\t[7.67801, -4.02693, 7.04425, 0.586001, 5.76261]\n",
       "\tFitness vector:\t\t[11.7169]\n",
       "#2:\n",
       "\tID:\t\t\t17155582441310901182\n",
       "\tDecision vector:\t[7.60796, -7.29869, -9.22112, -0.755838, 5.49931]\n",
       "\tFitness vector:\t\t[66.075]\n",
       "#3:\n",
       "\tID:\t\t\t11820899114177065166\n",
       "\tDecision vector:\t[1.69356, 0.733067, 1.23681, 6.64159, -1.35205]\n",
       "\tFitness vector:\t\t[14.6153]\n",
       "#4:\n",
       "\tID:\t\t\t2348034263466468427\n",
       "\tDecision vector:\t[-1.87118, -7.76074, -0.861689, -6.43238, 7.34628]\n",
       "\tFitness vector:\t\t[84.7403]\n",
       "#5:\n",
       "\tID:\t\t\t8589080545381977979\n",
       "\tDecision vector:\t[-8.16685, 6.92527, -7.38185, -0.450317, -8.80258]\n",
       "\tFitness vector:\t\t[47.5619]\n",
       "#6:\n",
       "\tID:\t\t\t7176371101345437073\n",
       "\tDecision vector:\t[6.35289, 5.47132, -5.66801, -7.91531, 0.229842]\n",
       "\tFitness vector:\t\t[65.9197]\n",
       "#7:\n",
       "\tID:\t\t\t1959252038235498746\n",
       "\tDecision vector:\t[7.39553, -6.48874, 2.21303, 8.8954, 9.93365]\n",
       "\tFitness vector:\t\t[56.8146]\n",
       "#8:\n",
       "\tID:\t\t\t9278308684024614382\n",
       "\tDecision vector:\t[-3.00102, 5.78495, 7.06064, 4.41716, -1.8617]\n",
       "\tFitness vector:\t\t[38.356]\n",
       "#9:\n",
       "\tID:\t\t\t5849113699315211991\n",
       "\tDecision vector:\t[7.51715, 5.00009, -0.357541, 4.35655, 0.191427]\n",
       "\tFitness vector:\t\t[15.5769]\n",
       "#10:\n",
       "\tID:\t\t\t6822911222642303135\n",
       "\tDecision vector:\t[-2.62536, 3.44745, 9.2585, 8.97883, -6.76654]\n",
       "\tFitness vector:\t\t[83.0362]\n",
       "#11:\n",
       "\tID:\t\t\t6947244232819081021\n",
       "\tDecision vector:\t[5.26827, 8.67695, 3.99124, 6.04504, 5.24015]\n",
       "\tFitness vector:\t\t[50.2203]\n",
       "#12:\n",
       "\tID:\t\t\t5582758443257712065\n",
       "\tDecision vector:\t[5.67252, -7.55597, 3.89614, 1.75976, -6.39603]\n",
       "\tFitness vector:\t\t[43.5958]\n",
       "#13:\n",
       "\tID:\t\t\t36088570549045853\n",
       "\tDecision vector:\t[-3.73676, 7.8397, 9.80579, -2.29831, -0.690515]\n",
       "\tFitness vector:\t\t[72.5613]\n",
       "#14:\n",
       "\tID:\t\t\t2945603037449904625\n",
       "\tDecision vector:\t[-7.57047, 4.73369, 9.89505, -7.54674, 6.71549]\n",
       "\tFitness vector:\t\t[128.328]\n",
       "#15:\n",
       "\tID:\t\t\t13781452502858500768\n",
       "\tDecision vector:\t[-2.63016, -7.17545, 3.9174, 3.23167, 5.50822]\n",
       "\tFitness vector:\t\t[50.9547]\n",
       "#16:\n",
       "\tID:\t\t\t1829558926285898872\n",
       "\tDecision vector:\t[4.44477, 1.17851, 0.364963, -8.24691, 0.146674]\n",
       "\tFitness vector:\t\t[10.5692]\n",
       "#17:\n",
       "\tID:\t\t\t17572150407333743317\n",
       "\tDecision vector:\t[1.46112, 0.253664, -2.43866, -5.58668, -7.42253]\n",
       "\tFitness vector:\t\t[29.1634]\n",
       "#18:\n",
       "\tID:\t\t\t10714447137166809085\n",
       "\tDecision vector:\t[1.75843, -1.28973, 0.218792, -2.62807, -6.76164]\n",
       "\tFitness vector:\t\t[15.6243]\n",
       "#19:\n",
       "\tID:\t\t\t13031704426281285025\n",
       "\tDecision vector:\t[7.08458, 7.30511, 6.35697, 0.431409, -4.12338]\n",
       "\tFitness vector:\t\t[37.2912]\n",
       "#20:\n",
       "\tID:\t\t\t3079434183320223158\n",
       "\tDecision vector:\t[-2.76395, 8.61154, -3.21326, 1.51913, -2.86089]\n",
       "\tFitness vector:\t\t[41.4141]\n",
       "#21:\n",
       "\tID:\t\t\t15099947940725365331\n",
       "\tDecision vector:\t[5.62802, -8.0927, -5.8558, 9.87042, 2.70865]\n",
       "\tFitness vector:\t\t[121.729]\n",
       "#22:\n",
       "\tID:\t\t\t11842057464373918401\n",
       "\tDecision vector:\t[0.348015, 3.59388, 4.50134, -6.1014, 8.49322]\n",
       "\tFitness vector:\t\t[46.3149]\n",
       "#23:\n",
       "\tID:\t\t\t10963845385302782541\n",
       "\tDecision vector:\t[-7.45239, -7.78856, -6.93021, -3.2504, -5.06434]\n",
       "\tFitness vector:\t\t[100.377]\n",
       "#24:\n",
       "\tID:\t\t\t845403892881001968\n",
       "\tDecision vector:\t[3.49666, 2.80469, 3.15526, -5.32353, 1.05884]\n",
       "\tFitness vector:\t\t[21.7918]\n",
       "#25:\n",
       "\tID:\t\t\t7605862593680998545\n",
       "\tDecision vector:\t[-8.99571, -4.93735, 8.5508, 1.23732, -3.9452]\n",
       "\tFitness vector:\t\t[65.1417]\n",
       "#26:\n",
       "\tID:\t\t\t16210356650768641228\n",
       "\tDecision vector:\t[1.46001, 9.60442, 4.72394, -3.27221, 2.85938]\n",
       "\tFitness vector:\t\t[50.1083]\n",
       "#27:\n",
       "\tID:\t\t\t18194410166317362072\n",
       "\tDecision vector:\t[1.00583, 1.98211, 2.37935, -8.65221, -9.75359]\n",
       "\tFitness vector:\t\t[27.2266]\n",
       "#28:\n",
       "\tID:\t\t\t3875541038053360344\n",
       "\tDecision vector:\t[-9.54945, -2.37917, 4.15047, -0.555665, 5.13267]\n",
       "\tFitness vector:\t\t[71.2311]\n",
       "#29:\n",
       "\tID:\t\t\t1620067255795802271\n",
       "\tDecision vector:\t[-4.89847, 5.60029, -2.50509, -4.81876, -7.16058]\n",
       "\tFitness vector:\t\t[39.0488]\n",
       "\n",
       "Champion decision vector: [4.44477, 1.17851, 0.364963, -8.24691, 0.146674]\n",
       "Champion fitness: [10.5692]"
      ]
     },
     "execution_count": 6,
     "metadata": {},
     "output_type": "execute_result"
    }
   ],
   "source": [
    "prob\n",
    "pop = pg.population(prob, size = 30)\n",
    "pop"
   ]
  },
  {
   "cell_type": "code",
   "execution_count": 7,
   "metadata": {},
   "outputs": [
    {
     "data": {
      "image/png": "[encoded data removed]",
      "text/plain": [
       "<Figure size 432x288 with 1 Axes>"
      ]
     },
     "metadata": {
      "needs_background": "light"
     },
     "output_type": "display_data"
    }
   ],
   "source": [
    "xx, yy = np.empty(shape=(1,dimensions)), np.empty(shape=(1,1))\n",
    "# xx = np.array([[0.5, 0.5, 0.5, 0.5, 0.5, 0.5]])\n",
    "# yy = levy.eval(xx)\n",
    "for i in range(500):\n",
    "    pop = algorithm.evolve(pop)\n",
    "    xx = np.r_[xx, pop.get_x()]\n",
    "    yy = np.r_[yy, pop.get_f()]\n",
    "\n",
    "\n",
    "import pandas as pd\n",
    "pd.DataFrame(data=yy)\n",
    "import matplotlib.pyplot as plt\n",
    "\n",
    "plt.scatter(np.arange(len(yy.ravel())),yy.ravel(), s=1)\n",
    "\n",
    "yy\n",
    "columnlabels = [(\"input\",f\"x{i}\") for i in range(dimensions)]\n",
    "columnlabels.append((\"output\", \"y\"))\n",
    "columnlabels\n",
    "df = pd.DataFrame(data=np.c_[xx,yy],columns=columnlabels)"
   ]
  },
  {
   "cell_type": "code",
   "execution_count": 9,
   "metadata": {},
   "outputs": [
    {
     "name": "stderr",
     "output_type": "stream",
     "text": [
      "/home/martin/Documents/GitHub/testthings/f3dasm/src/data.py:65: UserWarning: Matplotlib is currently using module://matplotlib_inline.backend_inline, which is a non-GUI backend, so cannot show the figure.\n",
      "  fig.show()\n"
     ]
    },
    {
     "data": {
      "image/png": "[encoded data removed]",
      "text/plain": [
       "<Figure size 432x288 with 1 Axes>"
      ]
     },
     "metadata": {
      "needs_background": "light"
     },
     "output_type": "display_data"
    }
   ],
   "source": [
    "data = Data(design)\n",
    "data.add(df)\n",
    "data.plot(input_par1=\"x4\", input_par2=\"x3\")"
   ]
  },
  {
   "cell_type": "code",
   "execution_count": null,
   "metadata": {},
   "outputs": [],
   "source": [
    "uda = algorithm.extract(pg.cmaes)"
   ]
  },
  {
   "cell_type": "code",
   "execution_count": null,
   "metadata": {},
   "outputs": [],
   "source": [
    "prob.get_name()"
   ]
  },
  {
   "cell_type": "code",
   "execution_count": null,
   "metadata": {},
   "outputs": [],
   "source": [
    "prob.gradient(np.array([0.3,0.2,0.1]))"
   ]
  },
  {
   "cell_type": "code",
   "execution_count": null,
   "metadata": {},
   "outputs": [],
   "source": []
  }
 ],
 "metadata": {
  "interpreter": {
   "hash": "73193fbeb8677ab93f213154c0927f21dd4fccfe51cf5f6d1ad5a916be4d211f"
  },
  "kernelspec": {
   "display_name": "Python 3.10.4 ('testthings')",
   "language": "python",
   "name": "python3"
  },
  "language_info": {
   "codemirror_mode": {
    "name": "ipython",
    "version": 3
   },
   "file_extension": ".py",
   "mimetype": "text/x-python",
   "name": "python",
   "nbconvert_exporter": "python",
   "pygments_lexer": "ipython3",
   "version": "3.10.4"
  },
  "orig_nbformat": 4
 },
 "nbformat": 4,
 "nbformat_minor": 2
}
