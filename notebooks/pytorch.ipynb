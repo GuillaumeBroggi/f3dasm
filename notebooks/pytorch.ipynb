{
 "cells": [
  {
   "cell_type": "code",
   "execution_count": 1,
   "metadata": {},
   "outputs": [
    {
     "name": "stderr",
     "output_type": "stream",
     "text": [
      "2022-09-30 16:24:28.676736: I tensorflow/core/util/util.cc:169] oneDNN custom operations are on. You may see slightly different numerical results due to floating-point round-off errors from different computation orders. To turn them off, set the environment variable `TF_ENABLE_ONEDNN_OPTS=0`.\n"
     ]
    }
   ],
   "source": [
    "import tensorflow as tf\n",
    "from f3dasm.functions.pybenchfunction import Levy, Ackley\n",
    "\n",
    "import autograd\n",
    "import autograd.core\n",
    "import autograd.numpy as np\n",
    "from autograd import elementwise_grad as egrad"
   ]
  },
  {
   "cell_type": "code",
   "execution_count": 2,
   "metadata": {},
   "outputs": [],
   "source": [
    "function = Levy(dimensionality=2)"
   ]
  },
  {
   "cell_type": "code",
   "execution_count": 3,
   "metadata": {},
   "outputs": [],
   "source": [
    "def convert_autograd_to_tensorflow(func):#S:func is completely written in numpy autograd\n",
    "    @tf.custom_gradient\n",
    "    def wrapper(x):\n",
    "        vjp, ans = autograd.core.make_vjp(func, x.numpy())\n",
    "        def first_grad(dy):            \n",
    "            @tf.custom_gradient\n",
    "            def jacobian(a):\n",
    "                vjp2, ans2 =  autograd.core.make_vjp(egrad(func), a.numpy())\n",
    "                return ans2,vjp2 # hessian                    \n",
    "\n",
    "            return dy* jacobian(x)  \n",
    "        return ans, first_grad\n",
    "    \n",
    "    return wrapper"
   ]
  },
  {
   "cell_type": "code",
   "execution_count": 4,
   "metadata": {},
   "outputs": [],
   "source": [
    "class Model(tf.keras.Model):\n",
    "\n",
    "  def __init__(self, seed=None, args=None):\n",
    "    super().__init__()\n",
    "    self.seed = seed\n",
    "    self.env = args\n",
    "\n",
    "######################### Pixel Model Class\n",
    "class PixelModel(Model):\n",
    "  \"\"\"\n",
    "    The class for performing optimization in the input space of the functions.\n",
    "    The initial parameters are chosen uniformly from [0,1] so as to ensure\n",
    "        similarity across all functions\n",
    "    TODO: May need to add the functionality to output denormalized bounds\n",
    "  \"\"\"\n",
    "  def __init__(self, seed=None, args = None):\n",
    "    super().__init__(seed)\n",
    "    z_init = tf.random.uniform((1,args['dim']), minval = 0, maxval = 1.0)\n",
    "    self.z = tf.Variable(z_init, trainable=True, dtype = tf.float32)#S:ADDED \n",
    "\n",
    "  def call(self, inputs=None):\n",
    "    return self.z"
   ]
  },
  {
   "cell_type": "code",
   "execution_count": 5,
   "metadata": {},
   "outputs": [
    {
     "name": "stderr",
     "output_type": "stream",
     "text": [
      "2022-09-30 16:24:31.660307: I tensorflow/core/platform/cpu_feature_guard.cc:193] This TensorFlow binary is optimized with oneAPI Deep Neural Network Library (oneDNN) to use the following CPU instructions in performance-critical operations:  SSE4.1 SSE4.2 AVX AVX2 AVX512F AVX512_VNNI FMA\n",
      "To enable them in other operations, rebuild TensorFlow with the appropriate compiler flags.\n"
     ]
    }
   ],
   "source": [
    "model = PixelModel(None,args={'dim': 2}) # Build the model\n",
    "fval = []   # To store the function values at each optimziation step   \n",
    "outs = []   #Storing teh outputs of the model (normalized!!) \n",
    "tvars = model.trainable_variables"
   ]
  },
  {
   "cell_type": "code",
   "execution_count": 6,
   "metadata": {},
   "outputs": [
    {
     "data": {
      "text/plain": [
       "[<tf.Variable 'Variable:0' shape=(1, 2) dtype=float32, numpy=array([[0.5338025, 0.6210842]], dtype=float32)>]"
      ]
     },
     "execution_count": 6,
     "metadata": {},
     "output_type": "execute_result"
    }
   ],
   "source": [
    "tvars"
   ]
  },
  {
   "cell_type": "code",
   "execution_count": 20,
   "metadata": {},
   "outputs": [],
   "source": [
    "func = convert_autograd_to_tensorflow(function.__call__)\n",
    "# func = function.__call__"
   ]
  },
  {
   "cell_type": "code",
   "execution_count": 21,
   "metadata": {},
   "outputs": [
    {
     "ename": "TypeError",
     "evalue": "loop of ufunc does not support argument 0 of type ArrayBox which has no callable sin method",
     "output_type": "error",
     "traceback": [
      "\u001b[0;31m---------------------------------------------------------------------------\u001b[0m",
      "\u001b[0;31mAttributeError\u001b[0m                            Traceback (most recent call last)",
      "\u001b[0;31mAttributeError\u001b[0m: 'ArrayBox' object has no attribute 'sin'",
      "\nThe above exception was the direct cause of the following exception:\n",
      "\u001b[0;31mTypeError\u001b[0m                                 Traceback (most recent call last)",
      "Input \u001b[0;32mIn [21]\u001b[0m, in \u001b[0;36m<cell line: 3>\u001b[0;34m()\u001b[0m\n\u001b[1;32m      1\u001b[0m x \u001b[39m=\u001b[39m tf\u001b[39m.\u001b[39mcast(model(\u001b[39mNone\u001b[39;00m), tf\u001b[39m.\u001b[39mfloat64)\n\u001b[1;32m      2\u001b[0m x\n\u001b[0;32m----> 3\u001b[0m func(x)\n",
      "File \u001b[0;32m~/miniconda3/envs/f3dasm_env/lib/python3.10/site-packages/tensorflow/python/ops/custom_gradient.py:339\u001b[0m, in \u001b[0;36mBind.__call__\u001b[0;34m(self, *a, **k)\u001b[0m\n\u001b[1;32m    <a href='file:///home/martin/miniconda3/envs/f3dasm_env/lib/python3.10/site-packages/tensorflow/python/ops/custom_gradient.py?line=337'>338</a>\u001b[0m \u001b[39mdef\u001b[39;00m \u001b[39m__call__\u001b[39m(\u001b[39mself\u001b[39m, \u001b[39m*\u001b[39ma, \u001b[39m*\u001b[39m\u001b[39m*\u001b[39mk):\n\u001b[0;32m--> <a href='file:///home/martin/miniconda3/envs/f3dasm_env/lib/python3.10/site-packages/tensorflow/python/ops/custom_gradient.py?line=338'>339</a>\u001b[0m   \u001b[39mreturn\u001b[39;00m \u001b[39mself\u001b[39;49m\u001b[39m.\u001b[39;49m_d(\u001b[39mself\u001b[39;49m\u001b[39m.\u001b[39;49m_f, a, k)\n",
      "File \u001b[0;32m~/miniconda3/envs/f3dasm_env/lib/python3.10/site-packages/tensorflow/python/ops/custom_gradient.py:293\u001b[0m, in \u001b[0;36mcustom_gradient.<locals>.decorated\u001b[0;34m(wrapped, args, kwargs)\u001b[0m\n\u001b[1;32m    <a href='file:///home/martin/miniconda3/envs/f3dasm_env/lib/python3.10/site-packages/tensorflow/python/ops/custom_gradient.py?line=290'>291</a>\u001b[0m \u001b[39m\"\"\"Decorated function with custom gradient.\"\"\"\u001b[39;00m\n\u001b[1;32m    <a href='file:///home/martin/miniconda3/envs/f3dasm_env/lib/python3.10/site-packages/tensorflow/python/ops/custom_gradient.py?line=291'>292</a>\u001b[0m \u001b[39mif\u001b[39;00m context\u001b[39m.\u001b[39mexecuting_eagerly():\n\u001b[0;32m--> <a href='file:///home/martin/miniconda3/envs/f3dasm_env/lib/python3.10/site-packages/tensorflow/python/ops/custom_gradient.py?line=292'>293</a>\u001b[0m   \u001b[39mreturn\u001b[39;00m _eager_mode_decorator(wrapped, args, kwargs)\n\u001b[1;32m    <a href='file:///home/martin/miniconda3/envs/f3dasm_env/lib/python3.10/site-packages/tensorflow/python/ops/custom_gradient.py?line=293'>294</a>\u001b[0m \u001b[39melse\u001b[39;00m:\n\u001b[1;32m    <a href='file:///home/martin/miniconda3/envs/f3dasm_env/lib/python3.10/site-packages/tensorflow/python/ops/custom_gradient.py?line=294'>295</a>\u001b[0m   \u001b[39mreturn\u001b[39;00m _graph_mode_decorator(wrapped, args, kwargs)\n",
      "File \u001b[0;32m~/miniconda3/envs/f3dasm_env/lib/python3.10/site-packages/tensorflow/python/ops/custom_gradient.py:530\u001b[0m, in \u001b[0;36m_eager_mode_decorator\u001b[0;34m(f, args, kwargs)\u001b[0m\n\u001b[1;32m    <a href='file:///home/martin/miniconda3/envs/f3dasm_env/lib/python3.10/site-packages/tensorflow/python/ops/custom_gradient.py?line=527'>528</a>\u001b[0m \u001b[39m\"\"\"Implement custom gradient decorator for eager mode.\"\"\"\u001b[39;00m\n\u001b[1;32m    <a href='file:///home/martin/miniconda3/envs/f3dasm_env/lib/python3.10/site-packages/tensorflow/python/ops/custom_gradient.py?line=528'>529</a>\u001b[0m \u001b[39mwith\u001b[39;00m tape_lib\u001b[39m.\u001b[39mVariableWatcher() \u001b[39mas\u001b[39;00m variable_watcher:\n\u001b[0;32m--> <a href='file:///home/martin/miniconda3/envs/f3dasm_env/lib/python3.10/site-packages/tensorflow/python/ops/custom_gradient.py?line=529'>530</a>\u001b[0m   result, grad_fn \u001b[39m=\u001b[39m f(\u001b[39m*\u001b[39;49margs, \u001b[39m*\u001b[39;49m\u001b[39m*\u001b[39;49mkwargs)\n\u001b[1;32m    <a href='file:///home/martin/miniconda3/envs/f3dasm_env/lib/python3.10/site-packages/tensorflow/python/ops/custom_gradient.py?line=530'>531</a>\u001b[0m args \u001b[39m=\u001b[39m nest\u001b[39m.\u001b[39mflatten(args)\n\u001b[1;32m    <a href='file:///home/martin/miniconda3/envs/f3dasm_env/lib/python3.10/site-packages/tensorflow/python/ops/custom_gradient.py?line=531'>532</a>\u001b[0m all_inputs \u001b[39m=\u001b[39m \u001b[39mlist\u001b[39m(args) \u001b[39m+\u001b[39m \u001b[39mlist\u001b[39m(kwargs\u001b[39m.\u001b[39mvalues())\n",
      "\u001b[1;32m/home/martin/Documents/GitHub/F3DASM/notebooks/pytorch.ipynb Cell 4'\u001b[0m in \u001b[0;36mconvert_autograd_to_tensorflow.<locals>.wrapper\u001b[0;34m(x)\u001b[0m\n\u001b[1;32m      <a href='vscode-notebook-cell:/home/martin/Documents/GitHub/F3DASM/notebooks/pytorch.ipynb#ch0000002?line=1'>2</a>\u001b[0m \u001b[39m@tf\u001b[39m\u001b[39m.\u001b[39mcustom_gradient\n\u001b[1;32m      <a href='vscode-notebook-cell:/home/martin/Documents/GitHub/F3DASM/notebooks/pytorch.ipynb#ch0000002?line=2'>3</a>\u001b[0m \u001b[39mdef\u001b[39;00m \u001b[39mwrapper\u001b[39m(x):\n\u001b[0;32m----> <a href='vscode-notebook-cell:/home/martin/Documents/GitHub/F3DASM/notebooks/pytorch.ipynb#ch0000002?line=3'>4</a>\u001b[0m     vjp, ans \u001b[39m=\u001b[39m autograd\u001b[39m.\u001b[39;49mcore\u001b[39m.\u001b[39;49mmake_vjp(func, x\u001b[39m.\u001b[39;49mnumpy())\n\u001b[1;32m      <a href='vscode-notebook-cell:/home/martin/Documents/GitHub/F3DASM/notebooks/pytorch.ipynb#ch0000002?line=4'>5</a>\u001b[0m     \u001b[39mdef\u001b[39;00m \u001b[39mfirst_grad\u001b[39m(dy):            \n\u001b[1;32m      <a href='vscode-notebook-cell:/home/martin/Documents/GitHub/F3DASM/notebooks/pytorch.ipynb#ch0000002?line=5'>6</a>\u001b[0m         \u001b[39m@tf\u001b[39m\u001b[39m.\u001b[39mcustom_gradient\n\u001b[1;32m      <a href='vscode-notebook-cell:/home/martin/Documents/GitHub/F3DASM/notebooks/pytorch.ipynb#ch0000002?line=6'>7</a>\u001b[0m         \u001b[39mdef\u001b[39;00m \u001b[39mjacobian\u001b[39m(a):\n",
      "File \u001b[0;32m~/miniconda3/envs/f3dasm_env/lib/python3.10/site-packages/autograd/core.py:10\u001b[0m, in \u001b[0;36mmake_vjp\u001b[0;34m(fun, x)\u001b[0m\n\u001b[1;32m      <a href='file:///home/martin/miniconda3/envs/f3dasm_env/lib/python3.10/site-packages/autograd/core.py?line=7'>8</a>\u001b[0m \u001b[39mdef\u001b[39;00m \u001b[39mmake_vjp\u001b[39m(fun, x):\n\u001b[1;32m      <a href='file:///home/martin/miniconda3/envs/f3dasm_env/lib/python3.10/site-packages/autograd/core.py?line=8'>9</a>\u001b[0m     start_node \u001b[39m=\u001b[39m VJPNode\u001b[39m.\u001b[39mnew_root()\n\u001b[0;32m---> <a href='file:///home/martin/miniconda3/envs/f3dasm_env/lib/python3.10/site-packages/autograd/core.py?line=9'>10</a>\u001b[0m     end_value, end_node \u001b[39m=\u001b[39m  trace(start_node, fun, x)\n\u001b[1;32m     <a href='file:///home/martin/miniconda3/envs/f3dasm_env/lib/python3.10/site-packages/autograd/core.py?line=10'>11</a>\u001b[0m     \u001b[39mif\u001b[39;00m end_node \u001b[39mis\u001b[39;00m \u001b[39mNone\u001b[39;00m:\n\u001b[1;32m     <a href='file:///home/martin/miniconda3/envs/f3dasm_env/lib/python3.10/site-packages/autograd/core.py?line=11'>12</a>\u001b[0m         \u001b[39mdef\u001b[39;00m \u001b[39mvjp\u001b[39m(g): \u001b[39mreturn\u001b[39;00m vspace(x)\u001b[39m.\u001b[39mzeros()\n",
      "File \u001b[0;32m~/miniconda3/envs/f3dasm_env/lib/python3.10/site-packages/autograd/tracer.py:10\u001b[0m, in \u001b[0;36mtrace\u001b[0;34m(start_node, fun, x)\u001b[0m\n\u001b[1;32m      <a href='file:///home/martin/miniconda3/envs/f3dasm_env/lib/python3.10/site-packages/autograd/tracer.py?line=7'>8</a>\u001b[0m \u001b[39mwith\u001b[39;00m trace_stack\u001b[39m.\u001b[39mnew_trace() \u001b[39mas\u001b[39;00m t:\n\u001b[1;32m      <a href='file:///home/martin/miniconda3/envs/f3dasm_env/lib/python3.10/site-packages/autograd/tracer.py?line=8'>9</a>\u001b[0m     start_box \u001b[39m=\u001b[39m new_box(x, t, start_node)\n\u001b[0;32m---> <a href='file:///home/martin/miniconda3/envs/f3dasm_env/lib/python3.10/site-packages/autograd/tracer.py?line=9'>10</a>\u001b[0m     end_box \u001b[39m=\u001b[39m fun(start_box)\n\u001b[1;32m     <a href='file:///home/martin/miniconda3/envs/f3dasm_env/lib/python3.10/site-packages/autograd/tracer.py?line=10'>11</a>\u001b[0m     \u001b[39mif\u001b[39;00m isbox(end_box) \u001b[39mand\u001b[39;00m end_box\u001b[39m.\u001b[39m_trace \u001b[39m==\u001b[39m start_box\u001b[39m.\u001b[39m_trace:\n\u001b[1;32m     <a href='file:///home/martin/miniconda3/envs/f3dasm_env/lib/python3.10/site-packages/autograd/tracer.py?line=11'>12</a>\u001b[0m         \u001b[39mreturn\u001b[39;00m end_box\u001b[39m.\u001b[39m_value, end_box\u001b[39m.\u001b[39m_node\n",
      "File \u001b[0;32m~/Documents/GitHub/F3DASM/f3dasm/base/function.py:84\u001b[0m, in \u001b[0;36mFunction.__call__\u001b[0;34m(self, input_x)\u001b[0m\n\u001b[1;32m     <a href='file:///home/martin/Documents/GitHub/F3DASM/f3dasm/base/function.py?line=79'>80</a>\u001b[0m     x \u001b[39m=\u001b[39m input_x\n\u001b[1;32m     <a href='file:///home/martin/Documents/GitHub/F3DASM/f3dasm/base/function.py?line=81'>82</a>\u001b[0m x \u001b[39m=\u001b[39m \u001b[39mself\u001b[39m\u001b[39m.\u001b[39m_from_input_to_scaled(x)\n\u001b[0;32m---> <a href='file:///home/martin/Documents/GitHub/F3DASM/f3dasm/base/function.py?line=83'>84</a>\u001b[0m y \u001b[39m=\u001b[39m np\u001b[39m.\u001b[39matleast_1d(\u001b[39mself\u001b[39;49m\u001b[39m.\u001b[39;49mf(x))\n\u001b[1;32m     <a href='file:///home/martin/Documents/GitHub/F3DASM/f3dasm/base/function.py?line=85'>86</a>\u001b[0m \u001b[39m# add noise\u001b[39;00m\n\u001b[1;32m     <a href='file:///home/martin/Documents/GitHub/F3DASM/f3dasm/base/function.py?line=86'>87</a>\u001b[0m \u001b[39mif\u001b[39;00m \u001b[39mself\u001b[39m\u001b[39m.\u001b[39mnoise \u001b[39mis\u001b[39;00m \u001b[39mnot\u001b[39;00m \u001b[39mNone\u001b[39;00m:\n",
      "File \u001b[0;32m~/Documents/GitHub/F3DASM/f3dasm/functions/pybenchfunction.py:20\u001b[0m, in \u001b[0;36mPyBenchFunction.f\u001b[0;34m(self, x)\u001b[0m\n\u001b[1;32m     <a href='file:///home/martin/Documents/GitHub/F3DASM/f3dasm/functions/pybenchfunction.py?line=17'>18</a>\u001b[0m \u001b[39mdef\u001b[39;00m \u001b[39mf\u001b[39m(\u001b[39mself\u001b[39m, x: np\u001b[39m.\u001b[39mndarray):\n\u001b[1;32m     <a href='file:///home/martin/Documents/GitHub/F3DASM/f3dasm/functions/pybenchfunction.py?line=18'>19</a>\u001b[0m     \u001b[39mif\u001b[39;00m \u001b[39mself\u001b[39m\u001b[39m.\u001b[39mis_dim_compatible(\u001b[39mself\u001b[39m\u001b[39m.\u001b[39mdimensionality):\n\u001b[0;32m---> <a href='file:///home/martin/Documents/GitHub/F3DASM/f3dasm/functions/pybenchfunction.py?line=19'>20</a>\u001b[0m         \u001b[39mreturn\u001b[39;00m np\u001b[39m.\u001b[39;49mapply_along_axis(\u001b[39mself\u001b[39;49m\u001b[39m.\u001b[39;49mevaluate, axis\u001b[39m=\u001b[39;49m\u001b[39m1\u001b[39;49m, arr\u001b[39m=\u001b[39;49mx)\u001b[39m.\u001b[39mreshape(\u001b[39m-\u001b[39m\u001b[39m1\u001b[39m, \u001b[39m1\u001b[39m)\n",
      "File \u001b[0;32m~/miniconda3/envs/f3dasm_env/lib/python3.10/site-packages/autograd/tracer.py:48\u001b[0m, in \u001b[0;36mprimitive.<locals>.f_wrapped\u001b[0;34m(*args, **kwargs)\u001b[0m\n\u001b[1;32m     <a href='file:///home/martin/miniconda3/envs/f3dasm_env/lib/python3.10/site-packages/autograd/tracer.py?line=45'>46</a>\u001b[0m     \u001b[39mreturn\u001b[39;00m new_box(ans, trace, node)\n\u001b[1;32m     <a href='file:///home/martin/miniconda3/envs/f3dasm_env/lib/python3.10/site-packages/autograd/tracer.py?line=46'>47</a>\u001b[0m \u001b[39melse\u001b[39;00m:\n\u001b[0;32m---> <a href='file:///home/martin/miniconda3/envs/f3dasm_env/lib/python3.10/site-packages/autograd/tracer.py?line=47'>48</a>\u001b[0m     \u001b[39mreturn\u001b[39;00m f_raw(\u001b[39m*\u001b[39;49margs, \u001b[39m*\u001b[39;49m\u001b[39m*\u001b[39;49mkwargs)\n",
      "File \u001b[0;32m<__array_function__ internals>:180\u001b[0m, in \u001b[0;36mapply_along_axis\u001b[0;34m(*args, **kwargs)\u001b[0m\n",
      "File \u001b[0;32m~/miniconda3/envs/f3dasm_env/lib/python3.10/site-packages/numpy/lib/shape_base.py:379\u001b[0m, in \u001b[0;36mapply_along_axis\u001b[0;34m(func1d, axis, arr, *args, **kwargs)\u001b[0m\n\u001b[1;32m    <a href='file:///home/martin/miniconda3/envs/f3dasm_env/lib/python3.10/site-packages/numpy/lib/shape_base.py?line=374'>375</a>\u001b[0m \u001b[39mexcept\u001b[39;00m \u001b[39mStopIteration\u001b[39;00m \u001b[39mas\u001b[39;00m e:\n\u001b[1;32m    <a href='file:///home/martin/miniconda3/envs/f3dasm_env/lib/python3.10/site-packages/numpy/lib/shape_base.py?line=375'>376</a>\u001b[0m     \u001b[39mraise\u001b[39;00m \u001b[39mValueError\u001b[39;00m(\n\u001b[1;32m    <a href='file:///home/martin/miniconda3/envs/f3dasm_env/lib/python3.10/site-packages/numpy/lib/shape_base.py?line=376'>377</a>\u001b[0m         \u001b[39m'\u001b[39m\u001b[39mCannot apply_along_axis when any iteration dimensions are 0\u001b[39m\u001b[39m'\u001b[39m\n\u001b[1;32m    <a href='file:///home/martin/miniconda3/envs/f3dasm_env/lib/python3.10/site-packages/numpy/lib/shape_base.py?line=377'>378</a>\u001b[0m     ) \u001b[39mfrom\u001b[39;00m \u001b[39mNone\u001b[39m\n\u001b[0;32m--> <a href='file:///home/martin/miniconda3/envs/f3dasm_env/lib/python3.10/site-packages/numpy/lib/shape_base.py?line=378'>379</a>\u001b[0m res \u001b[39m=\u001b[39m asanyarray(func1d(inarr_view[ind0], \u001b[39m*\u001b[39;49margs, \u001b[39m*\u001b[39;49m\u001b[39m*\u001b[39;49mkwargs))\n\u001b[1;32m    <a href='file:///home/martin/miniconda3/envs/f3dasm_env/lib/python3.10/site-packages/numpy/lib/shape_base.py?line=380'>381</a>\u001b[0m \u001b[39m# build a buffer for storing evaluations of func1d.\u001b[39;00m\n\u001b[1;32m    <a href='file:///home/martin/miniconda3/envs/f3dasm_env/lib/python3.10/site-packages/numpy/lib/shape_base.py?line=381'>382</a>\u001b[0m \u001b[39m# remove the requested axis, and add the new ones on the end.\u001b[39;00m\n\u001b[1;32m    <a href='file:///home/martin/miniconda3/envs/f3dasm_env/lib/python3.10/site-packages/numpy/lib/shape_base.py?line=382'>383</a>\u001b[0m \u001b[39m# laid out so that each write is contiguous.\u001b[39;00m\n\u001b[1;32m    <a href='file:///home/martin/miniconda3/envs/f3dasm_env/lib/python3.10/site-packages/numpy/lib/shape_base.py?line=383'>384</a>\u001b[0m \u001b[39m# for a tuple index inds, buff[inds] = func1d(inarr_view[inds])\u001b[39;00m\n\u001b[1;32m    <a href='file:///home/martin/miniconda3/envs/f3dasm_env/lib/python3.10/site-packages/numpy/lib/shape_base.py?line=384'>385</a>\u001b[0m buff \u001b[39m=\u001b[39m zeros(inarr_view\u001b[39m.\u001b[39mshape[:\u001b[39m-\u001b[39m\u001b[39m1\u001b[39m] \u001b[39m+\u001b[39m res\u001b[39m.\u001b[39mshape, res\u001b[39m.\u001b[39mdtype)\n",
      "File \u001b[0;32m~/Documents/GitHub/F3DASM/f3dasm/functions/pybenchfunction.py:1395\u001b[0m, in \u001b[0;36mLevy.evaluate\u001b[0;34m(self, X)\u001b[0m\n\u001b[1;32m   <a href='file:///home/martin/Documents/GitHub/F3DASM/f3dasm/functions/pybenchfunction.py?line=1390'>1391</a>\u001b[0m \u001b[39mdef\u001b[39;00m \u001b[39mevaluate\u001b[39m(\u001b[39mself\u001b[39m, X):\n\u001b[1;32m   <a href='file:///home/martin/Documents/GitHub/F3DASM/f3dasm/functions/pybenchfunction.py?line=1391'>1392</a>\u001b[0m     z \u001b[39m=\u001b[39m \u001b[39m1\u001b[39m \u001b[39m+\u001b[39m (X \u001b[39m-\u001b[39m \u001b[39m1\u001b[39m) \u001b[39m/\u001b[39m \u001b[39m4\u001b[39m\n\u001b[1;32m   <a href='file:///home/martin/Documents/GitHub/F3DASM/f3dasm/functions/pybenchfunction.py?line=1392'>1393</a>\u001b[0m     res \u001b[39m=\u001b[39m (\n\u001b[1;32m   <a href='file:///home/martin/Documents/GitHub/F3DASM/f3dasm/functions/pybenchfunction.py?line=1393'>1394</a>\u001b[0m         np\u001b[39m.\u001b[39msin(np\u001b[39m.\u001b[39mpi \u001b[39m*\u001b[39m z[\u001b[39m0\u001b[39m]) \u001b[39m*\u001b[39m\u001b[39m*\u001b[39m \u001b[39m2\u001b[39m\n\u001b[0;32m-> <a href='file:///home/martin/Documents/GitHub/F3DASM/f3dasm/functions/pybenchfunction.py?line=1394'>1395</a>\u001b[0m         \u001b[39m+\u001b[39m \u001b[39msum\u001b[39m((z[:\u001b[39m-\u001b[39m\u001b[39m1\u001b[39m] \u001b[39m-\u001b[39m \u001b[39m1\u001b[39m) \u001b[39m*\u001b[39m\u001b[39m*\u001b[39m \u001b[39m2\u001b[39m \u001b[39m*\u001b[39m (\u001b[39m1\u001b[39m \u001b[39m+\u001b[39m \u001b[39m10\u001b[39m \u001b[39m*\u001b[39m np\u001b[39m.\u001b[39;49msin(np\u001b[39m.\u001b[39;49mpi \u001b[39m*\u001b[39;49m z[:\u001b[39m-\u001b[39;49m\u001b[39m1\u001b[39;49m] \u001b[39m+\u001b[39;49m \u001b[39m1\u001b[39;49m) \u001b[39m*\u001b[39m\u001b[39m*\u001b[39m \u001b[39m2\u001b[39m))\n\u001b[1;32m   <a href='file:///home/martin/Documents/GitHub/F3DASM/f3dasm/functions/pybenchfunction.py?line=1395'>1396</a>\u001b[0m         \u001b[39m+\u001b[39m (z[\u001b[39m-\u001b[39m\u001b[39m1\u001b[39m] \u001b[39m-\u001b[39m \u001b[39m1\u001b[39m) \u001b[39m*\u001b[39m\u001b[39m*\u001b[39m \u001b[39m2\u001b[39m \u001b[39m*\u001b[39m (\u001b[39m1\u001b[39m \u001b[39m+\u001b[39m np\u001b[39m.\u001b[39msin(\u001b[39m2\u001b[39m \u001b[39m*\u001b[39m np\u001b[39m.\u001b[39mpi \u001b[39m*\u001b[39m z[\u001b[39m-\u001b[39m\u001b[39m1\u001b[39m]) \u001b[39m*\u001b[39m\u001b[39m*\u001b[39m \u001b[39m2\u001b[39m)\n\u001b[1;32m   <a href='file:///home/martin/Documents/GitHub/F3DASM/f3dasm/functions/pybenchfunction.py?line=1396'>1397</a>\u001b[0m     )\n\u001b[1;32m   <a href='file:///home/martin/Documents/GitHub/F3DASM/f3dasm/functions/pybenchfunction.py?line=1397'>1398</a>\u001b[0m     \u001b[39mreturn\u001b[39;00m res\n",
      "File \u001b[0;32m~/miniconda3/envs/f3dasm_env/lib/python3.10/site-packages/autograd/tracer.py:48\u001b[0m, in \u001b[0;36mprimitive.<locals>.f_wrapped\u001b[0;34m(*args, **kwargs)\u001b[0m\n\u001b[1;32m     <a href='file:///home/martin/miniconda3/envs/f3dasm_env/lib/python3.10/site-packages/autograd/tracer.py?line=45'>46</a>\u001b[0m     \u001b[39mreturn\u001b[39;00m new_box(ans, trace, node)\n\u001b[1;32m     <a href='file:///home/martin/miniconda3/envs/f3dasm_env/lib/python3.10/site-packages/autograd/tracer.py?line=46'>47</a>\u001b[0m \u001b[39melse\u001b[39;00m:\n\u001b[0;32m---> <a href='file:///home/martin/miniconda3/envs/f3dasm_env/lib/python3.10/site-packages/autograd/tracer.py?line=47'>48</a>\u001b[0m     \u001b[39mreturn\u001b[39;00m f_raw(\u001b[39m*\u001b[39;49margs, \u001b[39m*\u001b[39;49m\u001b[39m*\u001b[39;49mkwargs)\n",
      "\u001b[0;31mTypeError\u001b[0m: loop of ufunc does not support argument 0 of type ArrayBox which has no callable sin method"
     ]
    }
   ],
   "source": [
    "x = tf.cast(model(None), tf.float64)\n",
    "x\n",
    "func(x)"
   ]
  },
  {
   "cell_type": "code",
   "execution_count": 11,
   "metadata": {},
   "outputs": [
    {
     "data": {
      "text/plain": [
       "array([[6.98931374]])"
      ]
     },
     "execution_count": 11,
     "metadata": {},
     "output_type": "execute_result"
    }
   ],
   "source": [
    "func(tf.cast(model(None), tf.float64))"
   ]
  },
  {
   "cell_type": "code",
   "execution_count": 17,
   "metadata": {},
   "outputs": [
    {
     "ename": "AttributeError",
     "evalue": "'numpy.ndarray' object has no attribute '_id'",
     "output_type": "error",
     "traceback": [
      "\u001b[0;31m---------------------------------------------------------------------------\u001b[0m",
      "\u001b[0;31mAttributeError\u001b[0m                            Traceback (most recent call last)",
      "Input \u001b[0;32mIn [17]\u001b[0m, in \u001b[0;36m<cell line: 5>\u001b[0;34m()\u001b[0m\n\u001b[1;32m      3\u001b[0m     logits \u001b[39m=\u001b[39m \u001b[39m0.0\u001b[39m \u001b[39m+\u001b[39m tf\u001b[39m.\u001b[39mcast(model(\u001b[39mNone\u001b[39;00m), tf\u001b[39m.\u001b[39mfloat64)           \n\u001b[1;32m      4\u001b[0m     loss \u001b[39m=\u001b[39m func(tf\u001b[39m.\u001b[39mreshape(logits, (function\u001b[39m.\u001b[39mdimensionality)))\n\u001b[0;32m----> 5\u001b[0m grad \u001b[39m=\u001b[39m tape\u001b[39m.\u001b[39;49mgradient(loss,tvars)\n",
      "File \u001b[0;32m~/miniconda3/envs/f3dasm_env/lib/python3.10/site-packages/tensorflow/python/eager/backprop.py:1100\u001b[0m, in \u001b[0;36mGradientTape.gradient\u001b[0;34m(self, target, sources, output_gradients, unconnected_gradients)\u001b[0m\n\u001b[1;32m   <a href='file:///home/martin/miniconda3/envs/f3dasm_env/lib/python3.10/site-packages/tensorflow/python/eager/backprop.py?line=1093'>1094</a>\u001b[0m   output_gradients \u001b[39m=\u001b[39m (\n\u001b[1;32m   <a href='file:///home/martin/miniconda3/envs/f3dasm_env/lib/python3.10/site-packages/tensorflow/python/eager/backprop.py?line=1094'>1095</a>\u001b[0m       composite_tensor_gradient\u001b[39m.\u001b[39mget_flat_tensors_for_gradients(\n\u001b[1;32m   <a href='file:///home/martin/miniconda3/envs/f3dasm_env/lib/python3.10/site-packages/tensorflow/python/eager/backprop.py?line=1095'>1096</a>\u001b[0m           output_gradients))\n\u001b[1;32m   <a href='file:///home/martin/miniconda3/envs/f3dasm_env/lib/python3.10/site-packages/tensorflow/python/eager/backprop.py?line=1096'>1097</a>\u001b[0m   output_gradients \u001b[39m=\u001b[39m [\u001b[39mNone\u001b[39;00m \u001b[39mif\u001b[39;00m x \u001b[39mis\u001b[39;00m \u001b[39mNone\u001b[39;00m \u001b[39melse\u001b[39;00m ops\u001b[39m.\u001b[39mconvert_to_tensor(x)\n\u001b[1;32m   <a href='file:///home/martin/miniconda3/envs/f3dasm_env/lib/python3.10/site-packages/tensorflow/python/eager/backprop.py?line=1097'>1098</a>\u001b[0m                       \u001b[39mfor\u001b[39;00m x \u001b[39min\u001b[39;00m output_gradients]\n\u001b[0;32m-> <a href='file:///home/martin/miniconda3/envs/f3dasm_env/lib/python3.10/site-packages/tensorflow/python/eager/backprop.py?line=1099'>1100</a>\u001b[0m flat_grad \u001b[39m=\u001b[39m imperative_grad\u001b[39m.\u001b[39;49mimperative_grad(\n\u001b[1;32m   <a href='file:///home/martin/miniconda3/envs/f3dasm_env/lib/python3.10/site-packages/tensorflow/python/eager/backprop.py?line=1100'>1101</a>\u001b[0m     \u001b[39mself\u001b[39;49m\u001b[39m.\u001b[39;49m_tape,\n\u001b[1;32m   <a href='file:///home/martin/miniconda3/envs/f3dasm_env/lib/python3.10/site-packages/tensorflow/python/eager/backprop.py?line=1101'>1102</a>\u001b[0m     flat_targets,\n\u001b[1;32m   <a href='file:///home/martin/miniconda3/envs/f3dasm_env/lib/python3.10/site-packages/tensorflow/python/eager/backprop.py?line=1102'>1103</a>\u001b[0m     flat_sources,\n\u001b[1;32m   <a href='file:///home/martin/miniconda3/envs/f3dasm_env/lib/python3.10/site-packages/tensorflow/python/eager/backprop.py?line=1103'>1104</a>\u001b[0m     output_gradients\u001b[39m=\u001b[39;49moutput_gradients,\n\u001b[1;32m   <a href='file:///home/martin/miniconda3/envs/f3dasm_env/lib/python3.10/site-packages/tensorflow/python/eager/backprop.py?line=1104'>1105</a>\u001b[0m     sources_raw\u001b[39m=\u001b[39;49mflat_sources_raw,\n\u001b[1;32m   <a href='file:///home/martin/miniconda3/envs/f3dasm_env/lib/python3.10/site-packages/tensorflow/python/eager/backprop.py?line=1105'>1106</a>\u001b[0m     unconnected_gradients\u001b[39m=\u001b[39;49munconnected_gradients)\n\u001b[1;32m   <a href='file:///home/martin/miniconda3/envs/f3dasm_env/lib/python3.10/site-packages/tensorflow/python/eager/backprop.py?line=1107'>1108</a>\u001b[0m \u001b[39mif\u001b[39;00m \u001b[39mnot\u001b[39;00m \u001b[39mself\u001b[39m\u001b[39m.\u001b[39m_persistent:\n\u001b[1;32m   <a href='file:///home/martin/miniconda3/envs/f3dasm_env/lib/python3.10/site-packages/tensorflow/python/eager/backprop.py?line=1108'>1109</a>\u001b[0m   \u001b[39m# Keep track of watched variables before setting tape to None\u001b[39;00m\n\u001b[1;32m   <a href='file:///home/martin/miniconda3/envs/f3dasm_env/lib/python3.10/site-packages/tensorflow/python/eager/backprop.py?line=1109'>1110</a>\u001b[0m   \u001b[39mself\u001b[39m\u001b[39m.\u001b[39m_watched_variables \u001b[39m=\u001b[39m \u001b[39mself\u001b[39m\u001b[39m.\u001b[39m_tape\u001b[39m.\u001b[39mwatched_variables()\n",
      "File \u001b[0;32m~/miniconda3/envs/f3dasm_env/lib/python3.10/site-packages/tensorflow/python/eager/imperative_grad.py:67\u001b[0m, in \u001b[0;36mimperative_grad\u001b[0;34m(tape, target, sources, output_gradients, sources_raw, unconnected_gradients)\u001b[0m\n\u001b[1;32m     <a href='file:///home/martin/miniconda3/envs/f3dasm_env/lib/python3.10/site-packages/tensorflow/python/eager/imperative_grad.py?line=62'>63</a>\u001b[0m \u001b[39mexcept\u001b[39;00m \u001b[39mValueError\u001b[39;00m:\n\u001b[1;32m     <a href='file:///home/martin/miniconda3/envs/f3dasm_env/lib/python3.10/site-packages/tensorflow/python/eager/imperative_grad.py?line=63'>64</a>\u001b[0m   \u001b[39mraise\u001b[39;00m \u001b[39mValueError\u001b[39;00m(\n\u001b[1;32m     <a href='file:///home/martin/miniconda3/envs/f3dasm_env/lib/python3.10/site-packages/tensorflow/python/eager/imperative_grad.py?line=64'>65</a>\u001b[0m       \u001b[39m\"\u001b[39m\u001b[39mUnknown value for unconnected_gradients: \u001b[39m\u001b[39m%r\u001b[39;00m\u001b[39m\"\u001b[39m \u001b[39m%\u001b[39m unconnected_gradients)\n\u001b[0;32m---> <a href='file:///home/martin/miniconda3/envs/f3dasm_env/lib/python3.10/site-packages/tensorflow/python/eager/imperative_grad.py?line=66'>67</a>\u001b[0m \u001b[39mreturn\u001b[39;00m pywrap_tfe\u001b[39m.\u001b[39;49mTFE_Py_TapeGradient(\n\u001b[1;32m     <a href='file:///home/martin/miniconda3/envs/f3dasm_env/lib/python3.10/site-packages/tensorflow/python/eager/imperative_grad.py?line=67'>68</a>\u001b[0m     tape\u001b[39m.\u001b[39;49m_tape,  \u001b[39m# pylint: disable=protected-access\u001b[39;49;00m\n\u001b[1;32m     <a href='file:///home/martin/miniconda3/envs/f3dasm_env/lib/python3.10/site-packages/tensorflow/python/eager/imperative_grad.py?line=68'>69</a>\u001b[0m     target,\n\u001b[1;32m     <a href='file:///home/martin/miniconda3/envs/f3dasm_env/lib/python3.10/site-packages/tensorflow/python/eager/imperative_grad.py?line=69'>70</a>\u001b[0m     sources,\n\u001b[1;32m     <a href='file:///home/martin/miniconda3/envs/f3dasm_env/lib/python3.10/site-packages/tensorflow/python/eager/imperative_grad.py?line=70'>71</a>\u001b[0m     output_gradients,\n\u001b[1;32m     <a href='file:///home/martin/miniconda3/envs/f3dasm_env/lib/python3.10/site-packages/tensorflow/python/eager/imperative_grad.py?line=71'>72</a>\u001b[0m     sources_raw,\n\u001b[1;32m     <a href='file:///home/martin/miniconda3/envs/f3dasm_env/lib/python3.10/site-packages/tensorflow/python/eager/imperative_grad.py?line=72'>73</a>\u001b[0m     compat\u001b[39m.\u001b[39;49mas_str(unconnected_gradients\u001b[39m.\u001b[39;49mvalue))\n",
      "\u001b[0;31mAttributeError\u001b[0m: 'numpy.ndarray' object has no attribute '_id'"
     ]
    }
   ],
   "source": [
    "with tf.GradientTape() as tape:\n",
    "    tape.watch(tvars)\n",
    "    logits = 0.0 + tf.cast(model(None), tf.float64)           \n",
    "    loss = func(tf.reshape(logits, (function.dimensionality)))\n",
    "grad = tape.gradient(loss,tvars)"
   ]
  },
  {
   "cell_type": "code",
   "execution_count": null,
   "metadata": {},
   "outputs": [],
   "source": [
    "loss"
   ]
  },
  {
   "cell_type": "code",
   "execution_count": null,
   "metadata": {},
   "outputs": [],
   "source": [
    "func(np.array([0.70464706, 0.03490555]))"
   ]
  },
  {
   "cell_type": "code",
   "execution_count": null,
   "metadata": {},
   "outputs": [],
   "source": [
    "tf.reshape(logits, (2))"
   ]
  },
  {
   "cell_type": "code",
   "execution_count": null,
   "metadata": {},
   "outputs": [],
   "source": []
  }
 ],
 "metadata": {
  "interpreter": {
   "hash": "cd4aa09bf73c11ef3239c620489b85906b4cadb309e0ddddf54fa55967002edb"
  },
  "kernelspec": {
   "display_name": "Python 3.10.5 ('f3dasm_env')",
   "language": "python",
   "name": "python3"
  },
  "language_info": {
   "codemirror_mode": {
    "name": "ipython",
    "version": 3
   },
   "file_extension": ".py",
   "mimetype": "text/x-python",
   "name": "python",
   "nbconvert_exporter": "python",
   "pygments_lexer": "ipython3",
   "version": "3.10.5"
  },
  "orig_nbformat": 4
 },
 "nbformat": 4,
 "nbformat_minor": 2
}
