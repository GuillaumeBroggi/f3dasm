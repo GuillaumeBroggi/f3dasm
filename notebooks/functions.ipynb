{
 "cells": [
  {
   "cell_type": "code",
   "execution_count": 5,
   "metadata": {},
   "outputs": [],
   "source": [
    "from f3dasm.simulation.benchmark_functions import Levy\n",
    "from f3dasm.src.space import ContinuousSpace\n",
    "from f3dasm.src.designofexperiments import DoE\n",
    "from f3dasm.sampling.randomuniform import RandomUniform\n",
    "from f3dasm.src.data import Data"
   ]
  },
  {
   "cell_type": "code",
   "execution_count": 21,
   "metadata": {},
   "outputs": [
    {
     "name": "stderr",
     "output_type": "stream",
     "text": [
      "/home/martin/Documents/GitHub/testthings/f3dasm/src/data.py:41: FutureWarning: The frame.append method is deprecated and will be removed from pandas in a future version. Use pandas.concat instead.\n",
      "  self.data = self.data.append(data)\n"
     ]
    },
    {
     "data": {
      "text/plain": [
       "input  x1    float64\n",
       "       x2    float64\n",
       "dtype: object"
      ]
     },
     "execution_count": 21,
     "metadata": {},
     "output_type": "execute_result"
    }
   ],
   "source": [
    "seed = 42\n",
    "\n",
    "# Define the parameters\n",
    "x1 = ContinuousSpace(name=\"x1\", lower_bound=-10., upper_bound=10.)\n",
    "x2 = ContinuousSpace(name=\"x2\", lower_bound=-10., upper_bound=10.)\n",
    "y = ContinuousSpace(name=\"y\")\n",
    "\n",
    "# Create the design space\n",
    "input_space = [x1, x2]\n",
    "output_space = [y]\n",
    "design = DoE(input_space=input_space, output_space=output_space)\n",
    "\n",
    "# Construct sampler\n",
    "random_uniform = RandomUniform(doe=design, seed=seed)\n",
    "\n",
    "numsamples = 1000\n",
    "\n",
    "samples = random_uniform.get_samples(numsamples=numsamples)\n",
    "data = Data(data=0)\n",
    "data.set_with_doe(design)\n",
    "data.append(samples)\n",
    "#data.data\n",
    "\n",
    "x = data.data[[('input','x1'),('input','x2')]].to_numpy()\n",
    "#x\n",
    "samples.dtypes\n",
    "\n",
    "# The problem: the numpy array is an object array and not a float array!"
   ]
  },
  {
   "cell_type": "code",
   "execution_count": 17,
   "metadata": {},
   "outputs": [
    {
     "ename": "TypeError",
     "evalue": "loop of ufunc does not support argument 0 of type float which has no callable sin method",
     "output_type": "error",
     "traceback": [
      "\u001b[0;31m---------------------------------------------------------------------------\u001b[0m",
      "\u001b[0;31mAttributeError\u001b[0m                            Traceback (most recent call last)",
      "\u001b[0;31mAttributeError\u001b[0m: 'float' object has no attribute 'sin'",
      "\nThe above exception was the direct cause of the following exception:\n",
      "\u001b[0;31mTypeError\u001b[0m                                 Traceback (most recent call last)",
      "\u001b[1;32m/home/martin/Documents/GitHub/testthings/notebooks/functions.ipynb Cell 3'\u001b[0m in \u001b[0;36m<cell line: 2>\u001b[0;34m()\u001b[0m\n\u001b[1;32m      <a href='vscode-notebook-cell:/home/martin/Documents/GitHub/testthings/notebooks/functions.ipynb#ch0000001?line=0'>1</a>\u001b[0m levy \u001b[39m=\u001b[39m Levy()\n\u001b[0;32m----> <a href='vscode-notebook-cell:/home/martin/Documents/GitHub/testthings/notebooks/functions.ipynb#ch0000001?line=1'>2</a>\u001b[0m levy\u001b[39m.\u001b[39;49meval(x\u001b[39m=\u001b[39;49mx)\n",
      "File \u001b[0;32m~/Documents/GitHub/testthings/f3dasm/src/simulation.py:10\u001b[0m, in \u001b[0;36mFunction.eval\u001b[0;34m(self, x, noise)\u001b[0m\n\u001b[1;32m      <a href='file:///home/martin/Documents/GitHub/testthings/f3dasm/src/simulation.py?line=6'>7</a>\u001b[0m \u001b[39mif\u001b[39;00m x\u001b[39m.\u001b[39mndim \u001b[39m==\u001b[39m \u001b[39m1\u001b[39m:\n\u001b[1;32m      <a href='file:///home/martin/Documents/GitHub/testthings/f3dasm/src/simulation.py?line=7'>8</a>\u001b[0m     x \u001b[39m=\u001b[39m np\u001b[39m.\u001b[39mreshape(x, (\u001b[39m-\u001b[39m\u001b[39m1\u001b[39m, \u001b[39mlen\u001b[39m(x)))  \u001b[39m# reshape into 2d array\u001b[39;00m\n\u001b[0;32m---> <a href='file:///home/martin/Documents/GitHub/testthings/f3dasm/src/simulation.py?line=9'>10</a>\u001b[0m \u001b[39mreturn\u001b[39;00m np\u001b[39m.\u001b[39matleast_1d(\u001b[39mself\u001b[39;49m\u001b[39m.\u001b[39;49mf(x))\n",
      "File \u001b[0;32m~/Documents/GitHub/testthings/f3dasm/simulation/benchmark_functions.py:20\u001b[0m, in \u001b[0;36mLevy.f\u001b[0;34m(self, x)\u001b[0m\n\u001b[1;32m     <a href='file:///home/martin/Documents/GitHub/testthings/f3dasm/simulation/benchmark_functions.py?line=15'>16</a>\u001b[0m \u001b[39mfor\u001b[39;00m ii \u001b[39min\u001b[39;00m \u001b[39mrange\u001b[39m(n_points):\n\u001b[1;32m     <a href='file:///home/martin/Documents/GitHub/testthings/f3dasm/simulation/benchmark_functions.py?line=16'>17</a>\u001b[0m     z \u001b[39m=\u001b[39m \u001b[39m1\u001b[39m \u001b[39m+\u001b[39m (x[ii, :] \u001b[39m-\u001b[39m \u001b[39m1\u001b[39m) \u001b[39m/\u001b[39m \u001b[39m4\u001b[39m\n\u001b[1;32m     <a href='file:///home/martin/Documents/GitHub/testthings/f3dasm/simulation/benchmark_functions.py?line=17'>18</a>\u001b[0m     y[ii] \u001b[39m=\u001b[39m (\n\u001b[1;32m     <a href='file:///home/martin/Documents/GitHub/testthings/f3dasm/simulation/benchmark_functions.py?line=18'>19</a>\u001b[0m         np\u001b[39m.\u001b[39msin(np\u001b[39m.\u001b[39mpi \u001b[39m*\u001b[39m z[\u001b[39m0\u001b[39m]) \u001b[39m*\u001b[39m\u001b[39m*\u001b[39m \u001b[39m2\u001b[39m\n\u001b[0;32m---> <a href='file:///home/martin/Documents/GitHub/testthings/f3dasm/simulation/benchmark_functions.py?line=19'>20</a>\u001b[0m         \u001b[39m+\u001b[39m \u001b[39msum\u001b[39m((z[:\u001b[39m-\u001b[39m\u001b[39m1\u001b[39m] \u001b[39m-\u001b[39m \u001b[39m1\u001b[39m) \u001b[39m*\u001b[39m\u001b[39m*\u001b[39m \u001b[39m2\u001b[39m \u001b[39m*\u001b[39m (\u001b[39m1\u001b[39m \u001b[39m+\u001b[39m \u001b[39m10\u001b[39m \u001b[39m*\u001b[39m np\u001b[39m.\u001b[39;49msin(np\u001b[39m.\u001b[39;49mpi \u001b[39m*\u001b[39;49m z[:\u001b[39m-\u001b[39;49m\u001b[39m1\u001b[39;49m] \u001b[39m+\u001b[39;49m \u001b[39m1\u001b[39;49m) \u001b[39m*\u001b[39m\u001b[39m*\u001b[39m \u001b[39m2\u001b[39m))\n\u001b[1;32m     <a href='file:///home/martin/Documents/GitHub/testthings/f3dasm/simulation/benchmark_functions.py?line=20'>21</a>\u001b[0m         \u001b[39m+\u001b[39m (z[\u001b[39m-\u001b[39m\u001b[39m1\u001b[39m] \u001b[39m-\u001b[39m \u001b[39m1\u001b[39m) \u001b[39m*\u001b[39m\u001b[39m*\u001b[39m \u001b[39m2\u001b[39m \u001b[39m*\u001b[39m (\u001b[39m1\u001b[39m \u001b[39m+\u001b[39m np\u001b[39m.\u001b[39msin(\u001b[39m2\u001b[39m \u001b[39m*\u001b[39m np\u001b[39m.\u001b[39mpi \u001b[39m*\u001b[39m z[\u001b[39m-\u001b[39m\u001b[39m1\u001b[39m]) \u001b[39m*\u001b[39m\u001b[39m*\u001b[39m \u001b[39m2\u001b[39m)\n\u001b[1;32m     <a href='file:///home/martin/Documents/GitHub/testthings/f3dasm/simulation/benchmark_functions.py?line=21'>22</a>\u001b[0m     )\n\u001b[1;32m     <a href='file:///home/martin/Documents/GitHub/testthings/f3dasm/simulation/benchmark_functions.py?line=22'>23</a>\u001b[0m \u001b[39mreturn\u001b[39;00m y\n",
      "\u001b[0;31mTypeError\u001b[0m: loop of ufunc does not support argument 0 of type float which has no callable sin method"
     ]
    }
   ],
   "source": [
    "levy = Levy()\n",
    "levy.eval(x=x)"
   ]
  },
  {
   "cell_type": "code",
   "execution_count": null,
   "metadata": {},
   "outputs": [],
   "source": []
  }
 ],
 "metadata": {
  "interpreter": {
   "hash": "73193fbeb8677ab93f213154c0927f21dd4fccfe51cf5f6d1ad5a916be4d211f"
  },
  "kernelspec": {
   "display_name": "Python 3.10.4 ('testthings')",
   "language": "python",
   "name": "python3"
  },
  "language_info": {
   "codemirror_mode": {
    "name": "ipython",
    "version": 3
   },
   "file_extension": ".py",
   "mimetype": "text/x-python",
   "name": "python",
   "nbconvert_exporter": "python",
   "pygments_lexer": "ipython3",
   "version": "3.10.4"
  },
  "orig_nbformat": 4
 },
 "nbformat": 4,
 "nbformat_minor": 2
}
