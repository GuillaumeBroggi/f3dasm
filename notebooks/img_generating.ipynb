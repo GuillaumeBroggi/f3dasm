{
 "cells": [
  {
   "cell_type": "code",
   "execution_count": 1,
   "metadata": {},
   "outputs": [],
   "source": [
    "import f3dasm\n",
    "from f3dasm.functions import get_functions\n",
    "from f3dasm.functions.pybenchfunction import *\n",
    "import numpy as np"
   ]
  },
  {
   "cell_type": "code",
   "execution_count": 2,
   "metadata": {},
   "outputs": [],
   "source": [
    "functions = Colville, Shekel, Shubert, Wolfe"
   ]
  },
  {
   "cell_type": "code",
   "execution_count": 4,
   "metadata": {},
   "outputs": [
    {
     "data": {
      "text/plain": [
       "2"
      ]
     },
     "execution_count": 4,
     "metadata": {},
     "output_type": "execute_result"
    }
   ],
   "source": [
    "functions[0].dimensionality"
   ]
  },
  {
   "cell_type": "code",
   "execution_count": 3,
   "metadata": {},
   "outputs": [
    {
     "ename": "ValueError",
     "evalue": "operands could not be broadcast together with shapes (4,) (1,2) ",
     "output_type": "error",
     "traceback": [
      "\u001b[0;31m---------------------------------------------------------------------------\u001b[0m",
      "\u001b[0;31mValueError\u001b[0m                                Traceback (most recent call last)",
      "\u001b[1;32m/home/martin/Documents/GitHub/testthings/notebooks/img_generating.ipynb Cell 3'\u001b[0m in \u001b[0;36m<cell line: 1>\u001b[0;34m()\u001b[0m\n\u001b[1;32m      <a href='vscode-notebook-cell:/home/martin/Documents/GitHub/testthings/notebooks/img_generating.ipynb#ch0000002?line=0'>1</a>\u001b[0m \u001b[39mfor\u001b[39;00m i, func \u001b[39min\u001b[39;00m \u001b[39menumerate\u001b[39m(functions):\n\u001b[1;32m      <a href='vscode-notebook-cell:/home/martin/Documents/GitHub/testthings/notebooks/img_generating.ipynb#ch0000002?line=1'>2</a>\u001b[0m     f \u001b[39m=\u001b[39m func(dimensionality\u001b[39m=\u001b[39mfunc\u001b[39m.\u001b[39mdimensionality, scale_bounds\u001b[39m=\u001b[39mnp\u001b[39m.\u001b[39mtile([\u001b[39m0.\u001b[39m,\u001b[39m1.\u001b[39m], (func\u001b[39m.\u001b[39mdimensionality,\u001b[39m1\u001b[39m)))\n\u001b[0;32m----> <a href='vscode-notebook-cell:/home/martin/Documents/GitHub/testthings/notebooks/img_generating.ipynb#ch0000002?line=2'>3</a>\u001b[0m     fig, ax \u001b[39m=\u001b[39m f\u001b[39m.\u001b[39;49mplot(show\u001b[39m=\u001b[39;49m\u001b[39mFalse\u001b[39;49;00m)\n\u001b[1;32m      <a href='vscode-notebook-cell:/home/martin/Documents/GitHub/testthings/notebooks/img_generating.ipynb#ch0000002?line=3'>4</a>\u001b[0m     \u001b[39mprint\u001b[39m(\u001b[39mf\u001b[39m\u001b[39m\"\u001b[39m\u001b[39m{\u001b[39;00mi\u001b[39m}\u001b[39;00m\u001b[39m/\u001b[39m\u001b[39m{\u001b[39;00m\u001b[39mlen\u001b[39m(functions)\u001b[39m}\u001b[39;00m\u001b[39m: Plotting \u001b[39m\u001b[39m{\u001b[39;00mfunc\u001b[39m.\u001b[39m\u001b[39m__name__\u001b[39m\u001b[39m}\u001b[39;00m\u001b[39m\"\u001b[39m)\n\u001b[1;32m      <a href='vscode-notebook-cell:/home/martin/Documents/GitHub/testthings/notebooks/img_generating.ipynb#ch0000002?line=4'>5</a>\u001b[0m     fig\u001b[39m.\u001b[39msavefig(\u001b[39m'\u001b[39m\u001b[39m./img/\u001b[39m\u001b[39m'\u001b[39m \u001b[39m+\u001b[39m func\u001b[39m.\u001b[39m\u001b[39m__name__\u001b[39m \u001b[39m+\u001b[39m \u001b[39m'\u001b[39m\u001b[39m.png\u001b[39m\u001b[39m'\u001b[39m)\n",
      "File \u001b[0;32m~/Documents/GitHub/testthings/f3dasm/base/function.py:198\u001b[0m, in \u001b[0;36mFunction.plot\u001b[0;34m(self, orientation, px, domain, show)\u001b[0m\n\u001b[1;32m    <a href='file:///home/martin/Documents/GitHub/testthings/f3dasm/base/function.py?line=195'>196</a>\u001b[0m     \u001b[39mfor\u001b[39;00m j \u001b[39min\u001b[39;00m \u001b[39mrange\u001b[39m(\u001b[39mlen\u001b[39m(X1)):\n\u001b[1;32m    <a href='file:///home/martin/Documents/GitHub/testthings/f3dasm/base/function.py?line=196'>197</a>\u001b[0m         xy \u001b[39m=\u001b[39m np\u001b[39m.\u001b[39marray([X1[i, j], X2[i, j]] \u001b[39m+\u001b[39m [\u001b[39m0.0\u001b[39m] \u001b[39m*\u001b[39m (\u001b[39mself\u001b[39m\u001b[39m.\u001b[39mdimensionality \u001b[39m-\u001b[39m \u001b[39m2\u001b[39m))\n\u001b[0;32m--> <a href='file:///home/martin/Documents/GitHub/testthings/f3dasm/base/function.py?line=197'>198</a>\u001b[0m         Y[i, j] \u001b[39m=\u001b[39m \u001b[39mself\u001b[39;49m(xy)\n\u001b[1;32m    <a href='file:///home/martin/Documents/GitHub/testthings/f3dasm/base/function.py?line=199'>200</a>\u001b[0m \u001b[39m# Add absolute value of global minimum + epsilon to ensure positivity\u001b[39;00m\n\u001b[1;32m    <a href='file:///home/martin/Documents/GitHub/testthings/f3dasm/base/function.py?line=200'>201</a>\u001b[0m \u001b[39mif\u001b[39;00m \u001b[39mself\u001b[39m\u001b[39m.\u001b[39mget_global_minimum(\u001b[39mself\u001b[39m\u001b[39m.\u001b[39mdimensionality)[\u001b[39m1\u001b[39m][\u001b[39m0\u001b[39m] \u001b[39m<\u001b[39m \u001b[39m0\u001b[39m:\n",
      "File \u001b[0;32m~/Documents/GitHub/testthings/f3dasm/base/function.py:111\u001b[0m, in \u001b[0;36mFunction.__call__\u001b[0;34m(self, input_x)\u001b[0m\n\u001b[1;32m    <a href='file:///home/martin/Documents/GitHub/testthings/f3dasm/base/function.py?line=106'>107</a>\u001b[0m x \u001b[39m=\u001b[39m \u001b[39mself\u001b[39m\u001b[39m.\u001b[39m_reshape_input(x)\n\u001b[1;32m    <a href='file:///home/martin/Documents/GitHub/testthings/f3dasm/base/function.py?line=108'>109</a>\u001b[0m \u001b[39m# x = x + self.offset\u001b[39;00m\n\u001b[0;32m--> <a href='file:///home/martin/Documents/GitHub/testthings/f3dasm/base/function.py?line=110'>111</a>\u001b[0m x \u001b[39m=\u001b[39m \u001b[39mself\u001b[39;49m\u001b[39m.\u001b[39;49m_scale_input(x)\n\u001b[1;32m    <a href='file:///home/martin/Documents/GitHub/testthings/f3dasm/base/function.py?line=112'>113</a>\u001b[0m y \u001b[39m=\u001b[39m np\u001b[39m.\u001b[39matleast_1d(\u001b[39mself\u001b[39m\u001b[39m.\u001b[39mf(x))\n\u001b[1;32m    <a href='file:///home/martin/Documents/GitHub/testthings/f3dasm/base/function.py?line=114'>115</a>\u001b[0m \u001b[39m# add noise\u001b[39;00m\n",
      "File \u001b[0;32m~/Documents/GitHub/testthings/f3dasm/base/function.py:43\u001b[0m, in \u001b[0;36mFunction._scale_input\u001b[0;34m(self, x)\u001b[0m\n\u001b[1;32m     <a href='file:///home/martin/Documents/GitHub/testthings/f3dasm/base/function.py?line=41'>42</a>\u001b[0m \u001b[39mdef\u001b[39;00m \u001b[39m_scale_input\u001b[39m(\u001b[39mself\u001b[39m, x: np\u001b[39m.\u001b[39mndarray) \u001b[39m-\u001b[39m\u001b[39m>\u001b[39m np\u001b[39m.\u001b[39mndarray:\n\u001b[0;32m---> <a href='file:///home/martin/Documents/GitHub/testthings/f3dasm/base/function.py?line=42'>43</a>\u001b[0m     \u001b[39mreturn\u001b[39;00m _scale_vector(x\u001b[39m=\u001b[39;49m_descale_vector(x, scale\u001b[39m=\u001b[39;49m\u001b[39mself\u001b[39;49m\u001b[39m.\u001b[39;49mscale_bounds), scale\u001b[39m=\u001b[39;49m\u001b[39mself\u001b[39;49m\u001b[39m.\u001b[39;49minput_domain)\n",
      "File \u001b[0;32m~/Documents/GitHub/testthings/f3dasm/base/utils.py:29\u001b[0m, in \u001b[0;36m_scale_vector\u001b[0;34m(x, scale)\u001b[0m\n\u001b[1;32m     <a href='file:///home/martin/Documents/GitHub/testthings/f3dasm/base/utils.py?line=26'>27</a>\u001b[0m \u001b[39mdef\u001b[39;00m \u001b[39m_scale_vector\u001b[39m(x: np\u001b[39m.\u001b[39mndarray, scale: np\u001b[39m.\u001b[39mndarray) \u001b[39m-\u001b[39m\u001b[39m>\u001b[39m np\u001b[39m.\u001b[39mndarray:\n\u001b[1;32m     <a href='file:///home/martin/Documents/GitHub/testthings/f3dasm/base/utils.py?line=27'>28</a>\u001b[0m     \u001b[39m\"\"\"Scale a vector x to a given scale\"\"\"\u001b[39;00m\n\u001b[0;32m---> <a href='file:///home/martin/Documents/GitHub/testthings/f3dasm/base/utils.py?line=28'>29</a>\u001b[0m     \u001b[39mreturn\u001b[39;00m (scale[:, \u001b[39m1\u001b[39;49m] \u001b[39m-\u001b[39;49m scale[:, \u001b[39m0\u001b[39;49m]) \u001b[39m*\u001b[39;49m x \u001b[39m+\u001b[39m scale[:, \u001b[39m0\u001b[39m]\n",
      "\u001b[0;31mValueError\u001b[0m: operands could not be broadcast together with shapes (4,) (1,2) "
     ]
    }
   ],
   "source": [
    "for i, func in enumerate(functions):\n",
    "    f = func(dimensionality=4, scale_bounds=np.tile([0.,1.], (4,1)))\n",
    "    fig, ax = f.plot(show=False)\n",
    "    print(f\"{i}/{len(functions)}: Plotting {func.__name__}\")\n",
    "    fig.savefig('./img/' + func.__name__ + '.png')"
   ]
  },
  {
   "cell_type": "code",
   "execution_count": null,
   "metadata": {},
   "outputs": [],
   "source": []
  }
 ],
 "metadata": {
  "interpreter": {
   "hash": "73193fbeb8677ab93f213154c0927f21dd4fccfe51cf5f6d1ad5a916be4d211f"
  },
  "kernelspec": {
   "display_name": "Python 3.10.5 ('testthings')",
   "language": "python",
   "name": "python3"
  },
  "language_info": {
   "codemirror_mode": {
    "name": "ipython",
    "version": 3
   },
   "file_extension": ".py",
   "mimetype": "text/x-python",
   "name": "python",
   "nbconvert_exporter": "python",
   "pygments_lexer": "ipython3",
   "version": "3.10.5"
  },
  "orig_nbformat": 4
 },
 "nbformat": 4,
 "nbformat_minor": 2
}
